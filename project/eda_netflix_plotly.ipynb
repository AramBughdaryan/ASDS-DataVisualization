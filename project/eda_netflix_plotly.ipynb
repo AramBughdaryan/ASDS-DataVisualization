{
 "cells": [
  {
   "cell_type": "code",
   "execution_count": 1,
   "metadata": {},
   "outputs": [],
   "source": [
    "import numpy as np\n",
    "import pandas as pd\n",
    "import matplotlib.pyplot as plt\n",
    "from datetime import datetime\n",
    "import seaborn as sns"
   ]
  },
  {
   "cell_type": "code",
   "execution_count": 17,
   "metadata": {},
   "outputs": [
    {
     "data": {
      "text/html": [
       "        <script type=\"text/javascript\">\n",
       "        window.PlotlyConfig = {MathJaxConfig: 'local'};\n",
       "        if (window.MathJax && window.MathJax.Hub && window.MathJax.Hub.Config) {window.MathJax.Hub.Config({SVG: {font: \"STIX-Web\"}});}\n",
       "        </script>\n",
       "        <script type=\"module\">import \"https://cdn.plot.ly/plotly-3.0.0.min\"</script>\n",
       "        "
      ]
     },
     "metadata": {},
     "output_type": "display_data"
    },
    {
     "name": "stdout",
     "output_type": "stream",
     "text": [
      "DataFrame Info:\n",
      "<class 'pandas.core.frame.DataFrame'>\n",
      "Index: 8781 entries, 1 to 8807\n",
      "Data columns (total 10 columns):\n",
      " #   Column        Non-Null Count  Dtype \n",
      "---  ------        --------------  ----- \n",
      " 0   type          8781 non-null   object\n",
      " 1   title         8781 non-null   object\n",
      " 2   director      6197 non-null   object\n",
      " 3   country       8494 non-null   object\n",
      " 4   release_year  8781 non-null   int64 \n",
      " 5   rating        8781 non-null   object\n",
      " 6   duration      8781 non-null   object\n",
      " 7   listed_in     8781 non-null   object\n",
      " 8   year_added    8781 non-null   int32 \n",
      " 9   month_added   8781 non-null   int32 \n",
      "dtypes: int32(2), int64(1), object(7)\n",
      "memory usage: 686.0+ KB\n",
      "\n",
      "Missing Values (%):\n",
      "type             0.000000\n",
      "title            0.000000\n",
      "director        29.427172\n",
      "country          3.268420\n",
      "release_year     0.000000\n",
      "rating           0.000000\n",
      "duration         0.000000\n",
      "listed_in        0.000000\n",
      "year_added       0.000000\n",
      "month_added      0.000000\n",
      "dtype: float64\n",
      "\n",
      "First 5 Rows:\n",
      "            type                  title         director        country  \\\n",
      "show_id                                                                   \n",
      "1          Movie   Dick Johnson Is Dead  Kirsten Johnson  United States   \n",
      "2        TV Show          Blood & Water              NaN   South Africa   \n",
      "3        TV Show              Ganglands  Julien Leclercq         France   \n",
      "4        TV Show  Jailbirds New Orleans              NaN       Pakistan   \n",
      "5        TV Show           Kota Factory              NaN          India   \n",
      "\n",
      "         release_year rating   duration  \\\n",
      "show_id                                   \n",
      "1                2020  PG-13     90 min   \n",
      "2                2021  TV-MA  2 Seasons   \n",
      "3                2021  TV-MA   1 Season   \n",
      "4                2021  TV-MA   1 Season   \n",
      "5                2021  TV-MA  2 Seasons   \n",
      "\n",
      "                                                 listed_in  year_added  \\\n",
      "show_id                                                                  \n",
      "1                                            Documentaries        2021   \n",
      "2          International TV Shows, TV Dramas, TV Mysteries        2021   \n",
      "3        Crime TV Shows, International TV Shows, TV Act...        2021   \n",
      "4                                   Docuseries, Reality TV        2021   \n",
      "5        International TV Shows, Romantic TV Shows, TV ...        2021   \n",
      "\n",
      "         month_added  \n",
      "show_id               \n",
      "1                  9  \n",
      "2                  9  \n",
      "3                  9  \n",
      "4                  9  \n",
      "5                  9  \n"
     ]
    }
   ],
   "source": [
    "import pandas as pd\n",
    "import numpy as np\n",
    "import plotly.express as px\n",
    "import plotly.graph_objects as go\n",
    "from plotly.offline import init_notebook_mode\n",
    "from collections import Counter\n",
    "\n",
    "init_notebook_mode(connected=True)\n",
    "\n",
    "df = pd.read_csv('/Users/abughdaryan/Documents/repos/asds/ASDS-DataVisualization/project/data/netflix1.csv')\n",
    "\n",
    "df['date_added'] = pd.to_datetime(df['date_added'], errors='coerce')\n",
    "\n",
    "df['normalized_title'] = df['title'].str.lower().str.strip()\n",
    "\n",
    "df = df.drop_duplicates(subset='normalized_title', keep='first')\n",
    "\n",
    "df['country'] = df['country'].replace('Not Given', np.nan)\n",
    "df['director'] = df['director'].replace('Not Given', np.nan)\n",
    "df['rating'] = df['rating'].replace('Not Given', np.nan)\n",
    "\n",
    "df['show_id'] = df['show_id'].str.replace('s', '').astype(int)\n",
    "df.set_index('show_id', inplace=True)\n",
    "df.sort_index(inplace=True)\n",
    "\n",
    "\n",
    "df['year_added'] = df['date_added'].dt.year\n",
    "df['month_added'] = df['date_added'].dt.month\n",
    "\n",
    "\n",
    "df.drop(columns=['normalized_title', 'date_added'], inplace=True)\n",
    "\n",
    "\n",
    "print(\"DataFrame Info:\")\n",
    "df.info()\n",
    "print(\"\\nMissing Values (%):\")\n",
    "print((df.isnull().sum() / len(df)) * 100)\n",
    "print(\"\\nFirst 5 Rows:\")\n",
    "print(df.head())"
   ]
  },
  {
   "cell_type": "markdown",
   "metadata": {},
   "source": [
    "### Content Type Distribution (Movie vs. TV Show)"
   ]
  },
  {
   "cell_type": "code",
   "execution_count": 20,
   "metadata": {},
   "outputs": [
    {
     "data": {
      "application/vnd.plotly.v1+json": {
       "config": {
        "plotlyServerURL": "https://plot.ly"
       },
       "data": [
        {
         "domain": {
          "x": [
           0,
           1
          ],
          "y": [
           0,
           1
          ]
         },
         "hole": 0.3,
         "hovertemplate": "label=%{label}<br>value=%{value}<extra></extra>",
         "labels": [
          "Movie",
          "TV Show"
         ],
         "legendgroup": "",
         "name": "",
         "showlegend": true,
         "textinfo": "percent+label",
         "textposition": "inside",
         "type": "pie",
         "values": {
          "bdata": "6RdkCg==",
          "dtype": "i2"
         }
        }
       ],
       "layout": {
        "legend": {
         "title": {
          "text": "Content Type"
         },
         "tracegroupgap": 0
        },
        "piecolorway": [
         "rgb(102, 197, 204)",
         "rgb(246, 207, 113)",
         "rgb(248, 156, 116)",
         "rgb(220, 176, 242)",
         "rgb(135, 197, 95)",
         "rgb(158, 185, 243)",
         "rgb(254, 136, 177)",
         "rgb(201, 219, 116)",
         "rgb(139, 224, 164)",
         "rgb(180, 151, 231)",
         "rgb(179, 179, 179)"
        ],
        "template": {
         "data": {
          "bar": [
           {
            "error_x": {
             "color": "#2a3f5f"
            },
            "error_y": {
             "color": "#2a3f5f"
            },
            "marker": {
             "line": {
              "color": "#E5ECF6",
              "width": 0.5
             },
             "pattern": {
              "fillmode": "overlay",
              "size": 10,
              "solidity": 0.2
             }
            },
            "type": "bar"
           }
          ],
          "barpolar": [
           {
            "marker": {
             "line": {
              "color": "#E5ECF6",
              "width": 0.5
             },
             "pattern": {
              "fillmode": "overlay",
              "size": 10,
              "solidity": 0.2
             }
            },
            "type": "barpolar"
           }
          ],
          "carpet": [
           {
            "aaxis": {
             "endlinecolor": "#2a3f5f",
             "gridcolor": "white",
             "linecolor": "white",
             "minorgridcolor": "white",
             "startlinecolor": "#2a3f5f"
            },
            "baxis": {
             "endlinecolor": "#2a3f5f",
             "gridcolor": "white",
             "linecolor": "white",
             "minorgridcolor": "white",
             "startlinecolor": "#2a3f5f"
            },
            "type": "carpet"
           }
          ],
          "choropleth": [
           {
            "colorbar": {
             "outlinewidth": 0,
             "ticks": ""
            },
            "type": "choropleth"
           }
          ],
          "contour": [
           {
            "colorbar": {
             "outlinewidth": 0,
             "ticks": ""
            },
            "colorscale": [
             [
              0,
              "#0d0887"
             ],
             [
              0.1111111111111111,
              "#46039f"
             ],
             [
              0.2222222222222222,
              "#7201a8"
             ],
             [
              0.3333333333333333,
              "#9c179e"
             ],
             [
              0.4444444444444444,
              "#bd3786"
             ],
             [
              0.5555555555555556,
              "#d8576b"
             ],
             [
              0.6666666666666666,
              "#ed7953"
             ],
             [
              0.7777777777777778,
              "#fb9f3a"
             ],
             [
              0.8888888888888888,
              "#fdca26"
             ],
             [
              1,
              "#f0f921"
             ]
            ],
            "type": "contour"
           }
          ],
          "contourcarpet": [
           {
            "colorbar": {
             "outlinewidth": 0,
             "ticks": ""
            },
            "type": "contourcarpet"
           }
          ],
          "heatmap": [
           {
            "colorbar": {
             "outlinewidth": 0,
             "ticks": ""
            },
            "colorscale": [
             [
              0,
              "#0d0887"
             ],
             [
              0.1111111111111111,
              "#46039f"
             ],
             [
              0.2222222222222222,
              "#7201a8"
             ],
             [
              0.3333333333333333,
              "#9c179e"
             ],
             [
              0.4444444444444444,
              "#bd3786"
             ],
             [
              0.5555555555555556,
              "#d8576b"
             ],
             [
              0.6666666666666666,
              "#ed7953"
             ],
             [
              0.7777777777777778,
              "#fb9f3a"
             ],
             [
              0.8888888888888888,
              "#fdca26"
             ],
             [
              1,
              "#f0f921"
             ]
            ],
            "type": "heatmap"
           }
          ],
          "histogram": [
           {
            "marker": {
             "pattern": {
              "fillmode": "overlay",
              "size": 10,
              "solidity": 0.2
             }
            },
            "type": "histogram"
           }
          ],
          "histogram2d": [
           {
            "colorbar": {
             "outlinewidth": 0,
             "ticks": ""
            },
            "colorscale": [
             [
              0,
              "#0d0887"
             ],
             [
              0.1111111111111111,
              "#46039f"
             ],
             [
              0.2222222222222222,
              "#7201a8"
             ],
             [
              0.3333333333333333,
              "#9c179e"
             ],
             [
              0.4444444444444444,
              "#bd3786"
             ],
             [
              0.5555555555555556,
              "#d8576b"
             ],
             [
              0.6666666666666666,
              "#ed7953"
             ],
             [
              0.7777777777777778,
              "#fb9f3a"
             ],
             [
              0.8888888888888888,
              "#fdca26"
             ],
             [
              1,
              "#f0f921"
             ]
            ],
            "type": "histogram2d"
           }
          ],
          "histogram2dcontour": [
           {
            "colorbar": {
             "outlinewidth": 0,
             "ticks": ""
            },
            "colorscale": [
             [
              0,
              "#0d0887"
             ],
             [
              0.1111111111111111,
              "#46039f"
             ],
             [
              0.2222222222222222,
              "#7201a8"
             ],
             [
              0.3333333333333333,
              "#9c179e"
             ],
             [
              0.4444444444444444,
              "#bd3786"
             ],
             [
              0.5555555555555556,
              "#d8576b"
             ],
             [
              0.6666666666666666,
              "#ed7953"
             ],
             [
              0.7777777777777778,
              "#fb9f3a"
             ],
             [
              0.8888888888888888,
              "#fdca26"
             ],
             [
              1,
              "#f0f921"
             ]
            ],
            "type": "histogram2dcontour"
           }
          ],
          "mesh3d": [
           {
            "colorbar": {
             "outlinewidth": 0,
             "ticks": ""
            },
            "type": "mesh3d"
           }
          ],
          "parcoords": [
           {
            "line": {
             "colorbar": {
              "outlinewidth": 0,
              "ticks": ""
             }
            },
            "type": "parcoords"
           }
          ],
          "pie": [
           {
            "automargin": true,
            "type": "pie"
           }
          ],
          "scatter": [
           {
            "fillpattern": {
             "fillmode": "overlay",
             "size": 10,
             "solidity": 0.2
            },
            "type": "scatter"
           }
          ],
          "scatter3d": [
           {
            "line": {
             "colorbar": {
              "outlinewidth": 0,
              "ticks": ""
             }
            },
            "marker": {
             "colorbar": {
              "outlinewidth": 0,
              "ticks": ""
             }
            },
            "type": "scatter3d"
           }
          ],
          "scattercarpet": [
           {
            "marker": {
             "colorbar": {
              "outlinewidth": 0,
              "ticks": ""
             }
            },
            "type": "scattercarpet"
           }
          ],
          "scattergeo": [
           {
            "marker": {
             "colorbar": {
              "outlinewidth": 0,
              "ticks": ""
             }
            },
            "type": "scattergeo"
           }
          ],
          "scattergl": [
           {
            "marker": {
             "colorbar": {
              "outlinewidth": 0,
              "ticks": ""
             }
            },
            "type": "scattergl"
           }
          ],
          "scattermap": [
           {
            "marker": {
             "colorbar": {
              "outlinewidth": 0,
              "ticks": ""
             }
            },
            "type": "scattermap"
           }
          ],
          "scattermapbox": [
           {
            "marker": {
             "colorbar": {
              "outlinewidth": 0,
              "ticks": ""
             }
            },
            "type": "scattermapbox"
           }
          ],
          "scatterpolar": [
           {
            "marker": {
             "colorbar": {
              "outlinewidth": 0,
              "ticks": ""
             }
            },
            "type": "scatterpolar"
           }
          ],
          "scatterpolargl": [
           {
            "marker": {
             "colorbar": {
              "outlinewidth": 0,
              "ticks": ""
             }
            },
            "type": "scatterpolargl"
           }
          ],
          "scatterternary": [
           {
            "marker": {
             "colorbar": {
              "outlinewidth": 0,
              "ticks": ""
             }
            },
            "type": "scatterternary"
           }
          ],
          "surface": [
           {
            "colorbar": {
             "outlinewidth": 0,
             "ticks": ""
            },
            "colorscale": [
             [
              0,
              "#0d0887"
             ],
             [
              0.1111111111111111,
              "#46039f"
             ],
             [
              0.2222222222222222,
              "#7201a8"
             ],
             [
              0.3333333333333333,
              "#9c179e"
             ],
             [
              0.4444444444444444,
              "#bd3786"
             ],
             [
              0.5555555555555556,
              "#d8576b"
             ],
             [
              0.6666666666666666,
              "#ed7953"
             ],
             [
              0.7777777777777778,
              "#fb9f3a"
             ],
             [
              0.8888888888888888,
              "#fdca26"
             ],
             [
              1,
              "#f0f921"
             ]
            ],
            "type": "surface"
           }
          ],
          "table": [
           {
            "cells": {
             "fill": {
              "color": "#EBF0F8"
             },
             "line": {
              "color": "white"
             }
            },
            "header": {
             "fill": {
              "color": "#C8D4E3"
             },
             "line": {
              "color": "white"
             }
            },
            "type": "table"
           }
          ]
         },
         "layout": {
          "annotationdefaults": {
           "arrowcolor": "#2a3f5f",
           "arrowhead": 0,
           "arrowwidth": 1
          },
          "autotypenumbers": "strict",
          "coloraxis": {
           "colorbar": {
            "outlinewidth": 0,
            "ticks": ""
           }
          },
          "colorscale": {
           "diverging": [
            [
             0,
             "#8e0152"
            ],
            [
             0.1,
             "#c51b7d"
            ],
            [
             0.2,
             "#de77ae"
            ],
            [
             0.3,
             "#f1b6da"
            ],
            [
             0.4,
             "#fde0ef"
            ],
            [
             0.5,
             "#f7f7f7"
            ],
            [
             0.6,
             "#e6f5d0"
            ],
            [
             0.7,
             "#b8e186"
            ],
            [
             0.8,
             "#7fbc41"
            ],
            [
             0.9,
             "#4d9221"
            ],
            [
             1,
             "#276419"
            ]
           ],
           "sequential": [
            [
             0,
             "#0d0887"
            ],
            [
             0.1111111111111111,
             "#46039f"
            ],
            [
             0.2222222222222222,
             "#7201a8"
            ],
            [
             0.3333333333333333,
             "#9c179e"
            ],
            [
             0.4444444444444444,
             "#bd3786"
            ],
            [
             0.5555555555555556,
             "#d8576b"
            ],
            [
             0.6666666666666666,
             "#ed7953"
            ],
            [
             0.7777777777777778,
             "#fb9f3a"
            ],
            [
             0.8888888888888888,
             "#fdca26"
            ],
            [
             1,
             "#f0f921"
            ]
           ],
           "sequentialminus": [
            [
             0,
             "#0d0887"
            ],
            [
             0.1111111111111111,
             "#46039f"
            ],
            [
             0.2222222222222222,
             "#7201a8"
            ],
            [
             0.3333333333333333,
             "#9c179e"
            ],
            [
             0.4444444444444444,
             "#bd3786"
            ],
            [
             0.5555555555555556,
             "#d8576b"
            ],
            [
             0.6666666666666666,
             "#ed7953"
            ],
            [
             0.7777777777777778,
             "#fb9f3a"
            ],
            [
             0.8888888888888888,
             "#fdca26"
            ],
            [
             1,
             "#f0f921"
            ]
           ]
          },
          "colorway": [
           "#636efa",
           "#EF553B",
           "#00cc96",
           "#ab63fa",
           "#FFA15A",
           "#19d3f3",
           "#FF6692",
           "#B6E880",
           "#FF97FF",
           "#FECB52"
          ],
          "font": {
           "color": "#2a3f5f"
          },
          "geo": {
           "bgcolor": "white",
           "lakecolor": "white",
           "landcolor": "#E5ECF6",
           "showlakes": true,
           "showland": true,
           "subunitcolor": "white"
          },
          "hoverlabel": {
           "align": "left"
          },
          "hovermode": "closest",
          "mapbox": {
           "style": "light"
          },
          "paper_bgcolor": "white",
          "plot_bgcolor": "#E5ECF6",
          "polar": {
           "angularaxis": {
            "gridcolor": "white",
            "linecolor": "white",
            "ticks": ""
           },
           "bgcolor": "#E5ECF6",
           "radialaxis": {
            "gridcolor": "white",
            "linecolor": "white",
            "ticks": ""
           }
          },
          "scene": {
           "xaxis": {
            "backgroundcolor": "#E5ECF6",
            "gridcolor": "white",
            "gridwidth": 2,
            "linecolor": "white",
            "showbackground": true,
            "ticks": "",
            "zerolinecolor": "white"
           },
           "yaxis": {
            "backgroundcolor": "#E5ECF6",
            "gridcolor": "white",
            "gridwidth": 2,
            "linecolor": "white",
            "showbackground": true,
            "ticks": "",
            "zerolinecolor": "white"
           },
           "zaxis": {
            "backgroundcolor": "#E5ECF6",
            "gridcolor": "white",
            "gridwidth": 2,
            "linecolor": "white",
            "showbackground": true,
            "ticks": "",
            "zerolinecolor": "white"
           }
          },
          "shapedefaults": {
           "line": {
            "color": "#2a3f5f"
           }
          },
          "ternary": {
           "aaxis": {
            "gridcolor": "white",
            "linecolor": "white",
            "ticks": ""
           },
           "baxis": {
            "gridcolor": "white",
            "linecolor": "white",
            "ticks": ""
           },
           "bgcolor": "#E5ECF6",
           "caxis": {
            "gridcolor": "white",
            "linecolor": "white",
            "ticks": ""
           }
          },
          "title": {
           "x": 0.05
          },
          "xaxis": {
           "automargin": true,
           "gridcolor": "white",
           "linecolor": "white",
           "ticks": "",
           "title": {
            "standoff": 15
           },
           "zerolinecolor": "white",
           "zerolinewidth": 2
          },
          "yaxis": {
           "automargin": true,
           "gridcolor": "white",
           "linecolor": "white",
           "ticks": "",
           "title": {
            "standoff": 15
           },
           "zerolinecolor": "white",
           "zerolinewidth": 2
          }
         }
        },
        "title": {
         "text": "Distribution of Content Types on Netflix",
         "x": 0.5
        }
       }
      },
      "text/html": [
       "<div>            <script src=\"https://cdnjs.cloudflare.com/ajax/libs/mathjax/2.7.5/MathJax.js?config=TeX-AMS-MML_SVG\"></script><script type=\"text/javascript\">if (window.MathJax && window.MathJax.Hub && window.MathJax.Hub.Config) {window.MathJax.Hub.Config({SVG: {font: \"STIX-Web\"}});}</script>                <script type=\"text/javascript\">window.PlotlyConfig = {MathJaxConfig: 'local'};</script>\n",
       "        <script charset=\"utf-8\" src=\"https://cdn.plot.ly/plotly-3.0.0.min.js\"></script>                <div id=\"c42d90a3-72d2-471d-9c16-7a004da2c525\" class=\"plotly-graph-div\" style=\"height:525px; width:100%;\"></div>            <script type=\"text/javascript\">                window.PLOTLYENV=window.PLOTLYENV || {};                                if (document.getElementById(\"c42d90a3-72d2-471d-9c16-7a004da2c525\")) {                    Plotly.newPlot(                        \"c42d90a3-72d2-471d-9c16-7a004da2c525\",                        [{\"domain\":{\"x\":[0.0,1.0],\"y\":[0.0,1.0]},\"hole\":0.3,\"hovertemplate\":\"label=%{label}\\u003cbr\\u003evalue=%{value}\\u003cextra\\u003e\\u003c\\u002fextra\\u003e\",\"labels\":[\"Movie\",\"TV Show\"],\"legendgroup\":\"\",\"name\":\"\",\"showlegend\":true,\"values\":{\"dtype\":\"i2\",\"bdata\":\"6RdkCg==\"},\"type\":\"pie\",\"textinfo\":\"percent+label\",\"textposition\":\"inside\"}],                        {\"template\":{\"data\":{\"histogram2dcontour\":[{\"type\":\"histogram2dcontour\",\"colorbar\":{\"outlinewidth\":0,\"ticks\":\"\"},\"colorscale\":[[0.0,\"#0d0887\"],[0.1111111111111111,\"#46039f\"],[0.2222222222222222,\"#7201a8\"],[0.3333333333333333,\"#9c179e\"],[0.4444444444444444,\"#bd3786\"],[0.5555555555555556,\"#d8576b\"],[0.6666666666666666,\"#ed7953\"],[0.7777777777777778,\"#fb9f3a\"],[0.8888888888888888,\"#fdca26\"],[1.0,\"#f0f921\"]]}],\"choropleth\":[{\"type\":\"choropleth\",\"colorbar\":{\"outlinewidth\":0,\"ticks\":\"\"}}],\"histogram2d\":[{\"type\":\"histogram2d\",\"colorbar\":{\"outlinewidth\":0,\"ticks\":\"\"},\"colorscale\":[[0.0,\"#0d0887\"],[0.1111111111111111,\"#46039f\"],[0.2222222222222222,\"#7201a8\"],[0.3333333333333333,\"#9c179e\"],[0.4444444444444444,\"#bd3786\"],[0.5555555555555556,\"#d8576b\"],[0.6666666666666666,\"#ed7953\"],[0.7777777777777778,\"#fb9f3a\"],[0.8888888888888888,\"#fdca26\"],[1.0,\"#f0f921\"]]}],\"heatmap\":[{\"type\":\"heatmap\",\"colorbar\":{\"outlinewidth\":0,\"ticks\":\"\"},\"colorscale\":[[0.0,\"#0d0887\"],[0.1111111111111111,\"#46039f\"],[0.2222222222222222,\"#7201a8\"],[0.3333333333333333,\"#9c179e\"],[0.4444444444444444,\"#bd3786\"],[0.5555555555555556,\"#d8576b\"],[0.6666666666666666,\"#ed7953\"],[0.7777777777777778,\"#fb9f3a\"],[0.8888888888888888,\"#fdca26\"],[1.0,\"#f0f921\"]]}],\"contourcarpet\":[{\"type\":\"contourcarpet\",\"colorbar\":{\"outlinewidth\":0,\"ticks\":\"\"}}],\"contour\":[{\"type\":\"contour\",\"colorbar\":{\"outlinewidth\":0,\"ticks\":\"\"},\"colorscale\":[[0.0,\"#0d0887\"],[0.1111111111111111,\"#46039f\"],[0.2222222222222222,\"#7201a8\"],[0.3333333333333333,\"#9c179e\"],[0.4444444444444444,\"#bd3786\"],[0.5555555555555556,\"#d8576b\"],[0.6666666666666666,\"#ed7953\"],[0.7777777777777778,\"#fb9f3a\"],[0.8888888888888888,\"#fdca26\"],[1.0,\"#f0f921\"]]}],\"surface\":[{\"type\":\"surface\",\"colorbar\":{\"outlinewidth\":0,\"ticks\":\"\"},\"colorscale\":[[0.0,\"#0d0887\"],[0.1111111111111111,\"#46039f\"],[0.2222222222222222,\"#7201a8\"],[0.3333333333333333,\"#9c179e\"],[0.4444444444444444,\"#bd3786\"],[0.5555555555555556,\"#d8576b\"],[0.6666666666666666,\"#ed7953\"],[0.7777777777777778,\"#fb9f3a\"],[0.8888888888888888,\"#fdca26\"],[1.0,\"#f0f921\"]]}],\"mesh3d\":[{\"type\":\"mesh3d\",\"colorbar\":{\"outlinewidth\":0,\"ticks\":\"\"}}],\"scatter\":[{\"fillpattern\":{\"fillmode\":\"overlay\",\"size\":10,\"solidity\":0.2},\"type\":\"scatter\"}],\"parcoords\":[{\"type\":\"parcoords\",\"line\":{\"colorbar\":{\"outlinewidth\":0,\"ticks\":\"\"}}}],\"scatterpolargl\":[{\"type\":\"scatterpolargl\",\"marker\":{\"colorbar\":{\"outlinewidth\":0,\"ticks\":\"\"}}}],\"bar\":[{\"error_x\":{\"color\":\"#2a3f5f\"},\"error_y\":{\"color\":\"#2a3f5f\"},\"marker\":{\"line\":{\"color\":\"#E5ECF6\",\"width\":0.5},\"pattern\":{\"fillmode\":\"overlay\",\"size\":10,\"solidity\":0.2}},\"type\":\"bar\"}],\"scattergeo\":[{\"type\":\"scattergeo\",\"marker\":{\"colorbar\":{\"outlinewidth\":0,\"ticks\":\"\"}}}],\"scatterpolar\":[{\"type\":\"scatterpolar\",\"marker\":{\"colorbar\":{\"outlinewidth\":0,\"ticks\":\"\"}}}],\"histogram\":[{\"marker\":{\"pattern\":{\"fillmode\":\"overlay\",\"size\":10,\"solidity\":0.2}},\"type\":\"histogram\"}],\"scattergl\":[{\"type\":\"scattergl\",\"marker\":{\"colorbar\":{\"outlinewidth\":0,\"ticks\":\"\"}}}],\"scatter3d\":[{\"type\":\"scatter3d\",\"line\":{\"colorbar\":{\"outlinewidth\":0,\"ticks\":\"\"}},\"marker\":{\"colorbar\":{\"outlinewidth\":0,\"ticks\":\"\"}}}],\"scattermap\":[{\"type\":\"scattermap\",\"marker\":{\"colorbar\":{\"outlinewidth\":0,\"ticks\":\"\"}}}],\"scattermapbox\":[{\"type\":\"scattermapbox\",\"marker\":{\"colorbar\":{\"outlinewidth\":0,\"ticks\":\"\"}}}],\"scatterternary\":[{\"type\":\"scatterternary\",\"marker\":{\"colorbar\":{\"outlinewidth\":0,\"ticks\":\"\"}}}],\"scattercarpet\":[{\"type\":\"scattercarpet\",\"marker\":{\"colorbar\":{\"outlinewidth\":0,\"ticks\":\"\"}}}],\"carpet\":[{\"aaxis\":{\"endlinecolor\":\"#2a3f5f\",\"gridcolor\":\"white\",\"linecolor\":\"white\",\"minorgridcolor\":\"white\",\"startlinecolor\":\"#2a3f5f\"},\"baxis\":{\"endlinecolor\":\"#2a3f5f\",\"gridcolor\":\"white\",\"linecolor\":\"white\",\"minorgridcolor\":\"white\",\"startlinecolor\":\"#2a3f5f\"},\"type\":\"carpet\"}],\"table\":[{\"cells\":{\"fill\":{\"color\":\"#EBF0F8\"},\"line\":{\"color\":\"white\"}},\"header\":{\"fill\":{\"color\":\"#C8D4E3\"},\"line\":{\"color\":\"white\"}},\"type\":\"table\"}],\"barpolar\":[{\"marker\":{\"line\":{\"color\":\"#E5ECF6\",\"width\":0.5},\"pattern\":{\"fillmode\":\"overlay\",\"size\":10,\"solidity\":0.2}},\"type\":\"barpolar\"}],\"pie\":[{\"automargin\":true,\"type\":\"pie\"}]},\"layout\":{\"autotypenumbers\":\"strict\",\"colorway\":[\"#636efa\",\"#EF553B\",\"#00cc96\",\"#ab63fa\",\"#FFA15A\",\"#19d3f3\",\"#FF6692\",\"#B6E880\",\"#FF97FF\",\"#FECB52\"],\"font\":{\"color\":\"#2a3f5f\"},\"hovermode\":\"closest\",\"hoverlabel\":{\"align\":\"left\"},\"paper_bgcolor\":\"white\",\"plot_bgcolor\":\"#E5ECF6\",\"polar\":{\"bgcolor\":\"#E5ECF6\",\"angularaxis\":{\"gridcolor\":\"white\",\"linecolor\":\"white\",\"ticks\":\"\"},\"radialaxis\":{\"gridcolor\":\"white\",\"linecolor\":\"white\",\"ticks\":\"\"}},\"ternary\":{\"bgcolor\":\"#E5ECF6\",\"aaxis\":{\"gridcolor\":\"white\",\"linecolor\":\"white\",\"ticks\":\"\"},\"baxis\":{\"gridcolor\":\"white\",\"linecolor\":\"white\",\"ticks\":\"\"},\"caxis\":{\"gridcolor\":\"white\",\"linecolor\":\"white\",\"ticks\":\"\"}},\"coloraxis\":{\"colorbar\":{\"outlinewidth\":0,\"ticks\":\"\"}},\"colorscale\":{\"sequential\":[[0.0,\"#0d0887\"],[0.1111111111111111,\"#46039f\"],[0.2222222222222222,\"#7201a8\"],[0.3333333333333333,\"#9c179e\"],[0.4444444444444444,\"#bd3786\"],[0.5555555555555556,\"#d8576b\"],[0.6666666666666666,\"#ed7953\"],[0.7777777777777778,\"#fb9f3a\"],[0.8888888888888888,\"#fdca26\"],[1.0,\"#f0f921\"]],\"sequentialminus\":[[0.0,\"#0d0887\"],[0.1111111111111111,\"#46039f\"],[0.2222222222222222,\"#7201a8\"],[0.3333333333333333,\"#9c179e\"],[0.4444444444444444,\"#bd3786\"],[0.5555555555555556,\"#d8576b\"],[0.6666666666666666,\"#ed7953\"],[0.7777777777777778,\"#fb9f3a\"],[0.8888888888888888,\"#fdca26\"],[1.0,\"#f0f921\"]],\"diverging\":[[0,\"#8e0152\"],[0.1,\"#c51b7d\"],[0.2,\"#de77ae\"],[0.3,\"#f1b6da\"],[0.4,\"#fde0ef\"],[0.5,\"#f7f7f7\"],[0.6,\"#e6f5d0\"],[0.7,\"#b8e186\"],[0.8,\"#7fbc41\"],[0.9,\"#4d9221\"],[1,\"#276419\"]]},\"xaxis\":{\"gridcolor\":\"white\",\"linecolor\":\"white\",\"ticks\":\"\",\"title\":{\"standoff\":15},\"zerolinecolor\":\"white\",\"automargin\":true,\"zerolinewidth\":2},\"yaxis\":{\"gridcolor\":\"white\",\"linecolor\":\"white\",\"ticks\":\"\",\"title\":{\"standoff\":15},\"zerolinecolor\":\"white\",\"automargin\":true,\"zerolinewidth\":2},\"scene\":{\"xaxis\":{\"backgroundcolor\":\"#E5ECF6\",\"gridcolor\":\"white\",\"linecolor\":\"white\",\"showbackground\":true,\"ticks\":\"\",\"zerolinecolor\":\"white\",\"gridwidth\":2},\"yaxis\":{\"backgroundcolor\":\"#E5ECF6\",\"gridcolor\":\"white\",\"linecolor\":\"white\",\"showbackground\":true,\"ticks\":\"\",\"zerolinecolor\":\"white\",\"gridwidth\":2},\"zaxis\":{\"backgroundcolor\":\"#E5ECF6\",\"gridcolor\":\"white\",\"linecolor\":\"white\",\"showbackground\":true,\"ticks\":\"\",\"zerolinecolor\":\"white\",\"gridwidth\":2}},\"shapedefaults\":{\"line\":{\"color\":\"#2a3f5f\"}},\"annotationdefaults\":{\"arrowcolor\":\"#2a3f5f\",\"arrowhead\":0,\"arrowwidth\":1},\"geo\":{\"bgcolor\":\"white\",\"landcolor\":\"#E5ECF6\",\"subunitcolor\":\"white\",\"showland\":true,\"showlakes\":true,\"lakecolor\":\"white\"},\"title\":{\"x\":0.05},\"mapbox\":{\"style\":\"light\"}}},\"legend\":{\"tracegroupgap\":0,\"title\":{\"text\":\"Content Type\"}},\"title\":{\"text\":\"Distribution of Content Types on Netflix\",\"x\":0.5},\"piecolorway\":[\"rgb(102, 197, 204)\",\"rgb(246, 207, 113)\",\"rgb(248, 156, 116)\",\"rgb(220, 176, 242)\",\"rgb(135, 197, 95)\",\"rgb(158, 185, 243)\",\"rgb(254, 136, 177)\",\"rgb(201, 219, 116)\",\"rgb(139, 224, 164)\",\"rgb(180, 151, 231)\",\"rgb(179, 179, 179)\"]},                        {\"responsive\": true}                    ).then(function(){\n",
       "                            \n",
       "var gd = document.getElementById('c42d90a3-72d2-471d-9c16-7a004da2c525');\n",
       "var x = new MutationObserver(function (mutations, observer) {{\n",
       "        var display = window.getComputedStyle(gd).display;\n",
       "        if (!display || display === 'none') {{\n",
       "            console.log([gd, 'removed!']);\n",
       "            Plotly.purge(gd);\n",
       "            observer.disconnect();\n",
       "        }}\n",
       "}});\n",
       "\n",
       "// Listen for the removal of the full notebook cells\n",
       "var notebookContainer = gd.closest('#notebook-container');\n",
       "if (notebookContainer) {{\n",
       "    x.observe(notebookContainer, {childList: true});\n",
       "}}\n",
       "\n",
       "// Listen for the clearing of the current output cell\n",
       "var outputEl = gd.closest('.output');\n",
       "if (outputEl) {{\n",
       "    x.observe(outputEl, {childList: true});\n",
       "}}\n",
       "\n",
       "                        })                };            </script>        </div>"
      ]
     },
     "metadata": {},
     "output_type": "display_data"
    }
   ],
   "source": [
    "content_counts = df[\"type\"].value_counts()\n",
    "\n",
    "fig_pie = px.pie(\n",
    "    names=content_counts.index,\n",
    "    values=content_counts.values,\n",
    "    title=\"Distribution of Content Types on Netflix\",\n",
    "    color_discrete_sequence=px.colors.qualitative.Pastel,\n",
    "    hole=0.3,\n",
    ")\n",
    "\n",
    "fig_pie.update_traces(textposition=\"inside\", textinfo=\"percent+label\")\n",
    "fig_pie.update_layout(legend_title_text=\"Content Type\", title_x=0.5)\n",
    "\n",
    "fig_pie.show()"
   ]
  },
  {
   "cell_type": "code",
   "execution_count": 21,
   "metadata": {},
   "outputs": [
    {
     "data": {
      "application/vnd.plotly.v1+json": {
       "config": {
        "plotlyServerURL": "https://plot.ly"
       },
       "data": [
        {
         "hovertemplate": "Director=%{x}<br>Number of Titles=%{marker.color}<extra></extra>",
         "legendgroup": "",
         "marker": {
          "color": {
           "bdata": "FBISEBAODQwMDA==",
           "dtype": "i1"
          },
          "coloraxis": "coloraxis",
          "pattern": {
           "shape": ""
          }
         },
         "name": "",
         "orientation": "v",
         "showlegend": false,
         "text": {
          "bdata": "AAAAAAAANEAAAAAAAAAyQAAAAAAAADJAAAAAAAAAMEAAAAAAAAAwQAAAAAAAACxAAAAAAAAAKkAAAAAAAAAoQAAAAAAAAChAAAAAAAAAKEA=",
          "dtype": "f8"
         },
         "textposition": "outside",
         "type": "bar",
         "x": [
          "Rajiv Chilaka",
          "Raúl Campos, Jan Suter",
          "Alastair Fothergill",
          "Marcus Raboy",
          "Suhas Kadav",
          "Jay Karas",
          "Cathy Garcia-Molina",
          "Youssef Chahine",
          "Martin Scorsese",
          "Jay Chapman"
         ],
         "xaxis": "x",
         "y": {
          "bdata": "FBISEBAODQwMDA==",
          "dtype": "i1"
         },
         "yaxis": "y"
        }
       ],
       "layout": {
        "barmode": "relative",
        "coloraxis": {
         "colorbar": {
          "title": {
           "text": "Number of Titles"
          }
         },
         "colorscale": [
          [
           0,
           "rgb(255,245,240)"
          ],
          [
           0.125,
           "rgb(254,224,210)"
          ],
          [
           0.25,
           "rgb(252,187,161)"
          ],
          [
           0.375,
           "rgb(252,146,114)"
          ],
          [
           0.5,
           "rgb(251,106,74)"
          ],
          [
           0.625,
           "rgb(239,59,44)"
          ],
          [
           0.75,
           "rgb(203,24,29)"
          ],
          [
           0.875,
           "rgb(165,15,21)"
          ],
          [
           1,
           "rgb(103,0,13)"
          ]
         ]
        },
        "legend": {
         "tracegroupgap": 0
        },
        "template": {
         "data": {
          "bar": [
           {
            "error_x": {
             "color": "#2a3f5f"
            },
            "error_y": {
             "color": "#2a3f5f"
            },
            "marker": {
             "line": {
              "color": "#E5ECF6",
              "width": 0.5
             },
             "pattern": {
              "fillmode": "overlay",
              "size": 10,
              "solidity": 0.2
             }
            },
            "type": "bar"
           }
          ],
          "barpolar": [
           {
            "marker": {
             "line": {
              "color": "#E5ECF6",
              "width": 0.5
             },
             "pattern": {
              "fillmode": "overlay",
              "size": 10,
              "solidity": 0.2
             }
            },
            "type": "barpolar"
           }
          ],
          "carpet": [
           {
            "aaxis": {
             "endlinecolor": "#2a3f5f",
             "gridcolor": "white",
             "linecolor": "white",
             "minorgridcolor": "white",
             "startlinecolor": "#2a3f5f"
            },
            "baxis": {
             "endlinecolor": "#2a3f5f",
             "gridcolor": "white",
             "linecolor": "white",
             "minorgridcolor": "white",
             "startlinecolor": "#2a3f5f"
            },
            "type": "carpet"
           }
          ],
          "choropleth": [
           {
            "colorbar": {
             "outlinewidth": 0,
             "ticks": ""
            },
            "type": "choropleth"
           }
          ],
          "contour": [
           {
            "colorbar": {
             "outlinewidth": 0,
             "ticks": ""
            },
            "colorscale": [
             [
              0,
              "#0d0887"
             ],
             [
              0.1111111111111111,
              "#46039f"
             ],
             [
              0.2222222222222222,
              "#7201a8"
             ],
             [
              0.3333333333333333,
              "#9c179e"
             ],
             [
              0.4444444444444444,
              "#bd3786"
             ],
             [
              0.5555555555555556,
              "#d8576b"
             ],
             [
              0.6666666666666666,
              "#ed7953"
             ],
             [
              0.7777777777777778,
              "#fb9f3a"
             ],
             [
              0.8888888888888888,
              "#fdca26"
             ],
             [
              1,
              "#f0f921"
             ]
            ],
            "type": "contour"
           }
          ],
          "contourcarpet": [
           {
            "colorbar": {
             "outlinewidth": 0,
             "ticks": ""
            },
            "type": "contourcarpet"
           }
          ],
          "heatmap": [
           {
            "colorbar": {
             "outlinewidth": 0,
             "ticks": ""
            },
            "colorscale": [
             [
              0,
              "#0d0887"
             ],
             [
              0.1111111111111111,
              "#46039f"
             ],
             [
              0.2222222222222222,
              "#7201a8"
             ],
             [
              0.3333333333333333,
              "#9c179e"
             ],
             [
              0.4444444444444444,
              "#bd3786"
             ],
             [
              0.5555555555555556,
              "#d8576b"
             ],
             [
              0.6666666666666666,
              "#ed7953"
             ],
             [
              0.7777777777777778,
              "#fb9f3a"
             ],
             [
              0.8888888888888888,
              "#fdca26"
             ],
             [
              1,
              "#f0f921"
             ]
            ],
            "type": "heatmap"
           }
          ],
          "histogram": [
           {
            "marker": {
             "pattern": {
              "fillmode": "overlay",
              "size": 10,
              "solidity": 0.2
             }
            },
            "type": "histogram"
           }
          ],
          "histogram2d": [
           {
            "colorbar": {
             "outlinewidth": 0,
             "ticks": ""
            },
            "colorscale": [
             [
              0,
              "#0d0887"
             ],
             [
              0.1111111111111111,
              "#46039f"
             ],
             [
              0.2222222222222222,
              "#7201a8"
             ],
             [
              0.3333333333333333,
              "#9c179e"
             ],
             [
              0.4444444444444444,
              "#bd3786"
             ],
             [
              0.5555555555555556,
              "#d8576b"
             ],
             [
              0.6666666666666666,
              "#ed7953"
             ],
             [
              0.7777777777777778,
              "#fb9f3a"
             ],
             [
              0.8888888888888888,
              "#fdca26"
             ],
             [
              1,
              "#f0f921"
             ]
            ],
            "type": "histogram2d"
           }
          ],
          "histogram2dcontour": [
           {
            "colorbar": {
             "outlinewidth": 0,
             "ticks": ""
            },
            "colorscale": [
             [
              0,
              "#0d0887"
             ],
             [
              0.1111111111111111,
              "#46039f"
             ],
             [
              0.2222222222222222,
              "#7201a8"
             ],
             [
              0.3333333333333333,
              "#9c179e"
             ],
             [
              0.4444444444444444,
              "#bd3786"
             ],
             [
              0.5555555555555556,
              "#d8576b"
             ],
             [
              0.6666666666666666,
              "#ed7953"
             ],
             [
              0.7777777777777778,
              "#fb9f3a"
             ],
             [
              0.8888888888888888,
              "#fdca26"
             ],
             [
              1,
              "#f0f921"
             ]
            ],
            "type": "histogram2dcontour"
           }
          ],
          "mesh3d": [
           {
            "colorbar": {
             "outlinewidth": 0,
             "ticks": ""
            },
            "type": "mesh3d"
           }
          ],
          "parcoords": [
           {
            "line": {
             "colorbar": {
              "outlinewidth": 0,
              "ticks": ""
             }
            },
            "type": "parcoords"
           }
          ],
          "pie": [
           {
            "automargin": true,
            "type": "pie"
           }
          ],
          "scatter": [
           {
            "fillpattern": {
             "fillmode": "overlay",
             "size": 10,
             "solidity": 0.2
            },
            "type": "scatter"
           }
          ],
          "scatter3d": [
           {
            "line": {
             "colorbar": {
              "outlinewidth": 0,
              "ticks": ""
             }
            },
            "marker": {
             "colorbar": {
              "outlinewidth": 0,
              "ticks": ""
             }
            },
            "type": "scatter3d"
           }
          ],
          "scattercarpet": [
           {
            "marker": {
             "colorbar": {
              "outlinewidth": 0,
              "ticks": ""
             }
            },
            "type": "scattercarpet"
           }
          ],
          "scattergeo": [
           {
            "marker": {
             "colorbar": {
              "outlinewidth": 0,
              "ticks": ""
             }
            },
            "type": "scattergeo"
           }
          ],
          "scattergl": [
           {
            "marker": {
             "colorbar": {
              "outlinewidth": 0,
              "ticks": ""
             }
            },
            "type": "scattergl"
           }
          ],
          "scattermap": [
           {
            "marker": {
             "colorbar": {
              "outlinewidth": 0,
              "ticks": ""
             }
            },
            "type": "scattermap"
           }
          ],
          "scattermapbox": [
           {
            "marker": {
             "colorbar": {
              "outlinewidth": 0,
              "ticks": ""
             }
            },
            "type": "scattermapbox"
           }
          ],
          "scatterpolar": [
           {
            "marker": {
             "colorbar": {
              "outlinewidth": 0,
              "ticks": ""
             }
            },
            "type": "scatterpolar"
           }
          ],
          "scatterpolargl": [
           {
            "marker": {
             "colorbar": {
              "outlinewidth": 0,
              "ticks": ""
             }
            },
            "type": "scatterpolargl"
           }
          ],
          "scatterternary": [
           {
            "marker": {
             "colorbar": {
              "outlinewidth": 0,
              "ticks": ""
             }
            },
            "type": "scatterternary"
           }
          ],
          "surface": [
           {
            "colorbar": {
             "outlinewidth": 0,
             "ticks": ""
            },
            "colorscale": [
             [
              0,
              "#0d0887"
             ],
             [
              0.1111111111111111,
              "#46039f"
             ],
             [
              0.2222222222222222,
              "#7201a8"
             ],
             [
              0.3333333333333333,
              "#9c179e"
             ],
             [
              0.4444444444444444,
              "#bd3786"
             ],
             [
              0.5555555555555556,
              "#d8576b"
             ],
             [
              0.6666666666666666,
              "#ed7953"
             ],
             [
              0.7777777777777778,
              "#fb9f3a"
             ],
             [
              0.8888888888888888,
              "#fdca26"
             ],
             [
              1,
              "#f0f921"
             ]
            ],
            "type": "surface"
           }
          ],
          "table": [
           {
            "cells": {
             "fill": {
              "color": "#EBF0F8"
             },
             "line": {
              "color": "white"
             }
            },
            "header": {
             "fill": {
              "color": "#C8D4E3"
             },
             "line": {
              "color": "white"
             }
            },
            "type": "table"
           }
          ]
         },
         "layout": {
          "annotationdefaults": {
           "arrowcolor": "#2a3f5f",
           "arrowhead": 0,
           "arrowwidth": 1
          },
          "autotypenumbers": "strict",
          "coloraxis": {
           "colorbar": {
            "outlinewidth": 0,
            "ticks": ""
           }
          },
          "colorscale": {
           "diverging": [
            [
             0,
             "#8e0152"
            ],
            [
             0.1,
             "#c51b7d"
            ],
            [
             0.2,
             "#de77ae"
            ],
            [
             0.3,
             "#f1b6da"
            ],
            [
             0.4,
             "#fde0ef"
            ],
            [
             0.5,
             "#f7f7f7"
            ],
            [
             0.6,
             "#e6f5d0"
            ],
            [
             0.7,
             "#b8e186"
            ],
            [
             0.8,
             "#7fbc41"
            ],
            [
             0.9,
             "#4d9221"
            ],
            [
             1,
             "#276419"
            ]
           ],
           "sequential": [
            [
             0,
             "#0d0887"
            ],
            [
             0.1111111111111111,
             "#46039f"
            ],
            [
             0.2222222222222222,
             "#7201a8"
            ],
            [
             0.3333333333333333,
             "#9c179e"
            ],
            [
             0.4444444444444444,
             "#bd3786"
            ],
            [
             0.5555555555555556,
             "#d8576b"
            ],
            [
             0.6666666666666666,
             "#ed7953"
            ],
            [
             0.7777777777777778,
             "#fb9f3a"
            ],
            [
             0.8888888888888888,
             "#fdca26"
            ],
            [
             1,
             "#f0f921"
            ]
           ],
           "sequentialminus": [
            [
             0,
             "#0d0887"
            ],
            [
             0.1111111111111111,
             "#46039f"
            ],
            [
             0.2222222222222222,
             "#7201a8"
            ],
            [
             0.3333333333333333,
             "#9c179e"
            ],
            [
             0.4444444444444444,
             "#bd3786"
            ],
            [
             0.5555555555555556,
             "#d8576b"
            ],
            [
             0.6666666666666666,
             "#ed7953"
            ],
            [
             0.7777777777777778,
             "#fb9f3a"
            ],
            [
             0.8888888888888888,
             "#fdca26"
            ],
            [
             1,
             "#f0f921"
            ]
           ]
          },
          "colorway": [
           "#636efa",
           "#EF553B",
           "#00cc96",
           "#ab63fa",
           "#FFA15A",
           "#19d3f3",
           "#FF6692",
           "#B6E880",
           "#FF97FF",
           "#FECB52"
          ],
          "font": {
           "color": "#2a3f5f"
          },
          "geo": {
           "bgcolor": "white",
           "lakecolor": "white",
           "landcolor": "#E5ECF6",
           "showlakes": true,
           "showland": true,
           "subunitcolor": "white"
          },
          "hoverlabel": {
           "align": "left"
          },
          "hovermode": "closest",
          "mapbox": {
           "style": "light"
          },
          "paper_bgcolor": "white",
          "plot_bgcolor": "#E5ECF6",
          "polar": {
           "angularaxis": {
            "gridcolor": "white",
            "linecolor": "white",
            "ticks": ""
           },
           "bgcolor": "#E5ECF6",
           "radialaxis": {
            "gridcolor": "white",
            "linecolor": "white",
            "ticks": ""
           }
          },
          "scene": {
           "xaxis": {
            "backgroundcolor": "#E5ECF6",
            "gridcolor": "white",
            "gridwidth": 2,
            "linecolor": "white",
            "showbackground": true,
            "ticks": "",
            "zerolinecolor": "white"
           },
           "yaxis": {
            "backgroundcolor": "#E5ECF6",
            "gridcolor": "white",
            "gridwidth": 2,
            "linecolor": "white",
            "showbackground": true,
            "ticks": "",
            "zerolinecolor": "white"
           },
           "zaxis": {
            "backgroundcolor": "#E5ECF6",
            "gridcolor": "white",
            "gridwidth": 2,
            "linecolor": "white",
            "showbackground": true,
            "ticks": "",
            "zerolinecolor": "white"
           }
          },
          "shapedefaults": {
           "line": {
            "color": "#2a3f5f"
           }
          },
          "ternary": {
           "aaxis": {
            "gridcolor": "white",
            "linecolor": "white",
            "ticks": ""
           },
           "baxis": {
            "gridcolor": "white",
            "linecolor": "white",
            "ticks": ""
           },
           "bgcolor": "#E5ECF6",
           "caxis": {
            "gridcolor": "white",
            "linecolor": "white",
            "ticks": ""
           }
          },
          "title": {
           "x": 0.05
          },
          "xaxis": {
           "automargin": true,
           "gridcolor": "white",
           "linecolor": "white",
           "ticks": "",
           "title": {
            "standoff": 15
           },
           "zerolinecolor": "white",
           "zerolinewidth": 2
          },
          "yaxis": {
           "automargin": true,
           "gridcolor": "white",
           "linecolor": "white",
           "ticks": "",
           "title": {
            "standoff": 15
           },
           "zerolinecolor": "white",
           "zerolinewidth": 2
          }
         }
        },
        "title": {
         "text": "Top 10 Directors on Netflix by Number of Titles",
         "x": 0.5
        },
        "xaxis": {
         "anchor": "y",
         "domain": [
          0,
          1
         ],
         "tickangle": -45,
         "title": {
          "text": "Director"
         }
        },
        "yaxis": {
         "anchor": "x",
         "domain": [
          0,
          1
         ],
         "title": {
          "text": "Number of Titles"
         }
        }
       }
      },
      "text/html": [
       "<div>            <script src=\"https://cdnjs.cloudflare.com/ajax/libs/mathjax/2.7.5/MathJax.js?config=TeX-AMS-MML_SVG\"></script><script type=\"text/javascript\">if (window.MathJax && window.MathJax.Hub && window.MathJax.Hub.Config) {window.MathJax.Hub.Config({SVG: {font: \"STIX-Web\"}});}</script>                <script type=\"text/javascript\">window.PlotlyConfig = {MathJaxConfig: 'local'};</script>\n",
       "        <script charset=\"utf-8\" src=\"https://cdn.plot.ly/plotly-3.0.0.min.js\"></script>                <div id=\"06e7e600-6da4-4996-81b0-78852126dc45\" class=\"plotly-graph-div\" style=\"height:525px; width:100%;\"></div>            <script type=\"text/javascript\">                window.PLOTLYENV=window.PLOTLYENV || {};                                if (document.getElementById(\"06e7e600-6da4-4996-81b0-78852126dc45\")) {                    Plotly.newPlot(                        \"06e7e600-6da4-4996-81b0-78852126dc45\",                        [{\"hovertemplate\":\"Director=%{x}\\u003cbr\\u003eNumber of Titles=%{marker.color}\\u003cextra\\u003e\\u003c\\u002fextra\\u003e\",\"legendgroup\":\"\",\"marker\":{\"color\":{\"dtype\":\"i1\",\"bdata\":\"FBISEBAODQwMDA==\"},\"coloraxis\":\"coloraxis\",\"pattern\":{\"shape\":\"\"}},\"name\":\"\",\"orientation\":\"v\",\"showlegend\":false,\"text\":{\"dtype\":\"f8\",\"bdata\":\"AAAAAAAANEAAAAAAAAAyQAAAAAAAADJAAAAAAAAAMEAAAAAAAAAwQAAAAAAAACxAAAAAAAAAKkAAAAAAAAAoQAAAAAAAAChAAAAAAAAAKEA=\"},\"textposition\":\"outside\",\"x\":[\"Rajiv Chilaka\",\"Ra\\u00fal Campos, Jan Suter\",\"Alastair Fothergill\",\"Marcus Raboy\",\"Suhas Kadav\",\"Jay Karas\",\"Cathy Garcia-Molina\",\"Youssef Chahine\",\"Martin Scorsese\",\"Jay Chapman\"],\"xaxis\":\"x\",\"y\":{\"dtype\":\"i1\",\"bdata\":\"FBISEBAODQwMDA==\"},\"yaxis\":\"y\",\"type\":\"bar\"}],                        {\"template\":{\"data\":{\"histogram2dcontour\":[{\"type\":\"histogram2dcontour\",\"colorbar\":{\"outlinewidth\":0,\"ticks\":\"\"},\"colorscale\":[[0.0,\"#0d0887\"],[0.1111111111111111,\"#46039f\"],[0.2222222222222222,\"#7201a8\"],[0.3333333333333333,\"#9c179e\"],[0.4444444444444444,\"#bd3786\"],[0.5555555555555556,\"#d8576b\"],[0.6666666666666666,\"#ed7953\"],[0.7777777777777778,\"#fb9f3a\"],[0.8888888888888888,\"#fdca26\"],[1.0,\"#f0f921\"]]}],\"choropleth\":[{\"type\":\"choropleth\",\"colorbar\":{\"outlinewidth\":0,\"ticks\":\"\"}}],\"histogram2d\":[{\"type\":\"histogram2d\",\"colorbar\":{\"outlinewidth\":0,\"ticks\":\"\"},\"colorscale\":[[0.0,\"#0d0887\"],[0.1111111111111111,\"#46039f\"],[0.2222222222222222,\"#7201a8\"],[0.3333333333333333,\"#9c179e\"],[0.4444444444444444,\"#bd3786\"],[0.5555555555555556,\"#d8576b\"],[0.6666666666666666,\"#ed7953\"],[0.7777777777777778,\"#fb9f3a\"],[0.8888888888888888,\"#fdca26\"],[1.0,\"#f0f921\"]]}],\"heatmap\":[{\"type\":\"heatmap\",\"colorbar\":{\"outlinewidth\":0,\"ticks\":\"\"},\"colorscale\":[[0.0,\"#0d0887\"],[0.1111111111111111,\"#46039f\"],[0.2222222222222222,\"#7201a8\"],[0.3333333333333333,\"#9c179e\"],[0.4444444444444444,\"#bd3786\"],[0.5555555555555556,\"#d8576b\"],[0.6666666666666666,\"#ed7953\"],[0.7777777777777778,\"#fb9f3a\"],[0.8888888888888888,\"#fdca26\"],[1.0,\"#f0f921\"]]}],\"contourcarpet\":[{\"type\":\"contourcarpet\",\"colorbar\":{\"outlinewidth\":0,\"ticks\":\"\"}}],\"contour\":[{\"type\":\"contour\",\"colorbar\":{\"outlinewidth\":0,\"ticks\":\"\"},\"colorscale\":[[0.0,\"#0d0887\"],[0.1111111111111111,\"#46039f\"],[0.2222222222222222,\"#7201a8\"],[0.3333333333333333,\"#9c179e\"],[0.4444444444444444,\"#bd3786\"],[0.5555555555555556,\"#d8576b\"],[0.6666666666666666,\"#ed7953\"],[0.7777777777777778,\"#fb9f3a\"],[0.8888888888888888,\"#fdca26\"],[1.0,\"#f0f921\"]]}],\"surface\":[{\"type\":\"surface\",\"colorbar\":{\"outlinewidth\":0,\"ticks\":\"\"},\"colorscale\":[[0.0,\"#0d0887\"],[0.1111111111111111,\"#46039f\"],[0.2222222222222222,\"#7201a8\"],[0.3333333333333333,\"#9c179e\"],[0.4444444444444444,\"#bd3786\"],[0.5555555555555556,\"#d8576b\"],[0.6666666666666666,\"#ed7953\"],[0.7777777777777778,\"#fb9f3a\"],[0.8888888888888888,\"#fdca26\"],[1.0,\"#f0f921\"]]}],\"mesh3d\":[{\"type\":\"mesh3d\",\"colorbar\":{\"outlinewidth\":0,\"ticks\":\"\"}}],\"scatter\":[{\"fillpattern\":{\"fillmode\":\"overlay\",\"size\":10,\"solidity\":0.2},\"type\":\"scatter\"}],\"parcoords\":[{\"type\":\"parcoords\",\"line\":{\"colorbar\":{\"outlinewidth\":0,\"ticks\":\"\"}}}],\"scatterpolargl\":[{\"type\":\"scatterpolargl\",\"marker\":{\"colorbar\":{\"outlinewidth\":0,\"ticks\":\"\"}}}],\"bar\":[{\"error_x\":{\"color\":\"#2a3f5f\"},\"error_y\":{\"color\":\"#2a3f5f\"},\"marker\":{\"line\":{\"color\":\"#E5ECF6\",\"width\":0.5},\"pattern\":{\"fillmode\":\"overlay\",\"size\":10,\"solidity\":0.2}},\"type\":\"bar\"}],\"scattergeo\":[{\"type\":\"scattergeo\",\"marker\":{\"colorbar\":{\"outlinewidth\":0,\"ticks\":\"\"}}}],\"scatterpolar\":[{\"type\":\"scatterpolar\",\"marker\":{\"colorbar\":{\"outlinewidth\":0,\"ticks\":\"\"}}}],\"histogram\":[{\"marker\":{\"pattern\":{\"fillmode\":\"overlay\",\"size\":10,\"solidity\":0.2}},\"type\":\"histogram\"}],\"scattergl\":[{\"type\":\"scattergl\",\"marker\":{\"colorbar\":{\"outlinewidth\":0,\"ticks\":\"\"}}}],\"scatter3d\":[{\"type\":\"scatter3d\",\"line\":{\"colorbar\":{\"outlinewidth\":0,\"ticks\":\"\"}},\"marker\":{\"colorbar\":{\"outlinewidth\":0,\"ticks\":\"\"}}}],\"scattermap\":[{\"type\":\"scattermap\",\"marker\":{\"colorbar\":{\"outlinewidth\":0,\"ticks\":\"\"}}}],\"scattermapbox\":[{\"type\":\"scattermapbox\",\"marker\":{\"colorbar\":{\"outlinewidth\":0,\"ticks\":\"\"}}}],\"scatterternary\":[{\"type\":\"scatterternary\",\"marker\":{\"colorbar\":{\"outlinewidth\":0,\"ticks\":\"\"}}}],\"scattercarpet\":[{\"type\":\"scattercarpet\",\"marker\":{\"colorbar\":{\"outlinewidth\":0,\"ticks\":\"\"}}}],\"carpet\":[{\"aaxis\":{\"endlinecolor\":\"#2a3f5f\",\"gridcolor\":\"white\",\"linecolor\":\"white\",\"minorgridcolor\":\"white\",\"startlinecolor\":\"#2a3f5f\"},\"baxis\":{\"endlinecolor\":\"#2a3f5f\",\"gridcolor\":\"white\",\"linecolor\":\"white\",\"minorgridcolor\":\"white\",\"startlinecolor\":\"#2a3f5f\"},\"type\":\"carpet\"}],\"table\":[{\"cells\":{\"fill\":{\"color\":\"#EBF0F8\"},\"line\":{\"color\":\"white\"}},\"header\":{\"fill\":{\"color\":\"#C8D4E3\"},\"line\":{\"color\":\"white\"}},\"type\":\"table\"}],\"barpolar\":[{\"marker\":{\"line\":{\"color\":\"#E5ECF6\",\"width\":0.5},\"pattern\":{\"fillmode\":\"overlay\",\"size\":10,\"solidity\":0.2}},\"type\":\"barpolar\"}],\"pie\":[{\"automargin\":true,\"type\":\"pie\"}]},\"layout\":{\"autotypenumbers\":\"strict\",\"colorway\":[\"#636efa\",\"#EF553B\",\"#00cc96\",\"#ab63fa\",\"#FFA15A\",\"#19d3f3\",\"#FF6692\",\"#B6E880\",\"#FF97FF\",\"#FECB52\"],\"font\":{\"color\":\"#2a3f5f\"},\"hovermode\":\"closest\",\"hoverlabel\":{\"align\":\"left\"},\"paper_bgcolor\":\"white\",\"plot_bgcolor\":\"#E5ECF6\",\"polar\":{\"bgcolor\":\"#E5ECF6\",\"angularaxis\":{\"gridcolor\":\"white\",\"linecolor\":\"white\",\"ticks\":\"\"},\"radialaxis\":{\"gridcolor\":\"white\",\"linecolor\":\"white\",\"ticks\":\"\"}},\"ternary\":{\"bgcolor\":\"#E5ECF6\",\"aaxis\":{\"gridcolor\":\"white\",\"linecolor\":\"white\",\"ticks\":\"\"},\"baxis\":{\"gridcolor\":\"white\",\"linecolor\":\"white\",\"ticks\":\"\"},\"caxis\":{\"gridcolor\":\"white\",\"linecolor\":\"white\",\"ticks\":\"\"}},\"coloraxis\":{\"colorbar\":{\"outlinewidth\":0,\"ticks\":\"\"}},\"colorscale\":{\"sequential\":[[0.0,\"#0d0887\"],[0.1111111111111111,\"#46039f\"],[0.2222222222222222,\"#7201a8\"],[0.3333333333333333,\"#9c179e\"],[0.4444444444444444,\"#bd3786\"],[0.5555555555555556,\"#d8576b\"],[0.6666666666666666,\"#ed7953\"],[0.7777777777777778,\"#fb9f3a\"],[0.8888888888888888,\"#fdca26\"],[1.0,\"#f0f921\"]],\"sequentialminus\":[[0.0,\"#0d0887\"],[0.1111111111111111,\"#46039f\"],[0.2222222222222222,\"#7201a8\"],[0.3333333333333333,\"#9c179e\"],[0.4444444444444444,\"#bd3786\"],[0.5555555555555556,\"#d8576b\"],[0.6666666666666666,\"#ed7953\"],[0.7777777777777778,\"#fb9f3a\"],[0.8888888888888888,\"#fdca26\"],[1.0,\"#f0f921\"]],\"diverging\":[[0,\"#8e0152\"],[0.1,\"#c51b7d\"],[0.2,\"#de77ae\"],[0.3,\"#f1b6da\"],[0.4,\"#fde0ef\"],[0.5,\"#f7f7f7\"],[0.6,\"#e6f5d0\"],[0.7,\"#b8e186\"],[0.8,\"#7fbc41\"],[0.9,\"#4d9221\"],[1,\"#276419\"]]},\"xaxis\":{\"gridcolor\":\"white\",\"linecolor\":\"white\",\"ticks\":\"\",\"title\":{\"standoff\":15},\"zerolinecolor\":\"white\",\"automargin\":true,\"zerolinewidth\":2},\"yaxis\":{\"gridcolor\":\"white\",\"linecolor\":\"white\",\"ticks\":\"\",\"title\":{\"standoff\":15},\"zerolinecolor\":\"white\",\"automargin\":true,\"zerolinewidth\":2},\"scene\":{\"xaxis\":{\"backgroundcolor\":\"#E5ECF6\",\"gridcolor\":\"white\",\"linecolor\":\"white\",\"showbackground\":true,\"ticks\":\"\",\"zerolinecolor\":\"white\",\"gridwidth\":2},\"yaxis\":{\"backgroundcolor\":\"#E5ECF6\",\"gridcolor\":\"white\",\"linecolor\":\"white\",\"showbackground\":true,\"ticks\":\"\",\"zerolinecolor\":\"white\",\"gridwidth\":2},\"zaxis\":{\"backgroundcolor\":\"#E5ECF6\",\"gridcolor\":\"white\",\"linecolor\":\"white\",\"showbackground\":true,\"ticks\":\"\",\"zerolinecolor\":\"white\",\"gridwidth\":2}},\"shapedefaults\":{\"line\":{\"color\":\"#2a3f5f\"}},\"annotationdefaults\":{\"arrowcolor\":\"#2a3f5f\",\"arrowhead\":0,\"arrowwidth\":1},\"geo\":{\"bgcolor\":\"white\",\"landcolor\":\"#E5ECF6\",\"subunitcolor\":\"white\",\"showland\":true,\"showlakes\":true,\"lakecolor\":\"white\"},\"title\":{\"x\":0.05},\"mapbox\":{\"style\":\"light\"}}},\"xaxis\":{\"anchor\":\"y\",\"domain\":[0.0,1.0],\"title\":{\"text\":\"Director\"},\"tickangle\":-45},\"yaxis\":{\"anchor\":\"x\",\"domain\":[0.0,1.0],\"title\":{\"text\":\"Number of Titles\"}},\"coloraxis\":{\"colorbar\":{\"title\":{\"text\":\"Number of Titles\"}},\"colorscale\":[[0.0,\"rgb(255,245,240)\"],[0.125,\"rgb(254,224,210)\"],[0.25,\"rgb(252,187,161)\"],[0.375,\"rgb(252,146,114)\"],[0.5,\"rgb(251,106,74)\"],[0.625,\"rgb(239,59,44)\"],[0.75,\"rgb(203,24,29)\"],[0.875,\"rgb(165,15,21)\"],[1.0,\"rgb(103,0,13)\"]]},\"legend\":{\"tracegroupgap\":0},\"title\":{\"text\":\"Top 10 Directors on Netflix by Number of Titles\",\"x\":0.5},\"barmode\":\"relative\"},                        {\"responsive\": true}                    ).then(function(){\n",
       "                            \n",
       "var gd = document.getElementById('06e7e600-6da4-4996-81b0-78852126dc45');\n",
       "var x = new MutationObserver(function (mutations, observer) {{\n",
       "        var display = window.getComputedStyle(gd).display;\n",
       "        if (!display || display === 'none') {{\n",
       "            console.log([gd, 'removed!']);\n",
       "            Plotly.purge(gd);\n",
       "            observer.disconnect();\n",
       "        }}\n",
       "}});\n",
       "\n",
       "// Listen for the removal of the full notebook cells\n",
       "var notebookContainer = gd.closest('#notebook-container');\n",
       "if (notebookContainer) {{\n",
       "    x.observe(notebookContainer, {childList: true});\n",
       "}}\n",
       "\n",
       "// Listen for the clearing of the current output cell\n",
       "var outputEl = gd.closest('.output');\n",
       "if (outputEl) {{\n",
       "    x.observe(outputEl, {childList: true});\n",
       "}}\n",
       "\n",
       "                        })                };            </script>        </div>"
      ]
     },
     "metadata": {},
     "output_type": "display_data"
    }
   ],
   "source": [
    "directors_count = df['director'].dropna().value_counts()\n",
    "\n",
    "top_10_directors = directors_count.head(10).reset_index()\n",
    "top_10_directors.columns = ['director', 'count']\n",
    "\n",
    "fig_directors = px.bar(\n",
    "    top_10_directors,\n",
    "    x='director',\n",
    "    y='count',\n",
    "    title='Top 10 Directors on Netflix by Number of Titles',\n",
    "    labels={'count': 'Number of Titles', 'director': 'Director'},\n",
    "    text='count',\n",
    "    color='count',\n",
    "    color_continuous_scale=px.colors.sequential.Reds\n",
    ")\n",
    "\n",
    "fig_directors.update_layout(\n",
    "    xaxis_title=\"Director\",\n",
    "    yaxis_title=\"Number of Titles\",\n",
    "    title_x=0.5,\n",
    "    xaxis_tickangle=-45\n",
    ")\n",
    "fig_directors.update_traces(textposition='outside')\n",
    "\n",
    "fig_directors.show()"
   ]
  },
  {
   "cell_type": "markdown",
   "metadata": {},
   "source": [
    "### Top 10 Countries Producing Content"
   ]
  },
  {
   "cell_type": "code",
   "execution_count": 22,
   "metadata": {},
   "outputs": [
    {
     "data": {
      "application/vnd.plotly.v1+json": {
       "config": {
        "plotlyServerURL": "https://plot.ly"
       },
       "data": [
        {
         "hovertemplate": "Country=%{x}<br>Number of Titles=%{marker.color}<extra></extra>",
         "legendgroup": "",
         "marker": {
          "color": {
           "bdata": "pwwgBH4CpAEPAQEB1gDVALYAigA=",
           "dtype": "i2"
          },
          "coloraxis": "coloraxis",
          "pattern": {
           "shape": ""
          }
         },
         "name": "",
         "orientation": "v",
         "showlegend": false,
         "text": {
          "bdata": "AAAAAABOqUAAAAAAAICQQAAAAAAA8INAAAAAAABAekAAAAAAAPBwQAAAAAAAEHBAAAAAAADAakAAAAAAAKBqQAAAAAAAwGZAAAAAAABAYUA=",
          "dtype": "f8"
         },
         "textposition": "outside",
         "type": "bar",
         "x": [
          "United States",
          "India",
          "United Kingdom",
          "Pakistan",
          "Canada",
          "Japan",
          "South Korea",
          "France",
          "Spain",
          "Mexico"
         ],
         "xaxis": "x",
         "y": {
          "bdata": "pwwgBH4CpAEPAQEB1gDVALYAigA=",
          "dtype": "i2"
         },
         "yaxis": "y"
        }
       ],
       "layout": {
        "barmode": "relative",
        "coloraxis": {
         "colorbar": {
          "title": {
           "text": "Number of Titles"
          }
         },
         "colorscale": [
          [
           0,
           "rgb(247,251,255)"
          ],
          [
           0.125,
           "rgb(222,235,247)"
          ],
          [
           0.25,
           "rgb(198,219,239)"
          ],
          [
           0.375,
           "rgb(158,202,225)"
          ],
          [
           0.5,
           "rgb(107,174,214)"
          ],
          [
           0.625,
           "rgb(66,146,198)"
          ],
          [
           0.75,
           "rgb(33,113,181)"
          ],
          [
           0.875,
           "rgb(8,81,156)"
          ],
          [
           1,
           "rgb(8,48,107)"
          ]
         ]
        },
        "legend": {
         "tracegroupgap": 0
        },
        "template": {
         "data": {
          "bar": [
           {
            "error_x": {
             "color": "#2a3f5f"
            },
            "error_y": {
             "color": "#2a3f5f"
            },
            "marker": {
             "line": {
              "color": "#E5ECF6",
              "width": 0.5
             },
             "pattern": {
              "fillmode": "overlay",
              "size": 10,
              "solidity": 0.2
             }
            },
            "type": "bar"
           }
          ],
          "barpolar": [
           {
            "marker": {
             "line": {
              "color": "#E5ECF6",
              "width": 0.5
             },
             "pattern": {
              "fillmode": "overlay",
              "size": 10,
              "solidity": 0.2
             }
            },
            "type": "barpolar"
           }
          ],
          "carpet": [
           {
            "aaxis": {
             "endlinecolor": "#2a3f5f",
             "gridcolor": "white",
             "linecolor": "white",
             "minorgridcolor": "white",
             "startlinecolor": "#2a3f5f"
            },
            "baxis": {
             "endlinecolor": "#2a3f5f",
             "gridcolor": "white",
             "linecolor": "white",
             "minorgridcolor": "white",
             "startlinecolor": "#2a3f5f"
            },
            "type": "carpet"
           }
          ],
          "choropleth": [
           {
            "colorbar": {
             "outlinewidth": 0,
             "ticks": ""
            },
            "type": "choropleth"
           }
          ],
          "contour": [
           {
            "colorbar": {
             "outlinewidth": 0,
             "ticks": ""
            },
            "colorscale": [
             [
              0,
              "#0d0887"
             ],
             [
              0.1111111111111111,
              "#46039f"
             ],
             [
              0.2222222222222222,
              "#7201a8"
             ],
             [
              0.3333333333333333,
              "#9c179e"
             ],
             [
              0.4444444444444444,
              "#bd3786"
             ],
             [
              0.5555555555555556,
              "#d8576b"
             ],
             [
              0.6666666666666666,
              "#ed7953"
             ],
             [
              0.7777777777777778,
              "#fb9f3a"
             ],
             [
              0.8888888888888888,
              "#fdca26"
             ],
             [
              1,
              "#f0f921"
             ]
            ],
            "type": "contour"
           }
          ],
          "contourcarpet": [
           {
            "colorbar": {
             "outlinewidth": 0,
             "ticks": ""
            },
            "type": "contourcarpet"
           }
          ],
          "heatmap": [
           {
            "colorbar": {
             "outlinewidth": 0,
             "ticks": ""
            },
            "colorscale": [
             [
              0,
              "#0d0887"
             ],
             [
              0.1111111111111111,
              "#46039f"
             ],
             [
              0.2222222222222222,
              "#7201a8"
             ],
             [
              0.3333333333333333,
              "#9c179e"
             ],
             [
              0.4444444444444444,
              "#bd3786"
             ],
             [
              0.5555555555555556,
              "#d8576b"
             ],
             [
              0.6666666666666666,
              "#ed7953"
             ],
             [
              0.7777777777777778,
              "#fb9f3a"
             ],
             [
              0.8888888888888888,
              "#fdca26"
             ],
             [
              1,
              "#f0f921"
             ]
            ],
            "type": "heatmap"
           }
          ],
          "histogram": [
           {
            "marker": {
             "pattern": {
              "fillmode": "overlay",
              "size": 10,
              "solidity": 0.2
             }
            },
            "type": "histogram"
           }
          ],
          "histogram2d": [
           {
            "colorbar": {
             "outlinewidth": 0,
             "ticks": ""
            },
            "colorscale": [
             [
              0,
              "#0d0887"
             ],
             [
              0.1111111111111111,
              "#46039f"
             ],
             [
              0.2222222222222222,
              "#7201a8"
             ],
             [
              0.3333333333333333,
              "#9c179e"
             ],
             [
              0.4444444444444444,
              "#bd3786"
             ],
             [
              0.5555555555555556,
              "#d8576b"
             ],
             [
              0.6666666666666666,
              "#ed7953"
             ],
             [
              0.7777777777777778,
              "#fb9f3a"
             ],
             [
              0.8888888888888888,
              "#fdca26"
             ],
             [
              1,
              "#f0f921"
             ]
            ],
            "type": "histogram2d"
           }
          ],
          "histogram2dcontour": [
           {
            "colorbar": {
             "outlinewidth": 0,
             "ticks": ""
            },
            "colorscale": [
             [
              0,
              "#0d0887"
             ],
             [
              0.1111111111111111,
              "#46039f"
             ],
             [
              0.2222222222222222,
              "#7201a8"
             ],
             [
              0.3333333333333333,
              "#9c179e"
             ],
             [
              0.4444444444444444,
              "#bd3786"
             ],
             [
              0.5555555555555556,
              "#d8576b"
             ],
             [
              0.6666666666666666,
              "#ed7953"
             ],
             [
              0.7777777777777778,
              "#fb9f3a"
             ],
             [
              0.8888888888888888,
              "#fdca26"
             ],
             [
              1,
              "#f0f921"
             ]
            ],
            "type": "histogram2dcontour"
           }
          ],
          "mesh3d": [
           {
            "colorbar": {
             "outlinewidth": 0,
             "ticks": ""
            },
            "type": "mesh3d"
           }
          ],
          "parcoords": [
           {
            "line": {
             "colorbar": {
              "outlinewidth": 0,
              "ticks": ""
             }
            },
            "type": "parcoords"
           }
          ],
          "pie": [
           {
            "automargin": true,
            "type": "pie"
           }
          ],
          "scatter": [
           {
            "fillpattern": {
             "fillmode": "overlay",
             "size": 10,
             "solidity": 0.2
            },
            "type": "scatter"
           }
          ],
          "scatter3d": [
           {
            "line": {
             "colorbar": {
              "outlinewidth": 0,
              "ticks": ""
             }
            },
            "marker": {
             "colorbar": {
              "outlinewidth": 0,
              "ticks": ""
             }
            },
            "type": "scatter3d"
           }
          ],
          "scattercarpet": [
           {
            "marker": {
             "colorbar": {
              "outlinewidth": 0,
              "ticks": ""
             }
            },
            "type": "scattercarpet"
           }
          ],
          "scattergeo": [
           {
            "marker": {
             "colorbar": {
              "outlinewidth": 0,
              "ticks": ""
             }
            },
            "type": "scattergeo"
           }
          ],
          "scattergl": [
           {
            "marker": {
             "colorbar": {
              "outlinewidth": 0,
              "ticks": ""
             }
            },
            "type": "scattergl"
           }
          ],
          "scattermap": [
           {
            "marker": {
             "colorbar": {
              "outlinewidth": 0,
              "ticks": ""
             }
            },
            "type": "scattermap"
           }
          ],
          "scattermapbox": [
           {
            "marker": {
             "colorbar": {
              "outlinewidth": 0,
              "ticks": ""
             }
            },
            "type": "scattermapbox"
           }
          ],
          "scatterpolar": [
           {
            "marker": {
             "colorbar": {
              "outlinewidth": 0,
              "ticks": ""
             }
            },
            "type": "scatterpolar"
           }
          ],
          "scatterpolargl": [
           {
            "marker": {
             "colorbar": {
              "outlinewidth": 0,
              "ticks": ""
             }
            },
            "type": "scatterpolargl"
           }
          ],
          "scatterternary": [
           {
            "marker": {
             "colorbar": {
              "outlinewidth": 0,
              "ticks": ""
             }
            },
            "type": "scatterternary"
           }
          ],
          "surface": [
           {
            "colorbar": {
             "outlinewidth": 0,
             "ticks": ""
            },
            "colorscale": [
             [
              0,
              "#0d0887"
             ],
             [
              0.1111111111111111,
              "#46039f"
             ],
             [
              0.2222222222222222,
              "#7201a8"
             ],
             [
              0.3333333333333333,
              "#9c179e"
             ],
             [
              0.4444444444444444,
              "#bd3786"
             ],
             [
              0.5555555555555556,
              "#d8576b"
             ],
             [
              0.6666666666666666,
              "#ed7953"
             ],
             [
              0.7777777777777778,
              "#fb9f3a"
             ],
             [
              0.8888888888888888,
              "#fdca26"
             ],
             [
              1,
              "#f0f921"
             ]
            ],
            "type": "surface"
           }
          ],
          "table": [
           {
            "cells": {
             "fill": {
              "color": "#EBF0F8"
             },
             "line": {
              "color": "white"
             }
            },
            "header": {
             "fill": {
              "color": "#C8D4E3"
             },
             "line": {
              "color": "white"
             }
            },
            "type": "table"
           }
          ]
         },
         "layout": {
          "annotationdefaults": {
           "arrowcolor": "#2a3f5f",
           "arrowhead": 0,
           "arrowwidth": 1
          },
          "autotypenumbers": "strict",
          "coloraxis": {
           "colorbar": {
            "outlinewidth": 0,
            "ticks": ""
           }
          },
          "colorscale": {
           "diverging": [
            [
             0,
             "#8e0152"
            ],
            [
             0.1,
             "#c51b7d"
            ],
            [
             0.2,
             "#de77ae"
            ],
            [
             0.3,
             "#f1b6da"
            ],
            [
             0.4,
             "#fde0ef"
            ],
            [
             0.5,
             "#f7f7f7"
            ],
            [
             0.6,
             "#e6f5d0"
            ],
            [
             0.7,
             "#b8e186"
            ],
            [
             0.8,
             "#7fbc41"
            ],
            [
             0.9,
             "#4d9221"
            ],
            [
             1,
             "#276419"
            ]
           ],
           "sequential": [
            [
             0,
             "#0d0887"
            ],
            [
             0.1111111111111111,
             "#46039f"
            ],
            [
             0.2222222222222222,
             "#7201a8"
            ],
            [
             0.3333333333333333,
             "#9c179e"
            ],
            [
             0.4444444444444444,
             "#bd3786"
            ],
            [
             0.5555555555555556,
             "#d8576b"
            ],
            [
             0.6666666666666666,
             "#ed7953"
            ],
            [
             0.7777777777777778,
             "#fb9f3a"
            ],
            [
             0.8888888888888888,
             "#fdca26"
            ],
            [
             1,
             "#f0f921"
            ]
           ],
           "sequentialminus": [
            [
             0,
             "#0d0887"
            ],
            [
             0.1111111111111111,
             "#46039f"
            ],
            [
             0.2222222222222222,
             "#7201a8"
            ],
            [
             0.3333333333333333,
             "#9c179e"
            ],
            [
             0.4444444444444444,
             "#bd3786"
            ],
            [
             0.5555555555555556,
             "#d8576b"
            ],
            [
             0.6666666666666666,
             "#ed7953"
            ],
            [
             0.7777777777777778,
             "#fb9f3a"
            ],
            [
             0.8888888888888888,
             "#fdca26"
            ],
            [
             1,
             "#f0f921"
            ]
           ]
          },
          "colorway": [
           "#636efa",
           "#EF553B",
           "#00cc96",
           "#ab63fa",
           "#FFA15A",
           "#19d3f3",
           "#FF6692",
           "#B6E880",
           "#FF97FF",
           "#FECB52"
          ],
          "font": {
           "color": "#2a3f5f"
          },
          "geo": {
           "bgcolor": "white",
           "lakecolor": "white",
           "landcolor": "#E5ECF6",
           "showlakes": true,
           "showland": true,
           "subunitcolor": "white"
          },
          "hoverlabel": {
           "align": "left"
          },
          "hovermode": "closest",
          "mapbox": {
           "style": "light"
          },
          "paper_bgcolor": "white",
          "plot_bgcolor": "#E5ECF6",
          "polar": {
           "angularaxis": {
            "gridcolor": "white",
            "linecolor": "white",
            "ticks": ""
           },
           "bgcolor": "#E5ECF6",
           "radialaxis": {
            "gridcolor": "white",
            "linecolor": "white",
            "ticks": ""
           }
          },
          "scene": {
           "xaxis": {
            "backgroundcolor": "#E5ECF6",
            "gridcolor": "white",
            "gridwidth": 2,
            "linecolor": "white",
            "showbackground": true,
            "ticks": "",
            "zerolinecolor": "white"
           },
           "yaxis": {
            "backgroundcolor": "#E5ECF6",
            "gridcolor": "white",
            "gridwidth": 2,
            "linecolor": "white",
            "showbackground": true,
            "ticks": "",
            "zerolinecolor": "white"
           },
           "zaxis": {
            "backgroundcolor": "#E5ECF6",
            "gridcolor": "white",
            "gridwidth": 2,
            "linecolor": "white",
            "showbackground": true,
            "ticks": "",
            "zerolinecolor": "white"
           }
          },
          "shapedefaults": {
           "line": {
            "color": "#2a3f5f"
           }
          },
          "ternary": {
           "aaxis": {
            "gridcolor": "white",
            "linecolor": "white",
            "ticks": ""
           },
           "baxis": {
            "gridcolor": "white",
            "linecolor": "white",
            "ticks": ""
           },
           "bgcolor": "#E5ECF6",
           "caxis": {
            "gridcolor": "white",
            "linecolor": "white",
            "ticks": ""
           }
          },
          "title": {
           "x": 0.05
          },
          "xaxis": {
           "automargin": true,
           "gridcolor": "white",
           "linecolor": "white",
           "ticks": "",
           "title": {
            "standoff": 15
           },
           "zerolinecolor": "white",
           "zerolinewidth": 2
          },
          "yaxis": {
           "automargin": true,
           "gridcolor": "white",
           "linecolor": "white",
           "ticks": "",
           "title": {
            "standoff": 15
           },
           "zerolinecolor": "white",
           "zerolinewidth": 2
          }
         }
        },
        "title": {
         "text": "Top 10 Countries Producing Content on Netflix (Based on First Country Listed)",
         "x": 0.5
        },
        "xaxis": {
         "anchor": "y",
         "domain": [
          0,
          1
         ],
         "tickangle": -30,
         "title": {
          "text": "Country"
         }
        },
        "yaxis": {
         "anchor": "x",
         "domain": [
          0,
          1
         ],
         "title": {
          "text": "Number of Titles"
         }
        }
       }
      },
      "text/html": [
       "<div>            <script src=\"https://cdnjs.cloudflare.com/ajax/libs/mathjax/2.7.5/MathJax.js?config=TeX-AMS-MML_SVG\"></script><script type=\"text/javascript\">if (window.MathJax && window.MathJax.Hub && window.MathJax.Hub.Config) {window.MathJax.Hub.Config({SVG: {font: \"STIX-Web\"}});}</script>                <script type=\"text/javascript\">window.PlotlyConfig = {MathJaxConfig: 'local'};</script>\n",
       "        <script charset=\"utf-8\" src=\"https://cdn.plot.ly/plotly-3.0.0.min.js\"></script>                <div id=\"8f1976b2-24e7-4953-b6ef-ae8bf5683441\" class=\"plotly-graph-div\" style=\"height:525px; width:100%;\"></div>            <script type=\"text/javascript\">                window.PLOTLYENV=window.PLOTLYENV || {};                                if (document.getElementById(\"8f1976b2-24e7-4953-b6ef-ae8bf5683441\")) {                    Plotly.newPlot(                        \"8f1976b2-24e7-4953-b6ef-ae8bf5683441\",                        [{\"hovertemplate\":\"Country=%{x}\\u003cbr\\u003eNumber of Titles=%{marker.color}\\u003cextra\\u003e\\u003c\\u002fextra\\u003e\",\"legendgroup\":\"\",\"marker\":{\"color\":{\"dtype\":\"i2\",\"bdata\":\"pwwgBH4CpAEPAQEB1gDVALYAigA=\"},\"coloraxis\":\"coloraxis\",\"pattern\":{\"shape\":\"\"}},\"name\":\"\",\"orientation\":\"v\",\"showlegend\":false,\"text\":{\"dtype\":\"f8\",\"bdata\":\"AAAAAABOqUAAAAAAAICQQAAAAAAA8INAAAAAAABAekAAAAAAAPBwQAAAAAAAEHBAAAAAAADAakAAAAAAAKBqQAAAAAAAwGZAAAAAAABAYUA=\"},\"textposition\":\"outside\",\"x\":[\"United States\",\"India\",\"United Kingdom\",\"Pakistan\",\"Canada\",\"Japan\",\"South Korea\",\"France\",\"Spain\",\"Mexico\"],\"xaxis\":\"x\",\"y\":{\"dtype\":\"i2\",\"bdata\":\"pwwgBH4CpAEPAQEB1gDVALYAigA=\"},\"yaxis\":\"y\",\"type\":\"bar\"}],                        {\"template\":{\"data\":{\"histogram2dcontour\":[{\"type\":\"histogram2dcontour\",\"colorbar\":{\"outlinewidth\":0,\"ticks\":\"\"},\"colorscale\":[[0.0,\"#0d0887\"],[0.1111111111111111,\"#46039f\"],[0.2222222222222222,\"#7201a8\"],[0.3333333333333333,\"#9c179e\"],[0.4444444444444444,\"#bd3786\"],[0.5555555555555556,\"#d8576b\"],[0.6666666666666666,\"#ed7953\"],[0.7777777777777778,\"#fb9f3a\"],[0.8888888888888888,\"#fdca26\"],[1.0,\"#f0f921\"]]}],\"choropleth\":[{\"type\":\"choropleth\",\"colorbar\":{\"outlinewidth\":0,\"ticks\":\"\"}}],\"histogram2d\":[{\"type\":\"histogram2d\",\"colorbar\":{\"outlinewidth\":0,\"ticks\":\"\"},\"colorscale\":[[0.0,\"#0d0887\"],[0.1111111111111111,\"#46039f\"],[0.2222222222222222,\"#7201a8\"],[0.3333333333333333,\"#9c179e\"],[0.4444444444444444,\"#bd3786\"],[0.5555555555555556,\"#d8576b\"],[0.6666666666666666,\"#ed7953\"],[0.7777777777777778,\"#fb9f3a\"],[0.8888888888888888,\"#fdca26\"],[1.0,\"#f0f921\"]]}],\"heatmap\":[{\"type\":\"heatmap\",\"colorbar\":{\"outlinewidth\":0,\"ticks\":\"\"},\"colorscale\":[[0.0,\"#0d0887\"],[0.1111111111111111,\"#46039f\"],[0.2222222222222222,\"#7201a8\"],[0.3333333333333333,\"#9c179e\"],[0.4444444444444444,\"#bd3786\"],[0.5555555555555556,\"#d8576b\"],[0.6666666666666666,\"#ed7953\"],[0.7777777777777778,\"#fb9f3a\"],[0.8888888888888888,\"#fdca26\"],[1.0,\"#f0f921\"]]}],\"contourcarpet\":[{\"type\":\"contourcarpet\",\"colorbar\":{\"outlinewidth\":0,\"ticks\":\"\"}}],\"contour\":[{\"type\":\"contour\",\"colorbar\":{\"outlinewidth\":0,\"ticks\":\"\"},\"colorscale\":[[0.0,\"#0d0887\"],[0.1111111111111111,\"#46039f\"],[0.2222222222222222,\"#7201a8\"],[0.3333333333333333,\"#9c179e\"],[0.4444444444444444,\"#bd3786\"],[0.5555555555555556,\"#d8576b\"],[0.6666666666666666,\"#ed7953\"],[0.7777777777777778,\"#fb9f3a\"],[0.8888888888888888,\"#fdca26\"],[1.0,\"#f0f921\"]]}],\"surface\":[{\"type\":\"surface\",\"colorbar\":{\"outlinewidth\":0,\"ticks\":\"\"},\"colorscale\":[[0.0,\"#0d0887\"],[0.1111111111111111,\"#46039f\"],[0.2222222222222222,\"#7201a8\"],[0.3333333333333333,\"#9c179e\"],[0.4444444444444444,\"#bd3786\"],[0.5555555555555556,\"#d8576b\"],[0.6666666666666666,\"#ed7953\"],[0.7777777777777778,\"#fb9f3a\"],[0.8888888888888888,\"#fdca26\"],[1.0,\"#f0f921\"]]}],\"mesh3d\":[{\"type\":\"mesh3d\",\"colorbar\":{\"outlinewidth\":0,\"ticks\":\"\"}}],\"scatter\":[{\"fillpattern\":{\"fillmode\":\"overlay\",\"size\":10,\"solidity\":0.2},\"type\":\"scatter\"}],\"parcoords\":[{\"type\":\"parcoords\",\"line\":{\"colorbar\":{\"outlinewidth\":0,\"ticks\":\"\"}}}],\"scatterpolargl\":[{\"type\":\"scatterpolargl\",\"marker\":{\"colorbar\":{\"outlinewidth\":0,\"ticks\":\"\"}}}],\"bar\":[{\"error_x\":{\"color\":\"#2a3f5f\"},\"error_y\":{\"color\":\"#2a3f5f\"},\"marker\":{\"line\":{\"color\":\"#E5ECF6\",\"width\":0.5},\"pattern\":{\"fillmode\":\"overlay\",\"size\":10,\"solidity\":0.2}},\"type\":\"bar\"}],\"scattergeo\":[{\"type\":\"scattergeo\",\"marker\":{\"colorbar\":{\"outlinewidth\":0,\"ticks\":\"\"}}}],\"scatterpolar\":[{\"type\":\"scatterpolar\",\"marker\":{\"colorbar\":{\"outlinewidth\":0,\"ticks\":\"\"}}}],\"histogram\":[{\"marker\":{\"pattern\":{\"fillmode\":\"overlay\",\"size\":10,\"solidity\":0.2}},\"type\":\"histogram\"}],\"scattergl\":[{\"type\":\"scattergl\",\"marker\":{\"colorbar\":{\"outlinewidth\":0,\"ticks\":\"\"}}}],\"scatter3d\":[{\"type\":\"scatter3d\",\"line\":{\"colorbar\":{\"outlinewidth\":0,\"ticks\":\"\"}},\"marker\":{\"colorbar\":{\"outlinewidth\":0,\"ticks\":\"\"}}}],\"scattermap\":[{\"type\":\"scattermap\",\"marker\":{\"colorbar\":{\"outlinewidth\":0,\"ticks\":\"\"}}}],\"scattermapbox\":[{\"type\":\"scattermapbox\",\"marker\":{\"colorbar\":{\"outlinewidth\":0,\"ticks\":\"\"}}}],\"scatterternary\":[{\"type\":\"scatterternary\",\"marker\":{\"colorbar\":{\"outlinewidth\":0,\"ticks\":\"\"}}}],\"scattercarpet\":[{\"type\":\"scattercarpet\",\"marker\":{\"colorbar\":{\"outlinewidth\":0,\"ticks\":\"\"}}}],\"carpet\":[{\"aaxis\":{\"endlinecolor\":\"#2a3f5f\",\"gridcolor\":\"white\",\"linecolor\":\"white\",\"minorgridcolor\":\"white\",\"startlinecolor\":\"#2a3f5f\"},\"baxis\":{\"endlinecolor\":\"#2a3f5f\",\"gridcolor\":\"white\",\"linecolor\":\"white\",\"minorgridcolor\":\"white\",\"startlinecolor\":\"#2a3f5f\"},\"type\":\"carpet\"}],\"table\":[{\"cells\":{\"fill\":{\"color\":\"#EBF0F8\"},\"line\":{\"color\":\"white\"}},\"header\":{\"fill\":{\"color\":\"#C8D4E3\"},\"line\":{\"color\":\"white\"}},\"type\":\"table\"}],\"barpolar\":[{\"marker\":{\"line\":{\"color\":\"#E5ECF6\",\"width\":0.5},\"pattern\":{\"fillmode\":\"overlay\",\"size\":10,\"solidity\":0.2}},\"type\":\"barpolar\"}],\"pie\":[{\"automargin\":true,\"type\":\"pie\"}]},\"layout\":{\"autotypenumbers\":\"strict\",\"colorway\":[\"#636efa\",\"#EF553B\",\"#00cc96\",\"#ab63fa\",\"#FFA15A\",\"#19d3f3\",\"#FF6692\",\"#B6E880\",\"#FF97FF\",\"#FECB52\"],\"font\":{\"color\":\"#2a3f5f\"},\"hovermode\":\"closest\",\"hoverlabel\":{\"align\":\"left\"},\"paper_bgcolor\":\"white\",\"plot_bgcolor\":\"#E5ECF6\",\"polar\":{\"bgcolor\":\"#E5ECF6\",\"angularaxis\":{\"gridcolor\":\"white\",\"linecolor\":\"white\",\"ticks\":\"\"},\"radialaxis\":{\"gridcolor\":\"white\",\"linecolor\":\"white\",\"ticks\":\"\"}},\"ternary\":{\"bgcolor\":\"#E5ECF6\",\"aaxis\":{\"gridcolor\":\"white\",\"linecolor\":\"white\",\"ticks\":\"\"},\"baxis\":{\"gridcolor\":\"white\",\"linecolor\":\"white\",\"ticks\":\"\"},\"caxis\":{\"gridcolor\":\"white\",\"linecolor\":\"white\",\"ticks\":\"\"}},\"coloraxis\":{\"colorbar\":{\"outlinewidth\":0,\"ticks\":\"\"}},\"colorscale\":{\"sequential\":[[0.0,\"#0d0887\"],[0.1111111111111111,\"#46039f\"],[0.2222222222222222,\"#7201a8\"],[0.3333333333333333,\"#9c179e\"],[0.4444444444444444,\"#bd3786\"],[0.5555555555555556,\"#d8576b\"],[0.6666666666666666,\"#ed7953\"],[0.7777777777777778,\"#fb9f3a\"],[0.8888888888888888,\"#fdca26\"],[1.0,\"#f0f921\"]],\"sequentialminus\":[[0.0,\"#0d0887\"],[0.1111111111111111,\"#46039f\"],[0.2222222222222222,\"#7201a8\"],[0.3333333333333333,\"#9c179e\"],[0.4444444444444444,\"#bd3786\"],[0.5555555555555556,\"#d8576b\"],[0.6666666666666666,\"#ed7953\"],[0.7777777777777778,\"#fb9f3a\"],[0.8888888888888888,\"#fdca26\"],[1.0,\"#f0f921\"]],\"diverging\":[[0,\"#8e0152\"],[0.1,\"#c51b7d\"],[0.2,\"#de77ae\"],[0.3,\"#f1b6da\"],[0.4,\"#fde0ef\"],[0.5,\"#f7f7f7\"],[0.6,\"#e6f5d0\"],[0.7,\"#b8e186\"],[0.8,\"#7fbc41\"],[0.9,\"#4d9221\"],[1,\"#276419\"]]},\"xaxis\":{\"gridcolor\":\"white\",\"linecolor\":\"white\",\"ticks\":\"\",\"title\":{\"standoff\":15},\"zerolinecolor\":\"white\",\"automargin\":true,\"zerolinewidth\":2},\"yaxis\":{\"gridcolor\":\"white\",\"linecolor\":\"white\",\"ticks\":\"\",\"title\":{\"standoff\":15},\"zerolinecolor\":\"white\",\"automargin\":true,\"zerolinewidth\":2},\"scene\":{\"xaxis\":{\"backgroundcolor\":\"#E5ECF6\",\"gridcolor\":\"white\",\"linecolor\":\"white\",\"showbackground\":true,\"ticks\":\"\",\"zerolinecolor\":\"white\",\"gridwidth\":2},\"yaxis\":{\"backgroundcolor\":\"#E5ECF6\",\"gridcolor\":\"white\",\"linecolor\":\"white\",\"showbackground\":true,\"ticks\":\"\",\"zerolinecolor\":\"white\",\"gridwidth\":2},\"zaxis\":{\"backgroundcolor\":\"#E5ECF6\",\"gridcolor\":\"white\",\"linecolor\":\"white\",\"showbackground\":true,\"ticks\":\"\",\"zerolinecolor\":\"white\",\"gridwidth\":2}},\"shapedefaults\":{\"line\":{\"color\":\"#2a3f5f\"}},\"annotationdefaults\":{\"arrowcolor\":\"#2a3f5f\",\"arrowhead\":0,\"arrowwidth\":1},\"geo\":{\"bgcolor\":\"white\",\"landcolor\":\"#E5ECF6\",\"subunitcolor\":\"white\",\"showland\":true,\"showlakes\":true,\"lakecolor\":\"white\"},\"title\":{\"x\":0.05},\"mapbox\":{\"style\":\"light\"}}},\"xaxis\":{\"anchor\":\"y\",\"domain\":[0.0,1.0],\"title\":{\"text\":\"Country\"},\"tickangle\":-30},\"yaxis\":{\"anchor\":\"x\",\"domain\":[0.0,1.0],\"title\":{\"text\":\"Number of Titles\"}},\"coloraxis\":{\"colorbar\":{\"title\":{\"text\":\"Number of Titles\"}},\"colorscale\":[[0.0,\"rgb(247,251,255)\"],[0.125,\"rgb(222,235,247)\"],[0.25,\"rgb(198,219,239)\"],[0.375,\"rgb(158,202,225)\"],[0.5,\"rgb(107,174,214)\"],[0.625,\"rgb(66,146,198)\"],[0.75,\"rgb(33,113,181)\"],[0.875,\"rgb(8,81,156)\"],[1.0,\"rgb(8,48,107)\"]]},\"legend\":{\"tracegroupgap\":0},\"title\":{\"text\":\"Top 10 Countries Producing Content on Netflix (Based on First Country Listed)\",\"x\":0.5},\"barmode\":\"relative\"},                        {\"responsive\": true}                    ).then(function(){\n",
       "                            \n",
       "var gd = document.getElementById('8f1976b2-24e7-4953-b6ef-ae8bf5683441');\n",
       "var x = new MutationObserver(function (mutations, observer) {{\n",
       "        var display = window.getComputedStyle(gd).display;\n",
       "        if (!display || display === 'none') {{\n",
       "            console.log([gd, 'removed!']);\n",
       "            Plotly.purge(gd);\n",
       "            observer.disconnect();\n",
       "        }}\n",
       "}});\n",
       "\n",
       "// Listen for the removal of the full notebook cells\n",
       "var notebookContainer = gd.closest('#notebook-container');\n",
       "if (notebookContainer) {{\n",
       "    x.observe(notebookContainer, {childList: true});\n",
       "}}\n",
       "\n",
       "// Listen for the clearing of the current output cell\n",
       "var outputEl = gd.closest('.output');\n",
       "if (outputEl) {{\n",
       "    x.observe(outputEl, {childList: true});\n",
       "}}\n",
       "\n",
       "                        })                };            </script>        </div>"
      ]
     },
     "metadata": {},
     "output_type": "display_data"
    }
   ],
   "source": [
    "country_counts = df['country'].dropna().apply(lambda x: x.split(',')[0].strip()).value_counts()\n",
    "\n",
    "top_10_countries = country_counts.head(10).reset_index()\n",
    "top_10_countries.columns = ['country', 'count']\n",
    "\n",
    "fig_countries = px.bar(\n",
    "    top_10_countries,\n",
    "    x='country',\n",
    "    y='count',\n",
    "    title='Top 10 Countries Producing Content on Netflix (Based on First Country Listed)',\n",
    "    labels={'count': 'Number of Titles', 'country': 'Country'},\n",
    "    text='count',\n",
    "    color='count',\n",
    "    color_continuous_scale=px.colors.sequential.Blues\n",
    ")\n",
    "\n",
    "fig_countries.update_layout(\n",
    "    xaxis_title=\"Country\",\n",
    "    yaxis_title=\"Number of Titles\",\n",
    "    title_x=0.5,\n",
    "    xaxis_tickangle=-30\n",
    ")\n",
    "fig_countries.update_traces(textposition='outside')\n",
    "\n",
    "fig_countries.show()"
   ]
  },
  {
   "cell_type": "markdown",
   "metadata": {},
   "source": [
    "### Content Release Over the Years (Based on 'release_year')"
   ]
  },
  {
   "cell_type": "code",
   "execution_count": 24,
   "metadata": {},
   "outputs": [
    {
     "data": {
      "application/vnd.plotly.v1+json": {
       "config": {
        "plotlyServerURL": "https://plot.ly"
       },
       "data": [
        {
         "hovertemplate": "Release Year=%{x}<br>Number of Titles Added=%{y}<extra></extra>",
         "legendgroup": "",
         "line": {
          "color": "#636efa",
          "dash": "solid"
         },
         "marker": {
          "symbol": "circle"
         },
         "mode": "lines+markers",
         "name": "",
         "orientation": "v",
         "showlegend": false,
         "type": "scatter",
         "x": {
          "bdata": "hQeWB5cHmAeZB5oHmweiB6MHpAemB6cHqAepB6oHqwesB60HrgevB7AHsQeyB7MHtAe1B7YHtwe4B7kHuge7B7wHvQe+B78HwAfBB8IHwwfEB8UHxgfHB8gHyQfKB8sHzAfNB84HzwfQB9EH0gfTB9QH1QfWB9cH2AfZB9oH2wfcB90H3gffB+AH4QfiB+MH5AflBw==",
          "dtype": "i2"
         },
         "xaxis": "x",
         "y": {
          "bdata": "AQACAAMAAwAEAAIAAQACAAMAAgADAAEABAABAAMAAgACAAIAAQAFAAMAAgACAAUABQAKAAcABwAJAAcABwALAAsADQARAAsADAAJAA0ACAASABAAFgARABcAHAAWABkAGAAmACQAJwAlAC0AMwA6AEAAUABfAFgAhwCYAL8AuQDsAB4BXwErAoUDBgR3BAUEuQNQAg==",
          "dtype": "i2"
         },
         "yaxis": "y"
        }
       ],
       "layout": {
        "legend": {
         "tracegroupgap": 0
        },
        "template": {
         "data": {
          "bar": [
           {
            "error_x": {
             "color": "#2a3f5f"
            },
            "error_y": {
             "color": "#2a3f5f"
            },
            "marker": {
             "line": {
              "color": "#E5ECF6",
              "width": 0.5
             },
             "pattern": {
              "fillmode": "overlay",
              "size": 10,
              "solidity": 0.2
             }
            },
            "type": "bar"
           }
          ],
          "barpolar": [
           {
            "marker": {
             "line": {
              "color": "#E5ECF6",
              "width": 0.5
             },
             "pattern": {
              "fillmode": "overlay",
              "size": 10,
              "solidity": 0.2
             }
            },
            "type": "barpolar"
           }
          ],
          "carpet": [
           {
            "aaxis": {
             "endlinecolor": "#2a3f5f",
             "gridcolor": "white",
             "linecolor": "white",
             "minorgridcolor": "white",
             "startlinecolor": "#2a3f5f"
            },
            "baxis": {
             "endlinecolor": "#2a3f5f",
             "gridcolor": "white",
             "linecolor": "white",
             "minorgridcolor": "white",
             "startlinecolor": "#2a3f5f"
            },
            "type": "carpet"
           }
          ],
          "choropleth": [
           {
            "colorbar": {
             "outlinewidth": 0,
             "ticks": ""
            },
            "type": "choropleth"
           }
          ],
          "contour": [
           {
            "colorbar": {
             "outlinewidth": 0,
             "ticks": ""
            },
            "colorscale": [
             [
              0,
              "#0d0887"
             ],
             [
              0.1111111111111111,
              "#46039f"
             ],
             [
              0.2222222222222222,
              "#7201a8"
             ],
             [
              0.3333333333333333,
              "#9c179e"
             ],
             [
              0.4444444444444444,
              "#bd3786"
             ],
             [
              0.5555555555555556,
              "#d8576b"
             ],
             [
              0.6666666666666666,
              "#ed7953"
             ],
             [
              0.7777777777777778,
              "#fb9f3a"
             ],
             [
              0.8888888888888888,
              "#fdca26"
             ],
             [
              1,
              "#f0f921"
             ]
            ],
            "type": "contour"
           }
          ],
          "contourcarpet": [
           {
            "colorbar": {
             "outlinewidth": 0,
             "ticks": ""
            },
            "type": "contourcarpet"
           }
          ],
          "heatmap": [
           {
            "colorbar": {
             "outlinewidth": 0,
             "ticks": ""
            },
            "colorscale": [
             [
              0,
              "#0d0887"
             ],
             [
              0.1111111111111111,
              "#46039f"
             ],
             [
              0.2222222222222222,
              "#7201a8"
             ],
             [
              0.3333333333333333,
              "#9c179e"
             ],
             [
              0.4444444444444444,
              "#bd3786"
             ],
             [
              0.5555555555555556,
              "#d8576b"
             ],
             [
              0.6666666666666666,
              "#ed7953"
             ],
             [
              0.7777777777777778,
              "#fb9f3a"
             ],
             [
              0.8888888888888888,
              "#fdca26"
             ],
             [
              1,
              "#f0f921"
             ]
            ],
            "type": "heatmap"
           }
          ],
          "histogram": [
           {
            "marker": {
             "pattern": {
              "fillmode": "overlay",
              "size": 10,
              "solidity": 0.2
             }
            },
            "type": "histogram"
           }
          ],
          "histogram2d": [
           {
            "colorbar": {
             "outlinewidth": 0,
             "ticks": ""
            },
            "colorscale": [
             [
              0,
              "#0d0887"
             ],
             [
              0.1111111111111111,
              "#46039f"
             ],
             [
              0.2222222222222222,
              "#7201a8"
             ],
             [
              0.3333333333333333,
              "#9c179e"
             ],
             [
              0.4444444444444444,
              "#bd3786"
             ],
             [
              0.5555555555555556,
              "#d8576b"
             ],
             [
              0.6666666666666666,
              "#ed7953"
             ],
             [
              0.7777777777777778,
              "#fb9f3a"
             ],
             [
              0.8888888888888888,
              "#fdca26"
             ],
             [
              1,
              "#f0f921"
             ]
            ],
            "type": "histogram2d"
           }
          ],
          "histogram2dcontour": [
           {
            "colorbar": {
             "outlinewidth": 0,
             "ticks": ""
            },
            "colorscale": [
             [
              0,
              "#0d0887"
             ],
             [
              0.1111111111111111,
              "#46039f"
             ],
             [
              0.2222222222222222,
              "#7201a8"
             ],
             [
              0.3333333333333333,
              "#9c179e"
             ],
             [
              0.4444444444444444,
              "#bd3786"
             ],
             [
              0.5555555555555556,
              "#d8576b"
             ],
             [
              0.6666666666666666,
              "#ed7953"
             ],
             [
              0.7777777777777778,
              "#fb9f3a"
             ],
             [
              0.8888888888888888,
              "#fdca26"
             ],
             [
              1,
              "#f0f921"
             ]
            ],
            "type": "histogram2dcontour"
           }
          ],
          "mesh3d": [
           {
            "colorbar": {
             "outlinewidth": 0,
             "ticks": ""
            },
            "type": "mesh3d"
           }
          ],
          "parcoords": [
           {
            "line": {
             "colorbar": {
              "outlinewidth": 0,
              "ticks": ""
             }
            },
            "type": "parcoords"
           }
          ],
          "pie": [
           {
            "automargin": true,
            "type": "pie"
           }
          ],
          "scatter": [
           {
            "fillpattern": {
             "fillmode": "overlay",
             "size": 10,
             "solidity": 0.2
            },
            "type": "scatter"
           }
          ],
          "scatter3d": [
           {
            "line": {
             "colorbar": {
              "outlinewidth": 0,
              "ticks": ""
             }
            },
            "marker": {
             "colorbar": {
              "outlinewidth": 0,
              "ticks": ""
             }
            },
            "type": "scatter3d"
           }
          ],
          "scattercarpet": [
           {
            "marker": {
             "colorbar": {
              "outlinewidth": 0,
              "ticks": ""
             }
            },
            "type": "scattercarpet"
           }
          ],
          "scattergeo": [
           {
            "marker": {
             "colorbar": {
              "outlinewidth": 0,
              "ticks": ""
             }
            },
            "type": "scattergeo"
           }
          ],
          "scattergl": [
           {
            "marker": {
             "colorbar": {
              "outlinewidth": 0,
              "ticks": ""
             }
            },
            "type": "scattergl"
           }
          ],
          "scattermap": [
           {
            "marker": {
             "colorbar": {
              "outlinewidth": 0,
              "ticks": ""
             }
            },
            "type": "scattermap"
           }
          ],
          "scattermapbox": [
           {
            "marker": {
             "colorbar": {
              "outlinewidth": 0,
              "ticks": ""
             }
            },
            "type": "scattermapbox"
           }
          ],
          "scatterpolar": [
           {
            "marker": {
             "colorbar": {
              "outlinewidth": 0,
              "ticks": ""
             }
            },
            "type": "scatterpolar"
           }
          ],
          "scatterpolargl": [
           {
            "marker": {
             "colorbar": {
              "outlinewidth": 0,
              "ticks": ""
             }
            },
            "type": "scatterpolargl"
           }
          ],
          "scatterternary": [
           {
            "marker": {
             "colorbar": {
              "outlinewidth": 0,
              "ticks": ""
             }
            },
            "type": "scatterternary"
           }
          ],
          "surface": [
           {
            "colorbar": {
             "outlinewidth": 0,
             "ticks": ""
            },
            "colorscale": [
             [
              0,
              "#0d0887"
             ],
             [
              0.1111111111111111,
              "#46039f"
             ],
             [
              0.2222222222222222,
              "#7201a8"
             ],
             [
              0.3333333333333333,
              "#9c179e"
             ],
             [
              0.4444444444444444,
              "#bd3786"
             ],
             [
              0.5555555555555556,
              "#d8576b"
             ],
             [
              0.6666666666666666,
              "#ed7953"
             ],
             [
              0.7777777777777778,
              "#fb9f3a"
             ],
             [
              0.8888888888888888,
              "#fdca26"
             ],
             [
              1,
              "#f0f921"
             ]
            ],
            "type": "surface"
           }
          ],
          "table": [
           {
            "cells": {
             "fill": {
              "color": "#EBF0F8"
             },
             "line": {
              "color": "white"
             }
            },
            "header": {
             "fill": {
              "color": "#C8D4E3"
             },
             "line": {
              "color": "white"
             }
            },
            "type": "table"
           }
          ]
         },
         "layout": {
          "annotationdefaults": {
           "arrowcolor": "#2a3f5f",
           "arrowhead": 0,
           "arrowwidth": 1
          },
          "autotypenumbers": "strict",
          "coloraxis": {
           "colorbar": {
            "outlinewidth": 0,
            "ticks": ""
           }
          },
          "colorscale": {
           "diverging": [
            [
             0,
             "#8e0152"
            ],
            [
             0.1,
             "#c51b7d"
            ],
            [
             0.2,
             "#de77ae"
            ],
            [
             0.3,
             "#f1b6da"
            ],
            [
             0.4,
             "#fde0ef"
            ],
            [
             0.5,
             "#f7f7f7"
            ],
            [
             0.6,
             "#e6f5d0"
            ],
            [
             0.7,
             "#b8e186"
            ],
            [
             0.8,
             "#7fbc41"
            ],
            [
             0.9,
             "#4d9221"
            ],
            [
             1,
             "#276419"
            ]
           ],
           "sequential": [
            [
             0,
             "#0d0887"
            ],
            [
             0.1111111111111111,
             "#46039f"
            ],
            [
             0.2222222222222222,
             "#7201a8"
            ],
            [
             0.3333333333333333,
             "#9c179e"
            ],
            [
             0.4444444444444444,
             "#bd3786"
            ],
            [
             0.5555555555555556,
             "#d8576b"
            ],
            [
             0.6666666666666666,
             "#ed7953"
            ],
            [
             0.7777777777777778,
             "#fb9f3a"
            ],
            [
             0.8888888888888888,
             "#fdca26"
            ],
            [
             1,
             "#f0f921"
            ]
           ],
           "sequentialminus": [
            [
             0,
             "#0d0887"
            ],
            [
             0.1111111111111111,
             "#46039f"
            ],
            [
             0.2222222222222222,
             "#7201a8"
            ],
            [
             0.3333333333333333,
             "#9c179e"
            ],
            [
             0.4444444444444444,
             "#bd3786"
            ],
            [
             0.5555555555555556,
             "#d8576b"
            ],
            [
             0.6666666666666666,
             "#ed7953"
            ],
            [
             0.7777777777777778,
             "#fb9f3a"
            ],
            [
             0.8888888888888888,
             "#fdca26"
            ],
            [
             1,
             "#f0f921"
            ]
           ]
          },
          "colorway": [
           "#636efa",
           "#EF553B",
           "#00cc96",
           "#ab63fa",
           "#FFA15A",
           "#19d3f3",
           "#FF6692",
           "#B6E880",
           "#FF97FF",
           "#FECB52"
          ],
          "font": {
           "color": "#2a3f5f"
          },
          "geo": {
           "bgcolor": "white",
           "lakecolor": "white",
           "landcolor": "#E5ECF6",
           "showlakes": true,
           "showland": true,
           "subunitcolor": "white"
          },
          "hoverlabel": {
           "align": "left"
          },
          "hovermode": "closest",
          "mapbox": {
           "style": "light"
          },
          "paper_bgcolor": "white",
          "plot_bgcolor": "#E5ECF6",
          "polar": {
           "angularaxis": {
            "gridcolor": "white",
            "linecolor": "white",
            "ticks": ""
           },
           "bgcolor": "#E5ECF6",
           "radialaxis": {
            "gridcolor": "white",
            "linecolor": "white",
            "ticks": ""
           }
          },
          "scene": {
           "xaxis": {
            "backgroundcolor": "#E5ECF6",
            "gridcolor": "white",
            "gridwidth": 2,
            "linecolor": "white",
            "showbackground": true,
            "ticks": "",
            "zerolinecolor": "white"
           },
           "yaxis": {
            "backgroundcolor": "#E5ECF6",
            "gridcolor": "white",
            "gridwidth": 2,
            "linecolor": "white",
            "showbackground": true,
            "ticks": "",
            "zerolinecolor": "white"
           },
           "zaxis": {
            "backgroundcolor": "#E5ECF6",
            "gridcolor": "white",
            "gridwidth": 2,
            "linecolor": "white",
            "showbackground": true,
            "ticks": "",
            "zerolinecolor": "white"
           }
          },
          "shapedefaults": {
           "line": {
            "color": "#2a3f5f"
           }
          },
          "ternary": {
           "aaxis": {
            "gridcolor": "white",
            "linecolor": "white",
            "ticks": ""
           },
           "baxis": {
            "gridcolor": "white",
            "linecolor": "white",
            "ticks": ""
           },
           "bgcolor": "#E5ECF6",
           "caxis": {
            "gridcolor": "white",
            "linecolor": "white",
            "ticks": ""
           }
          },
          "title": {
           "x": 0.05
          },
          "xaxis": {
           "automargin": true,
           "gridcolor": "white",
           "linecolor": "white",
           "ticks": "",
           "title": {
            "standoff": 15
           },
           "zerolinecolor": "white",
           "zerolinewidth": 2
          },
          "yaxis": {
           "automargin": true,
           "gridcolor": "white",
           "linecolor": "white",
           "ticks": "",
           "title": {
            "standoff": 15
           },
           "zerolinecolor": "white",
           "zerolinewidth": 2
          }
         }
        },
        "title": {
         "text": "Netflix Content Release Trend Over the Years",
         "x": 0.5
        },
        "xaxis": {
         "anchor": "y",
         "domain": [
          0,
          1
         ],
         "title": {
          "text": "Release Year"
         }
        },
        "yaxis": {
         "anchor": "x",
         "domain": [
          0,
          1
         ],
         "title": {
          "text": "Number of Titles Released"
         }
        }
       }
      },
      "text/html": [
       "<div>            <script src=\"https://cdnjs.cloudflare.com/ajax/libs/mathjax/2.7.5/MathJax.js?config=TeX-AMS-MML_SVG\"></script><script type=\"text/javascript\">if (window.MathJax && window.MathJax.Hub && window.MathJax.Hub.Config) {window.MathJax.Hub.Config({SVG: {font: \"STIX-Web\"}});}</script>                <script type=\"text/javascript\">window.PlotlyConfig = {MathJaxConfig: 'local'};</script>\n",
       "        <script charset=\"utf-8\" src=\"https://cdn.plot.ly/plotly-3.0.0.min.js\"></script>                <div id=\"db786d5d-b43f-469a-87ea-306f2ce06f14\" class=\"plotly-graph-div\" style=\"height:525px; width:100%;\"></div>            <script type=\"text/javascript\">                window.PLOTLYENV=window.PLOTLYENV || {};                                if (document.getElementById(\"db786d5d-b43f-469a-87ea-306f2ce06f14\")) {                    Plotly.newPlot(                        \"db786d5d-b43f-469a-87ea-306f2ce06f14\",                        [{\"hovertemplate\":\"Release Year=%{x}\\u003cbr\\u003eNumber of Titles Added=%{y}\\u003cextra\\u003e\\u003c\\u002fextra\\u003e\",\"legendgroup\":\"\",\"line\":{\"color\":\"#636efa\",\"dash\":\"solid\"},\"marker\":{\"symbol\":\"circle\"},\"mode\":\"lines+markers\",\"name\":\"\",\"orientation\":\"v\",\"showlegend\":false,\"x\":{\"dtype\":\"i2\",\"bdata\":\"hQeWB5cHmAeZB5oHmweiB6MHpAemB6cHqAepB6oHqwesB60HrgevB7AHsQeyB7MHtAe1B7YHtwe4B7kHuge7B7wHvQe+B78HwAfBB8IHwwfEB8UHxgfHB8gHyQfKB8sHzAfNB84HzwfQB9EH0gfTB9QH1QfWB9cH2AfZB9oH2wfcB90H3gffB+AH4QfiB+MH5AflBw==\"},\"xaxis\":\"x\",\"y\":{\"dtype\":\"i2\",\"bdata\":\"AQACAAMAAwAEAAIAAQACAAMAAgADAAEABAABAAMAAgACAAIAAQAFAAMAAgACAAUABQAKAAcABwAJAAcABwALAAsADQARAAsADAAJAA0ACAASABAAFgARABcAHAAWABkAGAAmACQAJwAlAC0AMwA6AEAAUABfAFgAhwCYAL8AuQDsAB4BXwErAoUDBgR3BAUEuQNQAg==\"},\"yaxis\":\"y\",\"type\":\"scatter\"}],                        {\"template\":{\"data\":{\"histogram2dcontour\":[{\"type\":\"histogram2dcontour\",\"colorbar\":{\"outlinewidth\":0,\"ticks\":\"\"},\"colorscale\":[[0.0,\"#0d0887\"],[0.1111111111111111,\"#46039f\"],[0.2222222222222222,\"#7201a8\"],[0.3333333333333333,\"#9c179e\"],[0.4444444444444444,\"#bd3786\"],[0.5555555555555556,\"#d8576b\"],[0.6666666666666666,\"#ed7953\"],[0.7777777777777778,\"#fb9f3a\"],[0.8888888888888888,\"#fdca26\"],[1.0,\"#f0f921\"]]}],\"choropleth\":[{\"type\":\"choropleth\",\"colorbar\":{\"outlinewidth\":0,\"ticks\":\"\"}}],\"histogram2d\":[{\"type\":\"histogram2d\",\"colorbar\":{\"outlinewidth\":0,\"ticks\":\"\"},\"colorscale\":[[0.0,\"#0d0887\"],[0.1111111111111111,\"#46039f\"],[0.2222222222222222,\"#7201a8\"],[0.3333333333333333,\"#9c179e\"],[0.4444444444444444,\"#bd3786\"],[0.5555555555555556,\"#d8576b\"],[0.6666666666666666,\"#ed7953\"],[0.7777777777777778,\"#fb9f3a\"],[0.8888888888888888,\"#fdca26\"],[1.0,\"#f0f921\"]]}],\"heatmap\":[{\"type\":\"heatmap\",\"colorbar\":{\"outlinewidth\":0,\"ticks\":\"\"},\"colorscale\":[[0.0,\"#0d0887\"],[0.1111111111111111,\"#46039f\"],[0.2222222222222222,\"#7201a8\"],[0.3333333333333333,\"#9c179e\"],[0.4444444444444444,\"#bd3786\"],[0.5555555555555556,\"#d8576b\"],[0.6666666666666666,\"#ed7953\"],[0.7777777777777778,\"#fb9f3a\"],[0.8888888888888888,\"#fdca26\"],[1.0,\"#f0f921\"]]}],\"contourcarpet\":[{\"type\":\"contourcarpet\",\"colorbar\":{\"outlinewidth\":0,\"ticks\":\"\"}}],\"contour\":[{\"type\":\"contour\",\"colorbar\":{\"outlinewidth\":0,\"ticks\":\"\"},\"colorscale\":[[0.0,\"#0d0887\"],[0.1111111111111111,\"#46039f\"],[0.2222222222222222,\"#7201a8\"],[0.3333333333333333,\"#9c179e\"],[0.4444444444444444,\"#bd3786\"],[0.5555555555555556,\"#d8576b\"],[0.6666666666666666,\"#ed7953\"],[0.7777777777777778,\"#fb9f3a\"],[0.8888888888888888,\"#fdca26\"],[1.0,\"#f0f921\"]]}],\"surface\":[{\"type\":\"surface\",\"colorbar\":{\"outlinewidth\":0,\"ticks\":\"\"},\"colorscale\":[[0.0,\"#0d0887\"],[0.1111111111111111,\"#46039f\"],[0.2222222222222222,\"#7201a8\"],[0.3333333333333333,\"#9c179e\"],[0.4444444444444444,\"#bd3786\"],[0.5555555555555556,\"#d8576b\"],[0.6666666666666666,\"#ed7953\"],[0.7777777777777778,\"#fb9f3a\"],[0.8888888888888888,\"#fdca26\"],[1.0,\"#f0f921\"]]}],\"mesh3d\":[{\"type\":\"mesh3d\",\"colorbar\":{\"outlinewidth\":0,\"ticks\":\"\"}}],\"scatter\":[{\"fillpattern\":{\"fillmode\":\"overlay\",\"size\":10,\"solidity\":0.2},\"type\":\"scatter\"}],\"parcoords\":[{\"type\":\"parcoords\",\"line\":{\"colorbar\":{\"outlinewidth\":0,\"ticks\":\"\"}}}],\"scatterpolargl\":[{\"type\":\"scatterpolargl\",\"marker\":{\"colorbar\":{\"outlinewidth\":0,\"ticks\":\"\"}}}],\"bar\":[{\"error_x\":{\"color\":\"#2a3f5f\"},\"error_y\":{\"color\":\"#2a3f5f\"},\"marker\":{\"line\":{\"color\":\"#E5ECF6\",\"width\":0.5},\"pattern\":{\"fillmode\":\"overlay\",\"size\":10,\"solidity\":0.2}},\"type\":\"bar\"}],\"scattergeo\":[{\"type\":\"scattergeo\",\"marker\":{\"colorbar\":{\"outlinewidth\":0,\"ticks\":\"\"}}}],\"scatterpolar\":[{\"type\":\"scatterpolar\",\"marker\":{\"colorbar\":{\"outlinewidth\":0,\"ticks\":\"\"}}}],\"histogram\":[{\"marker\":{\"pattern\":{\"fillmode\":\"overlay\",\"size\":10,\"solidity\":0.2}},\"type\":\"histogram\"}],\"scattergl\":[{\"type\":\"scattergl\",\"marker\":{\"colorbar\":{\"outlinewidth\":0,\"ticks\":\"\"}}}],\"scatter3d\":[{\"type\":\"scatter3d\",\"line\":{\"colorbar\":{\"outlinewidth\":0,\"ticks\":\"\"}},\"marker\":{\"colorbar\":{\"outlinewidth\":0,\"ticks\":\"\"}}}],\"scattermap\":[{\"type\":\"scattermap\",\"marker\":{\"colorbar\":{\"outlinewidth\":0,\"ticks\":\"\"}}}],\"scattermapbox\":[{\"type\":\"scattermapbox\",\"marker\":{\"colorbar\":{\"outlinewidth\":0,\"ticks\":\"\"}}}],\"scatterternary\":[{\"type\":\"scatterternary\",\"marker\":{\"colorbar\":{\"outlinewidth\":0,\"ticks\":\"\"}}}],\"scattercarpet\":[{\"type\":\"scattercarpet\",\"marker\":{\"colorbar\":{\"outlinewidth\":0,\"ticks\":\"\"}}}],\"carpet\":[{\"aaxis\":{\"endlinecolor\":\"#2a3f5f\",\"gridcolor\":\"white\",\"linecolor\":\"white\",\"minorgridcolor\":\"white\",\"startlinecolor\":\"#2a3f5f\"},\"baxis\":{\"endlinecolor\":\"#2a3f5f\",\"gridcolor\":\"white\",\"linecolor\":\"white\",\"minorgridcolor\":\"white\",\"startlinecolor\":\"#2a3f5f\"},\"type\":\"carpet\"}],\"table\":[{\"cells\":{\"fill\":{\"color\":\"#EBF0F8\"},\"line\":{\"color\":\"white\"}},\"header\":{\"fill\":{\"color\":\"#C8D4E3\"},\"line\":{\"color\":\"white\"}},\"type\":\"table\"}],\"barpolar\":[{\"marker\":{\"line\":{\"color\":\"#E5ECF6\",\"width\":0.5},\"pattern\":{\"fillmode\":\"overlay\",\"size\":10,\"solidity\":0.2}},\"type\":\"barpolar\"}],\"pie\":[{\"automargin\":true,\"type\":\"pie\"}]},\"layout\":{\"autotypenumbers\":\"strict\",\"colorway\":[\"#636efa\",\"#EF553B\",\"#00cc96\",\"#ab63fa\",\"#FFA15A\",\"#19d3f3\",\"#FF6692\",\"#B6E880\",\"#FF97FF\",\"#FECB52\"],\"font\":{\"color\":\"#2a3f5f\"},\"hovermode\":\"closest\",\"hoverlabel\":{\"align\":\"left\"},\"paper_bgcolor\":\"white\",\"plot_bgcolor\":\"#E5ECF6\",\"polar\":{\"bgcolor\":\"#E5ECF6\",\"angularaxis\":{\"gridcolor\":\"white\",\"linecolor\":\"white\",\"ticks\":\"\"},\"radialaxis\":{\"gridcolor\":\"white\",\"linecolor\":\"white\",\"ticks\":\"\"}},\"ternary\":{\"bgcolor\":\"#E5ECF6\",\"aaxis\":{\"gridcolor\":\"white\",\"linecolor\":\"white\",\"ticks\":\"\"},\"baxis\":{\"gridcolor\":\"white\",\"linecolor\":\"white\",\"ticks\":\"\"},\"caxis\":{\"gridcolor\":\"white\",\"linecolor\":\"white\",\"ticks\":\"\"}},\"coloraxis\":{\"colorbar\":{\"outlinewidth\":0,\"ticks\":\"\"}},\"colorscale\":{\"sequential\":[[0.0,\"#0d0887\"],[0.1111111111111111,\"#46039f\"],[0.2222222222222222,\"#7201a8\"],[0.3333333333333333,\"#9c179e\"],[0.4444444444444444,\"#bd3786\"],[0.5555555555555556,\"#d8576b\"],[0.6666666666666666,\"#ed7953\"],[0.7777777777777778,\"#fb9f3a\"],[0.8888888888888888,\"#fdca26\"],[1.0,\"#f0f921\"]],\"sequentialminus\":[[0.0,\"#0d0887\"],[0.1111111111111111,\"#46039f\"],[0.2222222222222222,\"#7201a8\"],[0.3333333333333333,\"#9c179e\"],[0.4444444444444444,\"#bd3786\"],[0.5555555555555556,\"#d8576b\"],[0.6666666666666666,\"#ed7953\"],[0.7777777777777778,\"#fb9f3a\"],[0.8888888888888888,\"#fdca26\"],[1.0,\"#f0f921\"]],\"diverging\":[[0,\"#8e0152\"],[0.1,\"#c51b7d\"],[0.2,\"#de77ae\"],[0.3,\"#f1b6da\"],[0.4,\"#fde0ef\"],[0.5,\"#f7f7f7\"],[0.6,\"#e6f5d0\"],[0.7,\"#b8e186\"],[0.8,\"#7fbc41\"],[0.9,\"#4d9221\"],[1,\"#276419\"]]},\"xaxis\":{\"gridcolor\":\"white\",\"linecolor\":\"white\",\"ticks\":\"\",\"title\":{\"standoff\":15},\"zerolinecolor\":\"white\",\"automargin\":true,\"zerolinewidth\":2},\"yaxis\":{\"gridcolor\":\"white\",\"linecolor\":\"white\",\"ticks\":\"\",\"title\":{\"standoff\":15},\"zerolinecolor\":\"white\",\"automargin\":true,\"zerolinewidth\":2},\"scene\":{\"xaxis\":{\"backgroundcolor\":\"#E5ECF6\",\"gridcolor\":\"white\",\"linecolor\":\"white\",\"showbackground\":true,\"ticks\":\"\",\"zerolinecolor\":\"white\",\"gridwidth\":2},\"yaxis\":{\"backgroundcolor\":\"#E5ECF6\",\"gridcolor\":\"white\",\"linecolor\":\"white\",\"showbackground\":true,\"ticks\":\"\",\"zerolinecolor\":\"white\",\"gridwidth\":2},\"zaxis\":{\"backgroundcolor\":\"#E5ECF6\",\"gridcolor\":\"white\",\"linecolor\":\"white\",\"showbackground\":true,\"ticks\":\"\",\"zerolinecolor\":\"white\",\"gridwidth\":2}},\"shapedefaults\":{\"line\":{\"color\":\"#2a3f5f\"}},\"annotationdefaults\":{\"arrowcolor\":\"#2a3f5f\",\"arrowhead\":0,\"arrowwidth\":1},\"geo\":{\"bgcolor\":\"white\",\"landcolor\":\"#E5ECF6\",\"subunitcolor\":\"white\",\"showland\":true,\"showlakes\":true,\"lakecolor\":\"white\"},\"title\":{\"x\":0.05},\"mapbox\":{\"style\":\"light\"}}},\"xaxis\":{\"anchor\":\"y\",\"domain\":[0.0,1.0],\"title\":{\"text\":\"Release Year\"}},\"yaxis\":{\"anchor\":\"x\",\"domain\":[0.0,1.0],\"title\":{\"text\":\"Number of Titles Released\"}},\"legend\":{\"tracegroupgap\":0},\"title\":{\"text\":\"Netflix Content Release Trend Over the Years\",\"x\":0.5}},                        {\"responsive\": true}                    ).then(function(){\n",
       "                            \n",
       "var gd = document.getElementById('db786d5d-b43f-469a-87ea-306f2ce06f14');\n",
       "var x = new MutationObserver(function (mutations, observer) {{\n",
       "        var display = window.getComputedStyle(gd).display;\n",
       "        if (!display || display === 'none') {{\n",
       "            console.log([gd, 'removed!']);\n",
       "            Plotly.purge(gd);\n",
       "            observer.disconnect();\n",
       "        }}\n",
       "}});\n",
       "\n",
       "// Listen for the removal of the full notebook cells\n",
       "var notebookContainer = gd.closest('#notebook-container');\n",
       "if (notebookContainer) {{\n",
       "    x.observe(notebookContainer, {childList: true});\n",
       "}}\n",
       "\n",
       "// Listen for the clearing of the current output cell\n",
       "var outputEl = gd.closest('.output');\n",
       "if (outputEl) {{\n",
       "    x.observe(outputEl, {childList: true});\n",
       "}}\n",
       "\n",
       "                        })                };            </script>        </div>"
      ]
     },
     "metadata": {},
     "output_type": "display_data"
    }
   ],
   "source": [
    "released_year_counts = df['release_year'].value_counts().sort_index()\n",
    "\n",
    "fig_release_year = px.line(\n",
    "    x=released_year_counts.index,\n",
    "    y=released_year_counts.values,\n",
    "    title='Netflix Content Release Trend Over the Years',\n",
    "    labels={'x': 'Release Year', 'y': 'Number of Titles Added'},\n",
    "    markers=True\n",
    ")\n",
    "\n",
    "fig_release_year.update_layout(\n",
    "    xaxis_title=\"Release Year\",\n",
    "    yaxis_title=\"Number of Titles Released\",\n",
    "    title_x=0.5\n",
    ")\n",
    "\n",
    "fig_release_year.show()"
   ]
  },
  {
   "cell_type": "markdown",
   "metadata": {},
   "source": [
    "### Monthly Content Additions (Based on 'year_added' and 'month_added')"
   ]
  },
  {
   "cell_type": "code",
   "execution_count": 25,
   "metadata": {},
   "outputs": [
    {
     "data": {
      "application/vnd.plotly.v1+json": {
       "config": {
        "plotlyServerURL": "https://plot.ly"
       },
       "data": [
        {
         "hovertemplate": "Content Type=Movie<br>Year-Month Added=%{x}<br>Number of Titles Added=%{y}<extra></extra>",
         "legendgroup": "Movie",
         "line": {
          "color": "red",
          "dash": "solid"
         },
         "marker": {
          "symbol": "circle"
         },
         "mode": "lines+markers",
         "name": "Movie",
         "orientation": "v",
         "showlegend": true,
         "type": "scatter",
         "x": [
          "2008-01",
          "2008-02",
          "2009-05",
          "2009-11",
          "2010-11",
          "2011-05",
          "2011-09",
          "2011-10",
          "2012-02",
          "2012-11",
          "2012-12",
          "2013-03",
          "2013-08",
          "2013-09",
          "2013-10",
          "2013-11",
          "2013-12",
          "2014-01",
          "2014-02",
          "2014-04",
          "2014-06",
          "2014-07",
          "2014-08",
          "2014-09",
          "2014-10",
          "2014-11",
          "2014-12",
          "2015-01",
          "2015-02",
          "2015-03",
          "2015-04",
          "2015-05",
          "2015-06",
          "2015-07",
          "2015-08",
          "2015-09",
          "2015-10",
          "2015-11",
          "2015-12",
          "2016-01",
          "2016-02",
          "2016-03",
          "2016-04",
          "2016-05",
          "2016-06",
          "2016-07",
          "2016-08",
          "2016-09",
          "2016-10",
          "2016-11",
          "2016-12",
          "2017-01",
          "2017-02",
          "2017-03",
          "2017-04",
          "2017-05",
          "2017-06",
          "2017-07",
          "2017-08",
          "2017-09",
          "2017-10",
          "2017-11",
          "2017-12",
          "2018-01",
          "2018-02",
          "2018-03",
          "2018-04",
          "2018-05",
          "2018-06",
          "2018-07",
          "2018-08",
          "2018-09",
          "2018-10",
          "2018-11",
          "2018-12",
          "2019-01",
          "2019-02",
          "2019-03",
          "2019-04",
          "2019-05",
          "2019-06",
          "2019-07",
          "2019-08",
          "2019-09",
          "2019-10",
          "2019-11",
          "2019-12",
          "2020-01",
          "2020-02",
          "2020-03",
          "2020-04",
          "2020-05",
          "2020-06",
          "2020-07",
          "2020-08",
          "2020-09",
          "2020-10",
          "2020-11",
          "2020-12",
          "2021-01",
          "2021-02",
          "2021-03",
          "2021-04",
          "2021-05",
          "2021-06",
          "2021-07",
          "2021-08",
          "2021-09"
         ],
         "xaxis": "x",
         "y": {
          "bdata": "AQAAAAEAAQABAAEAAQALAAEAAQABAAAAAAABAAEAAgACAAIAAQABAAEAAQABAAEABAACAAUAAQADAAMAAQAFAAQABQACAAYACgACAA4ADwAJAA4ADgAJAAsAEwAWABwAIAAaADQAOQBBAFYAQQA/AEEALQBNAFEAYQA3AFAAaQA/AIoAVwBGADIAfACBAFEAkQB2AHwAdABnAHYAdwBbAHoAYgBXAFYAfwC7AKgAmABIAF0AfwBpAHMAZwBSAHMAdABnAGUAYABBAEsAhwBeAHwAqQB1AHYA",
          "dtype": "i2"
         },
         "yaxis": "y"
        },
        {
         "hovertemplate": "Content Type=TV Show<br>Year-Month Added=%{x}<br>Number of Titles Added=%{y}<extra></extra>",
         "legendgroup": "TV Show",
         "line": {
          "color": "black",
          "dash": "solid"
         },
         "marker": {
          "symbol": "circle"
         },
         "mode": "lines+markers",
         "name": "TV Show",
         "orientation": "v",
         "showlegend": true,
         "type": "scatter",
         "x": [
          "2008-01",
          "2008-02",
          "2009-05",
          "2009-11",
          "2010-11",
          "2011-05",
          "2011-09",
          "2011-10",
          "2012-02",
          "2012-11",
          "2012-12",
          "2013-03",
          "2013-08",
          "2013-09",
          "2013-10",
          "2013-11",
          "2013-12",
          "2014-01",
          "2014-02",
          "2014-04",
          "2014-06",
          "2014-07",
          "2014-08",
          "2014-09",
          "2014-10",
          "2014-11",
          "2014-12",
          "2015-01",
          "2015-02",
          "2015-03",
          "2015-04",
          "2015-05",
          "2015-06",
          "2015-07",
          "2015-08",
          "2015-09",
          "2015-10",
          "2015-11",
          "2015-12",
          "2016-01",
          "2016-02",
          "2016-03",
          "2016-04",
          "2016-05",
          "2016-06",
          "2016-07",
          "2016-08",
          "2016-09",
          "2016-10",
          "2016-11",
          "2016-12",
          "2017-01",
          "2017-02",
          "2017-03",
          "2017-04",
          "2017-05",
          "2017-06",
          "2017-07",
          "2017-08",
          "2017-09",
          "2017-10",
          "2017-11",
          "2017-12",
          "2018-01",
          "2018-02",
          "2018-03",
          "2018-04",
          "2018-05",
          "2018-06",
          "2018-07",
          "2018-08",
          "2018-09",
          "2018-10",
          "2018-11",
          "2018-12",
          "2019-01",
          "2019-02",
          "2019-03",
          "2019-04",
          "2019-05",
          "2019-06",
          "2019-07",
          "2019-08",
          "2019-09",
          "2019-10",
          "2019-11",
          "2019-12",
          "2020-01",
          "2020-02",
          "2020-03",
          "2020-04",
          "2020-05",
          "2020-06",
          "2020-07",
          "2020-08",
          "2020-09",
          "2020-10",
          "2020-11",
          "2020-12",
          "2021-01",
          "2021-02",
          "2021-03",
          "2021-04",
          "2021-05",
          "2021-06",
          "2021-07",
          "2021-08",
          "2021-09"
         ],
         "xaxis": "x",
         "y": {
          "bdata": "AAEAAAAAAAAAAAABAQECAAAAAQEAAAAAAAIBAAECBAECAgABBAIHHAYDCAQHCQsTEhIrDhEmGxcdIiYgHR4mFxcjHBscGyIrLSQ9JC00KzAuOywlQUQvNSosMjQpKy81MzNEJCwlNSZTWD1B",
          "dtype": "i1"
         },
         "yaxis": "y"
        }
       ],
       "layout": {
        "legend": {
         "title": {
          "text": "Content Type"
         },
         "tracegroupgap": 0
        },
        "template": {
         "data": {
          "bar": [
           {
            "error_x": {
             "color": "#2a3f5f"
            },
            "error_y": {
             "color": "#2a3f5f"
            },
            "marker": {
             "line": {
              "color": "#E5ECF6",
              "width": 0.5
             },
             "pattern": {
              "fillmode": "overlay",
              "size": 10,
              "solidity": 0.2
             }
            },
            "type": "bar"
           }
          ],
          "barpolar": [
           {
            "marker": {
             "line": {
              "color": "#E5ECF6",
              "width": 0.5
             },
             "pattern": {
              "fillmode": "overlay",
              "size": 10,
              "solidity": 0.2
             }
            },
            "type": "barpolar"
           }
          ],
          "carpet": [
           {
            "aaxis": {
             "endlinecolor": "#2a3f5f",
             "gridcolor": "white",
             "linecolor": "white",
             "minorgridcolor": "white",
             "startlinecolor": "#2a3f5f"
            },
            "baxis": {
             "endlinecolor": "#2a3f5f",
             "gridcolor": "white",
             "linecolor": "white",
             "minorgridcolor": "white",
             "startlinecolor": "#2a3f5f"
            },
            "type": "carpet"
           }
          ],
          "choropleth": [
           {
            "colorbar": {
             "outlinewidth": 0,
             "ticks": ""
            },
            "type": "choropleth"
           }
          ],
          "contour": [
           {
            "colorbar": {
             "outlinewidth": 0,
             "ticks": ""
            },
            "colorscale": [
             [
              0,
              "#0d0887"
             ],
             [
              0.1111111111111111,
              "#46039f"
             ],
             [
              0.2222222222222222,
              "#7201a8"
             ],
             [
              0.3333333333333333,
              "#9c179e"
             ],
             [
              0.4444444444444444,
              "#bd3786"
             ],
             [
              0.5555555555555556,
              "#d8576b"
             ],
             [
              0.6666666666666666,
              "#ed7953"
             ],
             [
              0.7777777777777778,
              "#fb9f3a"
             ],
             [
              0.8888888888888888,
              "#fdca26"
             ],
             [
              1,
              "#f0f921"
             ]
            ],
            "type": "contour"
           }
          ],
          "contourcarpet": [
           {
            "colorbar": {
             "outlinewidth": 0,
             "ticks": ""
            },
            "type": "contourcarpet"
           }
          ],
          "heatmap": [
           {
            "colorbar": {
             "outlinewidth": 0,
             "ticks": ""
            },
            "colorscale": [
             [
              0,
              "#0d0887"
             ],
             [
              0.1111111111111111,
              "#46039f"
             ],
             [
              0.2222222222222222,
              "#7201a8"
             ],
             [
              0.3333333333333333,
              "#9c179e"
             ],
             [
              0.4444444444444444,
              "#bd3786"
             ],
             [
              0.5555555555555556,
              "#d8576b"
             ],
             [
              0.6666666666666666,
              "#ed7953"
             ],
             [
              0.7777777777777778,
              "#fb9f3a"
             ],
             [
              0.8888888888888888,
              "#fdca26"
             ],
             [
              1,
              "#f0f921"
             ]
            ],
            "type": "heatmap"
           }
          ],
          "histogram": [
           {
            "marker": {
             "pattern": {
              "fillmode": "overlay",
              "size": 10,
              "solidity": 0.2
             }
            },
            "type": "histogram"
           }
          ],
          "histogram2d": [
           {
            "colorbar": {
             "outlinewidth": 0,
             "ticks": ""
            },
            "colorscale": [
             [
              0,
              "#0d0887"
             ],
             [
              0.1111111111111111,
              "#46039f"
             ],
             [
              0.2222222222222222,
              "#7201a8"
             ],
             [
              0.3333333333333333,
              "#9c179e"
             ],
             [
              0.4444444444444444,
              "#bd3786"
             ],
             [
              0.5555555555555556,
              "#d8576b"
             ],
             [
              0.6666666666666666,
              "#ed7953"
             ],
             [
              0.7777777777777778,
              "#fb9f3a"
             ],
             [
              0.8888888888888888,
              "#fdca26"
             ],
             [
              1,
              "#f0f921"
             ]
            ],
            "type": "histogram2d"
           }
          ],
          "histogram2dcontour": [
           {
            "colorbar": {
             "outlinewidth": 0,
             "ticks": ""
            },
            "colorscale": [
             [
              0,
              "#0d0887"
             ],
             [
              0.1111111111111111,
              "#46039f"
             ],
             [
              0.2222222222222222,
              "#7201a8"
             ],
             [
              0.3333333333333333,
              "#9c179e"
             ],
             [
              0.4444444444444444,
              "#bd3786"
             ],
             [
              0.5555555555555556,
              "#d8576b"
             ],
             [
              0.6666666666666666,
              "#ed7953"
             ],
             [
              0.7777777777777778,
              "#fb9f3a"
             ],
             [
              0.8888888888888888,
              "#fdca26"
             ],
             [
              1,
              "#f0f921"
             ]
            ],
            "type": "histogram2dcontour"
           }
          ],
          "mesh3d": [
           {
            "colorbar": {
             "outlinewidth": 0,
             "ticks": ""
            },
            "type": "mesh3d"
           }
          ],
          "parcoords": [
           {
            "line": {
             "colorbar": {
              "outlinewidth": 0,
              "ticks": ""
             }
            },
            "type": "parcoords"
           }
          ],
          "pie": [
           {
            "automargin": true,
            "type": "pie"
           }
          ],
          "scatter": [
           {
            "fillpattern": {
             "fillmode": "overlay",
             "size": 10,
             "solidity": 0.2
            },
            "type": "scatter"
           }
          ],
          "scatter3d": [
           {
            "line": {
             "colorbar": {
              "outlinewidth": 0,
              "ticks": ""
             }
            },
            "marker": {
             "colorbar": {
              "outlinewidth": 0,
              "ticks": ""
             }
            },
            "type": "scatter3d"
           }
          ],
          "scattercarpet": [
           {
            "marker": {
             "colorbar": {
              "outlinewidth": 0,
              "ticks": ""
             }
            },
            "type": "scattercarpet"
           }
          ],
          "scattergeo": [
           {
            "marker": {
             "colorbar": {
              "outlinewidth": 0,
              "ticks": ""
             }
            },
            "type": "scattergeo"
           }
          ],
          "scattergl": [
           {
            "marker": {
             "colorbar": {
              "outlinewidth": 0,
              "ticks": ""
             }
            },
            "type": "scattergl"
           }
          ],
          "scattermap": [
           {
            "marker": {
             "colorbar": {
              "outlinewidth": 0,
              "ticks": ""
             }
            },
            "type": "scattermap"
           }
          ],
          "scattermapbox": [
           {
            "marker": {
             "colorbar": {
              "outlinewidth": 0,
              "ticks": ""
             }
            },
            "type": "scattermapbox"
           }
          ],
          "scatterpolar": [
           {
            "marker": {
             "colorbar": {
              "outlinewidth": 0,
              "ticks": ""
             }
            },
            "type": "scatterpolar"
           }
          ],
          "scatterpolargl": [
           {
            "marker": {
             "colorbar": {
              "outlinewidth": 0,
              "ticks": ""
             }
            },
            "type": "scatterpolargl"
           }
          ],
          "scatterternary": [
           {
            "marker": {
             "colorbar": {
              "outlinewidth": 0,
              "ticks": ""
             }
            },
            "type": "scatterternary"
           }
          ],
          "surface": [
           {
            "colorbar": {
             "outlinewidth": 0,
             "ticks": ""
            },
            "colorscale": [
             [
              0,
              "#0d0887"
             ],
             [
              0.1111111111111111,
              "#46039f"
             ],
             [
              0.2222222222222222,
              "#7201a8"
             ],
             [
              0.3333333333333333,
              "#9c179e"
             ],
             [
              0.4444444444444444,
              "#bd3786"
             ],
             [
              0.5555555555555556,
              "#d8576b"
             ],
             [
              0.6666666666666666,
              "#ed7953"
             ],
             [
              0.7777777777777778,
              "#fb9f3a"
             ],
             [
              0.8888888888888888,
              "#fdca26"
             ],
             [
              1,
              "#f0f921"
             ]
            ],
            "type": "surface"
           }
          ],
          "table": [
           {
            "cells": {
             "fill": {
              "color": "#EBF0F8"
             },
             "line": {
              "color": "white"
             }
            },
            "header": {
             "fill": {
              "color": "#C8D4E3"
             },
             "line": {
              "color": "white"
             }
            },
            "type": "table"
           }
          ]
         },
         "layout": {
          "annotationdefaults": {
           "arrowcolor": "#2a3f5f",
           "arrowhead": 0,
           "arrowwidth": 1
          },
          "autotypenumbers": "strict",
          "coloraxis": {
           "colorbar": {
            "outlinewidth": 0,
            "ticks": ""
           }
          },
          "colorscale": {
           "diverging": [
            [
             0,
             "#8e0152"
            ],
            [
             0.1,
             "#c51b7d"
            ],
            [
             0.2,
             "#de77ae"
            ],
            [
             0.3,
             "#f1b6da"
            ],
            [
             0.4,
             "#fde0ef"
            ],
            [
             0.5,
             "#f7f7f7"
            ],
            [
             0.6,
             "#e6f5d0"
            ],
            [
             0.7,
             "#b8e186"
            ],
            [
             0.8,
             "#7fbc41"
            ],
            [
             0.9,
             "#4d9221"
            ],
            [
             1,
             "#276419"
            ]
           ],
           "sequential": [
            [
             0,
             "#0d0887"
            ],
            [
             0.1111111111111111,
             "#46039f"
            ],
            [
             0.2222222222222222,
             "#7201a8"
            ],
            [
             0.3333333333333333,
             "#9c179e"
            ],
            [
             0.4444444444444444,
             "#bd3786"
            ],
            [
             0.5555555555555556,
             "#d8576b"
            ],
            [
             0.6666666666666666,
             "#ed7953"
            ],
            [
             0.7777777777777778,
             "#fb9f3a"
            ],
            [
             0.8888888888888888,
             "#fdca26"
            ],
            [
             1,
             "#f0f921"
            ]
           ],
           "sequentialminus": [
            [
             0,
             "#0d0887"
            ],
            [
             0.1111111111111111,
             "#46039f"
            ],
            [
             0.2222222222222222,
             "#7201a8"
            ],
            [
             0.3333333333333333,
             "#9c179e"
            ],
            [
             0.4444444444444444,
             "#bd3786"
            ],
            [
             0.5555555555555556,
             "#d8576b"
            ],
            [
             0.6666666666666666,
             "#ed7953"
            ],
            [
             0.7777777777777778,
             "#fb9f3a"
            ],
            [
             0.8888888888888888,
             "#fdca26"
            ],
            [
             1,
             "#f0f921"
            ]
           ]
          },
          "colorway": [
           "#636efa",
           "#EF553B",
           "#00cc96",
           "#ab63fa",
           "#FFA15A",
           "#19d3f3",
           "#FF6692",
           "#B6E880",
           "#FF97FF",
           "#FECB52"
          ],
          "font": {
           "color": "#2a3f5f"
          },
          "geo": {
           "bgcolor": "white",
           "lakecolor": "white",
           "landcolor": "#E5ECF6",
           "showlakes": true,
           "showland": true,
           "subunitcolor": "white"
          },
          "hoverlabel": {
           "align": "left"
          },
          "hovermode": "closest",
          "mapbox": {
           "style": "light"
          },
          "paper_bgcolor": "white",
          "plot_bgcolor": "#E5ECF6",
          "polar": {
           "angularaxis": {
            "gridcolor": "white",
            "linecolor": "white",
            "ticks": ""
           },
           "bgcolor": "#E5ECF6",
           "radialaxis": {
            "gridcolor": "white",
            "linecolor": "white",
            "ticks": ""
           }
          },
          "scene": {
           "xaxis": {
            "backgroundcolor": "#E5ECF6",
            "gridcolor": "white",
            "gridwidth": 2,
            "linecolor": "white",
            "showbackground": true,
            "ticks": "",
            "zerolinecolor": "white"
           },
           "yaxis": {
            "backgroundcolor": "#E5ECF6",
            "gridcolor": "white",
            "gridwidth": 2,
            "linecolor": "white",
            "showbackground": true,
            "ticks": "",
            "zerolinecolor": "white"
           },
           "zaxis": {
            "backgroundcolor": "#E5ECF6",
            "gridcolor": "white",
            "gridwidth": 2,
            "linecolor": "white",
            "showbackground": true,
            "ticks": "",
            "zerolinecolor": "white"
           }
          },
          "shapedefaults": {
           "line": {
            "color": "#2a3f5f"
           }
          },
          "ternary": {
           "aaxis": {
            "gridcolor": "white",
            "linecolor": "white",
            "ticks": ""
           },
           "baxis": {
            "gridcolor": "white",
            "linecolor": "white",
            "ticks": ""
           },
           "bgcolor": "#E5ECF6",
           "caxis": {
            "gridcolor": "white",
            "linecolor": "white",
            "ticks": ""
           }
          },
          "title": {
           "x": 0.05
          },
          "xaxis": {
           "automargin": true,
           "gridcolor": "white",
           "linecolor": "white",
           "ticks": "",
           "title": {
            "standoff": 15
           },
           "zerolinecolor": "white",
           "zerolinewidth": 2
          },
          "yaxis": {
           "automargin": true,
           "gridcolor": "white",
           "linecolor": "white",
           "ticks": "",
           "title": {
            "standoff": 15
           },
           "zerolinecolor": "white",
           "zerolinewidth": 2
          }
         }
        },
        "title": {
         "text": "Monthly Content Additions on Netflix (Movies vs. TV Shows)",
         "x": 0.5
        },
        "xaxis": {
         "anchor": "y",
         "domain": [
          0,
          1
         ],
         "tickangle": -45,
         "title": {
          "text": "Year-Month Added"
         }
        },
        "yaxis": {
         "anchor": "x",
         "domain": [
          0,
          1
         ],
         "title": {
          "text": "Number of Titles Added"
         }
        }
       }
      },
      "text/html": [
       "<div>            <script src=\"https://cdnjs.cloudflare.com/ajax/libs/mathjax/2.7.5/MathJax.js?config=TeX-AMS-MML_SVG\"></script><script type=\"text/javascript\">if (window.MathJax && window.MathJax.Hub && window.MathJax.Hub.Config) {window.MathJax.Hub.Config({SVG: {font: \"STIX-Web\"}});}</script>                <script type=\"text/javascript\">window.PlotlyConfig = {MathJaxConfig: 'local'};</script>\n",
       "        <script charset=\"utf-8\" src=\"https://cdn.plot.ly/plotly-3.0.0.min.js\"></script>                <div id=\"3710d0aa-b1ac-4eb8-988b-95c66852d437\" class=\"plotly-graph-div\" style=\"height:525px; width:100%;\"></div>            <script type=\"text/javascript\">                window.PLOTLYENV=window.PLOTLYENV || {};                                if (document.getElementById(\"3710d0aa-b1ac-4eb8-988b-95c66852d437\")) {                    Plotly.newPlot(                        \"3710d0aa-b1ac-4eb8-988b-95c66852d437\",                        [{\"hovertemplate\":\"Content Type=Movie\\u003cbr\\u003eYear-Month Added=%{x}\\u003cbr\\u003eNumber of Titles Added=%{y}\\u003cextra\\u003e\\u003c\\u002fextra\\u003e\",\"legendgroup\":\"Movie\",\"line\":{\"color\":\"red\",\"dash\":\"solid\"},\"marker\":{\"symbol\":\"circle\"},\"mode\":\"lines+markers\",\"name\":\"Movie\",\"orientation\":\"v\",\"showlegend\":true,\"x\":[\"2008-01\",\"2008-02\",\"2009-05\",\"2009-11\",\"2010-11\",\"2011-05\",\"2011-09\",\"2011-10\",\"2012-02\",\"2012-11\",\"2012-12\",\"2013-03\",\"2013-08\",\"2013-09\",\"2013-10\",\"2013-11\",\"2013-12\",\"2014-01\",\"2014-02\",\"2014-04\",\"2014-06\",\"2014-07\",\"2014-08\",\"2014-09\",\"2014-10\",\"2014-11\",\"2014-12\",\"2015-01\",\"2015-02\",\"2015-03\",\"2015-04\",\"2015-05\",\"2015-06\",\"2015-07\",\"2015-08\",\"2015-09\",\"2015-10\",\"2015-11\",\"2015-12\",\"2016-01\",\"2016-02\",\"2016-03\",\"2016-04\",\"2016-05\",\"2016-06\",\"2016-07\",\"2016-08\",\"2016-09\",\"2016-10\",\"2016-11\",\"2016-12\",\"2017-01\",\"2017-02\",\"2017-03\",\"2017-04\",\"2017-05\",\"2017-06\",\"2017-07\",\"2017-08\",\"2017-09\",\"2017-10\",\"2017-11\",\"2017-12\",\"2018-01\",\"2018-02\",\"2018-03\",\"2018-04\",\"2018-05\",\"2018-06\",\"2018-07\",\"2018-08\",\"2018-09\",\"2018-10\",\"2018-11\",\"2018-12\",\"2019-01\",\"2019-02\",\"2019-03\",\"2019-04\",\"2019-05\",\"2019-06\",\"2019-07\",\"2019-08\",\"2019-09\",\"2019-10\",\"2019-11\",\"2019-12\",\"2020-01\",\"2020-02\",\"2020-03\",\"2020-04\",\"2020-05\",\"2020-06\",\"2020-07\",\"2020-08\",\"2020-09\",\"2020-10\",\"2020-11\",\"2020-12\",\"2021-01\",\"2021-02\",\"2021-03\",\"2021-04\",\"2021-05\",\"2021-06\",\"2021-07\",\"2021-08\",\"2021-09\"],\"xaxis\":\"x\",\"y\":{\"dtype\":\"i2\",\"bdata\":\"AQAAAAEAAQABAAEAAQALAAEAAQABAAAAAAABAAEAAgACAAIAAQABAAEAAQABAAEABAACAAUAAQADAAMAAQAFAAQABQACAAYACgACAA4ADwAJAA4ADgAJAAsAEwAWABwAIAAaADQAOQBBAFYAQQA\\u002fAEEALQBNAFEAYQA3AFAAaQA\\u002fAIoAVwBGADIAfACBAFEAkQB2AHwAdABnAHYAdwBbAHoAYgBXAFYAfwC7AKgAmABIAF0AfwBpAHMAZwBSAHMAdABnAGUAYABBAEsAhwBeAHwAqQB1AHYA\"},\"yaxis\":\"y\",\"type\":\"scatter\"},{\"hovertemplate\":\"Content Type=TV Show\\u003cbr\\u003eYear-Month Added=%{x}\\u003cbr\\u003eNumber of Titles Added=%{y}\\u003cextra\\u003e\\u003c\\u002fextra\\u003e\",\"legendgroup\":\"TV Show\",\"line\":{\"color\":\"black\",\"dash\":\"solid\"},\"marker\":{\"symbol\":\"circle\"},\"mode\":\"lines+markers\",\"name\":\"TV Show\",\"orientation\":\"v\",\"showlegend\":true,\"x\":[\"2008-01\",\"2008-02\",\"2009-05\",\"2009-11\",\"2010-11\",\"2011-05\",\"2011-09\",\"2011-10\",\"2012-02\",\"2012-11\",\"2012-12\",\"2013-03\",\"2013-08\",\"2013-09\",\"2013-10\",\"2013-11\",\"2013-12\",\"2014-01\",\"2014-02\",\"2014-04\",\"2014-06\",\"2014-07\",\"2014-08\",\"2014-09\",\"2014-10\",\"2014-11\",\"2014-12\",\"2015-01\",\"2015-02\",\"2015-03\",\"2015-04\",\"2015-05\",\"2015-06\",\"2015-07\",\"2015-08\",\"2015-09\",\"2015-10\",\"2015-11\",\"2015-12\",\"2016-01\",\"2016-02\",\"2016-03\",\"2016-04\",\"2016-05\",\"2016-06\",\"2016-07\",\"2016-08\",\"2016-09\",\"2016-10\",\"2016-11\",\"2016-12\",\"2017-01\",\"2017-02\",\"2017-03\",\"2017-04\",\"2017-05\",\"2017-06\",\"2017-07\",\"2017-08\",\"2017-09\",\"2017-10\",\"2017-11\",\"2017-12\",\"2018-01\",\"2018-02\",\"2018-03\",\"2018-04\",\"2018-05\",\"2018-06\",\"2018-07\",\"2018-08\",\"2018-09\",\"2018-10\",\"2018-11\",\"2018-12\",\"2019-01\",\"2019-02\",\"2019-03\",\"2019-04\",\"2019-05\",\"2019-06\",\"2019-07\",\"2019-08\",\"2019-09\",\"2019-10\",\"2019-11\",\"2019-12\",\"2020-01\",\"2020-02\",\"2020-03\",\"2020-04\",\"2020-05\",\"2020-06\",\"2020-07\",\"2020-08\",\"2020-09\",\"2020-10\",\"2020-11\",\"2020-12\",\"2021-01\",\"2021-02\",\"2021-03\",\"2021-04\",\"2021-05\",\"2021-06\",\"2021-07\",\"2021-08\",\"2021-09\"],\"xaxis\":\"x\",\"y\":{\"dtype\":\"i1\",\"bdata\":\"AAEAAAAAAAAAAAABAQECAAAAAQEAAAAAAAIBAAECBAECAgABBAIHHAYDCAQHCQsTEhIrDhEmGxcdIiYgHR4mFxcjHBscGyIrLSQ9JC00KzAuOywlQUQvNSosMjQpKy81MzNEJCwlNSZTWD1B\"},\"yaxis\":\"y\",\"type\":\"scatter\"}],                        {\"template\":{\"data\":{\"histogram2dcontour\":[{\"type\":\"histogram2dcontour\",\"colorbar\":{\"outlinewidth\":0,\"ticks\":\"\"},\"colorscale\":[[0.0,\"#0d0887\"],[0.1111111111111111,\"#46039f\"],[0.2222222222222222,\"#7201a8\"],[0.3333333333333333,\"#9c179e\"],[0.4444444444444444,\"#bd3786\"],[0.5555555555555556,\"#d8576b\"],[0.6666666666666666,\"#ed7953\"],[0.7777777777777778,\"#fb9f3a\"],[0.8888888888888888,\"#fdca26\"],[1.0,\"#f0f921\"]]}],\"choropleth\":[{\"type\":\"choropleth\",\"colorbar\":{\"outlinewidth\":0,\"ticks\":\"\"}}],\"histogram2d\":[{\"type\":\"histogram2d\",\"colorbar\":{\"outlinewidth\":0,\"ticks\":\"\"},\"colorscale\":[[0.0,\"#0d0887\"],[0.1111111111111111,\"#46039f\"],[0.2222222222222222,\"#7201a8\"],[0.3333333333333333,\"#9c179e\"],[0.4444444444444444,\"#bd3786\"],[0.5555555555555556,\"#d8576b\"],[0.6666666666666666,\"#ed7953\"],[0.7777777777777778,\"#fb9f3a\"],[0.8888888888888888,\"#fdca26\"],[1.0,\"#f0f921\"]]}],\"heatmap\":[{\"type\":\"heatmap\",\"colorbar\":{\"outlinewidth\":0,\"ticks\":\"\"},\"colorscale\":[[0.0,\"#0d0887\"],[0.1111111111111111,\"#46039f\"],[0.2222222222222222,\"#7201a8\"],[0.3333333333333333,\"#9c179e\"],[0.4444444444444444,\"#bd3786\"],[0.5555555555555556,\"#d8576b\"],[0.6666666666666666,\"#ed7953\"],[0.7777777777777778,\"#fb9f3a\"],[0.8888888888888888,\"#fdca26\"],[1.0,\"#f0f921\"]]}],\"contourcarpet\":[{\"type\":\"contourcarpet\",\"colorbar\":{\"outlinewidth\":0,\"ticks\":\"\"}}],\"contour\":[{\"type\":\"contour\",\"colorbar\":{\"outlinewidth\":0,\"ticks\":\"\"},\"colorscale\":[[0.0,\"#0d0887\"],[0.1111111111111111,\"#46039f\"],[0.2222222222222222,\"#7201a8\"],[0.3333333333333333,\"#9c179e\"],[0.4444444444444444,\"#bd3786\"],[0.5555555555555556,\"#d8576b\"],[0.6666666666666666,\"#ed7953\"],[0.7777777777777778,\"#fb9f3a\"],[0.8888888888888888,\"#fdca26\"],[1.0,\"#f0f921\"]]}],\"surface\":[{\"type\":\"surface\",\"colorbar\":{\"outlinewidth\":0,\"ticks\":\"\"},\"colorscale\":[[0.0,\"#0d0887\"],[0.1111111111111111,\"#46039f\"],[0.2222222222222222,\"#7201a8\"],[0.3333333333333333,\"#9c179e\"],[0.4444444444444444,\"#bd3786\"],[0.5555555555555556,\"#d8576b\"],[0.6666666666666666,\"#ed7953\"],[0.7777777777777778,\"#fb9f3a\"],[0.8888888888888888,\"#fdca26\"],[1.0,\"#f0f921\"]]}],\"mesh3d\":[{\"type\":\"mesh3d\",\"colorbar\":{\"outlinewidth\":0,\"ticks\":\"\"}}],\"scatter\":[{\"fillpattern\":{\"fillmode\":\"overlay\",\"size\":10,\"solidity\":0.2},\"type\":\"scatter\"}],\"parcoords\":[{\"type\":\"parcoords\",\"line\":{\"colorbar\":{\"outlinewidth\":0,\"ticks\":\"\"}}}],\"scatterpolargl\":[{\"type\":\"scatterpolargl\",\"marker\":{\"colorbar\":{\"outlinewidth\":0,\"ticks\":\"\"}}}],\"bar\":[{\"error_x\":{\"color\":\"#2a3f5f\"},\"error_y\":{\"color\":\"#2a3f5f\"},\"marker\":{\"line\":{\"color\":\"#E5ECF6\",\"width\":0.5},\"pattern\":{\"fillmode\":\"overlay\",\"size\":10,\"solidity\":0.2}},\"type\":\"bar\"}],\"scattergeo\":[{\"type\":\"scattergeo\",\"marker\":{\"colorbar\":{\"outlinewidth\":0,\"ticks\":\"\"}}}],\"scatterpolar\":[{\"type\":\"scatterpolar\",\"marker\":{\"colorbar\":{\"outlinewidth\":0,\"ticks\":\"\"}}}],\"histogram\":[{\"marker\":{\"pattern\":{\"fillmode\":\"overlay\",\"size\":10,\"solidity\":0.2}},\"type\":\"histogram\"}],\"scattergl\":[{\"type\":\"scattergl\",\"marker\":{\"colorbar\":{\"outlinewidth\":0,\"ticks\":\"\"}}}],\"scatter3d\":[{\"type\":\"scatter3d\",\"line\":{\"colorbar\":{\"outlinewidth\":0,\"ticks\":\"\"}},\"marker\":{\"colorbar\":{\"outlinewidth\":0,\"ticks\":\"\"}}}],\"scattermap\":[{\"type\":\"scattermap\",\"marker\":{\"colorbar\":{\"outlinewidth\":0,\"ticks\":\"\"}}}],\"scattermapbox\":[{\"type\":\"scattermapbox\",\"marker\":{\"colorbar\":{\"outlinewidth\":0,\"ticks\":\"\"}}}],\"scatterternary\":[{\"type\":\"scatterternary\",\"marker\":{\"colorbar\":{\"outlinewidth\":0,\"ticks\":\"\"}}}],\"scattercarpet\":[{\"type\":\"scattercarpet\",\"marker\":{\"colorbar\":{\"outlinewidth\":0,\"ticks\":\"\"}}}],\"carpet\":[{\"aaxis\":{\"endlinecolor\":\"#2a3f5f\",\"gridcolor\":\"white\",\"linecolor\":\"white\",\"minorgridcolor\":\"white\",\"startlinecolor\":\"#2a3f5f\"},\"baxis\":{\"endlinecolor\":\"#2a3f5f\",\"gridcolor\":\"white\",\"linecolor\":\"white\",\"minorgridcolor\":\"white\",\"startlinecolor\":\"#2a3f5f\"},\"type\":\"carpet\"}],\"table\":[{\"cells\":{\"fill\":{\"color\":\"#EBF0F8\"},\"line\":{\"color\":\"white\"}},\"header\":{\"fill\":{\"color\":\"#C8D4E3\"},\"line\":{\"color\":\"white\"}},\"type\":\"table\"}],\"barpolar\":[{\"marker\":{\"line\":{\"color\":\"#E5ECF6\",\"width\":0.5},\"pattern\":{\"fillmode\":\"overlay\",\"size\":10,\"solidity\":0.2}},\"type\":\"barpolar\"}],\"pie\":[{\"automargin\":true,\"type\":\"pie\"}]},\"layout\":{\"autotypenumbers\":\"strict\",\"colorway\":[\"#636efa\",\"#EF553B\",\"#00cc96\",\"#ab63fa\",\"#FFA15A\",\"#19d3f3\",\"#FF6692\",\"#B6E880\",\"#FF97FF\",\"#FECB52\"],\"font\":{\"color\":\"#2a3f5f\"},\"hovermode\":\"closest\",\"hoverlabel\":{\"align\":\"left\"},\"paper_bgcolor\":\"white\",\"plot_bgcolor\":\"#E5ECF6\",\"polar\":{\"bgcolor\":\"#E5ECF6\",\"angularaxis\":{\"gridcolor\":\"white\",\"linecolor\":\"white\",\"ticks\":\"\"},\"radialaxis\":{\"gridcolor\":\"white\",\"linecolor\":\"white\",\"ticks\":\"\"}},\"ternary\":{\"bgcolor\":\"#E5ECF6\",\"aaxis\":{\"gridcolor\":\"white\",\"linecolor\":\"white\",\"ticks\":\"\"},\"baxis\":{\"gridcolor\":\"white\",\"linecolor\":\"white\",\"ticks\":\"\"},\"caxis\":{\"gridcolor\":\"white\",\"linecolor\":\"white\",\"ticks\":\"\"}},\"coloraxis\":{\"colorbar\":{\"outlinewidth\":0,\"ticks\":\"\"}},\"colorscale\":{\"sequential\":[[0.0,\"#0d0887\"],[0.1111111111111111,\"#46039f\"],[0.2222222222222222,\"#7201a8\"],[0.3333333333333333,\"#9c179e\"],[0.4444444444444444,\"#bd3786\"],[0.5555555555555556,\"#d8576b\"],[0.6666666666666666,\"#ed7953\"],[0.7777777777777778,\"#fb9f3a\"],[0.8888888888888888,\"#fdca26\"],[1.0,\"#f0f921\"]],\"sequentialminus\":[[0.0,\"#0d0887\"],[0.1111111111111111,\"#46039f\"],[0.2222222222222222,\"#7201a8\"],[0.3333333333333333,\"#9c179e\"],[0.4444444444444444,\"#bd3786\"],[0.5555555555555556,\"#d8576b\"],[0.6666666666666666,\"#ed7953\"],[0.7777777777777778,\"#fb9f3a\"],[0.8888888888888888,\"#fdca26\"],[1.0,\"#f0f921\"]],\"diverging\":[[0,\"#8e0152\"],[0.1,\"#c51b7d\"],[0.2,\"#de77ae\"],[0.3,\"#f1b6da\"],[0.4,\"#fde0ef\"],[0.5,\"#f7f7f7\"],[0.6,\"#e6f5d0\"],[0.7,\"#b8e186\"],[0.8,\"#7fbc41\"],[0.9,\"#4d9221\"],[1,\"#276419\"]]},\"xaxis\":{\"gridcolor\":\"white\",\"linecolor\":\"white\",\"ticks\":\"\",\"title\":{\"standoff\":15},\"zerolinecolor\":\"white\",\"automargin\":true,\"zerolinewidth\":2},\"yaxis\":{\"gridcolor\":\"white\",\"linecolor\":\"white\",\"ticks\":\"\",\"title\":{\"standoff\":15},\"zerolinecolor\":\"white\",\"automargin\":true,\"zerolinewidth\":2},\"scene\":{\"xaxis\":{\"backgroundcolor\":\"#E5ECF6\",\"gridcolor\":\"white\",\"linecolor\":\"white\",\"showbackground\":true,\"ticks\":\"\",\"zerolinecolor\":\"white\",\"gridwidth\":2},\"yaxis\":{\"backgroundcolor\":\"#E5ECF6\",\"gridcolor\":\"white\",\"linecolor\":\"white\",\"showbackground\":true,\"ticks\":\"\",\"zerolinecolor\":\"white\",\"gridwidth\":2},\"zaxis\":{\"backgroundcolor\":\"#E5ECF6\",\"gridcolor\":\"white\",\"linecolor\":\"white\",\"showbackground\":true,\"ticks\":\"\",\"zerolinecolor\":\"white\",\"gridwidth\":2}},\"shapedefaults\":{\"line\":{\"color\":\"#2a3f5f\"}},\"annotationdefaults\":{\"arrowcolor\":\"#2a3f5f\",\"arrowhead\":0,\"arrowwidth\":1},\"geo\":{\"bgcolor\":\"white\",\"landcolor\":\"#E5ECF6\",\"subunitcolor\":\"white\",\"showland\":true,\"showlakes\":true,\"lakecolor\":\"white\"},\"title\":{\"x\":0.05},\"mapbox\":{\"style\":\"light\"}}},\"xaxis\":{\"anchor\":\"y\",\"domain\":[0.0,1.0],\"title\":{\"text\":\"Year-Month Added\"},\"tickangle\":-45},\"yaxis\":{\"anchor\":\"x\",\"domain\":[0.0,1.0],\"title\":{\"text\":\"Number of Titles Added\"}},\"legend\":{\"title\":{\"text\":\"Content Type\"},\"tracegroupgap\":0},\"title\":{\"text\":\"Monthly Content Additions on Netflix (Movies vs. TV Shows)\",\"x\":0.5}},                        {\"responsive\": true}                    ).then(function(){\n",
       "                            \n",
       "var gd = document.getElementById('3710d0aa-b1ac-4eb8-988b-95c66852d437');\n",
       "var x = new MutationObserver(function (mutations, observer) {{\n",
       "        var display = window.getComputedStyle(gd).display;\n",
       "        if (!display || display === 'none') {{\n",
       "            console.log([gd, 'removed!']);\n",
       "            Plotly.purge(gd);\n",
       "            observer.disconnect();\n",
       "        }}\n",
       "}});\n",
       "\n",
       "// Listen for the removal of the full notebook cells\n",
       "var notebookContainer = gd.closest('#notebook-container');\n",
       "if (notebookContainer) {{\n",
       "    x.observe(notebookContainer, {childList: true});\n",
       "}}\n",
       "\n",
       "// Listen for the clearing of the current output cell\n",
       "var outputEl = gd.closest('.output');\n",
       "if (outputEl) {{\n",
       "    x.observe(outputEl, {childList: true});\n",
       "}}\n",
       "\n",
       "                        })                };            </script>        </div>"
      ]
     },
     "metadata": {},
     "output_type": "display_data"
    }
   ],
   "source": [
    "monthly_added = df.dropna(subset=['year_added', 'month_added'])\n",
    "\n",
    "monthly_counts = monthly_added.groupby(['year_added', 'month_added', 'type']).size().unstack(fill_value=0).reset_index()\n",
    "\n",
    "monthly_melted = monthly_counts.melt(id_vars=['year_added', 'month_added'], var_name='type', value_name='count')\n",
    "\n",
    "monthly_melted['year_month'] = monthly_melted['year_added'].astype(str) + '-' + monthly_melted['month_added'].astype(str).str.zfill(2)\n",
    "monthly_melted = monthly_melted.sort_values('year_month')\n",
    "\n",
    "\n",
    "fig_monthly_added = px.line(\n",
    "    monthly_melted,\n",
    "    x='year_month',\n",
    "    y='count',\n",
    "    color='type',\n",
    "    title='Monthly Content Additions on Netflix (Movies vs. TV Shows)',\n",
    "    labels={'count': 'Number of Titles Added', 'year_month': 'Year-Month Added', 'type': 'Content Type'},\n",
    "    markers=True,\n",
    "    color_discrete_map={'Movie': 'red', 'TV Show': 'black'}\n",
    ")\n",
    "\n",
    "fig_monthly_added.update_layout(\n",
    "    xaxis_title=\"Year-Month Added\",\n",
    "    yaxis_title=\"Number of Titles Added\",\n",
    "    title_x=0.5,\n",
    "    xaxis_tickangle=-45\n",
    ")\n",
    "\n",
    "fig_monthly_added.show()"
   ]
  },
  {
   "cell_type": "markdown",
   "metadata": {},
   "source": [
    "### Movie Duration Distribution"
   ]
  },
  {
   "cell_type": "code",
   "execution_count": 26,
   "metadata": {},
   "outputs": [
    {
     "data": {
      "application/vnd.plotly.v1+json": {
       "config": {
        "plotlyServerURL": "https://plot.ly"
       },
       "data": [
        {
         "bingroup": "x",
         "hovertemplate": "Duration (minutes)=%{x}<br>count=%{y}<extra></extra>",
         "legendgroup": "",
         "marker": {
          "color": "coral",
          "pattern": {
           "shape": ""
          }
         },
         "name": "",
         "orientation": "v",
         "showlegend": false,
         "type": "histogram",
         "x": {
          "bdata": "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",
          "dtype": "i2"
         },
         "xaxis": "x",
         "yaxis": "y"
        },
        {
         "hovertemplate": "Duration (minutes)=%{x}<extra></extra>",
         "legendgroup": "",
         "marker": {
          "color": "coral"
         },
         "name": "",
         "notched": true,
         "showlegend": false,
         "type": "box",
         "x": {
          "bdata": "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",
          "dtype": "i2"
         },
         "xaxis": "x2",
         "yaxis": "y2"
        }
       ],
       "layout": {
        "barmode": "relative",
        "legend": {
         "tracegroupgap": 0
        },
        "template": {
         "data": {
          "bar": [
           {
            "error_x": {
             "color": "#2a3f5f"
            },
            "error_y": {
             "color": "#2a3f5f"
            },
            "marker": {
             "line": {
              "color": "#E5ECF6",
              "width": 0.5
             },
             "pattern": {
              "fillmode": "overlay",
              "size": 10,
              "solidity": 0.2
             }
            },
            "type": "bar"
           }
          ],
          "barpolar": [
           {
            "marker": {
             "line": {
              "color": "#E5ECF6",
              "width": 0.5
             },
             "pattern": {
              "fillmode": "overlay",
              "size": 10,
              "solidity": 0.2
             }
            },
            "type": "barpolar"
           }
          ],
          "carpet": [
           {
            "aaxis": {
             "endlinecolor": "#2a3f5f",
             "gridcolor": "white",
             "linecolor": "white",
             "minorgridcolor": "white",
             "startlinecolor": "#2a3f5f"
            },
            "baxis": {
             "endlinecolor": "#2a3f5f",
             "gridcolor": "white",
             "linecolor": "white",
             "minorgridcolor": "white",
             "startlinecolor": "#2a3f5f"
            },
            "type": "carpet"
           }
          ],
          "choropleth": [
           {
            "colorbar": {
             "outlinewidth": 0,
             "ticks": ""
            },
            "type": "choropleth"
           }
          ],
          "contour": [
           {
            "colorbar": {
             "outlinewidth": 0,
             "ticks": ""
            },
            "colorscale": [
             [
              0,
              "#0d0887"
             ],
             [
              0.1111111111111111,
              "#46039f"
             ],
             [
              0.2222222222222222,
              "#7201a8"
             ],
             [
              0.3333333333333333,
              "#9c179e"
             ],
             [
              0.4444444444444444,
              "#bd3786"
             ],
             [
              0.5555555555555556,
              "#d8576b"
             ],
             [
              0.6666666666666666,
              "#ed7953"
             ],
             [
              0.7777777777777778,
              "#fb9f3a"
             ],
             [
              0.8888888888888888,
              "#fdca26"
             ],
             [
              1,
              "#f0f921"
             ]
            ],
            "type": "contour"
           }
          ],
          "contourcarpet": [
           {
            "colorbar": {
             "outlinewidth": 0,
             "ticks": ""
            },
            "type": "contourcarpet"
           }
          ],
          "heatmap": [
           {
            "colorbar": {
             "outlinewidth": 0,
             "ticks": ""
            },
            "colorscale": [
             [
              0,
              "#0d0887"
             ],
             [
              0.1111111111111111,
              "#46039f"
             ],
             [
              0.2222222222222222,
              "#7201a8"
             ],
             [
              0.3333333333333333,
              "#9c179e"
             ],
             [
              0.4444444444444444,
              "#bd3786"
             ],
             [
              0.5555555555555556,
              "#d8576b"
             ],
             [
              0.6666666666666666,
              "#ed7953"
             ],
             [
              0.7777777777777778,
              "#fb9f3a"
             ],
             [
              0.8888888888888888,
              "#fdca26"
             ],
             [
              1,
              "#f0f921"
             ]
            ],
            "type": "heatmap"
           }
          ],
          "histogram": [
           {
            "marker": {
             "pattern": {
              "fillmode": "overlay",
              "size": 10,
              "solidity": 0.2
             }
            },
            "type": "histogram"
           }
          ],
          "histogram2d": [
           {
            "colorbar": {
             "outlinewidth": 0,
             "ticks": ""
            },
            "colorscale": [
             [
              0,
              "#0d0887"
             ],
             [
              0.1111111111111111,
              "#46039f"
             ],
             [
              0.2222222222222222,
              "#7201a8"
             ],
             [
              0.3333333333333333,
              "#9c179e"
             ],
             [
              0.4444444444444444,
              "#bd3786"
             ],
             [
              0.5555555555555556,
              "#d8576b"
             ],
             [
              0.6666666666666666,
              "#ed7953"
             ],
             [
              0.7777777777777778,
              "#fb9f3a"
             ],
             [
              0.8888888888888888,
              "#fdca26"
             ],
             [
              1,
              "#f0f921"
             ]
            ],
            "type": "histogram2d"
           }
          ],
          "histogram2dcontour": [
           {
            "colorbar": {
             "outlinewidth": 0,
             "ticks": ""
            },
            "colorscale": [
             [
              0,
              "#0d0887"
             ],
             [
              0.1111111111111111,
              "#46039f"
             ],
             [
              0.2222222222222222,
              "#7201a8"
             ],
             [
              0.3333333333333333,
              "#9c179e"
             ],
             [
              0.4444444444444444,
              "#bd3786"
             ],
             [
              0.5555555555555556,
              "#d8576b"
             ],
             [
              0.6666666666666666,
              "#ed7953"
             ],
             [
              0.7777777777777778,
              "#fb9f3a"
             ],
             [
              0.8888888888888888,
              "#fdca26"
             ],
             [
              1,
              "#f0f921"
             ]
            ],
            "type": "histogram2dcontour"
           }
          ],
          "mesh3d": [
           {
            "colorbar": {
             "outlinewidth": 0,
             "ticks": ""
            },
            "type": "mesh3d"
           }
          ],
          "parcoords": [
           {
            "line": {
             "colorbar": {
              "outlinewidth": 0,
              "ticks": ""
             }
            },
            "type": "parcoords"
           }
          ],
          "pie": [
           {
            "automargin": true,
            "type": "pie"
           }
          ],
          "scatter": [
           {
            "fillpattern": {
             "fillmode": "overlay",
             "size": 10,
             "solidity": 0.2
            },
            "type": "scatter"
           }
          ],
          "scatter3d": [
           {
            "line": {
             "colorbar": {
              "outlinewidth": 0,
              "ticks": ""
             }
            },
            "marker": {
             "colorbar": {
              "outlinewidth": 0,
              "ticks": ""
             }
            },
            "type": "scatter3d"
           }
          ],
          "scattercarpet": [
           {
            "marker": {
             "colorbar": {
              "outlinewidth": 0,
              "ticks": ""
             }
            },
            "type": "scattercarpet"
           }
          ],
          "scattergeo": [
           {
            "marker": {
             "colorbar": {
              "outlinewidth": 0,
              "ticks": ""
             }
            },
            "type": "scattergeo"
           }
          ],
          "scattergl": [
           {
            "marker": {
             "colorbar": {
              "outlinewidth": 0,
              "ticks": ""
             }
            },
            "type": "scattergl"
           }
          ],
          "scattermap": [
           {
            "marker": {
             "colorbar": {
              "outlinewidth": 0,
              "ticks": ""
             }
            },
            "type": "scattermap"
           }
          ],
          "scattermapbox": [
           {
            "marker": {
             "colorbar": {
              "outlinewidth": 0,
              "ticks": ""
             }
            },
            "type": "scattermapbox"
           }
          ],
          "scatterpolar": [
           {
            "marker": {
             "colorbar": {
              "outlinewidth": 0,
              "ticks": ""
             }
            },
            "type": "scatterpolar"
           }
          ],
          "scatterpolargl": [
           {
            "marker": {
             "colorbar": {
              "outlinewidth": 0,
              "ticks": ""
             }
            },
            "type": "scatterpolargl"
           }
          ],
          "scatterternary": [
           {
            "marker": {
             "colorbar": {
              "outlinewidth": 0,
              "ticks": ""
             }
            },
            "type": "scatterternary"
           }
          ],
          "surface": [
           {
            "colorbar": {
             "outlinewidth": 0,
             "ticks": ""
            },
            "colorscale": [
             [
              0,
              "#0d0887"
             ],
             [
              0.1111111111111111,
              "#46039f"
             ],
             [
              0.2222222222222222,
              "#7201a8"
             ],
             [
              0.3333333333333333,
              "#9c179e"
             ],
             [
              0.4444444444444444,
              "#bd3786"
             ],
             [
              0.5555555555555556,
              "#d8576b"
             ],
             [
              0.6666666666666666,
              "#ed7953"
             ],
             [
              0.7777777777777778,
              "#fb9f3a"
             ],
             [
              0.8888888888888888,
              "#fdca26"
             ],
             [
              1,
              "#f0f921"
             ]
            ],
            "type": "surface"
           }
          ],
          "table": [
           {
            "cells": {
             "fill": {
              "color": "#EBF0F8"
             },
             "line": {
              "color": "white"
             }
            },
            "header": {
             "fill": {
              "color": "#C8D4E3"
             },
             "line": {
              "color": "white"
             }
            },
            "type": "table"
           }
          ]
         },
         "layout": {
          "annotationdefaults": {
           "arrowcolor": "#2a3f5f",
           "arrowhead": 0,
           "arrowwidth": 1
          },
          "autotypenumbers": "strict",
          "coloraxis": {
           "colorbar": {
            "outlinewidth": 0,
            "ticks": ""
           }
          },
          "colorscale": {
           "diverging": [
            [
             0,
             "#8e0152"
            ],
            [
             0.1,
             "#c51b7d"
            ],
            [
             0.2,
             "#de77ae"
            ],
            [
             0.3,
             "#f1b6da"
            ],
            [
             0.4,
             "#fde0ef"
            ],
            [
             0.5,
             "#f7f7f7"
            ],
            [
             0.6,
             "#e6f5d0"
            ],
            [
             0.7,
             "#b8e186"
            ],
            [
             0.8,
             "#7fbc41"
            ],
            [
             0.9,
             "#4d9221"
            ],
            [
             1,
             "#276419"
            ]
           ],
           "sequential": [
            [
             0,
             "#0d0887"
            ],
            [
             0.1111111111111111,
             "#46039f"
            ],
            [
             0.2222222222222222,
             "#7201a8"
            ],
            [
             0.3333333333333333,
             "#9c179e"
            ],
            [
             0.4444444444444444,
             "#bd3786"
            ],
            [
             0.5555555555555556,
             "#d8576b"
            ],
            [
             0.6666666666666666,
             "#ed7953"
            ],
            [
             0.7777777777777778,
             "#fb9f3a"
            ],
            [
             0.8888888888888888,
             "#fdca26"
            ],
            [
             1,
             "#f0f921"
            ]
           ],
           "sequentialminus": [
            [
             0,
             "#0d0887"
            ],
            [
             0.1111111111111111,
             "#46039f"
            ],
            [
             0.2222222222222222,
             "#7201a8"
            ],
            [
             0.3333333333333333,
             "#9c179e"
            ],
            [
             0.4444444444444444,
             "#bd3786"
            ],
            [
             0.5555555555555556,
             "#d8576b"
            ],
            [
             0.6666666666666666,
             "#ed7953"
            ],
            [
             0.7777777777777778,
             "#fb9f3a"
            ],
            [
             0.8888888888888888,
             "#fdca26"
            ],
            [
             1,
             "#f0f921"
            ]
           ]
          },
          "colorway": [
           "#636efa",
           "#EF553B",
           "#00cc96",
           "#ab63fa",
           "#FFA15A",
           "#19d3f3",
           "#FF6692",
           "#B6E880",
           "#FF97FF",
           "#FECB52"
          ],
          "font": {
           "color": "#2a3f5f"
          },
          "geo": {
           "bgcolor": "white",
           "lakecolor": "white",
           "landcolor": "#E5ECF6",
           "showlakes": true,
           "showland": true,
           "subunitcolor": "white"
          },
          "hoverlabel": {
           "align": "left"
          },
          "hovermode": "closest",
          "mapbox": {
           "style": "light"
          },
          "paper_bgcolor": "white",
          "plot_bgcolor": "#E5ECF6",
          "polar": {
           "angularaxis": {
            "gridcolor": "white",
            "linecolor": "white",
            "ticks": ""
           },
           "bgcolor": "#E5ECF6",
           "radialaxis": {
            "gridcolor": "white",
            "linecolor": "white",
            "ticks": ""
           }
          },
          "scene": {
           "xaxis": {
            "backgroundcolor": "#E5ECF6",
            "gridcolor": "white",
            "gridwidth": 2,
            "linecolor": "white",
            "showbackground": true,
            "ticks": "",
            "zerolinecolor": "white"
           },
           "yaxis": {
            "backgroundcolor": "#E5ECF6",
            "gridcolor": "white",
            "gridwidth": 2,
            "linecolor": "white",
            "showbackground": true,
            "ticks": "",
            "zerolinecolor": "white"
           },
           "zaxis": {
            "backgroundcolor": "#E5ECF6",
            "gridcolor": "white",
            "gridwidth": 2,
            "linecolor": "white",
            "showbackground": true,
            "ticks": "",
            "zerolinecolor": "white"
           }
          },
          "shapedefaults": {
           "line": {
            "color": "#2a3f5f"
           }
          },
          "ternary": {
           "aaxis": {
            "gridcolor": "white",
            "linecolor": "white",
            "ticks": ""
           },
           "baxis": {
            "gridcolor": "white",
            "linecolor": "white",
            "ticks": ""
           },
           "bgcolor": "#E5ECF6",
           "caxis": {
            "gridcolor": "white",
            "linecolor": "white",
            "ticks": ""
           }
          },
          "title": {
           "x": 0.05
          },
          "xaxis": {
           "automargin": true,
           "gridcolor": "white",
           "linecolor": "white",
           "ticks": "",
           "title": {
            "standoff": 15
           },
           "zerolinecolor": "white",
           "zerolinewidth": 2
          },
          "yaxis": {
           "automargin": true,
           "gridcolor": "white",
           "linecolor": "white",
           "ticks": "",
           "title": {
            "standoff": 15
           },
           "zerolinecolor": "white",
           "zerolinewidth": 2
          }
         }
        },
        "title": {
         "text": "Distribution of Movie Durations",
         "x": 0.5
        },
        "xaxis": {
         "anchor": "y",
         "domain": [
          0,
          1
         ],
         "title": {
          "text": "Duration (minutes)"
         }
        },
        "xaxis2": {
         "anchor": "y2",
         "domain": [
          0,
          1
         ],
         "matches": "x",
         "showgrid": true,
         "showticklabels": false
        },
        "yaxis": {
         "anchor": "x",
         "domain": [
          0,
          0.8316
         ],
         "title": {
          "text": "Number of Movies"
         }
        },
        "yaxis2": {
         "anchor": "x2",
         "domain": [
          0.8416,
          1
         ],
         "matches": "y2",
         "showgrid": false,
         "showline": false,
         "showticklabels": false,
         "ticks": ""
        }
       }
      },
      "text/html": [
       "<div>            <script src=\"https://cdnjs.cloudflare.com/ajax/libs/mathjax/2.7.5/MathJax.js?config=TeX-AMS-MML_SVG\"></script><script type=\"text/javascript\">if (window.MathJax && window.MathJax.Hub && window.MathJax.Hub.Config) {window.MathJax.Hub.Config({SVG: {font: \"STIX-Web\"}});}</script>                <script type=\"text/javascript\">window.PlotlyConfig = {MathJaxConfig: 'local'};</script>\n",
       "        <script charset=\"utf-8\" src=\"https://cdn.plot.ly/plotly-3.0.0.min.js\"></script>                <div id=\"97f246e7-32b2-4afb-b766-220ecd564fa8\" class=\"plotly-graph-div\" style=\"height:525px; width:100%;\"></div>            <script type=\"text/javascript\">                window.PLOTLYENV=window.PLOTLYENV || {};                                if (document.getElementById(\"97f246e7-32b2-4afb-b766-220ecd564fa8\")) {                    Plotly.newPlot(                        \"97f246e7-32b2-4afb-b766-220ecd564fa8\",                        [{\"bingroup\":\"x\",\"hovertemplate\":\"Duration (minutes)=%{x}\\u003cbr\\u003ecount=%{y}\\u003cextra\\u003e\\u003c\\u002fextra\\u003e\",\"legendgroup\":\"\",\"marker\":{\"color\":\"coral\",\"pattern\":{\"shape\":\"\"}},\"name\":\"\",\"orientation\":\"v\",\"showlegend\":false,\"x\":{\"dtype\":\"i2\",\"bdata\":\"WgBbAH0AaAB\\u002fAFsAQwBeAKEAPQCmAJMAZwBhAGoAbwBuAGkAYAB8AHQAYgBbABcAcwB6AGMAYwBYAGQAZgBdAGAAXwBVAGEAXwBTAGcAcQANALYAagAwAJEAkQBdAGoAkwBXAGAAXwBcAFsAWgBhAFAAdQCAAFoAdwBuAI8AdwByAF4AagBjAHYAcwBfAHMAbAA\\u002fAHUAeQCOAHEAmgBfAGwAeABkAFIAfAByAGgAXgBeAF0AYQBtAFgAZQBpAGYAZQBnAGoAdgBWAHkA5QBMAF8AYgBZAHgAbgBTAHkAaQBeAJwAcABfAGsAcgCBAFYAYQB9AGsAfwCAAFwAhwB8AIgApQB8AIgAlgBwAHcAhQCOAF0AcQB8AHQAagCRAF0AXwBsAFoAVgBcAFIARgB6AHoAegB6AFQAYABzAG4AWABmAFsAaQCHAFYAjACFAFwAUgBhAE4AXgB5AGEAbgBAADsAZQB\\u002fAFoAcgBsAEYAYgBWAIsAbwBzAGYAZACHAEUAXwBhAHwAdgBzAHMAaABqAGYAYQBXAFgAcgBaAI4AWgBpAGcAdABxAGMAYACUAL0AYQBmAGMAVQBwAFsAWwCNAIIAYgBpAGUAaQB2AGEAZgByAG8AfQBMAHYAZwByAF8AigBwAF4AZgBcAFEAjwBWAIQAdQClAFsAYQBhAHsAXgBvAFUAQQBAAEQAQwBCAEAAQABBAEAARABEAEAAPgA\\u002fAEUARgA\\u002fAEQASgBEAGMAWgBXAGkAagBmAFsAWABrAGUAcgB7AF4AaQB1AHMAfACDAHoAcQBbAGQAXQBaAFYAZABgAF8AcwBkAGYAVwAnAG4AXQBgAF0AXQBvAGkAZQBmAC4AWQBeAGgAYQBbAGoAJgBaAFcAigBpAGgAVQBcAGwAXwBpAHQAfABlAF8AgACPAGsAiABeAIgAfgB0AGQAcwB9ACcAXgBaAF8AmwBiAGwAYAB1AHYAZwBeAF0AcwB4AJEAfgBgAGUAdgBtAFkAagBlAGUAewBqAFkAgABVAFkAbABpAIUAgQB\\u002fAHEAcACCAGQAZwBVAHwAZwB5AFkAXABwAHIAdABuAGIAYgBkAFoAXABSAGEAWgBMAFMAZQBtAGEAVwBeAFkAWABsAGAAVABGAH0AdwBpAIUAjAB4AIcAbwCfAHcAiwCJAGUADQAMAGUAYAB6AF8AWQBiAHcAigBoABEBZQBjAFQAUgBhAFkAJAAiACQAcQBuACQAZgBWAFsAdQBjAE0AYQBqAGEAaABuAD0AYgBKADwAPABnAF4AcAAxAG8AOgBIAE4AZQBuAF4ARgB2AGMAZwBfAF0AZQBlAFkAbQBoAFoAbQCRAFgAhABtAIUAVQBoAGMAXQDMANQAYgBlAF4AGQBjAGwAagCAAGgAfwCIAGEAWABhAGEAWABnAGEAWABhAHYARgBbAFwAeABJAG4AXgA9AIMAgwCDAJQAHQBrAGMAXABbAC8AWAB0AG0AXABXAGUAjABZAFEAdABjAGsAawBaAGgAZAAgAGYAaQBrAEAAYwBmAH4AdwBWAHoAXwBoAHYAVQBiAGMAIwBrAGEAcAB2AG0AbQBYAGEAYQBjAF8AWwBzAF0AbQBgAE4AVwBMAEwARwCKAHEAXgBZAHkAfwBeAFkAiABZAGMAXQBVAGYAZQBxAIAAcgBVAHkAXwB5AHQAWwCVAHEAIQB\\u002fAGUAZgBmAGsAewBiAF8AZQBoAGgAZwBvAGYADwA2AHgAagB0ADoAdAB+AFYAYQBMAFAAUQBUAFcAWwBMAIQAfgBlAGYAkwDgAI0AbQCiAI4AXQA8AHcAJQBgAHQAZgB7AGYAfwBYAGoAQQBgAFgAjwCJAEsARwBnAIIAkQBUAFQATQBWAE8AUABRAE4AdgBmAIQAbACFAGsAIABOADcAXABWAIwAjwBYAFkAXQBhAF4AcABkAHgAWwBiAHEAYgBbAJ4ApACFAEsAZwBaAHQAYAB5AGUArQBZALYAtQC5AGMAWABrAHIAYACVAGYAUwBiAFMAaABvAGIAXQBJAI0AdAAVAGIAVwBXAF8AVwBdAGEAcgBkAGkAWgA8AGIAbABaAGYAVAB4AGoAcwBiADwAcQBlABgAMwBQAGQAiwBKAIMAgwB2AFcAZQBhAFwAiABhAGcAbgBpAFoAawBcAF4AYwBhAJcAbABxAFEAdAB3AHQAcAB5AHMAtgBiAGAAKgC1AGQAFgCGALEAXgBYAHcAawBwACMAZwBaAHgAYQBmAGoAdwBUADoAWgBtAI8AcACGAHsAJAB7ADoAdgBbAEwAYQBVAFwAiwCiAFwAVgBrAFUAUwBoAHQAVwBbAHcAZgBWAGYAYgBjAGwAcgBoAFgAaAB7AGoAigBxAGsAhQBhAHQAewBZAF0AiwBwAGUAcQBZAGsAewBxAFoANAB\\u002fAF8AeQBsAGYAXwCFAH8AXwBlAHsAWQBkAGwAXgBnAGkAdABcAEEAcwBgACAAZgBmAGUARwBRAGIAWgBwAKEAgQBVAA4AlABjAGEAZQBZAIAATABjAH4AagBlAFcAbwBaAFsAZQBgAGAAlABgAGIAaAA1ADYAcQBmAHYAUwBNAHQAdABqAGkACABuAEcAWwAuAG0AZgBlAF4AbgB1AFUAdwBzAGkARAA5ABwAYgBfAGAAQgBwAFQAXgAgAGIAVQB4AFMAXgBmAG8AWgBvAG4AVwCEAHUAMgBqAH0AawA7ABwACQBbAIQAhQBtAGsAbwBsAGkAdwBoAFMAWgBPABgAcwBhABoALgBqAHEAhQBdAGwAYAAZAGUAagA2AHYAOgB1ADAAiwBzAG0AWwA8AGYAeACVAFsAYwBqAGwALQBdABYAUQBiAGQAcAByAEQAZwB5AF8AVwBzAKsAqwAuAHUAVABiAFMAYQBjAGwAXQAqAA0AQACiAIIAbACBAGkAhQCOAIAAYQBrAIcAVABGAHwAZgBUAF8AVAB4AFcASwB8AFwAXwBrAHsAVQCWAGEAWABKAF0AlwBSAJQAXwBaAGcAVwBmAGAAVwBWAIgAPAB\\u002fAGAADwBkAFcAHAAbAFoAZgBeAFEAhgByAGsAawCCAFcAXQByAFsAdABdAGoAaQAyAF0AZwByAF8AMgCWAGQAdQBXAGQAVgBmAFcAZwBwAHgAbwBOADMAewAuAGYAagBwAGUAYABnAF4ARQBRAEwAbABeAGoAYgBdAGMAXQBSAGsAaACCAFMAYwBNAF4AdgBXACoAZQBQAG4AdQAvAKUAhgCMAJYAnABWAH4AZAAZAHwAZABqAGgAYABaACEAUQBUACwAcwBeABYAawBzAF0AawBWAHAAZgBbAFMASQCLAF8AZQBLAFcAWwB4AHsAXwBUAB0AHAB6ABwAYgA7AFAAZwBoAJIAhwCBAHMAjwCtAIEAlQBiAHMALAB\\u002fAHwAVQAUAGYAgQB8AHYAbwB9AF4AggB1AIkAiwBvAGcAeABiAIIAYAA9AIkAWgBFAIsAXgBcAFAAPwBYAGkAXQCMAGcAZgBdAEUAhQCdAHQAcABgAH8AggBdAIoAigBcAG4AZgBxAGAAbABeAGMAVgBiAG8AYQCHAF0AXgB1AD8ASQBbAF0AZQBdAGAAcABIAHAASABcAG0AmwBtAHMAYQBnABgAbgBhAF4AawBhAGcAWABvAF4AIQBrAG4AYgBRAGgAEQB5AGQARgBhAEsAZgBYAJ4AZgDLADsAXABoAEgAcQBdAHcAaQBxAF0ALABuAHEAWgBSAEUALgBeAEgAXwBlABUARwBAAFwAUABoABkAbwBIAGMAUwCWAGwALABmAIkAcABmAGcAiAApAFgAVAByAG4AZwBqAC4AcwCMAHwAhQBbAB4AQwBpADoAVwBkAF8AWgBmAGIARABoAFkAPgBWAGgAZQARAH4AeABZAGAAWwBWAEMAWQBBAJcAdABuAHsAiwBfAHkAfwCiAIAAcAB9AIAAeABWAGsAgQCHAGEAfQCiAIgAigB+AIkAcgBgAGsAWQBeAJQAUgBfAHgAcwBrAGkAhgCAAGcAYAByAGYANABWAGgATACHAGMAfAB1AGsAbwB0AIcAfgCkAKYAaABeAFwANABwAFoAZQBUAHAAiABsAG4AXQBaAIIAgABoAIMAbQCBAEkAaAAwAHIAVgDCAEwAdACCAFUAbABRAEwAXABVAFUAbAB4AHUAZABlAJwANwBgAGgAZQBxAH4AYgByAIQAXABaAFYAZwByAHMAlQBgAGYAaQByAF4AUwBqAHQAbQBhAGQAdABvABgAXwCHAF8AXABkAFAAYgBoAGIAaABjAEQAagBHAFAAdABwAEkAbgCHAIAAXQCVADYAVwBmALEAzADpAGIA7QDmAK0AwwD9AJ0AYQBVAF4AUABeAFwAaQB4AGAAawBdAGUAbgBwAF0AbQBpAGEAWwBYAG0AdgBtAIMAWwCYAEMASABTAFoAagC+AIEAoABWAFwAcgBaAF4AVgBZAGsAPQBdAFEAeABeAFsAaABMAFoAZwB6AGEAYgAqAFoAWwBeAGsAjwBpAHQAFwAXABcAaQBhAGkAUwBtAG8AYQCEAGYAawBkAHMAaABuAGQAbwBsAGgAdABqAGAAjABrAIoAhADQAGkAZQB8AF0AbgBzAGsASABrAF8AtACHAFcAXgBpAF0AXACQAGUAUQBfAHcAeQBYAGoAdwA\\u002fAFIAXwBdAHgAkwA3AGsAXABVAGIAXABlAHAAZwBbAGAAaABCAFMAbwBaAHkAeQBYADkAawAFAFsArgCbAFcATQCOAKoApQChAJAAlQCHAIMAfgDAANEAuwCKALkAjwBhAKwAZwBTAGsAcgBdAFUAVQCDAGUAawBUAGgAoABnAC4AcABTAEgAGABoAEgAcQAVAGQAbABjAGgARgBdAF8AbQBbAEsAZABfAHEAWwA+AF0AhwAXABcAFwBlAGIAZwBqAF8AhABSAEcAEABoAE8AeABSAHMAbwBuAHkAogBsALoAdACaAGkARwA9AIUAYgB3AD0AggALAFcAfwBXAFgAngBSAF0AWgBtAEgAogBiAGcAYQBeAGUAigBtADIAbgBcAHgAZQB0AHUAXwBdAHoAZgBgAF0AXQBIAFcAXwAhAHEAdgCrAGQAZwBWAGYAUQBlAEkAYABqAFgAZwCLAFkAaAB8AHAARgBqAGEAagA8AJQAegBWAMEAXABeAFIAOwBZALAAdABWAF0AVQA+AHAAeQCFAEwAUgCcAFoAYQAzAGIAPQB0AIQAEQBbAHkATgBfAFYAhABrAHoAXwBsAGMAZwBCAIQAOACAAHcAYQBcAGYAWgCBAGoAaQBOAE8ATgCRAEcAUwBRAHcAYgBmAFgAYQBuAFUAWgBZAHgAZgBJAGcATwBhAFsAYABnAF8AUwB1AEYAWgBWAFYAcQBSAI0AawB+ABkAPwCIAHgAhgC5AK4AqQCUAIcAhwBZAHcAYgCHALkAnABoAIsAjACaAIEAYwBkAG4AawBfAFkAQQCPAGUAPAAdAFwArABhAGwAawCJAGoAcwAuAFwAXQBVABgAOABWAH8AXQBeAHgAbACHAG8AhgCJAGcAhQBfAH4AQwCHAGoAawBRAGsAdgBuAGgAXQBeAIkAhgBFAGoA0QBWABgALgB1AFcAeQBhAHkAOAB3AF0AVgCGABwAgwBOAF0AVABrAGUAawBKADwAjwBpAG4AYgBKAC4ANgA7AGQAWABdAF4AeQBOAHQAVwA9AGIAewBVAE4AZwAsAEQARABFAFEARQBEAEQAVgAoAF4AWgBwAGUAdwAoAFYAXABbACQAjQBrAGEAGABZAEEAfgA\\u002fAA4AHAAUAGoAdgB\\u002fAD0AVgBeAFIAXAA0AGwAQwBbAEIAdgBXAC8AOAA9ACIAYgBjAF8AZABlAFYAYABjAHAAfwAWAE4APwBhAFYAPgBgAGgAewBkAGMAlwBmAJoAagBXAEYALgBlAG0AZABuAGYAZgAYAGIATABaADsAOgBAAE8AUQBRAEAALQBaAGYAdAAqAIUAbAAmAJIAkgBqADoAmABXAHkAUwBvABgAqwBYAEwAQABeAJ0AUwBBAGkAawBnAEMAYAB9AI4AhQBkAAoAgABdAFEAUgAvAF8AVABbAGYAZABiAG4AVQBCAFwAhQCHAHgAdgBuAGIAYgBiAGgAPwA0AEgAdQBkABgAVgBFAHcAewBdAG0AQgBrAC4AdQBDAHIAQwBNAGkAPwA7AGYAUQBUAGUAdACxAIIAOwBvAGQATQBdAHIAOgA4AG4AYgBqAGYAUQBiAIgAoQAgAGkAagBaAFcAWwBqAEEAaQAoAEIAPQB6AI0AsABJAFcADwA3AI0AegBtAD8AYABxAEUAVwB0AHQAbgB6ADsAWABbACgAcQBaAF8AYgA9AHUAPACOAEoAdwByAH0ARwBuAH8AdgBaAIIADAA+AAMAcgCAAG0AbQBlAGcAYgB7ACYAZQBjAFsAHgAeAIkAQgBGAFcAWABaAFQANQBXAFoAYABeAGwAZgA9AF4ARgBYAGQAbwCAAGIAaAB+AFYAfQAoAE8AbgCAAG4AdAB3AFoAWABoAIwAXABAAHcAWwB6AH0AMQCoAGIATQBmAFwAbwBxADYAigB7ADsAZgCNAF8AbwCDAHQAdwCSAGUAVwBeAIUAhwA9AFsAOwBbAIMAqgBYAKoAXAA7AH4AeABMADwAZwB8AFsAWABRAHwAZgCEAFcASwB+AD0AfgBsAGQAgQBHAGwAPABpAHMAdgCCAHMARQBhAD0AXABsAGgAQQBqAEUAYQBQAFUAYgBzAHUAhAB\\u002fAH0AgAB+ADoAdABaAG8AZABjAGkAgABbAH8AXgB8AGcAdgCiAFkAWQBsAGcAVwBdAFoAgwByAGsAYQBnAH0AggB3AG4AeABmAH0AfwB5AHEAdgCEAD0AUABuAEYAdQBZAFQAgwCLACoATwBgAHIAYwBvAHAAYABnAGgAZgBhAIQAeACJAFIAcwCCAD4AGgBbAD8ASgCIADsAWwBdAFQAZAAzABYAFgAWABgAcQBuAHgAOAB\\u002fAEoAWwCJAFYAagB9AHIAjwB5AHcAlgBYAGkAdwBgAF8AYgBgAGAAWgBhAFoAWABpAH8AfQB0AGYAQQBqAHUAiABoAEEAWwBjAFsAdQBfAGUAZgB6AF8AXABvAHMAPQBhAHgAlAAwABwAIgA9ADgAUQBEADoAZAAyADEARwAdAGwAfQBkAB4AHgCSAH8ALgA5AHoAOAFtAEkAYABpAHwAaQBOABYAXwBSAFkAWgBVAB0AiQAbAHAAcACZAHsAWgBUAE4ATwBJAFMAUwCRAIcAIwBEAGAAbgA6AGkAOwAcAGIAPwCbAHoAVwBJAGIAggBpAG4AUQBzAHEAkgB2AG0AdQAXAF8AfABaAGAAYABdAB4AUgB\\u002fAHIAdwBlAGAALABoAFsAWwByAFsAQABZAF8AXgCFAGYAegBWAG8AbwCIAHkAdwBzAIAAXABjAGoAegCBAFoAdAA7AF8AegBiAHUAXwCSAIgAWwB7AJAAeQBbAJ4AnQB8AGoAXABQAH4AgQCFAG0AjwCMAJYAgAB4AJoALQCEAH4AXwCHAIsAgwB2AIEAgwCSAHsAjQBdAFsAagCDAF8AaAB+AHYAXgBkAH4AWgBXAGEAcwBdAIoASgBmAGgAMwAyAFYAjAB6ABcAXwB5AIMAPwCWAJ8AgwCCAGMAVgBqADkAYQCQAG4AOQB3AF4AWQB8ABkAeQBYAG8AUQBAADcAiQA4ADoAUABeAF4ASAA8AIwAWwBhAJIAdgCAAIkAkQCNAGoAhwCJAIEAYwCbAI4A1gCJAIAAlwB5AGUAkQCTAFoAgQCBAIgAdQCWAIYAZAAsACwAbwCTAHMAeQBnAEkAgQBmAHoAmwCLAIMAfwCcAFsAhACCAIkAnACEAHcAjAB+AGsAbwCCAH4AGABsAHUAZQB8AD8AcgBiAGQAZAB7AE0AagBqAGYAkgBgAGgAbQBuAG4AZQBeAGUAjQB4AIwAMgA5AB8AWgBuAKIAiwCCAJEAIQByAGQANgCWAGkAfABfAAwAaACPAH8AZABKAGgAlAB\\u002fAJ4AfACjAHkAmgB\\u002fAIAAYgBtAKgAogCfAIkAhQB\\u002fAIMAWgBYAFcAUgBWAGQAOQBfAGUAfABIAF0AXABfAIUAVQBpAGUAWABxAEcASwBCAFMAbgBYAE0AOgBFAD0AWAB6ADwApgBrAF4AVwBcAIIAWACAAGAAXgBFAFoAZQBNAFkAWgBiAEIAZwBfAFkASgB3AEYAeQBqAEoAagBxAHcAZABuAEIAfgCCAG4AVQB1AD8AXgBKADoAdQBZAEIAngBkAEAAXAA\\u002fAGkAQwBbAFwAVwBkAHEAKABpAF4AbQBjAFkAXABpAIIARQBiAFoAQQBcABMAGQAWACgAFgAYAGUAWgBgAHMAXABdAF8AaQB1AEIAYQBOAGYAPgBhAGkATwBaAGsAaQBjAGwAQgBLAGAAXwAgAEYAXgBOAFsASwBpAGAAhAA8AKsAdACpAIYAnwBXAGcATgA+AGEAZgBfAHMAZgBjAEoAZACWAFcAWAA\\u002fAIEAWwBzAIwATwBoAHkAKABeADoATgAzAEUAaAA7AF4ApgCbAJEAagBeAH8AVwC5AEsAWQBRAC8ALgB9AKAAbgBFAEMAaQB\\u002fAG0AhgA8AGAAQQCFAGAAXwAYAGEAQQBmADUAdABmAFYAdQBgAEUAbABmAD0AOQAxAFcAOwA\\u002fAEUAPgBsAF8AYwA+ADwAkwCZAFcAfABeAGQARwA8AIcAYQBWAFsAUgBmAGkAagBbAD0AUAB2AF4AVABnAEUAaQCAAFYAbQBGAFkAogCjAFsAGwBDAI4ATgAaAC4AUQB3AGMAYACAAHIAZQBtADMAPQBJAFwAXgCHAEIAfgA2AGQAUQB7AJAAmQCNAGgAYQBSAGIAVABMAEsAXQBiAFsAqABEAGcAXwBSAF4AQgCHAJAAWgCeAFMAZgA0AG4AVQBxAFgAWQA7AGoAQgCHAF0ATwBrAC8AdgBRAGcAKABnAFUAaABSAHAAZgBlAHcAPgBAAIkAbABOACgARwBjADwATgBiAEYAlAA2AFwAawBaAIcAlwCEAF8AogCjAFkAHABnAKAAcQBWAFMAcQBWADkAYgB0AGQAMwBxAHwAPwA4AF4AWgBHAGEAUwBcAKUApgCmAJ8AoACfABYAaQA2AHkAZwCBAF8AUABDAFQAYQBWAHIAVABDAFsAPwB0AGgADgBZAGwAOwBKAFQAYQBfAHQAVgCZAGgAowBqAJQAaQB5AEIAZgBgAFkAoQAYAEIAWwBcAGgASQAvAGYAVwB1AHcAggBmAJoALABgAC8ALABtAFkAXAB6ABMAmgCYAKEAewAsAFAARwCZAE8AjwB7AFAASQBqAGUAOwCkAJcAVAAzAI4AbgBWAGUAWABWAD0AUQBIAGIAQABvAJQAowBfAGMALABdAFkAUwBoAFEANQBfAJUAagBsAEIAcQBTADIAYQBpAGsAYwBlAFEAXACDAGUAYABVAG4AWQBYAFgAjwBTAGsAYwCGAE4AUQBqADMAZgA\\u002fAFsAXQBdAGEAXACJAI8AqAB1AFcAoAA+AG0AZgB2ADkAXgBHAHsAYQBjAGEAQwBpAE4AYwB3AG0AawBcAFgARwBAAGEAYACWADYATgBWAJoAswBdAGEAbABcAE4AVwBjAFsAZgBDADkAggBQAEIAaQBiAFsAewBSAGgAbQBKAFQAYgAWAGQASwBFAGEAXABcAJIAYQBdAD4AFgBYAGkAWABdAGIAWAAfAFMAJgBsAGEAUQBGAD4AYwBwAFoAOABZABgAZAB0AFwATwBIAFwAPQBYAHEAQwBBAD4AawBFAE0AYgBHAEAAcAA7AFsALABrAFwAWQBrAF4AbgBRAE0AQABhAE0AXgBeAFsAUABfAFoAZQBJAGwAGQBWAGkAZABgAGEASQAsAIQAYABcAGMAXABjAE4AQQBBAEUAQAA\\u002fAD8AWQA8ACkAUwAZAF4ANABLAFwAUAAuAEgARwBNAEYASQBRAD8ALQAuAHAAZQB1AHIAYABXAGkAUABhAGkAPABtADwAZQBbAEIAfwBSAEYAFwBhAD4AVABaAGUASgBEAFwAawBsAEoAHQA8AHgASgA5AFsAPgBVAFoAaQA7AIkAVgBjAEAAUgBaAFAAPgBcAE4AXABFAGcAXACPAFMATgBUAFQAOgBSAFMAHQBIABoAUQBLAGQAWgBEAEcAZABeAFAAIwBdAGkAggBkAFAATABfAGAAXgBeAF0AYABeAF4AXQBfAF0ASwBnAB0AaABRAFAAewB3AHYAjwCVAFcAgAB1AGQAVABaAGkAagBjAF0AWQBpAG0AXQBLAFoAWgBdAHEAWQBmAGYAWgBeAFsAawBfAHcAXQBlAF0AUgBGAGgAeQBcAHwANQBbAFMAXQBRAFYAagBhAGMAZAB+AF4AZwBgAIkAaABoAF4AsACJAGUAbwBuAI4AVgBdAFYAUABcAGAAVwBiAH0AWwBMAFIAbwBcAF4AWwAsAGwAewBqAFkAYgBsAFwAZgBnAFsAbgBNAGMAegCWAH4ApABzAIUAfwBkAIMALABlAFoAWQBYAIUAbgBwAFcAWwBvAGMAVgBdAFcAawBZAFwAegBbAH8AmQBeAGoAZgBwAD8AWgBZAGUAVQBTAFwAVABbAGQAZwBnAC0ALQBaAGIAXACsAH0AUQBwAHoAZQA1ADUAYwBfAHcAowA3AGYAagCAAFAAUABLAEsATwBXAGEAVQBvAHEAWgBnAGkAaAB\\u002fAFwASAB2AG4AQQBaAIYAWQBWAFcAawBPAFcAcQBuAGIAXQCLAF4AhQBRAFsAegBmAFgAMQBuAJYAYQCBAGMAcACPAD0AXwBcAGEAWgB3AJMAUwBTAFsAdQBOAEsATgCVAGcAXgBfAHoAawB+AHoAXwBlAEoASgBKAFMATwBIAFAASwBLAEgAYwBbAKYAZwCAAFcAfQB5AG4AWAA0AFkANABRAEkASwBjAHkAZABhAGkAZABzAGMAWwBaAGQAGQBjAHgAYgBoAJUAcABiAHgAlwA\\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\\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\"},\"xaxis\":\"x\",\"yaxis\":\"y\",\"type\":\"histogram\"},{\"hovertemplate\":\"Duration (minutes)=%{x}\\u003cextra\\u003e\\u003c\\u002fextra\\u003e\",\"legendgroup\":\"\",\"marker\":{\"color\":\"coral\"},\"name\":\"\",\"notched\":true,\"showlegend\":false,\"x\":{\"dtype\":\"i2\",\"bdata\":\"WgBbAH0AaAB\\u002fAFsAQwBeAKEAPQCmAJMAZwBhAGoAbwBuAGkAYAB8AHQAYgBbABcAcwB6AGMAYwBYAGQAZgBdAGAAXwBVAGEAXwBTAGcAcQANALYAagAwAJEAkQBdAGoAkwBXAGAAXwBcAFsAWgBhAFAAdQCAAFoAdwBuAI8AdwByAF4AagBjAHYAcwBfAHMAbAA\\u002fAHUAeQCOAHEAmgBfAGwAeABkAFIAfAByAGgAXgBeAF0AYQBtAFgAZQBpAGYAZQBnAGoAdgBWAHkA5QBMAF8AYgBZAHgAbgBTAHkAaQBeAJwAcABfAGsAcgCBAFYAYQB9AGsAfwCAAFwAhwB8AIgApQB8AIgAlgBwAHcAhQCOAF0AcQB8AHQAagCRAF0AXwBsAFoAVgBcAFIARgB6AHoAegB6AFQAYABzAG4AWABmAFsAaQCHAFYAjACFAFwAUgBhAE4AXgB5AGEAbgBAADsAZQB\\u002fAFoAcgBsAEYAYgBWAIsAbwBzAGYAZACHAEUAXwBhAHwAdgBzAHMAaABqAGYAYQBXAFgAcgBaAI4AWgBpAGcAdABxAGMAYACUAL0AYQBmAGMAVQBwAFsAWwCNAIIAYgBpAGUAaQB2AGEAZgByAG8AfQBMAHYAZwByAF8AigBwAF4AZgBcAFEAjwBWAIQAdQClAFsAYQBhAHsAXgBvAFUAQQBAAEQAQwBCAEAAQABBAEAARABEAEAAPgA\\u002fAEUARgA\\u002fAEQASgBEAGMAWgBXAGkAagBmAFsAWABrAGUAcgB7AF4AaQB1AHMAfACDAHoAcQBbAGQAXQBaAFYAZABgAF8AcwBkAGYAVwAnAG4AXQBgAF0AXQBvAGkAZQBmAC4AWQBeAGgAYQBbAGoAJgBaAFcAigBpAGgAVQBcAGwAXwBpAHQAfABlAF8AgACPAGsAiABeAIgAfgB0AGQAcwB9ACcAXgBaAF8AmwBiAGwAYAB1AHYAZwBeAF0AcwB4AJEAfgBgAGUAdgBtAFkAagBlAGUAewBqAFkAgABVAFkAbABpAIUAgQB\\u002fAHEAcACCAGQAZwBVAHwAZwB5AFkAXABwAHIAdABuAGIAYgBkAFoAXABSAGEAWgBMAFMAZQBtAGEAVwBeAFkAWABsAGAAVABGAH0AdwBpAIUAjAB4AIcAbwCfAHcAiwCJAGUADQAMAGUAYAB6AF8AWQBiAHcAigBoABEBZQBjAFQAUgBhAFkAJAAiACQAcQBuACQAZgBWAFsAdQBjAE0AYQBqAGEAaABuAD0AYgBKADwAPABnAF4AcAAxAG8AOgBIAE4AZQBuAF4ARgB2AGMAZwBfAF0AZQBlAFkAbQBoAFoAbQCRAFgAhABtAIUAVQBoAGMAXQDMANQAYgBlAF4AGQBjAGwAagCAAGgAfwCIAGEAWABhAGEAWABnAGEAWABhAHYARgBbAFwAeABJAG4AXgA9AIMAgwCDAJQAHQBrAGMAXABbAC8AWAB0AG0AXABXAGUAjABZAFEAdABjAGsAawBaAGgAZAAgAGYAaQBrAEAAYwBmAH4AdwBWAHoAXwBoAHYAVQBiAGMAIwBrAGEAcAB2AG0AbQBYAGEAYQBjAF8AWwBzAF0AbQBgAE4AVwBMAEwARwCKAHEAXgBZAHkAfwBeAFkAiABZAGMAXQBVAGYAZQBxAIAAcgBVAHkAXwB5AHQAWwCVAHEAIQB\\u002fAGUAZgBmAGsAewBiAF8AZQBoAGgAZwBvAGYADwA2AHgAagB0ADoAdAB+AFYAYQBMAFAAUQBUAFcAWwBMAIQAfgBlAGYAkwDgAI0AbQCiAI4AXQA8AHcAJQBgAHQAZgB7AGYAfwBYAGoAQQBgAFgAjwCJAEsARwBnAIIAkQBUAFQATQBWAE8AUABRAE4AdgBmAIQAbACFAGsAIABOADcAXABWAIwAjwBYAFkAXQBhAF4AcABkAHgAWwBiAHEAYgBbAJ4ApACFAEsAZwBaAHQAYAB5AGUArQBZALYAtQC5AGMAWABrAHIAYACVAGYAUwBiAFMAaABvAGIAXQBJAI0AdAAVAGIAVwBXAF8AVwBdAGEAcgBkAGkAWgA8AGIAbABaAGYAVAB4AGoAcwBiADwAcQBlABgAMwBQAGQAiwBKAIMAgwB2AFcAZQBhAFwAiABhAGcAbgBpAFoAawBcAF4AYwBhAJcAbABxAFEAdAB3AHQAcAB5AHMAtgBiAGAAKgC1AGQAFgCGALEAXgBYAHcAawBwACMAZwBaAHgAYQBmAGoAdwBUADoAWgBtAI8AcACGAHsAJAB7ADoAdgBbAEwAYQBVAFwAiwCiAFwAVgBrAFUAUwBoAHQAVwBbAHcAZgBWAGYAYgBjAGwAcgBoAFgAaAB7AGoAigBxAGsAhQBhAHQAewBZAF0AiwBwAGUAcQBZAGsAewBxAFoANAB\\u002fAF8AeQBsAGYAXwCFAH8AXwBlAHsAWQBkAGwAXgBnAGkAdABcAEEAcwBgACAAZgBmAGUARwBRAGIAWgBwAKEAgQBVAA4AlABjAGEAZQBZAIAATABjAH4AagBlAFcAbwBaAFsAZQBgAGAAlABgAGIAaAA1ADYAcQBmAHYAUwBNAHQAdABqAGkACABuAEcAWwAuAG0AZgBlAF4AbgB1AFUAdwBzAGkARAA5ABwAYgBfAGAAQgBwAFQAXgAgAGIAVQB4AFMAXgBmAG8AWgBvAG4AVwCEAHUAMgBqAH0AawA7ABwACQBbAIQAhQBtAGsAbwBsAGkAdwBoAFMAWgBPABgAcwBhABoALgBqAHEAhQBdAGwAYAAZAGUAagA2AHYAOgB1ADAAiwBzAG0AWwA8AGYAeACVAFsAYwBqAGwALQBdABYAUQBiAGQAcAByAEQAZwB5AF8AVwBzAKsAqwAuAHUAVABiAFMAYQBjAGwAXQAqAA0AQACiAIIAbACBAGkAhQCOAIAAYQBrAIcAVABGAHwAZgBUAF8AVAB4AFcASwB8AFwAXwBrAHsAVQCWAGEAWABKAF0AlwBSAJQAXwBaAGcAVwBmAGAAVwBWAIgAPAB\\u002fAGAADwBkAFcAHAAbAFoAZgBeAFEAhgByAGsAawCCAFcAXQByAFsAdABdAGoAaQAyAF0AZwByAF8AMgCWAGQAdQBXAGQAVgBmAFcAZwBwAHgAbwBOADMAewAuAGYAagBwAGUAYABnAF4ARQBRAEwAbABeAGoAYgBdAGMAXQBSAGsAaACCAFMAYwBNAF4AdgBXACoAZQBQAG4AdQAvAKUAhgCMAJYAnABWAH4AZAAZAHwAZABqAGgAYABaACEAUQBUACwAcwBeABYAawBzAF0AawBWAHAAZgBbAFMASQCLAF8AZQBLAFcAWwB4AHsAXwBUAB0AHAB6ABwAYgA7AFAAZwBoAJIAhwCBAHMAjwCtAIEAlQBiAHMALAB\\u002fAHwAVQAUAGYAgQB8AHYAbwB9AF4AggB1AIkAiwBvAGcAeABiAIIAYAA9AIkAWgBFAIsAXgBcAFAAPwBYAGkAXQCMAGcAZgBdAEUAhQCdAHQAcABgAH8AggBdAIoAigBcAG4AZgBxAGAAbABeAGMAVgBiAG8AYQCHAF0AXgB1AD8ASQBbAF0AZQBdAGAAcABIAHAASABcAG0AmwBtAHMAYQBnABgAbgBhAF4AawBhAGcAWABvAF4AIQBrAG4AYgBRAGgAEQB5AGQARgBhAEsAZgBYAJ4AZgDLADsAXABoAEgAcQBdAHcAaQBxAF0ALABuAHEAWgBSAEUALgBeAEgAXwBlABUARwBAAFwAUABoABkAbwBIAGMAUwCWAGwALABmAIkAcABmAGcAiAApAFgAVAByAG4AZwBqAC4AcwCMAHwAhQBbAB4AQwBpADoAVwBkAF8AWgBmAGIARABoAFkAPgBWAGgAZQARAH4AeABZAGAAWwBWAEMAWQBBAJcAdABuAHsAiwBfAHkAfwCiAIAAcAB9AIAAeABWAGsAgQCHAGEAfQCiAIgAigB+AIkAcgBgAGsAWQBeAJQAUgBfAHgAcwBrAGkAhgCAAGcAYAByAGYANABWAGgATACHAGMAfAB1AGsAbwB0AIcAfgCkAKYAaABeAFwANABwAFoAZQBUAHAAiABsAG4AXQBaAIIAgABoAIMAbQCBAEkAaAAwAHIAVgDCAEwAdACCAFUAbABRAEwAXABVAFUAbAB4AHUAZABlAJwANwBgAGgAZQBxAH4AYgByAIQAXABaAFYAZwByAHMAlQBgAGYAaQByAF4AUwBqAHQAbQBhAGQAdABvABgAXwCHAF8AXABkAFAAYgBoAGIAaABjAEQAagBHAFAAdABwAEkAbgCHAIAAXQCVADYAVwBmALEAzADpAGIA7QDmAK0AwwD9AJ0AYQBVAF4AUABeAFwAaQB4AGAAawBdAGUAbgBwAF0AbQBpAGEAWwBYAG0AdgBtAIMAWwCYAEMASABTAFoAagC+AIEAoABWAFwAcgBaAF4AVgBZAGsAPQBdAFEAeABeAFsAaABMAFoAZwB6AGEAYgAqAFoAWwBeAGsAjwBpAHQAFwAXABcAaQBhAGkAUwBtAG8AYQCEAGYAawBkAHMAaABuAGQAbwBsAGgAdABqAGAAjABrAIoAhADQAGkAZQB8AF0AbgBzAGsASABrAF8AtACHAFcAXgBpAF0AXACQAGUAUQBfAHcAeQBYAGoAdwA\\u002fAFIAXwBdAHgAkwA3AGsAXABVAGIAXABlAHAAZwBbAGAAaABCAFMAbwBaAHkAeQBYADkAawAFAFsArgCbAFcATQCOAKoApQChAJAAlQCHAIMAfgDAANEAuwCKALkAjwBhAKwAZwBTAGsAcgBdAFUAVQCDAGUAawBUAGgAoABnAC4AcABTAEgAGABoAEgAcQAVAGQAbABjAGgARgBdAF8AbQBbAEsAZABfAHEAWwA+AF0AhwAXABcAFwBlAGIAZwBqAF8AhABSAEcAEABoAE8AeABSAHMAbwBuAHkAogBsALoAdACaAGkARwA9AIUAYgB3AD0AggALAFcAfwBXAFgAngBSAF0AWgBtAEgAogBiAGcAYQBeAGUAigBtADIAbgBcAHgAZQB0AHUAXwBdAHoAZgBgAF0AXQBIAFcAXwAhAHEAdgCrAGQAZwBWAGYAUQBlAEkAYABqAFgAZwCLAFkAaAB8AHAARgBqAGEAagA8AJQAegBWAMEAXABeAFIAOwBZALAAdABWAF0AVQA+AHAAeQCFAEwAUgCcAFoAYQAzAGIAPQB0AIQAEQBbAHkATgBfAFYAhABrAHoAXwBsAGMAZwBCAIQAOACAAHcAYQBcAGYAWgCBAGoAaQBOAE8ATgCRAEcAUwBRAHcAYgBmAFgAYQBuAFUAWgBZAHgAZgBJAGcATwBhAFsAYABnAF8AUwB1AEYAWgBWAFYAcQBSAI0AawB+ABkAPwCIAHgAhgC5AK4AqQCUAIcAhwBZAHcAYgCHALkAnABoAIsAjACaAIEAYwBkAG4AawBfAFkAQQCPAGUAPAAdAFwArABhAGwAawCJAGoAcwAuAFwAXQBVABgAOABWAH8AXQBeAHgAbACHAG8AhgCJAGcAhQBfAH4AQwCHAGoAawBRAGsAdgBuAGgAXQBeAIkAhgBFAGoA0QBWABgALgB1AFcAeQBhAHkAOAB3AF0AVgCGABwAgwBOAF0AVABrAGUAawBKADwAjwBpAG4AYgBKAC4ANgA7AGQAWABdAF4AeQBOAHQAVwA9AGIAewBVAE4AZwAsAEQARABFAFEARQBEAEQAVgAoAF4AWgBwAGUAdwAoAFYAXABbACQAjQBrAGEAGABZAEEAfgA\\u002fAA4AHAAUAGoAdgB\\u002fAD0AVgBeAFIAXAA0AGwAQwBbAEIAdgBXAC8AOAA9ACIAYgBjAF8AZABlAFYAYABjAHAAfwAWAE4APwBhAFYAPgBgAGgAewBkAGMAlwBmAJoAagBXAEYALgBlAG0AZABuAGYAZgAYAGIATABaADsAOgBAAE8AUQBRAEAALQBaAGYAdAAqAIUAbAAmAJIAkgBqADoAmABXAHkAUwBvABgAqwBYAEwAQABeAJ0AUwBBAGkAawBnAEMAYAB9AI4AhQBkAAoAgABdAFEAUgAvAF8AVABbAGYAZABiAG4AVQBCAFwAhQCHAHgAdgBuAGIAYgBiAGgAPwA0AEgAdQBkABgAVgBFAHcAewBdAG0AQgBrAC4AdQBDAHIAQwBNAGkAPwA7AGYAUQBUAGUAdACxAIIAOwBvAGQATQBdAHIAOgA4AG4AYgBqAGYAUQBiAIgAoQAgAGkAagBaAFcAWwBqAEEAaQAoAEIAPQB6AI0AsABJAFcADwA3AI0AegBtAD8AYABxAEUAVwB0AHQAbgB6ADsAWABbACgAcQBaAF8AYgA9AHUAPACOAEoAdwByAH0ARwBuAH8AdgBaAIIADAA+AAMAcgCAAG0AbQBlAGcAYgB7ACYAZQBjAFsAHgAeAIkAQgBGAFcAWABaAFQANQBXAFoAYABeAGwAZgA9AF4ARgBYAGQAbwCAAGIAaAB+AFYAfQAoAE8AbgCAAG4AdAB3AFoAWABoAIwAXABAAHcAWwB6AH0AMQCoAGIATQBmAFwAbwBxADYAigB7ADsAZgCNAF8AbwCDAHQAdwCSAGUAVwBeAIUAhwA9AFsAOwBbAIMAqgBYAKoAXAA7AH4AeABMADwAZwB8AFsAWABRAHwAZgCEAFcASwB+AD0AfgBsAGQAgQBHAGwAPABpAHMAdgCCAHMARQBhAD0AXABsAGgAQQBqAEUAYQBQAFUAYgBzAHUAhAB\\u002fAH0AgAB+ADoAdABaAG8AZABjAGkAgABbAH8AXgB8AGcAdgCiAFkAWQBsAGcAVwBdAFoAgwByAGsAYQBnAH0AggB3AG4AeABmAH0AfwB5AHEAdgCEAD0AUABuAEYAdQBZAFQAgwCLACoATwBgAHIAYwBvAHAAYABnAGgAZgBhAIQAeACJAFIAcwCCAD4AGgBbAD8ASgCIADsAWwBdAFQAZAAzABYAFgAWABgAcQBuAHgAOAB\\u002fAEoAWwCJAFYAagB9AHIAjwB5AHcAlgBYAGkAdwBgAF8AYgBgAGAAWgBhAFoAWABpAH8AfQB0AGYAQQBqAHUAiABoAEEAWwBjAFsAdQBfAGUAZgB6AF8AXABvAHMAPQBhAHgAlAAwABwAIgA9ADgAUQBEADoAZAAyADEARwAdAGwAfQBkAB4AHgCSAH8ALgA5AHoAOAFtAEkAYABpAHwAaQBOABYAXwBSAFkAWgBVAB0AiQAbAHAAcACZAHsAWgBUAE4ATwBJAFMAUwCRAIcAIwBEAGAAbgA6AGkAOwAcAGIAPwCbAHoAVwBJAGIAggBpAG4AUQBzAHEAkgB2AG0AdQAXAF8AfABaAGAAYABdAB4AUgB\\u002fAHIAdwBlAGAALABoAFsAWwByAFsAQABZAF8AXgCFAGYAegBWAG8AbwCIAHkAdwBzAIAAXABjAGoAegCBAFoAdAA7AF8AegBiAHUAXwCSAIgAWwB7AJAAeQBbAJ4AnQB8AGoAXABQAH4AgQCFAG0AjwCMAJYAgAB4AJoALQCEAH4AXwCHAIsAgwB2AIEAgwCSAHsAjQBdAFsAagCDAF8AaAB+AHYAXgBkAH4AWgBXAGEAcwBdAIoASgBmAGgAMwAyAFYAjAB6ABcAXwB5AIMAPwCWAJ8AgwCCAGMAVgBqADkAYQCQAG4AOQB3AF4AWQB8ABkAeQBYAG8AUQBAADcAiQA4ADoAUABeAF4ASAA8AIwAWwBhAJIAdgCAAIkAkQCNAGoAhwCJAIEAYwCbAI4A1gCJAIAAlwB5AGUAkQCTAFoAgQCBAIgAdQCWAIYAZAAsACwAbwCTAHMAeQBnAEkAgQBmAHoAmwCLAIMAfwCcAFsAhACCAIkAnACEAHcAjAB+AGsAbwCCAH4AGABsAHUAZQB8AD8AcgBiAGQAZAB7AE0AagBqAGYAkgBgAGgAbQBuAG4AZQBeAGUAjQB4AIwAMgA5AB8AWgBuAKIAiwCCAJEAIQByAGQANgCWAGkAfABfAAwAaACPAH8AZABKAGgAlAB\\u002fAJ4AfACjAHkAmgB\\u002fAIAAYgBtAKgAogCfAIkAhQB\\u002fAIMAWgBYAFcAUgBWAGQAOQBfAGUAfABIAF0AXABfAIUAVQBpAGUAWABxAEcASwBCAFMAbgBYAE0AOgBFAD0AWAB6ADwApgBrAF4AVwBcAIIAWACAAGAAXgBFAFoAZQBNAFkAWgBiAEIAZwBfAFkASgB3AEYAeQBqAEoAagBxAHcAZABuAEIAfgCCAG4AVQB1AD8AXgBKADoAdQBZAEIAngBkAEAAXAA\\u002fAGkAQwBbAFwAVwBkAHEAKABpAF4AbQBjAFkAXABpAIIARQBiAFoAQQBcABMAGQAWACgAFgAYAGUAWgBgAHMAXABdAF8AaQB1AEIAYQBOAGYAPgBhAGkATwBaAGsAaQBjAGwAQgBLAGAAXwAgAEYAXgBOAFsASwBpAGAAhAA8AKsAdACpAIYAnwBXAGcATgA+AGEAZgBfAHMAZgBjAEoAZACWAFcAWAA\\u002fAIEAWwBzAIwATwBoAHkAKABeADoATgAzAEUAaAA7AF4ApgCbAJEAagBeAH8AVwC5AEsAWQBRAC8ALgB9AKAAbgBFAEMAaQB\\u002fAG0AhgA8AGAAQQCFAGAAXwAYAGEAQQBmADUAdABmAFYAdQBgAEUAbABmAD0AOQAxAFcAOwA\\u002fAEUAPgBsAF8AYwA+ADwAkwCZAFcAfABeAGQARwA8AIcAYQBWAFsAUgBmAGkAagBbAD0AUAB2AF4AVABnAEUAaQCAAFYAbQBGAFkAogCjAFsAGwBDAI4ATgAaAC4AUQB3AGMAYACAAHIAZQBtADMAPQBJAFwAXgCHAEIAfgA2AGQAUQB7AJAAmQCNAGgAYQBSAGIAVABMAEsAXQBiAFsAqABEAGcAXwBSAF4AQgCHAJAAWgCeAFMAZgA0AG4AVQBxAFgAWQA7AGoAQgCHAF0ATwBrAC8AdgBRAGcAKABnAFUAaABSAHAAZgBlAHcAPgBAAIkAbABOACgARwBjADwATgBiAEYAlAA2AFwAawBaAIcAlwCEAF8AogCjAFkAHABnAKAAcQBWAFMAcQBWADkAYgB0AGQAMwBxAHwAPwA4AF4AWgBHAGEAUwBcAKUApgCmAJ8AoACfABYAaQA2AHkAZwCBAF8AUABDAFQAYQBWAHIAVABDAFsAPwB0AGgADgBZAGwAOwBKAFQAYQBfAHQAVgCZAGgAowBqAJQAaQB5AEIAZgBgAFkAoQAYAEIAWwBcAGgASQAvAGYAVwB1AHcAggBmAJoALABgAC8ALABtAFkAXAB6ABMAmgCYAKEAewAsAFAARwCZAE8AjwB7AFAASQBqAGUAOwCkAJcAVAAzAI4AbgBWAGUAWABWAD0AUQBIAGIAQABvAJQAowBfAGMALABdAFkAUwBoAFEANQBfAJUAagBsAEIAcQBTADIAYQBpAGsAYwBlAFEAXACDAGUAYABVAG4AWQBYAFgAjwBTAGsAYwCGAE4AUQBqADMAZgA\\u002fAFsAXQBdAGEAXACJAI8AqAB1AFcAoAA+AG0AZgB2ADkAXgBHAHsAYQBjAGEAQwBpAE4AYwB3AG0AawBcAFgARwBAAGEAYACWADYATgBWAJoAswBdAGEAbABcAE4AVwBjAFsAZgBDADkAggBQAEIAaQBiAFsAewBSAGgAbQBKAFQAYgAWAGQASwBFAGEAXABcAJIAYQBdAD4AFgBYAGkAWABdAGIAWAAfAFMAJgBsAGEAUQBGAD4AYwBwAFoAOABZABgAZAB0AFwATwBIAFwAPQBYAHEAQwBBAD4AawBFAE0AYgBHAEAAcAA7AFsALABrAFwAWQBrAF4AbgBRAE0AQABhAE0AXgBeAFsAUABfAFoAZQBJAGwAGQBWAGkAZABgAGEASQAsAIQAYABcAGMAXABjAE4AQQBBAEUAQAA\\u002fAD8AWQA8ACkAUwAZAF4ANABLAFwAUAAuAEgARwBNAEYASQBRAD8ALQAuAHAAZQB1AHIAYABXAGkAUABhAGkAPABtADwAZQBbAEIAfwBSAEYAFwBhAD4AVABaAGUASgBEAFwAawBsAEoAHQA8AHgASgA5AFsAPgBVAFoAaQA7AIkAVgBjAEAAUgBaAFAAPgBcAE4AXABFAGcAXACPAFMATgBUAFQAOgBSAFMAHQBIABoAUQBLAGQAWgBEAEcAZABeAFAAIwBdAGkAggBkAFAATABfAGAAXgBeAF0AYABeAF4AXQBfAF0ASwBnAB0AaABRAFAAewB3AHYAjwCVAFcAgAB1AGQAVABaAGkAagBjAF0AWQBpAG0AXQBLAFoAWgBdAHEAWQBmAGYAWgBeAFsAawBfAHcAXQBlAF0AUgBGAGgAeQBcAHwANQBbAFMAXQBRAFYAagBhAGMAZAB+AF4AZwBgAIkAaABoAF4AsACJAGUAbwBuAI4AVgBdAFYAUABcAGAAVwBiAH0AWwBMAFIAbwBcAF4AWwAsAGwAewBqAFkAYgBsAFwAZgBnAFsAbgBNAGMAegCWAH4ApABzAIUAfwBkAIMALABlAFoAWQBYAIUAbgBwAFcAWwBvAGMAVgBdAFcAawBZAFwAegBbAH8AmQBeAGoAZgBwAD8AWgBZAGUAVQBTAFwAVABbAGQAZwBnAC0ALQBaAGIAXACsAH0AUQBwAHoAZQA1ADUAYwBfAHcAowA3AGYAagCAAFAAUABLAEsATwBXAGEAVQBvAHEAWgBnAGkAaAB\\u002fAFwASAB2AG4AQQBaAIYAWQBWAFcAawBPAFcAcQBuAGIAXQCLAF4AhQBRAFsAegBmAFgAMQBuAJYAYQCBAGMAcACPAD0AXwBcAGEAWgB3AJMAUwBTAFsAdQBOAEsATgCVAGcAXgBfAHoAawB+AHoAXwBlAEoASgBKAFMATwBIAFAASwBLAEgAYwBbAKYAZwCAAFcAfQB5AG4AWAA0AFkANABRAEkASwBjAHkAZABhAGkAZABzAGMAWwBaAGQAGQBjAHgAYgBoAJUAcABiAHgAlwA\\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\\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\"},\"xaxis\":\"x2\",\"yaxis\":\"y2\",\"type\":\"box\"}],                        {\"template\":{\"data\":{\"histogram2dcontour\":[{\"type\":\"histogram2dcontour\",\"colorbar\":{\"outlinewidth\":0,\"ticks\":\"\"},\"colorscale\":[[0.0,\"#0d0887\"],[0.1111111111111111,\"#46039f\"],[0.2222222222222222,\"#7201a8\"],[0.3333333333333333,\"#9c179e\"],[0.4444444444444444,\"#bd3786\"],[0.5555555555555556,\"#d8576b\"],[0.6666666666666666,\"#ed7953\"],[0.7777777777777778,\"#fb9f3a\"],[0.8888888888888888,\"#fdca26\"],[1.0,\"#f0f921\"]]}],\"choropleth\":[{\"type\":\"choropleth\",\"colorbar\":{\"outlinewidth\":0,\"ticks\":\"\"}}],\"histogram2d\":[{\"type\":\"histogram2d\",\"colorbar\":{\"outlinewidth\":0,\"ticks\":\"\"},\"colorscale\":[[0.0,\"#0d0887\"],[0.1111111111111111,\"#46039f\"],[0.2222222222222222,\"#7201a8\"],[0.3333333333333333,\"#9c179e\"],[0.4444444444444444,\"#bd3786\"],[0.5555555555555556,\"#d8576b\"],[0.6666666666666666,\"#ed7953\"],[0.7777777777777778,\"#fb9f3a\"],[0.8888888888888888,\"#fdca26\"],[1.0,\"#f0f921\"]]}],\"heatmap\":[{\"type\":\"heatmap\",\"colorbar\":{\"outlinewidth\":0,\"ticks\":\"\"},\"colorscale\":[[0.0,\"#0d0887\"],[0.1111111111111111,\"#46039f\"],[0.2222222222222222,\"#7201a8\"],[0.3333333333333333,\"#9c179e\"],[0.4444444444444444,\"#bd3786\"],[0.5555555555555556,\"#d8576b\"],[0.6666666666666666,\"#ed7953\"],[0.7777777777777778,\"#fb9f3a\"],[0.8888888888888888,\"#fdca26\"],[1.0,\"#f0f921\"]]}],\"contourcarpet\":[{\"type\":\"contourcarpet\",\"colorbar\":{\"outlinewidth\":0,\"ticks\":\"\"}}],\"contour\":[{\"type\":\"contour\",\"colorbar\":{\"outlinewidth\":0,\"ticks\":\"\"},\"colorscale\":[[0.0,\"#0d0887\"],[0.1111111111111111,\"#46039f\"],[0.2222222222222222,\"#7201a8\"],[0.3333333333333333,\"#9c179e\"],[0.4444444444444444,\"#bd3786\"],[0.5555555555555556,\"#d8576b\"],[0.6666666666666666,\"#ed7953\"],[0.7777777777777778,\"#fb9f3a\"],[0.8888888888888888,\"#fdca26\"],[1.0,\"#f0f921\"]]}],\"surface\":[{\"type\":\"surface\",\"colorbar\":{\"outlinewidth\":0,\"ticks\":\"\"},\"colorscale\":[[0.0,\"#0d0887\"],[0.1111111111111111,\"#46039f\"],[0.2222222222222222,\"#7201a8\"],[0.3333333333333333,\"#9c179e\"],[0.4444444444444444,\"#bd3786\"],[0.5555555555555556,\"#d8576b\"],[0.6666666666666666,\"#ed7953\"],[0.7777777777777778,\"#fb9f3a\"],[0.8888888888888888,\"#fdca26\"],[1.0,\"#f0f921\"]]}],\"mesh3d\":[{\"type\":\"mesh3d\",\"colorbar\":{\"outlinewidth\":0,\"ticks\":\"\"}}],\"scatter\":[{\"fillpattern\":{\"fillmode\":\"overlay\",\"size\":10,\"solidity\":0.2},\"type\":\"scatter\"}],\"parcoords\":[{\"type\":\"parcoords\",\"line\":{\"colorbar\":{\"outlinewidth\":0,\"ticks\":\"\"}}}],\"scatterpolargl\":[{\"type\":\"scatterpolargl\",\"marker\":{\"colorbar\":{\"outlinewidth\":0,\"ticks\":\"\"}}}],\"bar\":[{\"error_x\":{\"color\":\"#2a3f5f\"},\"error_y\":{\"color\":\"#2a3f5f\"},\"marker\":{\"line\":{\"color\":\"#E5ECF6\",\"width\":0.5},\"pattern\":{\"fillmode\":\"overlay\",\"size\":10,\"solidity\":0.2}},\"type\":\"bar\"}],\"scattergeo\":[{\"type\":\"scattergeo\",\"marker\":{\"colorbar\":{\"outlinewidth\":0,\"ticks\":\"\"}}}],\"scatterpolar\":[{\"type\":\"scatterpolar\",\"marker\":{\"colorbar\":{\"outlinewidth\":0,\"ticks\":\"\"}}}],\"histogram\":[{\"marker\":{\"pattern\":{\"fillmode\":\"overlay\",\"size\":10,\"solidity\":0.2}},\"type\":\"histogram\"}],\"scattergl\":[{\"type\":\"scattergl\",\"marker\":{\"colorbar\":{\"outlinewidth\":0,\"ticks\":\"\"}}}],\"scatter3d\":[{\"type\":\"scatter3d\",\"line\":{\"colorbar\":{\"outlinewidth\":0,\"ticks\":\"\"}},\"marker\":{\"colorbar\":{\"outlinewidth\":0,\"ticks\":\"\"}}}],\"scattermap\":[{\"type\":\"scattermap\",\"marker\":{\"colorbar\":{\"outlinewidth\":0,\"ticks\":\"\"}}}],\"scattermapbox\":[{\"type\":\"scattermapbox\",\"marker\":{\"colorbar\":{\"outlinewidth\":0,\"ticks\":\"\"}}}],\"scatterternary\":[{\"type\":\"scatterternary\",\"marker\":{\"colorbar\":{\"outlinewidth\":0,\"ticks\":\"\"}}}],\"scattercarpet\":[{\"type\":\"scattercarpet\",\"marker\":{\"colorbar\":{\"outlinewidth\":0,\"ticks\":\"\"}}}],\"carpet\":[{\"aaxis\":{\"endlinecolor\":\"#2a3f5f\",\"gridcolor\":\"white\",\"linecolor\":\"white\",\"minorgridcolor\":\"white\",\"startlinecolor\":\"#2a3f5f\"},\"baxis\":{\"endlinecolor\":\"#2a3f5f\",\"gridcolor\":\"white\",\"linecolor\":\"white\",\"minorgridcolor\":\"white\",\"startlinecolor\":\"#2a3f5f\"},\"type\":\"carpet\"}],\"table\":[{\"cells\":{\"fill\":{\"color\":\"#EBF0F8\"},\"line\":{\"color\":\"white\"}},\"header\":{\"fill\":{\"color\":\"#C8D4E3\"},\"line\":{\"color\":\"white\"}},\"type\":\"table\"}],\"barpolar\":[{\"marker\":{\"line\":{\"color\":\"#E5ECF6\",\"width\":0.5},\"pattern\":{\"fillmode\":\"overlay\",\"size\":10,\"solidity\":0.2}},\"type\":\"barpolar\"}],\"pie\":[{\"automargin\":true,\"type\":\"pie\"}]},\"layout\":{\"autotypenumbers\":\"strict\",\"colorway\":[\"#636efa\",\"#EF553B\",\"#00cc96\",\"#ab63fa\",\"#FFA15A\",\"#19d3f3\",\"#FF6692\",\"#B6E880\",\"#FF97FF\",\"#FECB52\"],\"font\":{\"color\":\"#2a3f5f\"},\"hovermode\":\"closest\",\"hoverlabel\":{\"align\":\"left\"},\"paper_bgcolor\":\"white\",\"plot_bgcolor\":\"#E5ECF6\",\"polar\":{\"bgcolor\":\"#E5ECF6\",\"angularaxis\":{\"gridcolor\":\"white\",\"linecolor\":\"white\",\"ticks\":\"\"},\"radialaxis\":{\"gridcolor\":\"white\",\"linecolor\":\"white\",\"ticks\":\"\"}},\"ternary\":{\"bgcolor\":\"#E5ECF6\",\"aaxis\":{\"gridcolor\":\"white\",\"linecolor\":\"white\",\"ticks\":\"\"},\"baxis\":{\"gridcolor\":\"white\",\"linecolor\":\"white\",\"ticks\":\"\"},\"caxis\":{\"gridcolor\":\"white\",\"linecolor\":\"white\",\"ticks\":\"\"}},\"coloraxis\":{\"colorbar\":{\"outlinewidth\":0,\"ticks\":\"\"}},\"colorscale\":{\"sequential\":[[0.0,\"#0d0887\"],[0.1111111111111111,\"#46039f\"],[0.2222222222222222,\"#7201a8\"],[0.3333333333333333,\"#9c179e\"],[0.4444444444444444,\"#bd3786\"],[0.5555555555555556,\"#d8576b\"],[0.6666666666666666,\"#ed7953\"],[0.7777777777777778,\"#fb9f3a\"],[0.8888888888888888,\"#fdca26\"],[1.0,\"#f0f921\"]],\"sequentialminus\":[[0.0,\"#0d0887\"],[0.1111111111111111,\"#46039f\"],[0.2222222222222222,\"#7201a8\"],[0.3333333333333333,\"#9c179e\"],[0.4444444444444444,\"#bd3786\"],[0.5555555555555556,\"#d8576b\"],[0.6666666666666666,\"#ed7953\"],[0.7777777777777778,\"#fb9f3a\"],[0.8888888888888888,\"#fdca26\"],[1.0,\"#f0f921\"]],\"diverging\":[[0,\"#8e0152\"],[0.1,\"#c51b7d\"],[0.2,\"#de77ae\"],[0.3,\"#f1b6da\"],[0.4,\"#fde0ef\"],[0.5,\"#f7f7f7\"],[0.6,\"#e6f5d0\"],[0.7,\"#b8e186\"],[0.8,\"#7fbc41\"],[0.9,\"#4d9221\"],[1,\"#276419\"]]},\"xaxis\":{\"gridcolor\":\"white\",\"linecolor\":\"white\",\"ticks\":\"\",\"title\":{\"standoff\":15},\"zerolinecolor\":\"white\",\"automargin\":true,\"zerolinewidth\":2},\"yaxis\":{\"gridcolor\":\"white\",\"linecolor\":\"white\",\"ticks\":\"\",\"title\":{\"standoff\":15},\"zerolinecolor\":\"white\",\"automargin\":true,\"zerolinewidth\":2},\"scene\":{\"xaxis\":{\"backgroundcolor\":\"#E5ECF6\",\"gridcolor\":\"white\",\"linecolor\":\"white\",\"showbackground\":true,\"ticks\":\"\",\"zerolinecolor\":\"white\",\"gridwidth\":2},\"yaxis\":{\"backgroundcolor\":\"#E5ECF6\",\"gridcolor\":\"white\",\"linecolor\":\"white\",\"showbackground\":true,\"ticks\":\"\",\"zerolinecolor\":\"white\",\"gridwidth\":2},\"zaxis\":{\"backgroundcolor\":\"#E5ECF6\",\"gridcolor\":\"white\",\"linecolor\":\"white\",\"showbackground\":true,\"ticks\":\"\",\"zerolinecolor\":\"white\",\"gridwidth\":2}},\"shapedefaults\":{\"line\":{\"color\":\"#2a3f5f\"}},\"annotationdefaults\":{\"arrowcolor\":\"#2a3f5f\",\"arrowhead\":0,\"arrowwidth\":1},\"geo\":{\"bgcolor\":\"white\",\"landcolor\":\"#E5ECF6\",\"subunitcolor\":\"white\",\"showland\":true,\"showlakes\":true,\"lakecolor\":\"white\"},\"title\":{\"x\":0.05},\"mapbox\":{\"style\":\"light\"}}},\"xaxis\":{\"anchor\":\"y\",\"domain\":[0.0,1.0],\"title\":{\"text\":\"Duration (minutes)\"}},\"yaxis\":{\"anchor\":\"x\",\"domain\":[0.0,0.8316],\"title\":{\"text\":\"Number of Movies\"}},\"xaxis2\":{\"anchor\":\"y2\",\"domain\":[0.0,1.0],\"matches\":\"x\",\"showticklabels\":false,\"showgrid\":true},\"yaxis2\":{\"anchor\":\"x2\",\"domain\":[0.8416,1.0],\"matches\":\"y2\",\"showticklabels\":false,\"showline\":false,\"ticks\":\"\",\"showgrid\":false},\"legend\":{\"tracegroupgap\":0},\"title\":{\"text\":\"Distribution of Movie Durations\",\"x\":0.5},\"barmode\":\"relative\"},                        {\"responsive\": true}                    ).then(function(){\n",
       "                            \n",
       "var gd = document.getElementById('97f246e7-32b2-4afb-b766-220ecd564fa8');\n",
       "var x = new MutationObserver(function (mutations, observer) {{\n",
       "        var display = window.getComputedStyle(gd).display;\n",
       "        if (!display || display === 'none') {{\n",
       "            console.log([gd, 'removed!']);\n",
       "            Plotly.purge(gd);\n",
       "            observer.disconnect();\n",
       "        }}\n",
       "}});\n",
       "\n",
       "// Listen for the removal of the full notebook cells\n",
       "var notebookContainer = gd.closest('#notebook-container');\n",
       "if (notebookContainer) {{\n",
       "    x.observe(notebookContainer, {childList: true});\n",
       "}}\n",
       "\n",
       "// Listen for the clearing of the current output cell\n",
       "var outputEl = gd.closest('.output');\n",
       "if (outputEl) {{\n",
       "    x.observe(outputEl, {childList: true});\n",
       "}}\n",
       "\n",
       "                        })                };            </script>        </div>"
      ]
     },
     "metadata": {},
     "output_type": "display_data"
    },
    {
     "data": {
      "application/vnd.plotly.v1+json": {
       "config": {
        "plotlyServerURL": "https://plot.ly"
       },
       "data": [
        {
         "alignmentgroup": "True",
         "boxpoints": "outliers",
         "hovertemplate": "Duration (minutes)=%{y}<extra></extra>",
         "legendgroup": "",
         "marker": {
          "color": "lightcoral"
         },
         "name": "",
         "notched": false,
         "offsetgroup": "",
         "orientation": "v",
         "showlegend": false,
         "type": "box",
         "x0": " ",
         "xaxis": "x",
         "y": {
          "bdata": "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",
          "dtype": "i2"
         },
         "y0": " ",
         "yaxis": "y"
        }
       ],
       "layout": {
        "boxmode": "group",
        "legend": {
         "tracegroupgap": 0
        },
        "template": {
         "data": {
          "bar": [
           {
            "error_x": {
             "color": "#2a3f5f"
            },
            "error_y": {
             "color": "#2a3f5f"
            },
            "marker": {
             "line": {
              "color": "#E5ECF6",
              "width": 0.5
             },
             "pattern": {
              "fillmode": "overlay",
              "size": 10,
              "solidity": 0.2
             }
            },
            "type": "bar"
           }
          ],
          "barpolar": [
           {
            "marker": {
             "line": {
              "color": "#E5ECF6",
              "width": 0.5
             },
             "pattern": {
              "fillmode": "overlay",
              "size": 10,
              "solidity": 0.2
             }
            },
            "type": "barpolar"
           }
          ],
          "carpet": [
           {
            "aaxis": {
             "endlinecolor": "#2a3f5f",
             "gridcolor": "white",
             "linecolor": "white",
             "minorgridcolor": "white",
             "startlinecolor": "#2a3f5f"
            },
            "baxis": {
             "endlinecolor": "#2a3f5f",
             "gridcolor": "white",
             "linecolor": "white",
             "minorgridcolor": "white",
             "startlinecolor": "#2a3f5f"
            },
            "type": "carpet"
           }
          ],
          "choropleth": [
           {
            "colorbar": {
             "outlinewidth": 0,
             "ticks": ""
            },
            "type": "choropleth"
           }
          ],
          "contour": [
           {
            "colorbar": {
             "outlinewidth": 0,
             "ticks": ""
            },
            "colorscale": [
             [
              0,
              "#0d0887"
             ],
             [
              0.1111111111111111,
              "#46039f"
             ],
             [
              0.2222222222222222,
              "#7201a8"
             ],
             [
              0.3333333333333333,
              "#9c179e"
             ],
             [
              0.4444444444444444,
              "#bd3786"
             ],
             [
              0.5555555555555556,
              "#d8576b"
             ],
             [
              0.6666666666666666,
              "#ed7953"
             ],
             [
              0.7777777777777778,
              "#fb9f3a"
             ],
             [
              0.8888888888888888,
              "#fdca26"
             ],
             [
              1,
              "#f0f921"
             ]
            ],
            "type": "contour"
           }
          ],
          "contourcarpet": [
           {
            "colorbar": {
             "outlinewidth": 0,
             "ticks": ""
            },
            "type": "contourcarpet"
           }
          ],
          "heatmap": [
           {
            "colorbar": {
             "outlinewidth": 0,
             "ticks": ""
            },
            "colorscale": [
             [
              0,
              "#0d0887"
             ],
             [
              0.1111111111111111,
              "#46039f"
             ],
             [
              0.2222222222222222,
              "#7201a8"
             ],
             [
              0.3333333333333333,
              "#9c179e"
             ],
             [
              0.4444444444444444,
              "#bd3786"
             ],
             [
              0.5555555555555556,
              "#d8576b"
             ],
             [
              0.6666666666666666,
              "#ed7953"
             ],
             [
              0.7777777777777778,
              "#fb9f3a"
             ],
             [
              0.8888888888888888,
              "#fdca26"
             ],
             [
              1,
              "#f0f921"
             ]
            ],
            "type": "heatmap"
           }
          ],
          "histogram": [
           {
            "marker": {
             "pattern": {
              "fillmode": "overlay",
              "size": 10,
              "solidity": 0.2
             }
            },
            "type": "histogram"
           }
          ],
          "histogram2d": [
           {
            "colorbar": {
             "outlinewidth": 0,
             "ticks": ""
            },
            "colorscale": [
             [
              0,
              "#0d0887"
             ],
             [
              0.1111111111111111,
              "#46039f"
             ],
             [
              0.2222222222222222,
              "#7201a8"
             ],
             [
              0.3333333333333333,
              "#9c179e"
             ],
             [
              0.4444444444444444,
              "#bd3786"
             ],
             [
              0.5555555555555556,
              "#d8576b"
             ],
             [
              0.6666666666666666,
              "#ed7953"
             ],
             [
              0.7777777777777778,
              "#fb9f3a"
             ],
             [
              0.8888888888888888,
              "#fdca26"
             ],
             [
              1,
              "#f0f921"
             ]
            ],
            "type": "histogram2d"
           }
          ],
          "histogram2dcontour": [
           {
            "colorbar": {
             "outlinewidth": 0,
             "ticks": ""
            },
            "colorscale": [
             [
              0,
              "#0d0887"
             ],
             [
              0.1111111111111111,
              "#46039f"
             ],
             [
              0.2222222222222222,
              "#7201a8"
             ],
             [
              0.3333333333333333,
              "#9c179e"
             ],
             [
              0.4444444444444444,
              "#bd3786"
             ],
             [
              0.5555555555555556,
              "#d8576b"
             ],
             [
              0.6666666666666666,
              "#ed7953"
             ],
             [
              0.7777777777777778,
              "#fb9f3a"
             ],
             [
              0.8888888888888888,
              "#fdca26"
             ],
             [
              1,
              "#f0f921"
             ]
            ],
            "type": "histogram2dcontour"
           }
          ],
          "mesh3d": [
           {
            "colorbar": {
             "outlinewidth": 0,
             "ticks": ""
            },
            "type": "mesh3d"
           }
          ],
          "parcoords": [
           {
            "line": {
             "colorbar": {
              "outlinewidth": 0,
              "ticks": ""
             }
            },
            "type": "parcoords"
           }
          ],
          "pie": [
           {
            "automargin": true,
            "type": "pie"
           }
          ],
          "scatter": [
           {
            "fillpattern": {
             "fillmode": "overlay",
             "size": 10,
             "solidity": 0.2
            },
            "type": "scatter"
           }
          ],
          "scatter3d": [
           {
            "line": {
             "colorbar": {
              "outlinewidth": 0,
              "ticks": ""
             }
            },
            "marker": {
             "colorbar": {
              "outlinewidth": 0,
              "ticks": ""
             }
            },
            "type": "scatter3d"
           }
          ],
          "scattercarpet": [
           {
            "marker": {
             "colorbar": {
              "outlinewidth": 0,
              "ticks": ""
             }
            },
            "type": "scattercarpet"
           }
          ],
          "scattergeo": [
           {
            "marker": {
             "colorbar": {
              "outlinewidth": 0,
              "ticks": ""
             }
            },
            "type": "scattergeo"
           }
          ],
          "scattergl": [
           {
            "marker": {
             "colorbar": {
              "outlinewidth": 0,
              "ticks": ""
             }
            },
            "type": "scattergl"
           }
          ],
          "scattermap": [
           {
            "marker": {
             "colorbar": {
              "outlinewidth": 0,
              "ticks": ""
             }
            },
            "type": "scattermap"
           }
          ],
          "scattermapbox": [
           {
            "marker": {
             "colorbar": {
              "outlinewidth": 0,
              "ticks": ""
             }
            },
            "type": "scattermapbox"
           }
          ],
          "scatterpolar": [
           {
            "marker": {
             "colorbar": {
              "outlinewidth": 0,
              "ticks": ""
             }
            },
            "type": "scatterpolar"
           }
          ],
          "scatterpolargl": [
           {
            "marker": {
             "colorbar": {
              "outlinewidth": 0,
              "ticks": ""
             }
            },
            "type": "scatterpolargl"
           }
          ],
          "scatterternary": [
           {
            "marker": {
             "colorbar": {
              "outlinewidth": 0,
              "ticks": ""
             }
            },
            "type": "scatterternary"
           }
          ],
          "surface": [
           {
            "colorbar": {
             "outlinewidth": 0,
             "ticks": ""
            },
            "colorscale": [
             [
              0,
              "#0d0887"
             ],
             [
              0.1111111111111111,
              "#46039f"
             ],
             [
              0.2222222222222222,
              "#7201a8"
             ],
             [
              0.3333333333333333,
              "#9c179e"
             ],
             [
              0.4444444444444444,
              "#bd3786"
             ],
             [
              0.5555555555555556,
              "#d8576b"
             ],
             [
              0.6666666666666666,
              "#ed7953"
             ],
             [
              0.7777777777777778,
              "#fb9f3a"
             ],
             [
              0.8888888888888888,
              "#fdca26"
             ],
             [
              1,
              "#f0f921"
             ]
            ],
            "type": "surface"
           }
          ],
          "table": [
           {
            "cells": {
             "fill": {
              "color": "#EBF0F8"
             },
             "line": {
              "color": "white"
             }
            },
            "header": {
             "fill": {
              "color": "#C8D4E3"
             },
             "line": {
              "color": "white"
             }
            },
            "type": "table"
           }
          ]
         },
         "layout": {
          "annotationdefaults": {
           "arrowcolor": "#2a3f5f",
           "arrowhead": 0,
           "arrowwidth": 1
          },
          "autotypenumbers": "strict",
          "coloraxis": {
           "colorbar": {
            "outlinewidth": 0,
            "ticks": ""
           }
          },
          "colorscale": {
           "diverging": [
            [
             0,
             "#8e0152"
            ],
            [
             0.1,
             "#c51b7d"
            ],
            [
             0.2,
             "#de77ae"
            ],
            [
             0.3,
             "#f1b6da"
            ],
            [
             0.4,
             "#fde0ef"
            ],
            [
             0.5,
             "#f7f7f7"
            ],
            [
             0.6,
             "#e6f5d0"
            ],
            [
             0.7,
             "#b8e186"
            ],
            [
             0.8,
             "#7fbc41"
            ],
            [
             0.9,
             "#4d9221"
            ],
            [
             1,
             "#276419"
            ]
           ],
           "sequential": [
            [
             0,
             "#0d0887"
            ],
            [
             0.1111111111111111,
             "#46039f"
            ],
            [
             0.2222222222222222,
             "#7201a8"
            ],
            [
             0.3333333333333333,
             "#9c179e"
            ],
            [
             0.4444444444444444,
             "#bd3786"
            ],
            [
             0.5555555555555556,
             "#d8576b"
            ],
            [
             0.6666666666666666,
             "#ed7953"
            ],
            [
             0.7777777777777778,
             "#fb9f3a"
            ],
            [
             0.8888888888888888,
             "#fdca26"
            ],
            [
             1,
             "#f0f921"
            ]
           ],
           "sequentialminus": [
            [
             0,
             "#0d0887"
            ],
            [
             0.1111111111111111,
             "#46039f"
            ],
            [
             0.2222222222222222,
             "#7201a8"
            ],
            [
             0.3333333333333333,
             "#9c179e"
            ],
            [
             0.4444444444444444,
             "#bd3786"
            ],
            [
             0.5555555555555556,
             "#d8576b"
            ],
            [
             0.6666666666666666,
             "#ed7953"
            ],
            [
             0.7777777777777778,
             "#fb9f3a"
            ],
            [
             0.8888888888888888,
             "#fdca26"
            ],
            [
             1,
             "#f0f921"
            ]
           ]
          },
          "colorway": [
           "#636efa",
           "#EF553B",
           "#00cc96",
           "#ab63fa",
           "#FFA15A",
           "#19d3f3",
           "#FF6692",
           "#B6E880",
           "#FF97FF",
           "#FECB52"
          ],
          "font": {
           "color": "#2a3f5f"
          },
          "geo": {
           "bgcolor": "white",
           "lakecolor": "white",
           "landcolor": "#E5ECF6",
           "showlakes": true,
           "showland": true,
           "subunitcolor": "white"
          },
          "hoverlabel": {
           "align": "left"
          },
          "hovermode": "closest",
          "mapbox": {
           "style": "light"
          },
          "paper_bgcolor": "white",
          "plot_bgcolor": "#E5ECF6",
          "polar": {
           "angularaxis": {
            "gridcolor": "white",
            "linecolor": "white",
            "ticks": ""
           },
           "bgcolor": "#E5ECF6",
           "radialaxis": {
            "gridcolor": "white",
            "linecolor": "white",
            "ticks": ""
           }
          },
          "scene": {
           "xaxis": {
            "backgroundcolor": "#E5ECF6",
            "gridcolor": "white",
            "gridwidth": 2,
            "linecolor": "white",
            "showbackground": true,
            "ticks": "",
            "zerolinecolor": "white"
           },
           "yaxis": {
            "backgroundcolor": "#E5ECF6",
            "gridcolor": "white",
            "gridwidth": 2,
            "linecolor": "white",
            "showbackground": true,
            "ticks": "",
            "zerolinecolor": "white"
           },
           "zaxis": {
            "backgroundcolor": "#E5ECF6",
            "gridcolor": "white",
            "gridwidth": 2,
            "linecolor": "white",
            "showbackground": true,
            "ticks": "",
            "zerolinecolor": "white"
           }
          },
          "shapedefaults": {
           "line": {
            "color": "#2a3f5f"
           }
          },
          "ternary": {
           "aaxis": {
            "gridcolor": "white",
            "linecolor": "white",
            "ticks": ""
           },
           "baxis": {
            "gridcolor": "white",
            "linecolor": "white",
            "ticks": ""
           },
           "bgcolor": "#E5ECF6",
           "caxis": {
            "gridcolor": "white",
            "linecolor": "white",
            "ticks": ""
           }
          },
          "title": {
           "x": 0.05
          },
          "xaxis": {
           "automargin": true,
           "gridcolor": "white",
           "linecolor": "white",
           "ticks": "",
           "title": {
            "standoff": 15
           },
           "zerolinecolor": "white",
           "zerolinewidth": 2
          },
          "yaxis": {
           "automargin": true,
           "gridcolor": "white",
           "linecolor": "white",
           "ticks": "",
           "title": {
            "standoff": 15
           },
           "zerolinecolor": "white",
           "zerolinewidth": 2
          }
         }
        },
        "title": {
         "text": "Summary of Movie Durations",
         "x": 0.5
        },
        "xaxis": {
         "anchor": "y",
         "domain": [
          0,
          1
         ]
        },
        "yaxis": {
         "anchor": "x",
         "domain": [
          0,
          1
         ],
         "title": {
          "text": "Duration (minutes)"
         }
        }
       }
      },
      "text/html": [
       "<div>            <script src=\"https://cdnjs.cloudflare.com/ajax/libs/mathjax/2.7.5/MathJax.js?config=TeX-AMS-MML_SVG\"></script><script type=\"text/javascript\">if (window.MathJax && window.MathJax.Hub && window.MathJax.Hub.Config) {window.MathJax.Hub.Config({SVG: {font: \"STIX-Web\"}});}</script>                <script type=\"text/javascript\">window.PlotlyConfig = {MathJaxConfig: 'local'};</script>\n",
       "        <script charset=\"utf-8\" src=\"https://cdn.plot.ly/plotly-3.0.0.min.js\"></script>                <div id=\"85b29dfe-545b-4b82-b5bd-df8d373bd170\" class=\"plotly-graph-div\" style=\"height:525px; width:100%;\"></div>            <script type=\"text/javascript\">                window.PLOTLYENV=window.PLOTLYENV || {};                                if (document.getElementById(\"85b29dfe-545b-4b82-b5bd-df8d373bd170\")) {                    Plotly.newPlot(                        \"85b29dfe-545b-4b82-b5bd-df8d373bd170\",                        [{\"alignmentgroup\":\"True\",\"boxpoints\":\"outliers\",\"hovertemplate\":\"Duration (minutes)=%{y}\\u003cextra\\u003e\\u003c\\u002fextra\\u003e\",\"legendgroup\":\"\",\"marker\":{\"color\":\"lightcoral\"},\"name\":\"\",\"notched\":false,\"offsetgroup\":\"\",\"orientation\":\"v\",\"showlegend\":false,\"x0\":\" \",\"xaxis\":\"x\",\"y\":{\"dtype\":\"i2\",\"bdata\":\"WgBbAH0AaAB\\u002fAFsAQwBeAKEAPQCmAJMAZwBhAGoAbwBuAGkAYAB8AHQAYgBbABcAcwB6AGMAYwBYAGQAZgBdAGAAXwBVAGEAXwBTAGcAcQANALYAagAwAJEAkQBdAGoAkwBXAGAAXwBcAFsAWgBhAFAAdQCAAFoAdwBuAI8AdwByAF4AagBjAHYAcwBfAHMAbAA\\u002fAHUAeQCOAHEAmgBfAGwAeABkAFIAfAByAGgAXgBeAF0AYQBtAFgAZQBpAGYAZQBnAGoAdgBWAHkA5QBMAF8AYgBZAHgAbgBTAHkAaQBeAJwAcABfAGsAcgCBAFYAYQB9AGsAfwCAAFwAhwB8AIgApQB8AIgAlgBwAHcAhQCOAF0AcQB8AHQAagCRAF0AXwBsAFoAVgBcAFIARgB6AHoAegB6AFQAYABzAG4AWABmAFsAaQCHAFYAjACFAFwAUgBhAE4AXgB5AGEAbgBAADsAZQB\\u002fAFoAcgBsAEYAYgBWAIsAbwBzAGYAZACHAEUAXwBhAHwAdgBzAHMAaABqAGYAYQBXAFgAcgBaAI4AWgBpAGcAdABxAGMAYACUAL0AYQBmAGMAVQBwAFsAWwCNAIIAYgBpAGUAaQB2AGEAZgByAG8AfQBMAHYAZwByAF8AigBwAF4AZgBcAFEAjwBWAIQAdQClAFsAYQBhAHsAXgBvAFUAQQBAAEQAQwBCAEAAQABBAEAARABEAEAAPgA\\u002fAEUARgA\\u002fAEQASgBEAGMAWgBXAGkAagBmAFsAWABrAGUAcgB7AF4AaQB1AHMAfACDAHoAcQBbAGQAXQBaAFYAZABgAF8AcwBkAGYAVwAnAG4AXQBgAF0AXQBvAGkAZQBmAC4AWQBeAGgAYQBbAGoAJgBaAFcAigBpAGgAVQBcAGwAXwBpAHQAfABlAF8AgACPAGsAiABeAIgAfgB0AGQAcwB9ACcAXgBaAF8AmwBiAGwAYAB1AHYAZwBeAF0AcwB4AJEAfgBgAGUAdgBtAFkAagBlAGUAewBqAFkAgABVAFkAbABpAIUAgQB\\u002fAHEAcACCAGQAZwBVAHwAZwB5AFkAXABwAHIAdABuAGIAYgBkAFoAXABSAGEAWgBMAFMAZQBtAGEAVwBeAFkAWABsAGAAVABGAH0AdwBpAIUAjAB4AIcAbwCfAHcAiwCJAGUADQAMAGUAYAB6AF8AWQBiAHcAigBoABEBZQBjAFQAUgBhAFkAJAAiACQAcQBuACQAZgBWAFsAdQBjAE0AYQBqAGEAaABuAD0AYgBKADwAPABnAF4AcAAxAG8AOgBIAE4AZQBuAF4ARgB2AGMAZwBfAF0AZQBlAFkAbQBoAFoAbQCRAFgAhABtAIUAVQBoAGMAXQDMANQAYgBlAF4AGQBjAGwAagCAAGgAfwCIAGEAWABhAGEAWABnAGEAWABhAHYARgBbAFwAeABJAG4AXgA9AIMAgwCDAJQAHQBrAGMAXABbAC8AWAB0AG0AXABXAGUAjABZAFEAdABjAGsAawBaAGgAZAAgAGYAaQBrAEAAYwBmAH4AdwBWAHoAXwBoAHYAVQBiAGMAIwBrAGEAcAB2AG0AbQBYAGEAYQBjAF8AWwBzAF0AbQBgAE4AVwBMAEwARwCKAHEAXgBZAHkAfwBeAFkAiABZAGMAXQBVAGYAZQBxAIAAcgBVAHkAXwB5AHQAWwCVAHEAIQB\\u002fAGUAZgBmAGsAewBiAF8AZQBoAGgAZwBvAGYADwA2AHgAagB0ADoAdAB+AFYAYQBMAFAAUQBUAFcAWwBMAIQAfgBlAGYAkwDgAI0AbQCiAI4AXQA8AHcAJQBgAHQAZgB7AGYAfwBYAGoAQQBgAFgAjwCJAEsARwBnAIIAkQBUAFQATQBWAE8AUABRAE4AdgBmAIQAbACFAGsAIABOADcAXABWAIwAjwBYAFkAXQBhAF4AcABkAHgAWwBiAHEAYgBbAJ4ApACFAEsAZwBaAHQAYAB5AGUArQBZALYAtQC5AGMAWABrAHIAYACVAGYAUwBiAFMAaABvAGIAXQBJAI0AdAAVAGIAVwBXAF8AVwBdAGEAcgBkAGkAWgA8AGIAbABaAGYAVAB4AGoAcwBiADwAcQBlABgAMwBQAGQAiwBKAIMAgwB2AFcAZQBhAFwAiABhAGcAbgBpAFoAawBcAF4AYwBhAJcAbABxAFEAdAB3AHQAcAB5AHMAtgBiAGAAKgC1AGQAFgCGALEAXgBYAHcAawBwACMAZwBaAHgAYQBmAGoAdwBUADoAWgBtAI8AcACGAHsAJAB7ADoAdgBbAEwAYQBVAFwAiwCiAFwAVgBrAFUAUwBoAHQAVwBbAHcAZgBWAGYAYgBjAGwAcgBoAFgAaAB7AGoAigBxAGsAhQBhAHQAewBZAF0AiwBwAGUAcQBZAGsAewBxAFoANAB\\u002fAF8AeQBsAGYAXwCFAH8AXwBlAHsAWQBkAGwAXgBnAGkAdABcAEEAcwBgACAAZgBmAGUARwBRAGIAWgBwAKEAgQBVAA4AlABjAGEAZQBZAIAATABjAH4AagBlAFcAbwBaAFsAZQBgAGAAlABgAGIAaAA1ADYAcQBmAHYAUwBNAHQAdABqAGkACABuAEcAWwAuAG0AZgBlAF4AbgB1AFUAdwBzAGkARAA5ABwAYgBfAGAAQgBwAFQAXgAgAGIAVQB4AFMAXgBmAG8AWgBvAG4AVwCEAHUAMgBqAH0AawA7ABwACQBbAIQAhQBtAGsAbwBsAGkAdwBoAFMAWgBPABgAcwBhABoALgBqAHEAhQBdAGwAYAAZAGUAagA2AHYAOgB1ADAAiwBzAG0AWwA8AGYAeACVAFsAYwBqAGwALQBdABYAUQBiAGQAcAByAEQAZwB5AF8AVwBzAKsAqwAuAHUAVABiAFMAYQBjAGwAXQAqAA0AQACiAIIAbACBAGkAhQCOAIAAYQBrAIcAVABGAHwAZgBUAF8AVAB4AFcASwB8AFwAXwBrAHsAVQCWAGEAWABKAF0AlwBSAJQAXwBaAGcAVwBmAGAAVwBWAIgAPAB\\u002fAGAADwBkAFcAHAAbAFoAZgBeAFEAhgByAGsAawCCAFcAXQByAFsAdABdAGoAaQAyAF0AZwByAF8AMgCWAGQAdQBXAGQAVgBmAFcAZwBwAHgAbwBOADMAewAuAGYAagBwAGUAYABnAF4ARQBRAEwAbABeAGoAYgBdAGMAXQBSAGsAaACCAFMAYwBNAF4AdgBXACoAZQBQAG4AdQAvAKUAhgCMAJYAnABWAH4AZAAZAHwAZABqAGgAYABaACEAUQBUACwAcwBeABYAawBzAF0AawBWAHAAZgBbAFMASQCLAF8AZQBLAFcAWwB4AHsAXwBUAB0AHAB6ABwAYgA7AFAAZwBoAJIAhwCBAHMAjwCtAIEAlQBiAHMALAB\\u002fAHwAVQAUAGYAgQB8AHYAbwB9AF4AggB1AIkAiwBvAGcAeABiAIIAYAA9AIkAWgBFAIsAXgBcAFAAPwBYAGkAXQCMAGcAZgBdAEUAhQCdAHQAcABgAH8AggBdAIoAigBcAG4AZgBxAGAAbABeAGMAVgBiAG8AYQCHAF0AXgB1AD8ASQBbAF0AZQBdAGAAcABIAHAASABcAG0AmwBtAHMAYQBnABgAbgBhAF4AawBhAGcAWABvAF4AIQBrAG4AYgBRAGgAEQB5AGQARgBhAEsAZgBYAJ4AZgDLADsAXABoAEgAcQBdAHcAaQBxAF0ALABuAHEAWgBSAEUALgBeAEgAXwBlABUARwBAAFwAUABoABkAbwBIAGMAUwCWAGwALABmAIkAcABmAGcAiAApAFgAVAByAG4AZwBqAC4AcwCMAHwAhQBbAB4AQwBpADoAVwBkAF8AWgBmAGIARABoAFkAPgBWAGgAZQARAH4AeABZAGAAWwBWAEMAWQBBAJcAdABuAHsAiwBfAHkAfwCiAIAAcAB9AIAAeABWAGsAgQCHAGEAfQCiAIgAigB+AIkAcgBgAGsAWQBeAJQAUgBfAHgAcwBrAGkAhgCAAGcAYAByAGYANABWAGgATACHAGMAfAB1AGsAbwB0AIcAfgCkAKYAaABeAFwANABwAFoAZQBUAHAAiABsAG4AXQBaAIIAgABoAIMAbQCBAEkAaAAwAHIAVgDCAEwAdACCAFUAbABRAEwAXABVAFUAbAB4AHUAZABlAJwANwBgAGgAZQBxAH4AYgByAIQAXABaAFYAZwByAHMAlQBgAGYAaQByAF4AUwBqAHQAbQBhAGQAdABvABgAXwCHAF8AXABkAFAAYgBoAGIAaABjAEQAagBHAFAAdABwAEkAbgCHAIAAXQCVADYAVwBmALEAzADpAGIA7QDmAK0AwwD9AJ0AYQBVAF4AUABeAFwAaQB4AGAAawBdAGUAbgBwAF0AbQBpAGEAWwBYAG0AdgBtAIMAWwCYAEMASABTAFoAagC+AIEAoABWAFwAcgBaAF4AVgBZAGsAPQBdAFEAeABeAFsAaABMAFoAZwB6AGEAYgAqAFoAWwBeAGsAjwBpAHQAFwAXABcAaQBhAGkAUwBtAG8AYQCEAGYAawBkAHMAaABuAGQAbwBsAGgAdABqAGAAjABrAIoAhADQAGkAZQB8AF0AbgBzAGsASABrAF8AtACHAFcAXgBpAF0AXACQAGUAUQBfAHcAeQBYAGoAdwA\\u002fAFIAXwBdAHgAkwA3AGsAXABVAGIAXABlAHAAZwBbAGAAaABCAFMAbwBaAHkAeQBYADkAawAFAFsArgCbAFcATQCOAKoApQChAJAAlQCHAIMAfgDAANEAuwCKALkAjwBhAKwAZwBTAGsAcgBdAFUAVQCDAGUAawBUAGgAoABnAC4AcABTAEgAGABoAEgAcQAVAGQAbABjAGgARgBdAF8AbQBbAEsAZABfAHEAWwA+AF0AhwAXABcAFwBlAGIAZwBqAF8AhABSAEcAEABoAE8AeABSAHMAbwBuAHkAogBsALoAdACaAGkARwA9AIUAYgB3AD0AggALAFcAfwBXAFgAngBSAF0AWgBtAEgAogBiAGcAYQBeAGUAigBtADIAbgBcAHgAZQB0AHUAXwBdAHoAZgBgAF0AXQBIAFcAXwAhAHEAdgCrAGQAZwBWAGYAUQBlAEkAYABqAFgAZwCLAFkAaAB8AHAARgBqAGEAagA8AJQAegBWAMEAXABeAFIAOwBZALAAdABWAF0AVQA+AHAAeQCFAEwAUgCcAFoAYQAzAGIAPQB0AIQAEQBbAHkATgBfAFYAhABrAHoAXwBsAGMAZwBCAIQAOACAAHcAYQBcAGYAWgCBAGoAaQBOAE8ATgCRAEcAUwBRAHcAYgBmAFgAYQBuAFUAWgBZAHgAZgBJAGcATwBhAFsAYABnAF8AUwB1AEYAWgBWAFYAcQBSAI0AawB+ABkAPwCIAHgAhgC5AK4AqQCUAIcAhwBZAHcAYgCHALkAnABoAIsAjACaAIEAYwBkAG4AawBfAFkAQQCPAGUAPAAdAFwArABhAGwAawCJAGoAcwAuAFwAXQBVABgAOABWAH8AXQBeAHgAbACHAG8AhgCJAGcAhQBfAH4AQwCHAGoAawBRAGsAdgBuAGgAXQBeAIkAhgBFAGoA0QBWABgALgB1AFcAeQBhAHkAOAB3AF0AVgCGABwAgwBOAF0AVABrAGUAawBKADwAjwBpAG4AYgBKAC4ANgA7AGQAWABdAF4AeQBOAHQAVwA9AGIAewBVAE4AZwAsAEQARABFAFEARQBEAEQAVgAoAF4AWgBwAGUAdwAoAFYAXABbACQAjQBrAGEAGABZAEEAfgA\\u002fAA4AHAAUAGoAdgB\\u002fAD0AVgBeAFIAXAA0AGwAQwBbAEIAdgBXAC8AOAA9ACIAYgBjAF8AZABlAFYAYABjAHAAfwAWAE4APwBhAFYAPgBgAGgAewBkAGMAlwBmAJoAagBXAEYALgBlAG0AZABuAGYAZgAYAGIATABaADsAOgBAAE8AUQBRAEAALQBaAGYAdAAqAIUAbAAmAJIAkgBqADoAmABXAHkAUwBvABgAqwBYAEwAQABeAJ0AUwBBAGkAawBnAEMAYAB9AI4AhQBkAAoAgABdAFEAUgAvAF8AVABbAGYAZABiAG4AVQBCAFwAhQCHAHgAdgBuAGIAYgBiAGgAPwA0AEgAdQBkABgAVgBFAHcAewBdAG0AQgBrAC4AdQBDAHIAQwBNAGkAPwA7AGYAUQBUAGUAdACxAIIAOwBvAGQATQBdAHIAOgA4AG4AYgBqAGYAUQBiAIgAoQAgAGkAagBaAFcAWwBqAEEAaQAoAEIAPQB6AI0AsABJAFcADwA3AI0AegBtAD8AYABxAEUAVwB0AHQAbgB6ADsAWABbACgAcQBaAF8AYgA9AHUAPACOAEoAdwByAH0ARwBuAH8AdgBaAIIADAA+AAMAcgCAAG0AbQBlAGcAYgB7ACYAZQBjAFsAHgAeAIkAQgBGAFcAWABaAFQANQBXAFoAYABeAGwAZgA9AF4ARgBYAGQAbwCAAGIAaAB+AFYAfQAoAE8AbgCAAG4AdAB3AFoAWABoAIwAXABAAHcAWwB6AH0AMQCoAGIATQBmAFwAbwBxADYAigB7ADsAZgCNAF8AbwCDAHQAdwCSAGUAVwBeAIUAhwA9AFsAOwBbAIMAqgBYAKoAXAA7AH4AeABMADwAZwB8AFsAWABRAHwAZgCEAFcASwB+AD0AfgBsAGQAgQBHAGwAPABpAHMAdgCCAHMARQBhAD0AXABsAGgAQQBqAEUAYQBQAFUAYgBzAHUAhAB\\u002fAH0AgAB+ADoAdABaAG8AZABjAGkAgABbAH8AXgB8AGcAdgCiAFkAWQBsAGcAVwBdAFoAgwByAGsAYQBnAH0AggB3AG4AeABmAH0AfwB5AHEAdgCEAD0AUABuAEYAdQBZAFQAgwCLACoATwBgAHIAYwBvAHAAYABnAGgAZgBhAIQAeACJAFIAcwCCAD4AGgBbAD8ASgCIADsAWwBdAFQAZAAzABYAFgAWABgAcQBuAHgAOAB\\u002fAEoAWwCJAFYAagB9AHIAjwB5AHcAlgBYAGkAdwBgAF8AYgBgAGAAWgBhAFoAWABpAH8AfQB0AGYAQQBqAHUAiABoAEEAWwBjAFsAdQBfAGUAZgB6AF8AXABvAHMAPQBhAHgAlAAwABwAIgA9ADgAUQBEADoAZAAyADEARwAdAGwAfQBkAB4AHgCSAH8ALgA5AHoAOAFtAEkAYABpAHwAaQBOABYAXwBSAFkAWgBVAB0AiQAbAHAAcACZAHsAWgBUAE4ATwBJAFMAUwCRAIcAIwBEAGAAbgA6AGkAOwAcAGIAPwCbAHoAVwBJAGIAggBpAG4AUQBzAHEAkgB2AG0AdQAXAF8AfABaAGAAYABdAB4AUgB\\u002fAHIAdwBlAGAALABoAFsAWwByAFsAQABZAF8AXgCFAGYAegBWAG8AbwCIAHkAdwBzAIAAXABjAGoAegCBAFoAdAA7AF8AegBiAHUAXwCSAIgAWwB7AJAAeQBbAJ4AnQB8AGoAXABQAH4AgQCFAG0AjwCMAJYAgAB4AJoALQCEAH4AXwCHAIsAgwB2AIEAgwCSAHsAjQBdAFsAagCDAF8AaAB+AHYAXgBkAH4AWgBXAGEAcwBdAIoASgBmAGgAMwAyAFYAjAB6ABcAXwB5AIMAPwCWAJ8AgwCCAGMAVgBqADkAYQCQAG4AOQB3AF4AWQB8ABkAeQBYAG8AUQBAADcAiQA4ADoAUABeAF4ASAA8AIwAWwBhAJIAdgCAAIkAkQCNAGoAhwCJAIEAYwCbAI4A1gCJAIAAlwB5AGUAkQCTAFoAgQCBAIgAdQCWAIYAZAAsACwAbwCTAHMAeQBnAEkAgQBmAHoAmwCLAIMAfwCcAFsAhACCAIkAnACEAHcAjAB+AGsAbwCCAH4AGABsAHUAZQB8AD8AcgBiAGQAZAB7AE0AagBqAGYAkgBgAGgAbQBuAG4AZQBeAGUAjQB4AIwAMgA5AB8AWgBuAKIAiwCCAJEAIQByAGQANgCWAGkAfABfAAwAaACPAH8AZABKAGgAlAB\\u002fAJ4AfACjAHkAmgB\\u002fAIAAYgBtAKgAogCfAIkAhQB\\u002fAIMAWgBYAFcAUgBWAGQAOQBfAGUAfABIAF0AXABfAIUAVQBpAGUAWABxAEcASwBCAFMAbgBYAE0AOgBFAD0AWAB6ADwApgBrAF4AVwBcAIIAWACAAGAAXgBFAFoAZQBNAFkAWgBiAEIAZwBfAFkASgB3AEYAeQBqAEoAagBxAHcAZABuAEIAfgCCAG4AVQB1AD8AXgBKADoAdQBZAEIAngBkAEAAXAA\\u002fAGkAQwBbAFwAVwBkAHEAKABpAF4AbQBjAFkAXABpAIIARQBiAFoAQQBcABMAGQAWACgAFgAYAGUAWgBgAHMAXABdAF8AaQB1AEIAYQBOAGYAPgBhAGkATwBaAGsAaQBjAGwAQgBLAGAAXwAgAEYAXgBOAFsASwBpAGAAhAA8AKsAdACpAIYAnwBXAGcATgA+AGEAZgBfAHMAZgBjAEoAZACWAFcAWAA\\u002fAIEAWwBzAIwATwBoAHkAKABeADoATgAzAEUAaAA7AF4ApgCbAJEAagBeAH8AVwC5AEsAWQBRAC8ALgB9AKAAbgBFAEMAaQB\\u002fAG0AhgA8AGAAQQCFAGAAXwAYAGEAQQBmADUAdABmAFYAdQBgAEUAbABmAD0AOQAxAFcAOwA\\u002fAEUAPgBsAF8AYwA+ADwAkwCZAFcAfABeAGQARwA8AIcAYQBWAFsAUgBmAGkAagBbAD0AUAB2AF4AVABnAEUAaQCAAFYAbQBGAFkAogCjAFsAGwBDAI4ATgAaAC4AUQB3AGMAYACAAHIAZQBtADMAPQBJAFwAXgCHAEIAfgA2AGQAUQB7AJAAmQCNAGgAYQBSAGIAVABMAEsAXQBiAFsAqABEAGcAXwBSAF4AQgCHAJAAWgCeAFMAZgA0AG4AVQBxAFgAWQA7AGoAQgCHAF0ATwBrAC8AdgBRAGcAKABnAFUAaABSAHAAZgBlAHcAPgBAAIkAbABOACgARwBjADwATgBiAEYAlAA2AFwAawBaAIcAlwCEAF8AogCjAFkAHABnAKAAcQBWAFMAcQBWADkAYgB0AGQAMwBxAHwAPwA4AF4AWgBHAGEAUwBcAKUApgCmAJ8AoACfABYAaQA2AHkAZwCBAF8AUABDAFQAYQBWAHIAVABDAFsAPwB0AGgADgBZAGwAOwBKAFQAYQBfAHQAVgCZAGgAowBqAJQAaQB5AEIAZgBgAFkAoQAYAEIAWwBcAGgASQAvAGYAVwB1AHcAggBmAJoALABgAC8ALABtAFkAXAB6ABMAmgCYAKEAewAsAFAARwCZAE8AjwB7AFAASQBqAGUAOwCkAJcAVAAzAI4AbgBWAGUAWABWAD0AUQBIAGIAQABvAJQAowBfAGMALABdAFkAUwBoAFEANQBfAJUAagBsAEIAcQBTADIAYQBpAGsAYwBlAFEAXACDAGUAYABVAG4AWQBYAFgAjwBTAGsAYwCGAE4AUQBqADMAZgA\\u002fAFsAXQBdAGEAXACJAI8AqAB1AFcAoAA+AG0AZgB2ADkAXgBHAHsAYQBjAGEAQwBpAE4AYwB3AG0AawBcAFgARwBAAGEAYACWADYATgBWAJoAswBdAGEAbABcAE4AVwBjAFsAZgBDADkAggBQAEIAaQBiAFsAewBSAGgAbQBKAFQAYgAWAGQASwBFAGEAXABcAJIAYQBdAD4AFgBYAGkAWABdAGIAWAAfAFMAJgBsAGEAUQBGAD4AYwBwAFoAOABZABgAZAB0AFwATwBIAFwAPQBYAHEAQwBBAD4AawBFAE0AYgBHAEAAcAA7AFsALABrAFwAWQBrAF4AbgBRAE0AQABhAE0AXgBeAFsAUABfAFoAZQBJAGwAGQBWAGkAZABgAGEASQAsAIQAYABcAGMAXABjAE4AQQBBAEUAQAA\\u002fAD8AWQA8ACkAUwAZAF4ANABLAFwAUAAuAEgARwBNAEYASQBRAD8ALQAuAHAAZQB1AHIAYABXAGkAUABhAGkAPABtADwAZQBbAEIAfwBSAEYAFwBhAD4AVABaAGUASgBEAFwAawBsAEoAHQA8AHgASgA5AFsAPgBVAFoAaQA7AIkAVgBjAEAAUgBaAFAAPgBcAE4AXABFAGcAXACPAFMATgBUAFQAOgBSAFMAHQBIABoAUQBLAGQAWgBEAEcAZABeAFAAIwBdAGkAggBkAFAATABfAGAAXgBeAF0AYABeAF4AXQBfAF0ASwBnAB0AaABRAFAAewB3AHYAjwCVAFcAgAB1AGQAVABaAGkAagBjAF0AWQBpAG0AXQBLAFoAWgBdAHEAWQBmAGYAWgBeAFsAawBfAHcAXQBlAF0AUgBGAGgAeQBcAHwANQBbAFMAXQBRAFYAagBhAGMAZAB+AF4AZwBgAIkAaABoAF4AsACJAGUAbwBuAI4AVgBdAFYAUABcAGAAVwBiAH0AWwBMAFIAbwBcAF4AWwAsAGwAewBqAFkAYgBsAFwAZgBnAFsAbgBNAGMAegCWAH4ApABzAIUAfwBkAIMALABlAFoAWQBYAIUAbgBwAFcAWwBvAGMAVgBdAFcAawBZAFwAegBbAH8AmQBeAGoAZgBwAD8AWgBZAGUAVQBTAFwAVABbAGQAZwBnAC0ALQBaAGIAXACsAH0AUQBwAHoAZQA1ADUAYwBfAHcAowA3AGYAagCAAFAAUABLAEsATwBXAGEAVQBvAHEAWgBnAGkAaAB\\u002fAFwASAB2AG4AQQBaAIYAWQBWAFcAawBPAFcAcQBuAGIAXQCLAF4AhQBRAFsAegBmAFgAMQBuAJYAYQCBAGMAcACPAD0AXwBcAGEAWgB3AJMAUwBTAFsAdQBOAEsATgCVAGcAXgBfAHoAawB+AHoAXwBlAEoASgBKAFMATwBIAFAASwBLAEgAYwBbAKYAZwCAAFcAfQB5AG4AWAA0AFkANABRAEkASwBjAHkAZABhAGkAZABzAGMAWwBaAGQAGQBjAHgAYgBoAJUAcABiAHgAlwA\\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\\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\"},\"y0\":\" \",\"yaxis\":\"y\",\"type\":\"box\"}],                        {\"template\":{\"data\":{\"histogram2dcontour\":[{\"type\":\"histogram2dcontour\",\"colorbar\":{\"outlinewidth\":0,\"ticks\":\"\"},\"colorscale\":[[0.0,\"#0d0887\"],[0.1111111111111111,\"#46039f\"],[0.2222222222222222,\"#7201a8\"],[0.3333333333333333,\"#9c179e\"],[0.4444444444444444,\"#bd3786\"],[0.5555555555555556,\"#d8576b\"],[0.6666666666666666,\"#ed7953\"],[0.7777777777777778,\"#fb9f3a\"],[0.8888888888888888,\"#fdca26\"],[1.0,\"#f0f921\"]]}],\"choropleth\":[{\"type\":\"choropleth\",\"colorbar\":{\"outlinewidth\":0,\"ticks\":\"\"}}],\"histogram2d\":[{\"type\":\"histogram2d\",\"colorbar\":{\"outlinewidth\":0,\"ticks\":\"\"},\"colorscale\":[[0.0,\"#0d0887\"],[0.1111111111111111,\"#46039f\"],[0.2222222222222222,\"#7201a8\"],[0.3333333333333333,\"#9c179e\"],[0.4444444444444444,\"#bd3786\"],[0.5555555555555556,\"#d8576b\"],[0.6666666666666666,\"#ed7953\"],[0.7777777777777778,\"#fb9f3a\"],[0.8888888888888888,\"#fdca26\"],[1.0,\"#f0f921\"]]}],\"heatmap\":[{\"type\":\"heatmap\",\"colorbar\":{\"outlinewidth\":0,\"ticks\":\"\"},\"colorscale\":[[0.0,\"#0d0887\"],[0.1111111111111111,\"#46039f\"],[0.2222222222222222,\"#7201a8\"],[0.3333333333333333,\"#9c179e\"],[0.4444444444444444,\"#bd3786\"],[0.5555555555555556,\"#d8576b\"],[0.6666666666666666,\"#ed7953\"],[0.7777777777777778,\"#fb9f3a\"],[0.8888888888888888,\"#fdca26\"],[1.0,\"#f0f921\"]]}],\"contourcarpet\":[{\"type\":\"contourcarpet\",\"colorbar\":{\"outlinewidth\":0,\"ticks\":\"\"}}],\"contour\":[{\"type\":\"contour\",\"colorbar\":{\"outlinewidth\":0,\"ticks\":\"\"},\"colorscale\":[[0.0,\"#0d0887\"],[0.1111111111111111,\"#46039f\"],[0.2222222222222222,\"#7201a8\"],[0.3333333333333333,\"#9c179e\"],[0.4444444444444444,\"#bd3786\"],[0.5555555555555556,\"#d8576b\"],[0.6666666666666666,\"#ed7953\"],[0.7777777777777778,\"#fb9f3a\"],[0.8888888888888888,\"#fdca26\"],[1.0,\"#f0f921\"]]}],\"surface\":[{\"type\":\"surface\",\"colorbar\":{\"outlinewidth\":0,\"ticks\":\"\"},\"colorscale\":[[0.0,\"#0d0887\"],[0.1111111111111111,\"#46039f\"],[0.2222222222222222,\"#7201a8\"],[0.3333333333333333,\"#9c179e\"],[0.4444444444444444,\"#bd3786\"],[0.5555555555555556,\"#d8576b\"],[0.6666666666666666,\"#ed7953\"],[0.7777777777777778,\"#fb9f3a\"],[0.8888888888888888,\"#fdca26\"],[1.0,\"#f0f921\"]]}],\"mesh3d\":[{\"type\":\"mesh3d\",\"colorbar\":{\"outlinewidth\":0,\"ticks\":\"\"}}],\"scatter\":[{\"fillpattern\":{\"fillmode\":\"overlay\",\"size\":10,\"solidity\":0.2},\"type\":\"scatter\"}],\"parcoords\":[{\"type\":\"parcoords\",\"line\":{\"colorbar\":{\"outlinewidth\":0,\"ticks\":\"\"}}}],\"scatterpolargl\":[{\"type\":\"scatterpolargl\",\"marker\":{\"colorbar\":{\"outlinewidth\":0,\"ticks\":\"\"}}}],\"bar\":[{\"error_x\":{\"color\":\"#2a3f5f\"},\"error_y\":{\"color\":\"#2a3f5f\"},\"marker\":{\"line\":{\"color\":\"#E5ECF6\",\"width\":0.5},\"pattern\":{\"fillmode\":\"overlay\",\"size\":10,\"solidity\":0.2}},\"type\":\"bar\"}],\"scattergeo\":[{\"type\":\"scattergeo\",\"marker\":{\"colorbar\":{\"outlinewidth\":0,\"ticks\":\"\"}}}],\"scatterpolar\":[{\"type\":\"scatterpolar\",\"marker\":{\"colorbar\":{\"outlinewidth\":0,\"ticks\":\"\"}}}],\"histogram\":[{\"marker\":{\"pattern\":{\"fillmode\":\"overlay\",\"size\":10,\"solidity\":0.2}},\"type\":\"histogram\"}],\"scattergl\":[{\"type\":\"scattergl\",\"marker\":{\"colorbar\":{\"outlinewidth\":0,\"ticks\":\"\"}}}],\"scatter3d\":[{\"type\":\"scatter3d\",\"line\":{\"colorbar\":{\"outlinewidth\":0,\"ticks\":\"\"}},\"marker\":{\"colorbar\":{\"outlinewidth\":0,\"ticks\":\"\"}}}],\"scattermap\":[{\"type\":\"scattermap\",\"marker\":{\"colorbar\":{\"outlinewidth\":0,\"ticks\":\"\"}}}],\"scattermapbox\":[{\"type\":\"scattermapbox\",\"marker\":{\"colorbar\":{\"outlinewidth\":0,\"ticks\":\"\"}}}],\"scatterternary\":[{\"type\":\"scatterternary\",\"marker\":{\"colorbar\":{\"outlinewidth\":0,\"ticks\":\"\"}}}],\"scattercarpet\":[{\"type\":\"scattercarpet\",\"marker\":{\"colorbar\":{\"outlinewidth\":0,\"ticks\":\"\"}}}],\"carpet\":[{\"aaxis\":{\"endlinecolor\":\"#2a3f5f\",\"gridcolor\":\"white\",\"linecolor\":\"white\",\"minorgridcolor\":\"white\",\"startlinecolor\":\"#2a3f5f\"},\"baxis\":{\"endlinecolor\":\"#2a3f5f\",\"gridcolor\":\"white\",\"linecolor\":\"white\",\"minorgridcolor\":\"white\",\"startlinecolor\":\"#2a3f5f\"},\"type\":\"carpet\"}],\"table\":[{\"cells\":{\"fill\":{\"color\":\"#EBF0F8\"},\"line\":{\"color\":\"white\"}},\"header\":{\"fill\":{\"color\":\"#C8D4E3\"},\"line\":{\"color\":\"white\"}},\"type\":\"table\"}],\"barpolar\":[{\"marker\":{\"line\":{\"color\":\"#E5ECF6\",\"width\":0.5},\"pattern\":{\"fillmode\":\"overlay\",\"size\":10,\"solidity\":0.2}},\"type\":\"barpolar\"}],\"pie\":[{\"automargin\":true,\"type\":\"pie\"}]},\"layout\":{\"autotypenumbers\":\"strict\",\"colorway\":[\"#636efa\",\"#EF553B\",\"#00cc96\",\"#ab63fa\",\"#FFA15A\",\"#19d3f3\",\"#FF6692\",\"#B6E880\",\"#FF97FF\",\"#FECB52\"],\"font\":{\"color\":\"#2a3f5f\"},\"hovermode\":\"closest\",\"hoverlabel\":{\"align\":\"left\"},\"paper_bgcolor\":\"white\",\"plot_bgcolor\":\"#E5ECF6\",\"polar\":{\"bgcolor\":\"#E5ECF6\",\"angularaxis\":{\"gridcolor\":\"white\",\"linecolor\":\"white\",\"ticks\":\"\"},\"radialaxis\":{\"gridcolor\":\"white\",\"linecolor\":\"white\",\"ticks\":\"\"}},\"ternary\":{\"bgcolor\":\"#E5ECF6\",\"aaxis\":{\"gridcolor\":\"white\",\"linecolor\":\"white\",\"ticks\":\"\"},\"baxis\":{\"gridcolor\":\"white\",\"linecolor\":\"white\",\"ticks\":\"\"},\"caxis\":{\"gridcolor\":\"white\",\"linecolor\":\"white\",\"ticks\":\"\"}},\"coloraxis\":{\"colorbar\":{\"outlinewidth\":0,\"ticks\":\"\"}},\"colorscale\":{\"sequential\":[[0.0,\"#0d0887\"],[0.1111111111111111,\"#46039f\"],[0.2222222222222222,\"#7201a8\"],[0.3333333333333333,\"#9c179e\"],[0.4444444444444444,\"#bd3786\"],[0.5555555555555556,\"#d8576b\"],[0.6666666666666666,\"#ed7953\"],[0.7777777777777778,\"#fb9f3a\"],[0.8888888888888888,\"#fdca26\"],[1.0,\"#f0f921\"]],\"sequentialminus\":[[0.0,\"#0d0887\"],[0.1111111111111111,\"#46039f\"],[0.2222222222222222,\"#7201a8\"],[0.3333333333333333,\"#9c179e\"],[0.4444444444444444,\"#bd3786\"],[0.5555555555555556,\"#d8576b\"],[0.6666666666666666,\"#ed7953\"],[0.7777777777777778,\"#fb9f3a\"],[0.8888888888888888,\"#fdca26\"],[1.0,\"#f0f921\"]],\"diverging\":[[0,\"#8e0152\"],[0.1,\"#c51b7d\"],[0.2,\"#de77ae\"],[0.3,\"#f1b6da\"],[0.4,\"#fde0ef\"],[0.5,\"#f7f7f7\"],[0.6,\"#e6f5d0\"],[0.7,\"#b8e186\"],[0.8,\"#7fbc41\"],[0.9,\"#4d9221\"],[1,\"#276419\"]]},\"xaxis\":{\"gridcolor\":\"white\",\"linecolor\":\"white\",\"ticks\":\"\",\"title\":{\"standoff\":15},\"zerolinecolor\":\"white\",\"automargin\":true,\"zerolinewidth\":2},\"yaxis\":{\"gridcolor\":\"white\",\"linecolor\":\"white\",\"ticks\":\"\",\"title\":{\"standoff\":15},\"zerolinecolor\":\"white\",\"automargin\":true,\"zerolinewidth\":2},\"scene\":{\"xaxis\":{\"backgroundcolor\":\"#E5ECF6\",\"gridcolor\":\"white\",\"linecolor\":\"white\",\"showbackground\":true,\"ticks\":\"\",\"zerolinecolor\":\"white\",\"gridwidth\":2},\"yaxis\":{\"backgroundcolor\":\"#E5ECF6\",\"gridcolor\":\"white\",\"linecolor\":\"white\",\"showbackground\":true,\"ticks\":\"\",\"zerolinecolor\":\"white\",\"gridwidth\":2},\"zaxis\":{\"backgroundcolor\":\"#E5ECF6\",\"gridcolor\":\"white\",\"linecolor\":\"white\",\"showbackground\":true,\"ticks\":\"\",\"zerolinecolor\":\"white\",\"gridwidth\":2}},\"shapedefaults\":{\"line\":{\"color\":\"#2a3f5f\"}},\"annotationdefaults\":{\"arrowcolor\":\"#2a3f5f\",\"arrowhead\":0,\"arrowwidth\":1},\"geo\":{\"bgcolor\":\"white\",\"landcolor\":\"#E5ECF6\",\"subunitcolor\":\"white\",\"showland\":true,\"showlakes\":true,\"lakecolor\":\"white\"},\"title\":{\"x\":0.05},\"mapbox\":{\"style\":\"light\"}}},\"xaxis\":{\"anchor\":\"y\",\"domain\":[0.0,1.0]},\"yaxis\":{\"anchor\":\"x\",\"domain\":[0.0,1.0],\"title\":{\"text\":\"Duration (minutes)\"}},\"legend\":{\"tracegroupgap\":0},\"title\":{\"text\":\"Summary of Movie Durations\",\"x\":0.5},\"boxmode\":\"group\"},                        {\"responsive\": true}                    ).then(function(){\n",
       "                            \n",
       "var gd = document.getElementById('85b29dfe-545b-4b82-b5bd-df8d373bd170');\n",
       "var x = new MutationObserver(function (mutations, observer) {{\n",
       "        var display = window.getComputedStyle(gd).display;\n",
       "        if (!display || display === 'none') {{\n",
       "            console.log([gd, 'removed!']);\n",
       "            Plotly.purge(gd);\n",
       "            observer.disconnect();\n",
       "        }}\n",
       "}});\n",
       "\n",
       "// Listen for the removal of the full notebook cells\n",
       "var notebookContainer = gd.closest('#notebook-container');\n",
       "if (notebookContainer) {{\n",
       "    x.observe(notebookContainer, {childList: true});\n",
       "}}\n",
       "\n",
       "// Listen for the clearing of the current output cell\n",
       "var outputEl = gd.closest('.output');\n",
       "if (outputEl) {{\n",
       "    x.observe(outputEl, {childList: true});\n",
       "}}\n",
       "\n",
       "                        })                };            </script>        </div>"
      ]
     },
     "metadata": {},
     "output_type": "display_data"
    }
   ],
   "source": [
    "movies_df = df[df[\"type\"] == \"Movie\"].copy()\n",
    "movies_df[\"duration_min\"] = pd.to_numeric(\n",
    "    movies_df[\"duration\"].str.replace(\" min\", \"\"), errors=\"coerce\"\n",
    ")\n",
    "movies_df.dropna(subset=[\"duration_min\"], inplace=True)\n",
    "\n",
    "\n",
    "fig_movie_duration_hist = px.histogram(\n",
    "    movies_df,\n",
    "    x=\"duration_min\",\n",
    "    title=\"Distribution of Movie Durations\",\n",
    "    labels={\"duration_min\": \"Duration (minutes)\"},\n",
    "    marginal=\"box\",\n",
    "    color_discrete_sequence=[\"coral\"],\n",
    ")\n",
    "\n",
    "fig_movie_duration_hist.update_layout(\n",
    "    yaxis_title=\"Number of Movies\", xaxis_title=\"Duration (minutes)\", title_x=0.5\n",
    ")\n",
    "fig_movie_duration_hist.show()\n",
    "\n",
    "fig_movie_duration_box = px.box(\n",
    "    movies_df,\n",
    "    y=\"duration_min\",\n",
    "    title=\"Summary of Movie Durations\",\n",
    "    labels={\"duration_min\": \"Duration (minutes)\"},\n",
    "    points=\"outliers\",\n",
    "    color_discrete_sequence=[\"lightcoral\"],\n",
    ")\n",
    "fig_movie_duration_box.update_layout(title_x=0.5)\n",
    "fig_movie_duration_box.show()"
   ]
  },
  {
   "cell_type": "markdown",
   "metadata": {},
   "source": [
    "### TV Show Season Distribution"
   ]
  },
  {
   "cell_type": "code",
   "execution_count": 27,
   "metadata": {},
   "outputs": [
    {
     "data": {
      "application/vnd.plotly.v1+json": {
       "config": {
        "plotlyServerURL": "https://plot.ly"
       },
       "data": [
        {
         "hovertemplate": "Number of Seasons=%{x}<br>Number of TV Shows=%{text}<extra></extra>",
         "legendgroup": "",
         "marker": {
          "color": "#636efa",
          "pattern": {
           "shape": ""
          }
         },
         "name": "",
         "orientation": "v",
         "showlegend": false,
         "text": {
          "bdata": "AAAAAADwm0AAAAAAAFB6QAAAAAAAoGhAAAAAAACAV0AAAAAAAABQQAAAAAAAgEBAAAAAAAAAN0AAAAAAAAAxQAAAAAAAACJAAAAAAAAAGEAAAAAAAADwPwAAAAAAAABAAAAAAAAAAEAAAAAAAAAAQAAAAAAAAPA/",
          "dtype": "f8"
         },
         "textposition": "outside",
         "type": "bar",
         "x": {
          "bdata": "AQIDBAUGBwgJCgsMDQ8R",
          "dtype": "i1"
         },
         "xaxis": "x",
         "y": {
          "bdata": "/AalAcUAXgBAACEAFwARAAkABgABAAIAAgACAAEA",
          "dtype": "i2"
         },
         "yaxis": "y"
        }
       ],
       "layout": {
        "barmode": "relative",
        "legend": {
         "tracegroupgap": 0
        },
        "template": {
         "data": {
          "bar": [
           {
            "error_x": {
             "color": "#2a3f5f"
            },
            "error_y": {
             "color": "#2a3f5f"
            },
            "marker": {
             "line": {
              "color": "#E5ECF6",
              "width": 0.5
             },
             "pattern": {
              "fillmode": "overlay",
              "size": 10,
              "solidity": 0.2
             }
            },
            "type": "bar"
           }
          ],
          "barpolar": [
           {
            "marker": {
             "line": {
              "color": "#E5ECF6",
              "width": 0.5
             },
             "pattern": {
              "fillmode": "overlay",
              "size": 10,
              "solidity": 0.2
             }
            },
            "type": "barpolar"
           }
          ],
          "carpet": [
           {
            "aaxis": {
             "endlinecolor": "#2a3f5f",
             "gridcolor": "white",
             "linecolor": "white",
             "minorgridcolor": "white",
             "startlinecolor": "#2a3f5f"
            },
            "baxis": {
             "endlinecolor": "#2a3f5f",
             "gridcolor": "white",
             "linecolor": "white",
             "minorgridcolor": "white",
             "startlinecolor": "#2a3f5f"
            },
            "type": "carpet"
           }
          ],
          "choropleth": [
           {
            "colorbar": {
             "outlinewidth": 0,
             "ticks": ""
            },
            "type": "choropleth"
           }
          ],
          "contour": [
           {
            "colorbar": {
             "outlinewidth": 0,
             "ticks": ""
            },
            "colorscale": [
             [
              0,
              "#0d0887"
             ],
             [
              0.1111111111111111,
              "#46039f"
             ],
             [
              0.2222222222222222,
              "#7201a8"
             ],
             [
              0.3333333333333333,
              "#9c179e"
             ],
             [
              0.4444444444444444,
              "#bd3786"
             ],
             [
              0.5555555555555556,
              "#d8576b"
             ],
             [
              0.6666666666666666,
              "#ed7953"
             ],
             [
              0.7777777777777778,
              "#fb9f3a"
             ],
             [
              0.8888888888888888,
              "#fdca26"
             ],
             [
              1,
              "#f0f921"
             ]
            ],
            "type": "contour"
           }
          ],
          "contourcarpet": [
           {
            "colorbar": {
             "outlinewidth": 0,
             "ticks": ""
            },
            "type": "contourcarpet"
           }
          ],
          "heatmap": [
           {
            "colorbar": {
             "outlinewidth": 0,
             "ticks": ""
            },
            "colorscale": [
             [
              0,
              "#0d0887"
             ],
             [
              0.1111111111111111,
              "#46039f"
             ],
             [
              0.2222222222222222,
              "#7201a8"
             ],
             [
              0.3333333333333333,
              "#9c179e"
             ],
             [
              0.4444444444444444,
              "#bd3786"
             ],
             [
              0.5555555555555556,
              "#d8576b"
             ],
             [
              0.6666666666666666,
              "#ed7953"
             ],
             [
              0.7777777777777778,
              "#fb9f3a"
             ],
             [
              0.8888888888888888,
              "#fdca26"
             ],
             [
              1,
              "#f0f921"
             ]
            ],
            "type": "heatmap"
           }
          ],
          "histogram": [
           {
            "marker": {
             "pattern": {
              "fillmode": "overlay",
              "size": 10,
              "solidity": 0.2
             }
            },
            "type": "histogram"
           }
          ],
          "histogram2d": [
           {
            "colorbar": {
             "outlinewidth": 0,
             "ticks": ""
            },
            "colorscale": [
             [
              0,
              "#0d0887"
             ],
             [
              0.1111111111111111,
              "#46039f"
             ],
             [
              0.2222222222222222,
              "#7201a8"
             ],
             [
              0.3333333333333333,
              "#9c179e"
             ],
             [
              0.4444444444444444,
              "#bd3786"
             ],
             [
              0.5555555555555556,
              "#d8576b"
             ],
             [
              0.6666666666666666,
              "#ed7953"
             ],
             [
              0.7777777777777778,
              "#fb9f3a"
             ],
             [
              0.8888888888888888,
              "#fdca26"
             ],
             [
              1,
              "#f0f921"
             ]
            ],
            "type": "histogram2d"
           }
          ],
          "histogram2dcontour": [
           {
            "colorbar": {
             "outlinewidth": 0,
             "ticks": ""
            },
            "colorscale": [
             [
              0,
              "#0d0887"
             ],
             [
              0.1111111111111111,
              "#46039f"
             ],
             [
              0.2222222222222222,
              "#7201a8"
             ],
             [
              0.3333333333333333,
              "#9c179e"
             ],
             [
              0.4444444444444444,
              "#bd3786"
             ],
             [
              0.5555555555555556,
              "#d8576b"
             ],
             [
              0.6666666666666666,
              "#ed7953"
             ],
             [
              0.7777777777777778,
              "#fb9f3a"
             ],
             [
              0.8888888888888888,
              "#fdca26"
             ],
             [
              1,
              "#f0f921"
             ]
            ],
            "type": "histogram2dcontour"
           }
          ],
          "mesh3d": [
           {
            "colorbar": {
             "outlinewidth": 0,
             "ticks": ""
            },
            "type": "mesh3d"
           }
          ],
          "parcoords": [
           {
            "line": {
             "colorbar": {
              "outlinewidth": 0,
              "ticks": ""
             }
            },
            "type": "parcoords"
           }
          ],
          "pie": [
           {
            "automargin": true,
            "type": "pie"
           }
          ],
          "scatter": [
           {
            "fillpattern": {
             "fillmode": "overlay",
             "size": 10,
             "solidity": 0.2
            },
            "type": "scatter"
           }
          ],
          "scatter3d": [
           {
            "line": {
             "colorbar": {
              "outlinewidth": 0,
              "ticks": ""
             }
            },
            "marker": {
             "colorbar": {
              "outlinewidth": 0,
              "ticks": ""
             }
            },
            "type": "scatter3d"
           }
          ],
          "scattercarpet": [
           {
            "marker": {
             "colorbar": {
              "outlinewidth": 0,
              "ticks": ""
             }
            },
            "type": "scattercarpet"
           }
          ],
          "scattergeo": [
           {
            "marker": {
             "colorbar": {
              "outlinewidth": 0,
              "ticks": ""
             }
            },
            "type": "scattergeo"
           }
          ],
          "scattergl": [
           {
            "marker": {
             "colorbar": {
              "outlinewidth": 0,
              "ticks": ""
             }
            },
            "type": "scattergl"
           }
          ],
          "scattermap": [
           {
            "marker": {
             "colorbar": {
              "outlinewidth": 0,
              "ticks": ""
             }
            },
            "type": "scattermap"
           }
          ],
          "scattermapbox": [
           {
            "marker": {
             "colorbar": {
              "outlinewidth": 0,
              "ticks": ""
             }
            },
            "type": "scattermapbox"
           }
          ],
          "scatterpolar": [
           {
            "marker": {
             "colorbar": {
              "outlinewidth": 0,
              "ticks": ""
             }
            },
            "type": "scatterpolar"
           }
          ],
          "scatterpolargl": [
           {
            "marker": {
             "colorbar": {
              "outlinewidth": 0,
              "ticks": ""
             }
            },
            "type": "scatterpolargl"
           }
          ],
          "scatterternary": [
           {
            "marker": {
             "colorbar": {
              "outlinewidth": 0,
              "ticks": ""
             }
            },
            "type": "scatterternary"
           }
          ],
          "surface": [
           {
            "colorbar": {
             "outlinewidth": 0,
             "ticks": ""
            },
            "colorscale": [
             [
              0,
              "#0d0887"
             ],
             [
              0.1111111111111111,
              "#46039f"
             ],
             [
              0.2222222222222222,
              "#7201a8"
             ],
             [
              0.3333333333333333,
              "#9c179e"
             ],
             [
              0.4444444444444444,
              "#bd3786"
             ],
             [
              0.5555555555555556,
              "#d8576b"
             ],
             [
              0.6666666666666666,
              "#ed7953"
             ],
             [
              0.7777777777777778,
              "#fb9f3a"
             ],
             [
              0.8888888888888888,
              "#fdca26"
             ],
             [
              1,
              "#f0f921"
             ]
            ],
            "type": "surface"
           }
          ],
          "table": [
           {
            "cells": {
             "fill": {
              "color": "#EBF0F8"
             },
             "line": {
              "color": "white"
             }
            },
            "header": {
             "fill": {
              "color": "#C8D4E3"
             },
             "line": {
              "color": "white"
             }
            },
            "type": "table"
           }
          ]
         },
         "layout": {
          "annotationdefaults": {
           "arrowcolor": "#2a3f5f",
           "arrowhead": 0,
           "arrowwidth": 1
          },
          "autotypenumbers": "strict",
          "coloraxis": {
           "colorbar": {
            "outlinewidth": 0,
            "ticks": ""
           }
          },
          "colorscale": {
           "diverging": [
            [
             0,
             "#8e0152"
            ],
            [
             0.1,
             "#c51b7d"
            ],
            [
             0.2,
             "#de77ae"
            ],
            [
             0.3,
             "#f1b6da"
            ],
            [
             0.4,
             "#fde0ef"
            ],
            [
             0.5,
             "#f7f7f7"
            ],
            [
             0.6,
             "#e6f5d0"
            ],
            [
             0.7,
             "#b8e186"
            ],
            [
             0.8,
             "#7fbc41"
            ],
            [
             0.9,
             "#4d9221"
            ],
            [
             1,
             "#276419"
            ]
           ],
           "sequential": [
            [
             0,
             "#0d0887"
            ],
            [
             0.1111111111111111,
             "#46039f"
            ],
            [
             0.2222222222222222,
             "#7201a8"
            ],
            [
             0.3333333333333333,
             "#9c179e"
            ],
            [
             0.4444444444444444,
             "#bd3786"
            ],
            [
             0.5555555555555556,
             "#d8576b"
            ],
            [
             0.6666666666666666,
             "#ed7953"
            ],
            [
             0.7777777777777778,
             "#fb9f3a"
            ],
            [
             0.8888888888888888,
             "#fdca26"
            ],
            [
             1,
             "#f0f921"
            ]
           ],
           "sequentialminus": [
            [
             0,
             "#0d0887"
            ],
            [
             0.1111111111111111,
             "#46039f"
            ],
            [
             0.2222222222222222,
             "#7201a8"
            ],
            [
             0.3333333333333333,
             "#9c179e"
            ],
            [
             0.4444444444444444,
             "#bd3786"
            ],
            [
             0.5555555555555556,
             "#d8576b"
            ],
            [
             0.6666666666666666,
             "#ed7953"
            ],
            [
             0.7777777777777778,
             "#fb9f3a"
            ],
            [
             0.8888888888888888,
             "#fdca26"
            ],
            [
             1,
             "#f0f921"
            ]
           ]
          },
          "colorway": [
           "#636efa",
           "#EF553B",
           "#00cc96",
           "#ab63fa",
           "#FFA15A",
           "#19d3f3",
           "#FF6692",
           "#B6E880",
           "#FF97FF",
           "#FECB52"
          ],
          "font": {
           "color": "#2a3f5f"
          },
          "geo": {
           "bgcolor": "white",
           "lakecolor": "white",
           "landcolor": "#E5ECF6",
           "showlakes": true,
           "showland": true,
           "subunitcolor": "white"
          },
          "hoverlabel": {
           "align": "left"
          },
          "hovermode": "closest",
          "mapbox": {
           "style": "light"
          },
          "paper_bgcolor": "white",
          "plot_bgcolor": "#E5ECF6",
          "polar": {
           "angularaxis": {
            "gridcolor": "white",
            "linecolor": "white",
            "ticks": ""
           },
           "bgcolor": "#E5ECF6",
           "radialaxis": {
            "gridcolor": "white",
            "linecolor": "white",
            "ticks": ""
           }
          },
          "scene": {
           "xaxis": {
            "backgroundcolor": "#E5ECF6",
            "gridcolor": "white",
            "gridwidth": 2,
            "linecolor": "white",
            "showbackground": true,
            "ticks": "",
            "zerolinecolor": "white"
           },
           "yaxis": {
            "backgroundcolor": "#E5ECF6",
            "gridcolor": "white",
            "gridwidth": 2,
            "linecolor": "white",
            "showbackground": true,
            "ticks": "",
            "zerolinecolor": "white"
           },
           "zaxis": {
            "backgroundcolor": "#E5ECF6",
            "gridcolor": "white",
            "gridwidth": 2,
            "linecolor": "white",
            "showbackground": true,
            "ticks": "",
            "zerolinecolor": "white"
           }
          },
          "shapedefaults": {
           "line": {
            "color": "#2a3f5f"
           }
          },
          "ternary": {
           "aaxis": {
            "gridcolor": "white",
            "linecolor": "white",
            "ticks": ""
           },
           "baxis": {
            "gridcolor": "white",
            "linecolor": "white",
            "ticks": ""
           },
           "bgcolor": "#E5ECF6",
           "caxis": {
            "gridcolor": "white",
            "linecolor": "white",
            "ticks": ""
           }
          },
          "title": {
           "x": 0.05
          },
          "xaxis": {
           "automargin": true,
           "gridcolor": "white",
           "linecolor": "white",
           "ticks": "",
           "title": {
            "standoff": 15
           },
           "zerolinecolor": "white",
           "zerolinewidth": 2
          },
          "yaxis": {
           "automargin": true,
           "gridcolor": "white",
           "linecolor": "white",
           "ticks": "",
           "title": {
            "standoff": 15
           },
           "zerolinecolor": "white",
           "zerolinewidth": 2
          }
         }
        },
        "title": {
         "text": "Distribution of TV Show Seasons on Netflix",
         "x": 0.5
        },
        "xaxis": {
         "anchor": "y",
         "domain": [
          0,
          1
         ],
         "dtick": 1,
         "tickmode": "linear",
         "title": {
          "text": "Number of Seasons"
         }
        },
        "yaxis": {
         "anchor": "x",
         "domain": [
          0,
          1
         ],
         "title": {
          "text": "Number of TV Shows"
         }
        }
       }
      },
      "text/html": [
       "<div>            <script src=\"https://cdnjs.cloudflare.com/ajax/libs/mathjax/2.7.5/MathJax.js?config=TeX-AMS-MML_SVG\"></script><script type=\"text/javascript\">if (window.MathJax && window.MathJax.Hub && window.MathJax.Hub.Config) {window.MathJax.Hub.Config({SVG: {font: \"STIX-Web\"}});}</script>                <script type=\"text/javascript\">window.PlotlyConfig = {MathJaxConfig: 'local'};</script>\n",
       "        <script charset=\"utf-8\" src=\"https://cdn.plot.ly/plotly-3.0.0.min.js\"></script>                <div id=\"690c6a89-107b-4233-ab04-6f787fe1137e\" class=\"plotly-graph-div\" style=\"height:525px; width:100%;\"></div>            <script type=\"text/javascript\">                window.PLOTLYENV=window.PLOTLYENV || {};                                if (document.getElementById(\"690c6a89-107b-4233-ab04-6f787fe1137e\")) {                    Plotly.newPlot(                        \"690c6a89-107b-4233-ab04-6f787fe1137e\",                        [{\"hovertemplate\":\"Number of Seasons=%{x}\\u003cbr\\u003eNumber of TV Shows=%{text}\\u003cextra\\u003e\\u003c\\u002fextra\\u003e\",\"legendgroup\":\"\",\"marker\":{\"color\":\"#636efa\",\"pattern\":{\"shape\":\"\"}},\"name\":\"\",\"orientation\":\"v\",\"showlegend\":false,\"text\":{\"dtype\":\"f8\",\"bdata\":\"AAAAAADwm0AAAAAAAFB6QAAAAAAAoGhAAAAAAACAV0AAAAAAAABQQAAAAAAAgEBAAAAAAAAAN0AAAAAAAAAxQAAAAAAAACJAAAAAAAAAGEAAAAAAAADwPwAAAAAAAABAAAAAAAAAAEAAAAAAAAAAQAAAAAAAAPA\\u002f\"},\"textposition\":\"outside\",\"x\":{\"dtype\":\"i1\",\"bdata\":\"AQIDBAUGBwgJCgsMDQ8R\"},\"xaxis\":\"x\",\"y\":{\"dtype\":\"i2\",\"bdata\":\"\\u002fAalAcUAXgBAACEAFwARAAkABgABAAIAAgACAAEA\"},\"yaxis\":\"y\",\"type\":\"bar\"}],                        {\"template\":{\"data\":{\"histogram2dcontour\":[{\"type\":\"histogram2dcontour\",\"colorbar\":{\"outlinewidth\":0,\"ticks\":\"\"},\"colorscale\":[[0.0,\"#0d0887\"],[0.1111111111111111,\"#46039f\"],[0.2222222222222222,\"#7201a8\"],[0.3333333333333333,\"#9c179e\"],[0.4444444444444444,\"#bd3786\"],[0.5555555555555556,\"#d8576b\"],[0.6666666666666666,\"#ed7953\"],[0.7777777777777778,\"#fb9f3a\"],[0.8888888888888888,\"#fdca26\"],[1.0,\"#f0f921\"]]}],\"choropleth\":[{\"type\":\"choropleth\",\"colorbar\":{\"outlinewidth\":0,\"ticks\":\"\"}}],\"histogram2d\":[{\"type\":\"histogram2d\",\"colorbar\":{\"outlinewidth\":0,\"ticks\":\"\"},\"colorscale\":[[0.0,\"#0d0887\"],[0.1111111111111111,\"#46039f\"],[0.2222222222222222,\"#7201a8\"],[0.3333333333333333,\"#9c179e\"],[0.4444444444444444,\"#bd3786\"],[0.5555555555555556,\"#d8576b\"],[0.6666666666666666,\"#ed7953\"],[0.7777777777777778,\"#fb9f3a\"],[0.8888888888888888,\"#fdca26\"],[1.0,\"#f0f921\"]]}],\"heatmap\":[{\"type\":\"heatmap\",\"colorbar\":{\"outlinewidth\":0,\"ticks\":\"\"},\"colorscale\":[[0.0,\"#0d0887\"],[0.1111111111111111,\"#46039f\"],[0.2222222222222222,\"#7201a8\"],[0.3333333333333333,\"#9c179e\"],[0.4444444444444444,\"#bd3786\"],[0.5555555555555556,\"#d8576b\"],[0.6666666666666666,\"#ed7953\"],[0.7777777777777778,\"#fb9f3a\"],[0.8888888888888888,\"#fdca26\"],[1.0,\"#f0f921\"]]}],\"contourcarpet\":[{\"type\":\"contourcarpet\",\"colorbar\":{\"outlinewidth\":0,\"ticks\":\"\"}}],\"contour\":[{\"type\":\"contour\",\"colorbar\":{\"outlinewidth\":0,\"ticks\":\"\"},\"colorscale\":[[0.0,\"#0d0887\"],[0.1111111111111111,\"#46039f\"],[0.2222222222222222,\"#7201a8\"],[0.3333333333333333,\"#9c179e\"],[0.4444444444444444,\"#bd3786\"],[0.5555555555555556,\"#d8576b\"],[0.6666666666666666,\"#ed7953\"],[0.7777777777777778,\"#fb9f3a\"],[0.8888888888888888,\"#fdca26\"],[1.0,\"#f0f921\"]]}],\"surface\":[{\"type\":\"surface\",\"colorbar\":{\"outlinewidth\":0,\"ticks\":\"\"},\"colorscale\":[[0.0,\"#0d0887\"],[0.1111111111111111,\"#46039f\"],[0.2222222222222222,\"#7201a8\"],[0.3333333333333333,\"#9c179e\"],[0.4444444444444444,\"#bd3786\"],[0.5555555555555556,\"#d8576b\"],[0.6666666666666666,\"#ed7953\"],[0.7777777777777778,\"#fb9f3a\"],[0.8888888888888888,\"#fdca26\"],[1.0,\"#f0f921\"]]}],\"mesh3d\":[{\"type\":\"mesh3d\",\"colorbar\":{\"outlinewidth\":0,\"ticks\":\"\"}}],\"scatter\":[{\"fillpattern\":{\"fillmode\":\"overlay\",\"size\":10,\"solidity\":0.2},\"type\":\"scatter\"}],\"parcoords\":[{\"type\":\"parcoords\",\"line\":{\"colorbar\":{\"outlinewidth\":0,\"ticks\":\"\"}}}],\"scatterpolargl\":[{\"type\":\"scatterpolargl\",\"marker\":{\"colorbar\":{\"outlinewidth\":0,\"ticks\":\"\"}}}],\"bar\":[{\"error_x\":{\"color\":\"#2a3f5f\"},\"error_y\":{\"color\":\"#2a3f5f\"},\"marker\":{\"line\":{\"color\":\"#E5ECF6\",\"width\":0.5},\"pattern\":{\"fillmode\":\"overlay\",\"size\":10,\"solidity\":0.2}},\"type\":\"bar\"}],\"scattergeo\":[{\"type\":\"scattergeo\",\"marker\":{\"colorbar\":{\"outlinewidth\":0,\"ticks\":\"\"}}}],\"scatterpolar\":[{\"type\":\"scatterpolar\",\"marker\":{\"colorbar\":{\"outlinewidth\":0,\"ticks\":\"\"}}}],\"histogram\":[{\"marker\":{\"pattern\":{\"fillmode\":\"overlay\",\"size\":10,\"solidity\":0.2}},\"type\":\"histogram\"}],\"scattergl\":[{\"type\":\"scattergl\",\"marker\":{\"colorbar\":{\"outlinewidth\":0,\"ticks\":\"\"}}}],\"scatter3d\":[{\"type\":\"scatter3d\",\"line\":{\"colorbar\":{\"outlinewidth\":0,\"ticks\":\"\"}},\"marker\":{\"colorbar\":{\"outlinewidth\":0,\"ticks\":\"\"}}}],\"scattermap\":[{\"type\":\"scattermap\",\"marker\":{\"colorbar\":{\"outlinewidth\":0,\"ticks\":\"\"}}}],\"scattermapbox\":[{\"type\":\"scattermapbox\",\"marker\":{\"colorbar\":{\"outlinewidth\":0,\"ticks\":\"\"}}}],\"scatterternary\":[{\"type\":\"scatterternary\",\"marker\":{\"colorbar\":{\"outlinewidth\":0,\"ticks\":\"\"}}}],\"scattercarpet\":[{\"type\":\"scattercarpet\",\"marker\":{\"colorbar\":{\"outlinewidth\":0,\"ticks\":\"\"}}}],\"carpet\":[{\"aaxis\":{\"endlinecolor\":\"#2a3f5f\",\"gridcolor\":\"white\",\"linecolor\":\"white\",\"minorgridcolor\":\"white\",\"startlinecolor\":\"#2a3f5f\"},\"baxis\":{\"endlinecolor\":\"#2a3f5f\",\"gridcolor\":\"white\",\"linecolor\":\"white\",\"minorgridcolor\":\"white\",\"startlinecolor\":\"#2a3f5f\"},\"type\":\"carpet\"}],\"table\":[{\"cells\":{\"fill\":{\"color\":\"#EBF0F8\"},\"line\":{\"color\":\"white\"}},\"header\":{\"fill\":{\"color\":\"#C8D4E3\"},\"line\":{\"color\":\"white\"}},\"type\":\"table\"}],\"barpolar\":[{\"marker\":{\"line\":{\"color\":\"#E5ECF6\",\"width\":0.5},\"pattern\":{\"fillmode\":\"overlay\",\"size\":10,\"solidity\":0.2}},\"type\":\"barpolar\"}],\"pie\":[{\"automargin\":true,\"type\":\"pie\"}]},\"layout\":{\"autotypenumbers\":\"strict\",\"colorway\":[\"#636efa\",\"#EF553B\",\"#00cc96\",\"#ab63fa\",\"#FFA15A\",\"#19d3f3\",\"#FF6692\",\"#B6E880\",\"#FF97FF\",\"#FECB52\"],\"font\":{\"color\":\"#2a3f5f\"},\"hovermode\":\"closest\",\"hoverlabel\":{\"align\":\"left\"},\"paper_bgcolor\":\"white\",\"plot_bgcolor\":\"#E5ECF6\",\"polar\":{\"bgcolor\":\"#E5ECF6\",\"angularaxis\":{\"gridcolor\":\"white\",\"linecolor\":\"white\",\"ticks\":\"\"},\"radialaxis\":{\"gridcolor\":\"white\",\"linecolor\":\"white\",\"ticks\":\"\"}},\"ternary\":{\"bgcolor\":\"#E5ECF6\",\"aaxis\":{\"gridcolor\":\"white\",\"linecolor\":\"white\",\"ticks\":\"\"},\"baxis\":{\"gridcolor\":\"white\",\"linecolor\":\"white\",\"ticks\":\"\"},\"caxis\":{\"gridcolor\":\"white\",\"linecolor\":\"white\",\"ticks\":\"\"}},\"coloraxis\":{\"colorbar\":{\"outlinewidth\":0,\"ticks\":\"\"}},\"colorscale\":{\"sequential\":[[0.0,\"#0d0887\"],[0.1111111111111111,\"#46039f\"],[0.2222222222222222,\"#7201a8\"],[0.3333333333333333,\"#9c179e\"],[0.4444444444444444,\"#bd3786\"],[0.5555555555555556,\"#d8576b\"],[0.6666666666666666,\"#ed7953\"],[0.7777777777777778,\"#fb9f3a\"],[0.8888888888888888,\"#fdca26\"],[1.0,\"#f0f921\"]],\"sequentialminus\":[[0.0,\"#0d0887\"],[0.1111111111111111,\"#46039f\"],[0.2222222222222222,\"#7201a8\"],[0.3333333333333333,\"#9c179e\"],[0.4444444444444444,\"#bd3786\"],[0.5555555555555556,\"#d8576b\"],[0.6666666666666666,\"#ed7953\"],[0.7777777777777778,\"#fb9f3a\"],[0.8888888888888888,\"#fdca26\"],[1.0,\"#f0f921\"]],\"diverging\":[[0,\"#8e0152\"],[0.1,\"#c51b7d\"],[0.2,\"#de77ae\"],[0.3,\"#f1b6da\"],[0.4,\"#fde0ef\"],[0.5,\"#f7f7f7\"],[0.6,\"#e6f5d0\"],[0.7,\"#b8e186\"],[0.8,\"#7fbc41\"],[0.9,\"#4d9221\"],[1,\"#276419\"]]},\"xaxis\":{\"gridcolor\":\"white\",\"linecolor\":\"white\",\"ticks\":\"\",\"title\":{\"standoff\":15},\"zerolinecolor\":\"white\",\"automargin\":true,\"zerolinewidth\":2},\"yaxis\":{\"gridcolor\":\"white\",\"linecolor\":\"white\",\"ticks\":\"\",\"title\":{\"standoff\":15},\"zerolinecolor\":\"white\",\"automargin\":true,\"zerolinewidth\":2},\"scene\":{\"xaxis\":{\"backgroundcolor\":\"#E5ECF6\",\"gridcolor\":\"white\",\"linecolor\":\"white\",\"showbackground\":true,\"ticks\":\"\",\"zerolinecolor\":\"white\",\"gridwidth\":2},\"yaxis\":{\"backgroundcolor\":\"#E5ECF6\",\"gridcolor\":\"white\",\"linecolor\":\"white\",\"showbackground\":true,\"ticks\":\"\",\"zerolinecolor\":\"white\",\"gridwidth\":2},\"zaxis\":{\"backgroundcolor\":\"#E5ECF6\",\"gridcolor\":\"white\",\"linecolor\":\"white\",\"showbackground\":true,\"ticks\":\"\",\"zerolinecolor\":\"white\",\"gridwidth\":2}},\"shapedefaults\":{\"line\":{\"color\":\"#2a3f5f\"}},\"annotationdefaults\":{\"arrowcolor\":\"#2a3f5f\",\"arrowhead\":0,\"arrowwidth\":1},\"geo\":{\"bgcolor\":\"white\",\"landcolor\":\"#E5ECF6\",\"subunitcolor\":\"white\",\"showland\":true,\"showlakes\":true,\"lakecolor\":\"white\"},\"title\":{\"x\":0.05},\"mapbox\":{\"style\":\"light\"}}},\"xaxis\":{\"anchor\":\"y\",\"domain\":[0.0,1.0],\"title\":{\"text\":\"Number of Seasons\"},\"tickmode\":\"linear\",\"dtick\":1},\"yaxis\":{\"anchor\":\"x\",\"domain\":[0.0,1.0],\"title\":{\"text\":\"Number of TV Shows\"}},\"legend\":{\"tracegroupgap\":0},\"title\":{\"text\":\"Distribution of TV Show Seasons on Netflix\",\"x\":0.5},\"barmode\":\"relative\"},                        {\"responsive\": true}                    ).then(function(){\n",
       "                            \n",
       "var gd = document.getElementById('690c6a89-107b-4233-ab04-6f787fe1137e');\n",
       "var x = new MutationObserver(function (mutations, observer) {{\n",
       "        var display = window.getComputedStyle(gd).display;\n",
       "        if (!display || display === 'none') {{\n",
       "            console.log([gd, 'removed!']);\n",
       "            Plotly.purge(gd);\n",
       "            observer.disconnect();\n",
       "        }}\n",
       "}});\n",
       "\n",
       "// Listen for the removal of the full notebook cells\n",
       "var notebookContainer = gd.closest('#notebook-container');\n",
       "if (notebookContainer) {{\n",
       "    x.observe(notebookContainer, {childList: true});\n",
       "}}\n",
       "\n",
       "// Listen for the clearing of the current output cell\n",
       "var outputEl = gd.closest('.output');\n",
       "if (outputEl) {{\n",
       "    x.observe(outputEl, {childList: true});\n",
       "}}\n",
       "\n",
       "                        })                };            </script>        </div>"
      ]
     },
     "metadata": {},
     "output_type": "display_data"
    }
   ],
   "source": [
    "tv_show_df = df[df['type'] == 'TV Show'].copy()\n",
    "\n",
    "tv_show_df['seasons'] = pd.to_numeric(tv_show_df['duration'].str.split(' ').str[0], errors='coerce')\n",
    "tv_show_df.dropna(subset=['seasons'], inplace=True)\n",
    "tv_show_df['seasons'] = tv_show_df['seasons'].astype(int)\n",
    "\n",
    "season_counts = tv_show_df['seasons'].value_counts().reset_index()\n",
    "season_counts.columns = ['seasons', 'count']\n",
    "season_counts = season_counts.sort_values('seasons')\n",
    "\n",
    "fig_tv_seasons = px.bar(\n",
    "    season_counts,\n",
    "    x='seasons',\n",
    "    y='count',\n",
    "    title='Distribution of TV Show Seasons on Netflix',\n",
    "    labels={'seasons': 'Number of Seasons', 'count': 'Number of TV Shows'},\n",
    "    text='count'\n",
    ")\n",
    "\n",
    "fig_tv_seasons.update_layout(\n",
    "    xaxis_title=\"Number of Seasons\",\n",
    "    yaxis_title=\"Number of TV Shows\",\n",
    "    title_x=0.5,\n",
    "    xaxis = dict(\n",
    "        tickmode = 'linear',\n",
    "        dtick = 1\n",
    "    )\n",
    ")\n",
    "fig_tv_seasons.update_traces(textposition='outside')\n",
    "fig_tv_seasons.show()"
   ]
  },
  {
   "cell_type": "markdown",
   "metadata": {},
   "source": [
    "### Genre Analysis (Top 20 Genres)"
   ]
  },
  {
   "cell_type": "code",
   "execution_count": 28,
   "metadata": {},
   "outputs": [
    {
     "data": {
      "application/vnd.plotly.v1+json": {
       "config": {
        "plotlyServerURL": "https://plot.ly"
       },
       "data": [
        {
         "hovertemplate": "Number of Titles=%{marker.color}<br>Genre=%{y}<extra></extra>",
         "legendgroup": "",
         "marker": {
          "color": {
           "bdata": "/wBXAWUBcgF3AYoBwAHUAT0CPwJoAoEC8wL4AlsDZQNBBYcGdgm9Cg==",
           "dtype": "i2"
          },
          "coloraxis": "coloraxis",
          "pattern": {
           "shape": ""
          }
         },
         "name": "",
         "orientation": "h",
         "showlegend": false,
         "text": {
          "bdata": "AAAAAADgb0AAAAAAAHB1QAAAAAAAUHZAAAAAAAAgd0AAAAAAAHB3QAAAAAAAoHhAAAAAAAAAfEAAAAAAAEB9QAAAAAAA6IFAAAAAAAD4gUAAAAAAAECDQAAAAAAACIRAAAAAAACYh0AAAAAAAMCHQAAAAAAA2IpAAAAAAAAoi0AAAAAAAASVQAAAAAAAHJpAAAAAAADsokAAAAAAAHqlQA==",
          "dtype": "f8"
         },
         "textposition": "outside",
         "type": "bar",
         "x": {
          "bdata": "/wBXAWUBcgF3AYoBwAHUAT0CPwJoAoEC8wL4AlsDZQNBBYcGdgm9Cg==",
          "dtype": "i2"
         },
         "xaxis": "x",
         "y": [
          "Reality TV",
          "Stand-Up Comedy",
          "Horror Movies",
          "Romantic TV Shows",
          "Music & Musicals",
          "Docuseries",
          "Kids' TV",
          "Crime TV Shows",
          "TV Comedies",
          "Thrillers",
          "Romantic Movies",
          "Children & Family Movies",
          "Independent Movies",
          "TV Dramas",
          "Action & Adventure",
          "Documentaries",
          "International TV Shows",
          "Comedies",
          "Dramas",
          "International Movies"
         ],
         "yaxis": "y"
        }
       ],
       "layout": {
        "barmode": "relative",
        "coloraxis": {
         "colorbar": {
          "title": {
           "text": "Number of Titles"
          }
         },
         "colorscale": [
          [
           0,
           "#440154"
          ],
          [
           0.1111111111111111,
           "#482878"
          ],
          [
           0.2222222222222222,
           "#3e4989"
          ],
          [
           0.3333333333333333,
           "#31688e"
          ],
          [
           0.4444444444444444,
           "#26828e"
          ],
          [
           0.5555555555555556,
           "#1f9e89"
          ],
          [
           0.6666666666666666,
           "#35b779"
          ],
          [
           0.7777777777777778,
           "#6ece58"
          ],
          [
           0.8888888888888888,
           "#b5de2b"
          ],
          [
           1,
           "#fde725"
          ]
         ]
        },
        "legend": {
         "tracegroupgap": 0
        },
        "template": {
         "data": {
          "bar": [
           {
            "error_x": {
             "color": "#2a3f5f"
            },
            "error_y": {
             "color": "#2a3f5f"
            },
            "marker": {
             "line": {
              "color": "#E5ECF6",
              "width": 0.5
             },
             "pattern": {
              "fillmode": "overlay",
              "size": 10,
              "solidity": 0.2
             }
            },
            "type": "bar"
           }
          ],
          "barpolar": [
           {
            "marker": {
             "line": {
              "color": "#E5ECF6",
              "width": 0.5
             },
             "pattern": {
              "fillmode": "overlay",
              "size": 10,
              "solidity": 0.2
             }
            },
            "type": "barpolar"
           }
          ],
          "carpet": [
           {
            "aaxis": {
             "endlinecolor": "#2a3f5f",
             "gridcolor": "white",
             "linecolor": "white",
             "minorgridcolor": "white",
             "startlinecolor": "#2a3f5f"
            },
            "baxis": {
             "endlinecolor": "#2a3f5f",
             "gridcolor": "white",
             "linecolor": "white",
             "minorgridcolor": "white",
             "startlinecolor": "#2a3f5f"
            },
            "type": "carpet"
           }
          ],
          "choropleth": [
           {
            "colorbar": {
             "outlinewidth": 0,
             "ticks": ""
            },
            "type": "choropleth"
           }
          ],
          "contour": [
           {
            "colorbar": {
             "outlinewidth": 0,
             "ticks": ""
            },
            "colorscale": [
             [
              0,
              "#0d0887"
             ],
             [
              0.1111111111111111,
              "#46039f"
             ],
             [
              0.2222222222222222,
              "#7201a8"
             ],
             [
              0.3333333333333333,
              "#9c179e"
             ],
             [
              0.4444444444444444,
              "#bd3786"
             ],
             [
              0.5555555555555556,
              "#d8576b"
             ],
             [
              0.6666666666666666,
              "#ed7953"
             ],
             [
              0.7777777777777778,
              "#fb9f3a"
             ],
             [
              0.8888888888888888,
              "#fdca26"
             ],
             [
              1,
              "#f0f921"
             ]
            ],
            "type": "contour"
           }
          ],
          "contourcarpet": [
           {
            "colorbar": {
             "outlinewidth": 0,
             "ticks": ""
            },
            "type": "contourcarpet"
           }
          ],
          "heatmap": [
           {
            "colorbar": {
             "outlinewidth": 0,
             "ticks": ""
            },
            "colorscale": [
             [
              0,
              "#0d0887"
             ],
             [
              0.1111111111111111,
              "#46039f"
             ],
             [
              0.2222222222222222,
              "#7201a8"
             ],
             [
              0.3333333333333333,
              "#9c179e"
             ],
             [
              0.4444444444444444,
              "#bd3786"
             ],
             [
              0.5555555555555556,
              "#d8576b"
             ],
             [
              0.6666666666666666,
              "#ed7953"
             ],
             [
              0.7777777777777778,
              "#fb9f3a"
             ],
             [
              0.8888888888888888,
              "#fdca26"
             ],
             [
              1,
              "#f0f921"
             ]
            ],
            "type": "heatmap"
           }
          ],
          "histogram": [
           {
            "marker": {
             "pattern": {
              "fillmode": "overlay",
              "size": 10,
              "solidity": 0.2
             }
            },
            "type": "histogram"
           }
          ],
          "histogram2d": [
           {
            "colorbar": {
             "outlinewidth": 0,
             "ticks": ""
            },
            "colorscale": [
             [
              0,
              "#0d0887"
             ],
             [
              0.1111111111111111,
              "#46039f"
             ],
             [
              0.2222222222222222,
              "#7201a8"
             ],
             [
              0.3333333333333333,
              "#9c179e"
             ],
             [
              0.4444444444444444,
              "#bd3786"
             ],
             [
              0.5555555555555556,
              "#d8576b"
             ],
             [
              0.6666666666666666,
              "#ed7953"
             ],
             [
              0.7777777777777778,
              "#fb9f3a"
             ],
             [
              0.8888888888888888,
              "#fdca26"
             ],
             [
              1,
              "#f0f921"
             ]
            ],
            "type": "histogram2d"
           }
          ],
          "histogram2dcontour": [
           {
            "colorbar": {
             "outlinewidth": 0,
             "ticks": ""
            },
            "colorscale": [
             [
              0,
              "#0d0887"
             ],
             [
              0.1111111111111111,
              "#46039f"
             ],
             [
              0.2222222222222222,
              "#7201a8"
             ],
             [
              0.3333333333333333,
              "#9c179e"
             ],
             [
              0.4444444444444444,
              "#bd3786"
             ],
             [
              0.5555555555555556,
              "#d8576b"
             ],
             [
              0.6666666666666666,
              "#ed7953"
             ],
             [
              0.7777777777777778,
              "#fb9f3a"
             ],
             [
              0.8888888888888888,
              "#fdca26"
             ],
             [
              1,
              "#f0f921"
             ]
            ],
            "type": "histogram2dcontour"
           }
          ],
          "mesh3d": [
           {
            "colorbar": {
             "outlinewidth": 0,
             "ticks": ""
            },
            "type": "mesh3d"
           }
          ],
          "parcoords": [
           {
            "line": {
             "colorbar": {
              "outlinewidth": 0,
              "ticks": ""
             }
            },
            "type": "parcoords"
           }
          ],
          "pie": [
           {
            "automargin": true,
            "type": "pie"
           }
          ],
          "scatter": [
           {
            "fillpattern": {
             "fillmode": "overlay",
             "size": 10,
             "solidity": 0.2
            },
            "type": "scatter"
           }
          ],
          "scatter3d": [
           {
            "line": {
             "colorbar": {
              "outlinewidth": 0,
              "ticks": ""
             }
            },
            "marker": {
             "colorbar": {
              "outlinewidth": 0,
              "ticks": ""
             }
            },
            "type": "scatter3d"
           }
          ],
          "scattercarpet": [
           {
            "marker": {
             "colorbar": {
              "outlinewidth": 0,
              "ticks": ""
             }
            },
            "type": "scattercarpet"
           }
          ],
          "scattergeo": [
           {
            "marker": {
             "colorbar": {
              "outlinewidth": 0,
              "ticks": ""
             }
            },
            "type": "scattergeo"
           }
          ],
          "scattergl": [
           {
            "marker": {
             "colorbar": {
              "outlinewidth": 0,
              "ticks": ""
             }
            },
            "type": "scattergl"
           }
          ],
          "scattermap": [
           {
            "marker": {
             "colorbar": {
              "outlinewidth": 0,
              "ticks": ""
             }
            },
            "type": "scattermap"
           }
          ],
          "scattermapbox": [
           {
            "marker": {
             "colorbar": {
              "outlinewidth": 0,
              "ticks": ""
             }
            },
            "type": "scattermapbox"
           }
          ],
          "scatterpolar": [
           {
            "marker": {
             "colorbar": {
              "outlinewidth": 0,
              "ticks": ""
             }
            },
            "type": "scatterpolar"
           }
          ],
          "scatterpolargl": [
           {
            "marker": {
             "colorbar": {
              "outlinewidth": 0,
              "ticks": ""
             }
            },
            "type": "scatterpolargl"
           }
          ],
          "scatterternary": [
           {
            "marker": {
             "colorbar": {
              "outlinewidth": 0,
              "ticks": ""
             }
            },
            "type": "scatterternary"
           }
          ],
          "surface": [
           {
            "colorbar": {
             "outlinewidth": 0,
             "ticks": ""
            },
            "colorscale": [
             [
              0,
              "#0d0887"
             ],
             [
              0.1111111111111111,
              "#46039f"
             ],
             [
              0.2222222222222222,
              "#7201a8"
             ],
             [
              0.3333333333333333,
              "#9c179e"
             ],
             [
              0.4444444444444444,
              "#bd3786"
             ],
             [
              0.5555555555555556,
              "#d8576b"
             ],
             [
              0.6666666666666666,
              "#ed7953"
             ],
             [
              0.7777777777777778,
              "#fb9f3a"
             ],
             [
              0.8888888888888888,
              "#fdca26"
             ],
             [
              1,
              "#f0f921"
             ]
            ],
            "type": "surface"
           }
          ],
          "table": [
           {
            "cells": {
             "fill": {
              "color": "#EBF0F8"
             },
             "line": {
              "color": "white"
             }
            },
            "header": {
             "fill": {
              "color": "#C8D4E3"
             },
             "line": {
              "color": "white"
             }
            },
            "type": "table"
           }
          ]
         },
         "layout": {
          "annotationdefaults": {
           "arrowcolor": "#2a3f5f",
           "arrowhead": 0,
           "arrowwidth": 1
          },
          "autotypenumbers": "strict",
          "coloraxis": {
           "colorbar": {
            "outlinewidth": 0,
            "ticks": ""
           }
          },
          "colorscale": {
           "diverging": [
            [
             0,
             "#8e0152"
            ],
            [
             0.1,
             "#c51b7d"
            ],
            [
             0.2,
             "#de77ae"
            ],
            [
             0.3,
             "#f1b6da"
            ],
            [
             0.4,
             "#fde0ef"
            ],
            [
             0.5,
             "#f7f7f7"
            ],
            [
             0.6,
             "#e6f5d0"
            ],
            [
             0.7,
             "#b8e186"
            ],
            [
             0.8,
             "#7fbc41"
            ],
            [
             0.9,
             "#4d9221"
            ],
            [
             1,
             "#276419"
            ]
           ],
           "sequential": [
            [
             0,
             "#0d0887"
            ],
            [
             0.1111111111111111,
             "#46039f"
            ],
            [
             0.2222222222222222,
             "#7201a8"
            ],
            [
             0.3333333333333333,
             "#9c179e"
            ],
            [
             0.4444444444444444,
             "#bd3786"
            ],
            [
             0.5555555555555556,
             "#d8576b"
            ],
            [
             0.6666666666666666,
             "#ed7953"
            ],
            [
             0.7777777777777778,
             "#fb9f3a"
            ],
            [
             0.8888888888888888,
             "#fdca26"
            ],
            [
             1,
             "#f0f921"
            ]
           ],
           "sequentialminus": [
            [
             0,
             "#0d0887"
            ],
            [
             0.1111111111111111,
             "#46039f"
            ],
            [
             0.2222222222222222,
             "#7201a8"
            ],
            [
             0.3333333333333333,
             "#9c179e"
            ],
            [
             0.4444444444444444,
             "#bd3786"
            ],
            [
             0.5555555555555556,
             "#d8576b"
            ],
            [
             0.6666666666666666,
             "#ed7953"
            ],
            [
             0.7777777777777778,
             "#fb9f3a"
            ],
            [
             0.8888888888888888,
             "#fdca26"
            ],
            [
             1,
             "#f0f921"
            ]
           ]
          },
          "colorway": [
           "#636efa",
           "#EF553B",
           "#00cc96",
           "#ab63fa",
           "#FFA15A",
           "#19d3f3",
           "#FF6692",
           "#B6E880",
           "#FF97FF",
           "#FECB52"
          ],
          "font": {
           "color": "#2a3f5f"
          },
          "geo": {
           "bgcolor": "white",
           "lakecolor": "white",
           "landcolor": "#E5ECF6",
           "showlakes": true,
           "showland": true,
           "subunitcolor": "white"
          },
          "hoverlabel": {
           "align": "left"
          },
          "hovermode": "closest",
          "mapbox": {
           "style": "light"
          },
          "paper_bgcolor": "white",
          "plot_bgcolor": "#E5ECF6",
          "polar": {
           "angularaxis": {
            "gridcolor": "white",
            "linecolor": "white",
            "ticks": ""
           },
           "bgcolor": "#E5ECF6",
           "radialaxis": {
            "gridcolor": "white",
            "linecolor": "white",
            "ticks": ""
           }
          },
          "scene": {
           "xaxis": {
            "backgroundcolor": "#E5ECF6",
            "gridcolor": "white",
            "gridwidth": 2,
            "linecolor": "white",
            "showbackground": true,
            "ticks": "",
            "zerolinecolor": "white"
           },
           "yaxis": {
            "backgroundcolor": "#E5ECF6",
            "gridcolor": "white",
            "gridwidth": 2,
            "linecolor": "white",
            "showbackground": true,
            "ticks": "",
            "zerolinecolor": "white"
           },
           "zaxis": {
            "backgroundcolor": "#E5ECF6",
            "gridcolor": "white",
            "gridwidth": 2,
            "linecolor": "white",
            "showbackground": true,
            "ticks": "",
            "zerolinecolor": "white"
           }
          },
          "shapedefaults": {
           "line": {
            "color": "#2a3f5f"
           }
          },
          "ternary": {
           "aaxis": {
            "gridcolor": "white",
            "linecolor": "white",
            "ticks": ""
           },
           "baxis": {
            "gridcolor": "white",
            "linecolor": "white",
            "ticks": ""
           },
           "bgcolor": "#E5ECF6",
           "caxis": {
            "gridcolor": "white",
            "linecolor": "white",
            "ticks": ""
           }
          },
          "title": {
           "x": 0.05
          },
          "xaxis": {
           "automargin": true,
           "gridcolor": "white",
           "linecolor": "white",
           "ticks": "",
           "title": {
            "standoff": 15
           },
           "zerolinecolor": "white",
           "zerolinewidth": 2
          },
          "yaxis": {
           "automargin": true,
           "gridcolor": "white",
           "linecolor": "white",
           "ticks": "",
           "title": {
            "standoff": 15
           },
           "zerolinecolor": "white",
           "zerolinewidth": 2
          }
         }
        },
        "title": {
         "text": "Top 20 Most Common Genres on Netflix",
         "x": 0.5
        },
        "xaxis": {
         "anchor": "y",
         "domain": [
          0,
          1
         ],
         "title": {
          "text": "Number of Titles"
         }
        },
        "yaxis": {
         "anchor": "x",
         "categoryorder": "total ascending",
         "domain": [
          0,
          1
         ],
         "title": {
          "text": "Genre"
         }
        }
       }
      },
      "text/html": [
       "<div>            <script src=\"https://cdnjs.cloudflare.com/ajax/libs/mathjax/2.7.5/MathJax.js?config=TeX-AMS-MML_SVG\"></script><script type=\"text/javascript\">if (window.MathJax && window.MathJax.Hub && window.MathJax.Hub.Config) {window.MathJax.Hub.Config({SVG: {font: \"STIX-Web\"}});}</script>                <script type=\"text/javascript\">window.PlotlyConfig = {MathJaxConfig: 'local'};</script>\n",
       "        <script charset=\"utf-8\" src=\"https://cdn.plot.ly/plotly-3.0.0.min.js\"></script>                <div id=\"f0927548-6594-4f24-9024-4a4ef2b06393\" class=\"plotly-graph-div\" style=\"height:525px; width:100%;\"></div>            <script type=\"text/javascript\">                window.PLOTLYENV=window.PLOTLYENV || {};                                if (document.getElementById(\"f0927548-6594-4f24-9024-4a4ef2b06393\")) {                    Plotly.newPlot(                        \"f0927548-6594-4f24-9024-4a4ef2b06393\",                        [{\"hovertemplate\":\"Number of Titles=%{marker.color}\\u003cbr\\u003eGenre=%{y}\\u003cextra\\u003e\\u003c\\u002fextra\\u003e\",\"legendgroup\":\"\",\"marker\":{\"color\":{\"dtype\":\"i2\",\"bdata\":\"\\u002fwBXAWUBcgF3AYoBwAHUAT0CPwJoAoEC8wL4AlsDZQNBBYcGdgm9Cg==\"},\"coloraxis\":\"coloraxis\",\"pattern\":{\"shape\":\"\"}},\"name\":\"\",\"orientation\":\"h\",\"showlegend\":false,\"text\":{\"dtype\":\"f8\",\"bdata\":\"AAAAAADgb0AAAAAAAHB1QAAAAAAAUHZAAAAAAAAgd0AAAAAAAHB3QAAAAAAAoHhAAAAAAAAAfEAAAAAAAEB9QAAAAAAA6IFAAAAAAAD4gUAAAAAAAECDQAAAAAAACIRAAAAAAACYh0AAAAAAAMCHQAAAAAAA2IpAAAAAAAAoi0AAAAAAAASVQAAAAAAAHJpAAAAAAADsokAAAAAAAHqlQA==\"},\"textposition\":\"outside\",\"x\":{\"dtype\":\"i2\",\"bdata\":\"\\u002fwBXAWUBcgF3AYoBwAHUAT0CPwJoAoEC8wL4AlsDZQNBBYcGdgm9Cg==\"},\"xaxis\":\"x\",\"y\":[\"Reality TV\",\"Stand-Up Comedy\",\"Horror Movies\",\"Romantic TV Shows\",\"Music & Musicals\",\"Docuseries\",\"Kids' TV\",\"Crime TV Shows\",\"TV Comedies\",\"Thrillers\",\"Romantic Movies\",\"Children & Family Movies\",\"Independent Movies\",\"TV Dramas\",\"Action & Adventure\",\"Documentaries\",\"International TV Shows\",\"Comedies\",\"Dramas\",\"International Movies\"],\"yaxis\":\"y\",\"type\":\"bar\"}],                        {\"template\":{\"data\":{\"histogram2dcontour\":[{\"type\":\"histogram2dcontour\",\"colorbar\":{\"outlinewidth\":0,\"ticks\":\"\"},\"colorscale\":[[0.0,\"#0d0887\"],[0.1111111111111111,\"#46039f\"],[0.2222222222222222,\"#7201a8\"],[0.3333333333333333,\"#9c179e\"],[0.4444444444444444,\"#bd3786\"],[0.5555555555555556,\"#d8576b\"],[0.6666666666666666,\"#ed7953\"],[0.7777777777777778,\"#fb9f3a\"],[0.8888888888888888,\"#fdca26\"],[1.0,\"#f0f921\"]]}],\"choropleth\":[{\"type\":\"choropleth\",\"colorbar\":{\"outlinewidth\":0,\"ticks\":\"\"}}],\"histogram2d\":[{\"type\":\"histogram2d\",\"colorbar\":{\"outlinewidth\":0,\"ticks\":\"\"},\"colorscale\":[[0.0,\"#0d0887\"],[0.1111111111111111,\"#46039f\"],[0.2222222222222222,\"#7201a8\"],[0.3333333333333333,\"#9c179e\"],[0.4444444444444444,\"#bd3786\"],[0.5555555555555556,\"#d8576b\"],[0.6666666666666666,\"#ed7953\"],[0.7777777777777778,\"#fb9f3a\"],[0.8888888888888888,\"#fdca26\"],[1.0,\"#f0f921\"]]}],\"heatmap\":[{\"type\":\"heatmap\",\"colorbar\":{\"outlinewidth\":0,\"ticks\":\"\"},\"colorscale\":[[0.0,\"#0d0887\"],[0.1111111111111111,\"#46039f\"],[0.2222222222222222,\"#7201a8\"],[0.3333333333333333,\"#9c179e\"],[0.4444444444444444,\"#bd3786\"],[0.5555555555555556,\"#d8576b\"],[0.6666666666666666,\"#ed7953\"],[0.7777777777777778,\"#fb9f3a\"],[0.8888888888888888,\"#fdca26\"],[1.0,\"#f0f921\"]]}],\"contourcarpet\":[{\"type\":\"contourcarpet\",\"colorbar\":{\"outlinewidth\":0,\"ticks\":\"\"}}],\"contour\":[{\"type\":\"contour\",\"colorbar\":{\"outlinewidth\":0,\"ticks\":\"\"},\"colorscale\":[[0.0,\"#0d0887\"],[0.1111111111111111,\"#46039f\"],[0.2222222222222222,\"#7201a8\"],[0.3333333333333333,\"#9c179e\"],[0.4444444444444444,\"#bd3786\"],[0.5555555555555556,\"#d8576b\"],[0.6666666666666666,\"#ed7953\"],[0.7777777777777778,\"#fb9f3a\"],[0.8888888888888888,\"#fdca26\"],[1.0,\"#f0f921\"]]}],\"surface\":[{\"type\":\"surface\",\"colorbar\":{\"outlinewidth\":0,\"ticks\":\"\"},\"colorscale\":[[0.0,\"#0d0887\"],[0.1111111111111111,\"#46039f\"],[0.2222222222222222,\"#7201a8\"],[0.3333333333333333,\"#9c179e\"],[0.4444444444444444,\"#bd3786\"],[0.5555555555555556,\"#d8576b\"],[0.6666666666666666,\"#ed7953\"],[0.7777777777777778,\"#fb9f3a\"],[0.8888888888888888,\"#fdca26\"],[1.0,\"#f0f921\"]]}],\"mesh3d\":[{\"type\":\"mesh3d\",\"colorbar\":{\"outlinewidth\":0,\"ticks\":\"\"}}],\"scatter\":[{\"fillpattern\":{\"fillmode\":\"overlay\",\"size\":10,\"solidity\":0.2},\"type\":\"scatter\"}],\"parcoords\":[{\"type\":\"parcoords\",\"line\":{\"colorbar\":{\"outlinewidth\":0,\"ticks\":\"\"}}}],\"scatterpolargl\":[{\"type\":\"scatterpolargl\",\"marker\":{\"colorbar\":{\"outlinewidth\":0,\"ticks\":\"\"}}}],\"bar\":[{\"error_x\":{\"color\":\"#2a3f5f\"},\"error_y\":{\"color\":\"#2a3f5f\"},\"marker\":{\"line\":{\"color\":\"#E5ECF6\",\"width\":0.5},\"pattern\":{\"fillmode\":\"overlay\",\"size\":10,\"solidity\":0.2}},\"type\":\"bar\"}],\"scattergeo\":[{\"type\":\"scattergeo\",\"marker\":{\"colorbar\":{\"outlinewidth\":0,\"ticks\":\"\"}}}],\"scatterpolar\":[{\"type\":\"scatterpolar\",\"marker\":{\"colorbar\":{\"outlinewidth\":0,\"ticks\":\"\"}}}],\"histogram\":[{\"marker\":{\"pattern\":{\"fillmode\":\"overlay\",\"size\":10,\"solidity\":0.2}},\"type\":\"histogram\"}],\"scattergl\":[{\"type\":\"scattergl\",\"marker\":{\"colorbar\":{\"outlinewidth\":0,\"ticks\":\"\"}}}],\"scatter3d\":[{\"type\":\"scatter3d\",\"line\":{\"colorbar\":{\"outlinewidth\":0,\"ticks\":\"\"}},\"marker\":{\"colorbar\":{\"outlinewidth\":0,\"ticks\":\"\"}}}],\"scattermap\":[{\"type\":\"scattermap\",\"marker\":{\"colorbar\":{\"outlinewidth\":0,\"ticks\":\"\"}}}],\"scattermapbox\":[{\"type\":\"scattermapbox\",\"marker\":{\"colorbar\":{\"outlinewidth\":0,\"ticks\":\"\"}}}],\"scatterternary\":[{\"type\":\"scatterternary\",\"marker\":{\"colorbar\":{\"outlinewidth\":0,\"ticks\":\"\"}}}],\"scattercarpet\":[{\"type\":\"scattercarpet\",\"marker\":{\"colorbar\":{\"outlinewidth\":0,\"ticks\":\"\"}}}],\"carpet\":[{\"aaxis\":{\"endlinecolor\":\"#2a3f5f\",\"gridcolor\":\"white\",\"linecolor\":\"white\",\"minorgridcolor\":\"white\",\"startlinecolor\":\"#2a3f5f\"},\"baxis\":{\"endlinecolor\":\"#2a3f5f\",\"gridcolor\":\"white\",\"linecolor\":\"white\",\"minorgridcolor\":\"white\",\"startlinecolor\":\"#2a3f5f\"},\"type\":\"carpet\"}],\"table\":[{\"cells\":{\"fill\":{\"color\":\"#EBF0F8\"},\"line\":{\"color\":\"white\"}},\"header\":{\"fill\":{\"color\":\"#C8D4E3\"},\"line\":{\"color\":\"white\"}},\"type\":\"table\"}],\"barpolar\":[{\"marker\":{\"line\":{\"color\":\"#E5ECF6\",\"width\":0.5},\"pattern\":{\"fillmode\":\"overlay\",\"size\":10,\"solidity\":0.2}},\"type\":\"barpolar\"}],\"pie\":[{\"automargin\":true,\"type\":\"pie\"}]},\"layout\":{\"autotypenumbers\":\"strict\",\"colorway\":[\"#636efa\",\"#EF553B\",\"#00cc96\",\"#ab63fa\",\"#FFA15A\",\"#19d3f3\",\"#FF6692\",\"#B6E880\",\"#FF97FF\",\"#FECB52\"],\"font\":{\"color\":\"#2a3f5f\"},\"hovermode\":\"closest\",\"hoverlabel\":{\"align\":\"left\"},\"paper_bgcolor\":\"white\",\"plot_bgcolor\":\"#E5ECF6\",\"polar\":{\"bgcolor\":\"#E5ECF6\",\"angularaxis\":{\"gridcolor\":\"white\",\"linecolor\":\"white\",\"ticks\":\"\"},\"radialaxis\":{\"gridcolor\":\"white\",\"linecolor\":\"white\",\"ticks\":\"\"}},\"ternary\":{\"bgcolor\":\"#E5ECF6\",\"aaxis\":{\"gridcolor\":\"white\",\"linecolor\":\"white\",\"ticks\":\"\"},\"baxis\":{\"gridcolor\":\"white\",\"linecolor\":\"white\",\"ticks\":\"\"},\"caxis\":{\"gridcolor\":\"white\",\"linecolor\":\"white\",\"ticks\":\"\"}},\"coloraxis\":{\"colorbar\":{\"outlinewidth\":0,\"ticks\":\"\"}},\"colorscale\":{\"sequential\":[[0.0,\"#0d0887\"],[0.1111111111111111,\"#46039f\"],[0.2222222222222222,\"#7201a8\"],[0.3333333333333333,\"#9c179e\"],[0.4444444444444444,\"#bd3786\"],[0.5555555555555556,\"#d8576b\"],[0.6666666666666666,\"#ed7953\"],[0.7777777777777778,\"#fb9f3a\"],[0.8888888888888888,\"#fdca26\"],[1.0,\"#f0f921\"]],\"sequentialminus\":[[0.0,\"#0d0887\"],[0.1111111111111111,\"#46039f\"],[0.2222222222222222,\"#7201a8\"],[0.3333333333333333,\"#9c179e\"],[0.4444444444444444,\"#bd3786\"],[0.5555555555555556,\"#d8576b\"],[0.6666666666666666,\"#ed7953\"],[0.7777777777777778,\"#fb9f3a\"],[0.8888888888888888,\"#fdca26\"],[1.0,\"#f0f921\"]],\"diverging\":[[0,\"#8e0152\"],[0.1,\"#c51b7d\"],[0.2,\"#de77ae\"],[0.3,\"#f1b6da\"],[0.4,\"#fde0ef\"],[0.5,\"#f7f7f7\"],[0.6,\"#e6f5d0\"],[0.7,\"#b8e186\"],[0.8,\"#7fbc41\"],[0.9,\"#4d9221\"],[1,\"#276419\"]]},\"xaxis\":{\"gridcolor\":\"white\",\"linecolor\":\"white\",\"ticks\":\"\",\"title\":{\"standoff\":15},\"zerolinecolor\":\"white\",\"automargin\":true,\"zerolinewidth\":2},\"yaxis\":{\"gridcolor\":\"white\",\"linecolor\":\"white\",\"ticks\":\"\",\"title\":{\"standoff\":15},\"zerolinecolor\":\"white\",\"automargin\":true,\"zerolinewidth\":2},\"scene\":{\"xaxis\":{\"backgroundcolor\":\"#E5ECF6\",\"gridcolor\":\"white\",\"linecolor\":\"white\",\"showbackground\":true,\"ticks\":\"\",\"zerolinecolor\":\"white\",\"gridwidth\":2},\"yaxis\":{\"backgroundcolor\":\"#E5ECF6\",\"gridcolor\":\"white\",\"linecolor\":\"white\",\"showbackground\":true,\"ticks\":\"\",\"zerolinecolor\":\"white\",\"gridwidth\":2},\"zaxis\":{\"backgroundcolor\":\"#E5ECF6\",\"gridcolor\":\"white\",\"linecolor\":\"white\",\"showbackground\":true,\"ticks\":\"\",\"zerolinecolor\":\"white\",\"gridwidth\":2}},\"shapedefaults\":{\"line\":{\"color\":\"#2a3f5f\"}},\"annotationdefaults\":{\"arrowcolor\":\"#2a3f5f\",\"arrowhead\":0,\"arrowwidth\":1},\"geo\":{\"bgcolor\":\"white\",\"landcolor\":\"#E5ECF6\",\"subunitcolor\":\"white\",\"showland\":true,\"showlakes\":true,\"lakecolor\":\"white\"},\"title\":{\"x\":0.05},\"mapbox\":{\"style\":\"light\"}}},\"xaxis\":{\"anchor\":\"y\",\"domain\":[0.0,1.0],\"title\":{\"text\":\"Number of Titles\"}},\"yaxis\":{\"anchor\":\"x\",\"domain\":[0.0,1.0],\"title\":{\"text\":\"Genre\"},\"categoryorder\":\"total ascending\"},\"coloraxis\":{\"colorbar\":{\"title\":{\"text\":\"Number of Titles\"}},\"colorscale\":[[0.0,\"#440154\"],[0.1111111111111111,\"#482878\"],[0.2222222222222222,\"#3e4989\"],[0.3333333333333333,\"#31688e\"],[0.4444444444444444,\"#26828e\"],[0.5555555555555556,\"#1f9e89\"],[0.6666666666666666,\"#35b779\"],[0.7777777777777778,\"#6ece58\"],[0.8888888888888888,\"#b5de2b\"],[1.0,\"#fde725\"]]},\"legend\":{\"tracegroupgap\":0},\"title\":{\"text\":\"Top 20 Most Common Genres on Netflix\",\"x\":0.5},\"barmode\":\"relative\"},                        {\"responsive\": true}                    ).then(function(){\n",
       "                            \n",
       "var gd = document.getElementById('f0927548-6594-4f24-9024-4a4ef2b06393');\n",
       "var x = new MutationObserver(function (mutations, observer) {{\n",
       "        var display = window.getComputedStyle(gd).display;\n",
       "        if (!display || display === 'none') {{\n",
       "            console.log([gd, 'removed!']);\n",
       "            Plotly.purge(gd);\n",
       "            observer.disconnect();\n",
       "        }}\n",
       "}});\n",
       "\n",
       "// Listen for the removal of the full notebook cells\n",
       "var notebookContainer = gd.closest('#notebook-container');\n",
       "if (notebookContainer) {{\n",
       "    x.observe(notebookContainer, {childList: true});\n",
       "}}\n",
       "\n",
       "// Listen for the clearing of the current output cell\n",
       "var outputEl = gd.closest('.output');\n",
       "if (outputEl) {{\n",
       "    x.observe(outputEl, {childList: true});\n",
       "}}\n",
       "\n",
       "                        })                };            </script>        </div>"
      ]
     },
     "metadata": {},
     "output_type": "display_data"
    }
   ],
   "source": [
    "genre_list = df['listed_in'].dropna().str.split(', ')\n",
    "\n",
    "all_genres = [genre for sublist in genre_list for genre in sublist]\n",
    "\n",
    "genre_counts = Counter(all_genres)\n",
    "\n",
    "top_20_genres = pd.DataFrame(genre_counts.most_common(20), columns=['genre', 'count'])\n",
    "\n",
    "fig_genres = px.bar(\n",
    "    top_20_genres.sort_values(by='count', ascending=True),\n",
    "    x='count',\n",
    "    y='genre',\n",
    "    orientation='h',\n",
    "    title='Top 20 Most Common Genres on Netflix',\n",
    "    labels={'count': 'Number of Titles', 'genre': 'Genre'},\n",
    "    text='count',\n",
    "    color='count',\n",
    "    color_continuous_scale=px.colors.sequential.Viridis\n",
    ")\n",
    "\n",
    "fig_genres.update_layout(\n",
    "    yaxis_title=\"Genre\",\n",
    "    xaxis_title=\"Number of Titles\",\n",
    "    title_x=0.5,\n",
    "    yaxis={'categoryorder':'total ascending'}\n",
    ")\n",
    "fig_genres.update_traces(textposition='outside')\n",
    "fig_genres.show()"
   ]
  },
  {
   "cell_type": "markdown",
   "metadata": {},
   "source": [
    "### Distribution of Content Ratings"
   ]
  },
  {
   "cell_type": "code",
   "execution_count": 29,
   "metadata": {},
   "outputs": [
    {
     "data": {
      "application/vnd.plotly.v1+json": {
       "config": {
        "plotlyServerURL": "https://plot.ly"
       },
       "data": [
        {
         "hovertemplate": "Rating=%{x}<br>Number of Titles=%{marker.color}<extra></extra>",
         "legendgroup": "",
         "marker": {
          "color": {
           "bdata": "ggxpCF0DHgPqAU0BMgEfAdwATgApAAYAAwADAA==",
           "dtype": "i2"
          },
          "coloraxis": "coloraxis",
          "pattern": {
           "shape": ""
          }
         },
         "name": "",
         "orientation": "v",
         "showlegend": false,
         "text": {
          "bdata": "AAAAAAAEqUAAAAAAANKgQAAAAAAA6IpAAAAAAADwiEAAAAAAAKB+QAAAAAAA0HRAAAAAAAAgc0AAAAAAAPBxQAAAAAAAgGtAAAAAAACAU0AAAAAAAIBEQAAAAAAAABhAAAAAAAAACEAAAAAAAAAIQA==",
          "dtype": "f8"
         },
         "textposition": "outside",
         "type": "bar",
         "x": [
          "TV-MA",
          "TV-14",
          "TV-PG",
          "R",
          "PG-13",
          "TV-Y7",
          "TV-Y",
          "PG",
          "TV-G",
          "NR",
          "G",
          "TV-Y7-FV",
          "NC-17",
          "UR"
         ],
         "xaxis": "x",
         "y": {
          "bdata": "ggxpCF0DHgPqAU0BMgEfAdwATgApAAYAAwADAA==",
          "dtype": "i2"
         },
         "yaxis": "y"
        }
       ],
       "layout": {
        "barmode": "relative",
        "coloraxis": {
         "colorbar": {
          "title": {
           "text": "Number of Titles"
          }
         },
         "colorscale": [
          [
           0,
           "#0d0887"
          ],
          [
           0.1111111111111111,
           "#46039f"
          ],
          [
           0.2222222222222222,
           "#7201a8"
          ],
          [
           0.3333333333333333,
           "#9c179e"
          ],
          [
           0.4444444444444444,
           "#bd3786"
          ],
          [
           0.5555555555555556,
           "#d8576b"
          ],
          [
           0.6666666666666666,
           "#ed7953"
          ],
          [
           0.7777777777777778,
           "#fb9f3a"
          ],
          [
           0.8888888888888888,
           "#fdca26"
          ],
          [
           1,
           "#f0f921"
          ]
         ]
        },
        "legend": {
         "tracegroupgap": 0
        },
        "template": {
         "data": {
          "bar": [
           {
            "error_x": {
             "color": "#2a3f5f"
            },
            "error_y": {
             "color": "#2a3f5f"
            },
            "marker": {
             "line": {
              "color": "#E5ECF6",
              "width": 0.5
             },
             "pattern": {
              "fillmode": "overlay",
              "size": 10,
              "solidity": 0.2
             }
            },
            "type": "bar"
           }
          ],
          "barpolar": [
           {
            "marker": {
             "line": {
              "color": "#E5ECF6",
              "width": 0.5
             },
             "pattern": {
              "fillmode": "overlay",
              "size": 10,
              "solidity": 0.2
             }
            },
            "type": "barpolar"
           }
          ],
          "carpet": [
           {
            "aaxis": {
             "endlinecolor": "#2a3f5f",
             "gridcolor": "white",
             "linecolor": "white",
             "minorgridcolor": "white",
             "startlinecolor": "#2a3f5f"
            },
            "baxis": {
             "endlinecolor": "#2a3f5f",
             "gridcolor": "white",
             "linecolor": "white",
             "minorgridcolor": "white",
             "startlinecolor": "#2a3f5f"
            },
            "type": "carpet"
           }
          ],
          "choropleth": [
           {
            "colorbar": {
             "outlinewidth": 0,
             "ticks": ""
            },
            "type": "choropleth"
           }
          ],
          "contour": [
           {
            "colorbar": {
             "outlinewidth": 0,
             "ticks": ""
            },
            "colorscale": [
             [
              0,
              "#0d0887"
             ],
             [
              0.1111111111111111,
              "#46039f"
             ],
             [
              0.2222222222222222,
              "#7201a8"
             ],
             [
              0.3333333333333333,
              "#9c179e"
             ],
             [
              0.4444444444444444,
              "#bd3786"
             ],
             [
              0.5555555555555556,
              "#d8576b"
             ],
             [
              0.6666666666666666,
              "#ed7953"
             ],
             [
              0.7777777777777778,
              "#fb9f3a"
             ],
             [
              0.8888888888888888,
              "#fdca26"
             ],
             [
              1,
              "#f0f921"
             ]
            ],
            "type": "contour"
           }
          ],
          "contourcarpet": [
           {
            "colorbar": {
             "outlinewidth": 0,
             "ticks": ""
            },
            "type": "contourcarpet"
           }
          ],
          "heatmap": [
           {
            "colorbar": {
             "outlinewidth": 0,
             "ticks": ""
            },
            "colorscale": [
             [
              0,
              "#0d0887"
             ],
             [
              0.1111111111111111,
              "#46039f"
             ],
             [
              0.2222222222222222,
              "#7201a8"
             ],
             [
              0.3333333333333333,
              "#9c179e"
             ],
             [
              0.4444444444444444,
              "#bd3786"
             ],
             [
              0.5555555555555556,
              "#d8576b"
             ],
             [
              0.6666666666666666,
              "#ed7953"
             ],
             [
              0.7777777777777778,
              "#fb9f3a"
             ],
             [
              0.8888888888888888,
              "#fdca26"
             ],
             [
              1,
              "#f0f921"
             ]
            ],
            "type": "heatmap"
           }
          ],
          "histogram": [
           {
            "marker": {
             "pattern": {
              "fillmode": "overlay",
              "size": 10,
              "solidity": 0.2
             }
            },
            "type": "histogram"
           }
          ],
          "histogram2d": [
           {
            "colorbar": {
             "outlinewidth": 0,
             "ticks": ""
            },
            "colorscale": [
             [
              0,
              "#0d0887"
             ],
             [
              0.1111111111111111,
              "#46039f"
             ],
             [
              0.2222222222222222,
              "#7201a8"
             ],
             [
              0.3333333333333333,
              "#9c179e"
             ],
             [
              0.4444444444444444,
              "#bd3786"
             ],
             [
              0.5555555555555556,
              "#d8576b"
             ],
             [
              0.6666666666666666,
              "#ed7953"
             ],
             [
              0.7777777777777778,
              "#fb9f3a"
             ],
             [
              0.8888888888888888,
              "#fdca26"
             ],
             [
              1,
              "#f0f921"
             ]
            ],
            "type": "histogram2d"
           }
          ],
          "histogram2dcontour": [
           {
            "colorbar": {
             "outlinewidth": 0,
             "ticks": ""
            },
            "colorscale": [
             [
              0,
              "#0d0887"
             ],
             [
              0.1111111111111111,
              "#46039f"
             ],
             [
              0.2222222222222222,
              "#7201a8"
             ],
             [
              0.3333333333333333,
              "#9c179e"
             ],
             [
              0.4444444444444444,
              "#bd3786"
             ],
             [
              0.5555555555555556,
              "#d8576b"
             ],
             [
              0.6666666666666666,
              "#ed7953"
             ],
             [
              0.7777777777777778,
              "#fb9f3a"
             ],
             [
              0.8888888888888888,
              "#fdca26"
             ],
             [
              1,
              "#f0f921"
             ]
            ],
            "type": "histogram2dcontour"
           }
          ],
          "mesh3d": [
           {
            "colorbar": {
             "outlinewidth": 0,
             "ticks": ""
            },
            "type": "mesh3d"
           }
          ],
          "parcoords": [
           {
            "line": {
             "colorbar": {
              "outlinewidth": 0,
              "ticks": ""
             }
            },
            "type": "parcoords"
           }
          ],
          "pie": [
           {
            "automargin": true,
            "type": "pie"
           }
          ],
          "scatter": [
           {
            "fillpattern": {
             "fillmode": "overlay",
             "size": 10,
             "solidity": 0.2
            },
            "type": "scatter"
           }
          ],
          "scatter3d": [
           {
            "line": {
             "colorbar": {
              "outlinewidth": 0,
              "ticks": ""
             }
            },
            "marker": {
             "colorbar": {
              "outlinewidth": 0,
              "ticks": ""
             }
            },
            "type": "scatter3d"
           }
          ],
          "scattercarpet": [
           {
            "marker": {
             "colorbar": {
              "outlinewidth": 0,
              "ticks": ""
             }
            },
            "type": "scattercarpet"
           }
          ],
          "scattergeo": [
           {
            "marker": {
             "colorbar": {
              "outlinewidth": 0,
              "ticks": ""
             }
            },
            "type": "scattergeo"
           }
          ],
          "scattergl": [
           {
            "marker": {
             "colorbar": {
              "outlinewidth": 0,
              "ticks": ""
             }
            },
            "type": "scattergl"
           }
          ],
          "scattermap": [
           {
            "marker": {
             "colorbar": {
              "outlinewidth": 0,
              "ticks": ""
             }
            },
            "type": "scattermap"
           }
          ],
          "scattermapbox": [
           {
            "marker": {
             "colorbar": {
              "outlinewidth": 0,
              "ticks": ""
             }
            },
            "type": "scattermapbox"
           }
          ],
          "scatterpolar": [
           {
            "marker": {
             "colorbar": {
              "outlinewidth": 0,
              "ticks": ""
             }
            },
            "type": "scatterpolar"
           }
          ],
          "scatterpolargl": [
           {
            "marker": {
             "colorbar": {
              "outlinewidth": 0,
              "ticks": ""
             }
            },
            "type": "scatterpolargl"
           }
          ],
          "scatterternary": [
           {
            "marker": {
             "colorbar": {
              "outlinewidth": 0,
              "ticks": ""
             }
            },
            "type": "scatterternary"
           }
          ],
          "surface": [
           {
            "colorbar": {
             "outlinewidth": 0,
             "ticks": ""
            },
            "colorscale": [
             [
              0,
              "#0d0887"
             ],
             [
              0.1111111111111111,
              "#46039f"
             ],
             [
              0.2222222222222222,
              "#7201a8"
             ],
             [
              0.3333333333333333,
              "#9c179e"
             ],
             [
              0.4444444444444444,
              "#bd3786"
             ],
             [
              0.5555555555555556,
              "#d8576b"
             ],
             [
              0.6666666666666666,
              "#ed7953"
             ],
             [
              0.7777777777777778,
              "#fb9f3a"
             ],
             [
              0.8888888888888888,
              "#fdca26"
             ],
             [
              1,
              "#f0f921"
             ]
            ],
            "type": "surface"
           }
          ],
          "table": [
           {
            "cells": {
             "fill": {
              "color": "#EBF0F8"
             },
             "line": {
              "color": "white"
             }
            },
            "header": {
             "fill": {
              "color": "#C8D4E3"
             },
             "line": {
              "color": "white"
             }
            },
            "type": "table"
           }
          ]
         },
         "layout": {
          "annotationdefaults": {
           "arrowcolor": "#2a3f5f",
           "arrowhead": 0,
           "arrowwidth": 1
          },
          "autotypenumbers": "strict",
          "coloraxis": {
           "colorbar": {
            "outlinewidth": 0,
            "ticks": ""
           }
          },
          "colorscale": {
           "diverging": [
            [
             0,
             "#8e0152"
            ],
            [
             0.1,
             "#c51b7d"
            ],
            [
             0.2,
             "#de77ae"
            ],
            [
             0.3,
             "#f1b6da"
            ],
            [
             0.4,
             "#fde0ef"
            ],
            [
             0.5,
             "#f7f7f7"
            ],
            [
             0.6,
             "#e6f5d0"
            ],
            [
             0.7,
             "#b8e186"
            ],
            [
             0.8,
             "#7fbc41"
            ],
            [
             0.9,
             "#4d9221"
            ],
            [
             1,
             "#276419"
            ]
           ],
           "sequential": [
            [
             0,
             "#0d0887"
            ],
            [
             0.1111111111111111,
             "#46039f"
            ],
            [
             0.2222222222222222,
             "#7201a8"
            ],
            [
             0.3333333333333333,
             "#9c179e"
            ],
            [
             0.4444444444444444,
             "#bd3786"
            ],
            [
             0.5555555555555556,
             "#d8576b"
            ],
            [
             0.6666666666666666,
             "#ed7953"
            ],
            [
             0.7777777777777778,
             "#fb9f3a"
            ],
            [
             0.8888888888888888,
             "#fdca26"
            ],
            [
             1,
             "#f0f921"
            ]
           ],
           "sequentialminus": [
            [
             0,
             "#0d0887"
            ],
            [
             0.1111111111111111,
             "#46039f"
            ],
            [
             0.2222222222222222,
             "#7201a8"
            ],
            [
             0.3333333333333333,
             "#9c179e"
            ],
            [
             0.4444444444444444,
             "#bd3786"
            ],
            [
             0.5555555555555556,
             "#d8576b"
            ],
            [
             0.6666666666666666,
             "#ed7953"
            ],
            [
             0.7777777777777778,
             "#fb9f3a"
            ],
            [
             0.8888888888888888,
             "#fdca26"
            ],
            [
             1,
             "#f0f921"
            ]
           ]
          },
          "colorway": [
           "#636efa",
           "#EF553B",
           "#00cc96",
           "#ab63fa",
           "#FFA15A",
           "#19d3f3",
           "#FF6692",
           "#B6E880",
           "#FF97FF",
           "#FECB52"
          ],
          "font": {
           "color": "#2a3f5f"
          },
          "geo": {
           "bgcolor": "white",
           "lakecolor": "white",
           "landcolor": "#E5ECF6",
           "showlakes": true,
           "showland": true,
           "subunitcolor": "white"
          },
          "hoverlabel": {
           "align": "left"
          },
          "hovermode": "closest",
          "mapbox": {
           "style": "light"
          },
          "paper_bgcolor": "white",
          "plot_bgcolor": "#E5ECF6",
          "polar": {
           "angularaxis": {
            "gridcolor": "white",
            "linecolor": "white",
            "ticks": ""
           },
           "bgcolor": "#E5ECF6",
           "radialaxis": {
            "gridcolor": "white",
            "linecolor": "white",
            "ticks": ""
           }
          },
          "scene": {
           "xaxis": {
            "backgroundcolor": "#E5ECF6",
            "gridcolor": "white",
            "gridwidth": 2,
            "linecolor": "white",
            "showbackground": true,
            "ticks": "",
            "zerolinecolor": "white"
           },
           "yaxis": {
            "backgroundcolor": "#E5ECF6",
            "gridcolor": "white",
            "gridwidth": 2,
            "linecolor": "white",
            "showbackground": true,
            "ticks": "",
            "zerolinecolor": "white"
           },
           "zaxis": {
            "backgroundcolor": "#E5ECF6",
            "gridcolor": "white",
            "gridwidth": 2,
            "linecolor": "white",
            "showbackground": true,
            "ticks": "",
            "zerolinecolor": "white"
           }
          },
          "shapedefaults": {
           "line": {
            "color": "#2a3f5f"
           }
          },
          "ternary": {
           "aaxis": {
            "gridcolor": "white",
            "linecolor": "white",
            "ticks": ""
           },
           "baxis": {
            "gridcolor": "white",
            "linecolor": "white",
            "ticks": ""
           },
           "bgcolor": "#E5ECF6",
           "caxis": {
            "gridcolor": "white",
            "linecolor": "white",
            "ticks": ""
           }
          },
          "title": {
           "x": 0.05
          },
          "xaxis": {
           "automargin": true,
           "gridcolor": "white",
           "linecolor": "white",
           "ticks": "",
           "title": {
            "standoff": 15
           },
           "zerolinecolor": "white",
           "zerolinewidth": 2
          },
          "yaxis": {
           "automargin": true,
           "gridcolor": "white",
           "linecolor": "white",
           "ticks": "",
           "title": {
            "standoff": 15
           },
           "zerolinecolor": "white",
           "zerolinewidth": 2
          }
         }
        },
        "title": {
         "text": "Distribution of Content Ratings on Netflix",
         "x": 0.5
        },
        "xaxis": {
         "anchor": "y",
         "categoryorder": "total descending",
         "domain": [
          0,
          1
         ],
         "title": {
          "text": "Rating Category"
         }
        },
        "yaxis": {
         "anchor": "x",
         "domain": [
          0,
          1
         ],
         "title": {
          "text": "Number of Titles"
         }
        }
       }
      },
      "text/html": [
       "<div>            <script src=\"https://cdnjs.cloudflare.com/ajax/libs/mathjax/2.7.5/MathJax.js?config=TeX-AMS-MML_SVG\"></script><script type=\"text/javascript\">if (window.MathJax && window.MathJax.Hub && window.MathJax.Hub.Config) {window.MathJax.Hub.Config({SVG: {font: \"STIX-Web\"}});}</script>                <script type=\"text/javascript\">window.PlotlyConfig = {MathJaxConfig: 'local'};</script>\n",
       "        <script charset=\"utf-8\" src=\"https://cdn.plot.ly/plotly-3.0.0.min.js\"></script>                <div id=\"de4aa107-64bc-4f0f-98fd-37f53c904cb5\" class=\"plotly-graph-div\" style=\"height:525px; width:100%;\"></div>            <script type=\"text/javascript\">                window.PLOTLYENV=window.PLOTLYENV || {};                                if (document.getElementById(\"de4aa107-64bc-4f0f-98fd-37f53c904cb5\")) {                    Plotly.newPlot(                        \"de4aa107-64bc-4f0f-98fd-37f53c904cb5\",                        [{\"hovertemplate\":\"Rating=%{x}\\u003cbr\\u003eNumber of Titles=%{marker.color}\\u003cextra\\u003e\\u003c\\u002fextra\\u003e\",\"legendgroup\":\"\",\"marker\":{\"color\":{\"dtype\":\"i2\",\"bdata\":\"ggxpCF0DHgPqAU0BMgEfAdwATgApAAYAAwADAA==\"},\"coloraxis\":\"coloraxis\",\"pattern\":{\"shape\":\"\"}},\"name\":\"\",\"orientation\":\"v\",\"showlegend\":false,\"text\":{\"dtype\":\"f8\",\"bdata\":\"AAAAAAAEqUAAAAAAANKgQAAAAAAA6IpAAAAAAADwiEAAAAAAAKB+QAAAAAAA0HRAAAAAAAAgc0AAAAAAAPBxQAAAAAAAgGtAAAAAAACAU0AAAAAAAIBEQAAAAAAAABhAAAAAAAAACEAAAAAAAAAIQA==\"},\"textposition\":\"outside\",\"x\":[\"TV-MA\",\"TV-14\",\"TV-PG\",\"R\",\"PG-13\",\"TV-Y7\",\"TV-Y\",\"PG\",\"TV-G\",\"NR\",\"G\",\"TV-Y7-FV\",\"NC-17\",\"UR\"],\"xaxis\":\"x\",\"y\":{\"dtype\":\"i2\",\"bdata\":\"ggxpCF0DHgPqAU0BMgEfAdwATgApAAYAAwADAA==\"},\"yaxis\":\"y\",\"type\":\"bar\"}],                        {\"template\":{\"data\":{\"histogram2dcontour\":[{\"type\":\"histogram2dcontour\",\"colorbar\":{\"outlinewidth\":0,\"ticks\":\"\"},\"colorscale\":[[0.0,\"#0d0887\"],[0.1111111111111111,\"#46039f\"],[0.2222222222222222,\"#7201a8\"],[0.3333333333333333,\"#9c179e\"],[0.4444444444444444,\"#bd3786\"],[0.5555555555555556,\"#d8576b\"],[0.6666666666666666,\"#ed7953\"],[0.7777777777777778,\"#fb9f3a\"],[0.8888888888888888,\"#fdca26\"],[1.0,\"#f0f921\"]]}],\"choropleth\":[{\"type\":\"choropleth\",\"colorbar\":{\"outlinewidth\":0,\"ticks\":\"\"}}],\"histogram2d\":[{\"type\":\"histogram2d\",\"colorbar\":{\"outlinewidth\":0,\"ticks\":\"\"},\"colorscale\":[[0.0,\"#0d0887\"],[0.1111111111111111,\"#46039f\"],[0.2222222222222222,\"#7201a8\"],[0.3333333333333333,\"#9c179e\"],[0.4444444444444444,\"#bd3786\"],[0.5555555555555556,\"#d8576b\"],[0.6666666666666666,\"#ed7953\"],[0.7777777777777778,\"#fb9f3a\"],[0.8888888888888888,\"#fdca26\"],[1.0,\"#f0f921\"]]}],\"heatmap\":[{\"type\":\"heatmap\",\"colorbar\":{\"outlinewidth\":0,\"ticks\":\"\"},\"colorscale\":[[0.0,\"#0d0887\"],[0.1111111111111111,\"#46039f\"],[0.2222222222222222,\"#7201a8\"],[0.3333333333333333,\"#9c179e\"],[0.4444444444444444,\"#bd3786\"],[0.5555555555555556,\"#d8576b\"],[0.6666666666666666,\"#ed7953\"],[0.7777777777777778,\"#fb9f3a\"],[0.8888888888888888,\"#fdca26\"],[1.0,\"#f0f921\"]]}],\"contourcarpet\":[{\"type\":\"contourcarpet\",\"colorbar\":{\"outlinewidth\":0,\"ticks\":\"\"}}],\"contour\":[{\"type\":\"contour\",\"colorbar\":{\"outlinewidth\":0,\"ticks\":\"\"},\"colorscale\":[[0.0,\"#0d0887\"],[0.1111111111111111,\"#46039f\"],[0.2222222222222222,\"#7201a8\"],[0.3333333333333333,\"#9c179e\"],[0.4444444444444444,\"#bd3786\"],[0.5555555555555556,\"#d8576b\"],[0.6666666666666666,\"#ed7953\"],[0.7777777777777778,\"#fb9f3a\"],[0.8888888888888888,\"#fdca26\"],[1.0,\"#f0f921\"]]}],\"surface\":[{\"type\":\"surface\",\"colorbar\":{\"outlinewidth\":0,\"ticks\":\"\"},\"colorscale\":[[0.0,\"#0d0887\"],[0.1111111111111111,\"#46039f\"],[0.2222222222222222,\"#7201a8\"],[0.3333333333333333,\"#9c179e\"],[0.4444444444444444,\"#bd3786\"],[0.5555555555555556,\"#d8576b\"],[0.6666666666666666,\"#ed7953\"],[0.7777777777777778,\"#fb9f3a\"],[0.8888888888888888,\"#fdca26\"],[1.0,\"#f0f921\"]]}],\"mesh3d\":[{\"type\":\"mesh3d\",\"colorbar\":{\"outlinewidth\":0,\"ticks\":\"\"}}],\"scatter\":[{\"fillpattern\":{\"fillmode\":\"overlay\",\"size\":10,\"solidity\":0.2},\"type\":\"scatter\"}],\"parcoords\":[{\"type\":\"parcoords\",\"line\":{\"colorbar\":{\"outlinewidth\":0,\"ticks\":\"\"}}}],\"scatterpolargl\":[{\"type\":\"scatterpolargl\",\"marker\":{\"colorbar\":{\"outlinewidth\":0,\"ticks\":\"\"}}}],\"bar\":[{\"error_x\":{\"color\":\"#2a3f5f\"},\"error_y\":{\"color\":\"#2a3f5f\"},\"marker\":{\"line\":{\"color\":\"#E5ECF6\",\"width\":0.5},\"pattern\":{\"fillmode\":\"overlay\",\"size\":10,\"solidity\":0.2}},\"type\":\"bar\"}],\"scattergeo\":[{\"type\":\"scattergeo\",\"marker\":{\"colorbar\":{\"outlinewidth\":0,\"ticks\":\"\"}}}],\"scatterpolar\":[{\"type\":\"scatterpolar\",\"marker\":{\"colorbar\":{\"outlinewidth\":0,\"ticks\":\"\"}}}],\"histogram\":[{\"marker\":{\"pattern\":{\"fillmode\":\"overlay\",\"size\":10,\"solidity\":0.2}},\"type\":\"histogram\"}],\"scattergl\":[{\"type\":\"scattergl\",\"marker\":{\"colorbar\":{\"outlinewidth\":0,\"ticks\":\"\"}}}],\"scatter3d\":[{\"type\":\"scatter3d\",\"line\":{\"colorbar\":{\"outlinewidth\":0,\"ticks\":\"\"}},\"marker\":{\"colorbar\":{\"outlinewidth\":0,\"ticks\":\"\"}}}],\"scattermap\":[{\"type\":\"scattermap\",\"marker\":{\"colorbar\":{\"outlinewidth\":0,\"ticks\":\"\"}}}],\"scattermapbox\":[{\"type\":\"scattermapbox\",\"marker\":{\"colorbar\":{\"outlinewidth\":0,\"ticks\":\"\"}}}],\"scatterternary\":[{\"type\":\"scatterternary\",\"marker\":{\"colorbar\":{\"outlinewidth\":0,\"ticks\":\"\"}}}],\"scattercarpet\":[{\"type\":\"scattercarpet\",\"marker\":{\"colorbar\":{\"outlinewidth\":0,\"ticks\":\"\"}}}],\"carpet\":[{\"aaxis\":{\"endlinecolor\":\"#2a3f5f\",\"gridcolor\":\"white\",\"linecolor\":\"white\",\"minorgridcolor\":\"white\",\"startlinecolor\":\"#2a3f5f\"},\"baxis\":{\"endlinecolor\":\"#2a3f5f\",\"gridcolor\":\"white\",\"linecolor\":\"white\",\"minorgridcolor\":\"white\",\"startlinecolor\":\"#2a3f5f\"},\"type\":\"carpet\"}],\"table\":[{\"cells\":{\"fill\":{\"color\":\"#EBF0F8\"},\"line\":{\"color\":\"white\"}},\"header\":{\"fill\":{\"color\":\"#C8D4E3\"},\"line\":{\"color\":\"white\"}},\"type\":\"table\"}],\"barpolar\":[{\"marker\":{\"line\":{\"color\":\"#E5ECF6\",\"width\":0.5},\"pattern\":{\"fillmode\":\"overlay\",\"size\":10,\"solidity\":0.2}},\"type\":\"barpolar\"}],\"pie\":[{\"automargin\":true,\"type\":\"pie\"}]},\"layout\":{\"autotypenumbers\":\"strict\",\"colorway\":[\"#636efa\",\"#EF553B\",\"#00cc96\",\"#ab63fa\",\"#FFA15A\",\"#19d3f3\",\"#FF6692\",\"#B6E880\",\"#FF97FF\",\"#FECB52\"],\"font\":{\"color\":\"#2a3f5f\"},\"hovermode\":\"closest\",\"hoverlabel\":{\"align\":\"left\"},\"paper_bgcolor\":\"white\",\"plot_bgcolor\":\"#E5ECF6\",\"polar\":{\"bgcolor\":\"#E5ECF6\",\"angularaxis\":{\"gridcolor\":\"white\",\"linecolor\":\"white\",\"ticks\":\"\"},\"radialaxis\":{\"gridcolor\":\"white\",\"linecolor\":\"white\",\"ticks\":\"\"}},\"ternary\":{\"bgcolor\":\"#E5ECF6\",\"aaxis\":{\"gridcolor\":\"white\",\"linecolor\":\"white\",\"ticks\":\"\"},\"baxis\":{\"gridcolor\":\"white\",\"linecolor\":\"white\",\"ticks\":\"\"},\"caxis\":{\"gridcolor\":\"white\",\"linecolor\":\"white\",\"ticks\":\"\"}},\"coloraxis\":{\"colorbar\":{\"outlinewidth\":0,\"ticks\":\"\"}},\"colorscale\":{\"sequential\":[[0.0,\"#0d0887\"],[0.1111111111111111,\"#46039f\"],[0.2222222222222222,\"#7201a8\"],[0.3333333333333333,\"#9c179e\"],[0.4444444444444444,\"#bd3786\"],[0.5555555555555556,\"#d8576b\"],[0.6666666666666666,\"#ed7953\"],[0.7777777777777778,\"#fb9f3a\"],[0.8888888888888888,\"#fdca26\"],[1.0,\"#f0f921\"]],\"sequentialminus\":[[0.0,\"#0d0887\"],[0.1111111111111111,\"#46039f\"],[0.2222222222222222,\"#7201a8\"],[0.3333333333333333,\"#9c179e\"],[0.4444444444444444,\"#bd3786\"],[0.5555555555555556,\"#d8576b\"],[0.6666666666666666,\"#ed7953\"],[0.7777777777777778,\"#fb9f3a\"],[0.8888888888888888,\"#fdca26\"],[1.0,\"#f0f921\"]],\"diverging\":[[0,\"#8e0152\"],[0.1,\"#c51b7d\"],[0.2,\"#de77ae\"],[0.3,\"#f1b6da\"],[0.4,\"#fde0ef\"],[0.5,\"#f7f7f7\"],[0.6,\"#e6f5d0\"],[0.7,\"#b8e186\"],[0.8,\"#7fbc41\"],[0.9,\"#4d9221\"],[1,\"#276419\"]]},\"xaxis\":{\"gridcolor\":\"white\",\"linecolor\":\"white\",\"ticks\":\"\",\"title\":{\"standoff\":15},\"zerolinecolor\":\"white\",\"automargin\":true,\"zerolinewidth\":2},\"yaxis\":{\"gridcolor\":\"white\",\"linecolor\":\"white\",\"ticks\":\"\",\"title\":{\"standoff\":15},\"zerolinecolor\":\"white\",\"automargin\":true,\"zerolinewidth\":2},\"scene\":{\"xaxis\":{\"backgroundcolor\":\"#E5ECF6\",\"gridcolor\":\"white\",\"linecolor\":\"white\",\"showbackground\":true,\"ticks\":\"\",\"zerolinecolor\":\"white\",\"gridwidth\":2},\"yaxis\":{\"backgroundcolor\":\"#E5ECF6\",\"gridcolor\":\"white\",\"linecolor\":\"white\",\"showbackground\":true,\"ticks\":\"\",\"zerolinecolor\":\"white\",\"gridwidth\":2},\"zaxis\":{\"backgroundcolor\":\"#E5ECF6\",\"gridcolor\":\"white\",\"linecolor\":\"white\",\"showbackground\":true,\"ticks\":\"\",\"zerolinecolor\":\"white\",\"gridwidth\":2}},\"shapedefaults\":{\"line\":{\"color\":\"#2a3f5f\"}},\"annotationdefaults\":{\"arrowcolor\":\"#2a3f5f\",\"arrowhead\":0,\"arrowwidth\":1},\"geo\":{\"bgcolor\":\"white\",\"landcolor\":\"#E5ECF6\",\"subunitcolor\":\"white\",\"showland\":true,\"showlakes\":true,\"lakecolor\":\"white\"},\"title\":{\"x\":0.05},\"mapbox\":{\"style\":\"light\"}}},\"xaxis\":{\"anchor\":\"y\",\"domain\":[0.0,1.0],\"title\":{\"text\":\"Rating Category\"},\"categoryorder\":\"total descending\"},\"yaxis\":{\"anchor\":\"x\",\"domain\":[0.0,1.0],\"title\":{\"text\":\"Number of Titles\"}},\"coloraxis\":{\"colorbar\":{\"title\":{\"text\":\"Number of Titles\"}},\"colorscale\":[[0.0,\"#0d0887\"],[0.1111111111111111,\"#46039f\"],[0.2222222222222222,\"#7201a8\"],[0.3333333333333333,\"#9c179e\"],[0.4444444444444444,\"#bd3786\"],[0.5555555555555556,\"#d8576b\"],[0.6666666666666666,\"#ed7953\"],[0.7777777777777778,\"#fb9f3a\"],[0.8888888888888888,\"#fdca26\"],[1.0,\"#f0f921\"]]},\"legend\":{\"tracegroupgap\":0},\"title\":{\"text\":\"Distribution of Content Ratings on Netflix\",\"x\":0.5},\"barmode\":\"relative\"},                        {\"responsive\": true}                    ).then(function(){\n",
       "                            \n",
       "var gd = document.getElementById('de4aa107-64bc-4f0f-98fd-37f53c904cb5');\n",
       "var x = new MutationObserver(function (mutations, observer) {{\n",
       "        var display = window.getComputedStyle(gd).display;\n",
       "        if (!display || display === 'none') {{\n",
       "            console.log([gd, 'removed!']);\n",
       "            Plotly.purge(gd);\n",
       "            observer.disconnect();\n",
       "        }}\n",
       "}});\n",
       "\n",
       "// Listen for the removal of the full notebook cells\n",
       "var notebookContainer = gd.closest('#notebook-container');\n",
       "if (notebookContainer) {{\n",
       "    x.observe(notebookContainer, {childList: true});\n",
       "}}\n",
       "\n",
       "// Listen for the clearing of the current output cell\n",
       "var outputEl = gd.closest('.output');\n",
       "if (outputEl) {{\n",
       "    x.observe(outputEl, {childList: true});\n",
       "}}\n",
       "\n",
       "                        })                };            </script>        </div>"
      ]
     },
     "metadata": {},
     "output_type": "display_data"
    }
   ],
   "source": [
    "rating_counts = df['rating'].dropna().value_counts().reset_index()\n",
    "rating_counts.columns = ['rating', 'count']\n",
    "\n",
    "fig_ratings = px.bar(\n",
    "    rating_counts,\n",
    "    x='rating',\n",
    "    y='count',\n",
    "    title='Distribution of Content Ratings on Netflix',\n",
    "    labels={'rating': 'Rating', 'count': 'Number of Titles'},\n",
    "    text='count',\n",
    "    color = 'count',\n",
    "    color_continuous_scale=px.colors.sequential.Plasma\n",
    ")\n",
    "\n",
    "fig_ratings.update_layout(\n",
    "    xaxis_title=\"Rating Category\",\n",
    "    yaxis_title=\"Number of Titles\",\n",
    "    title_x=0.5,\n",
    "    xaxis={'categoryorder':'total descending'}\n",
    ")\n",
    "fig_ratings.update_traces(textposition='outside')\n",
    "fig_ratings.show()"
   ]
  },
  {
   "cell_type": "markdown",
   "metadata": {},
   "source": [
    "### Trend of Content Types Added Over Years"
   ]
  },
  {
   "cell_type": "code",
   "execution_count": 30,
   "metadata": {},
   "outputs": [
    {
     "data": {
      "application/vnd.plotly.v1+json": {
       "config": {
        "plotlyServerURL": "https://plot.ly"
       },
       "data": [
        {
         "fillpattern": {
          "shape": ""
         },
         "hovertemplate": "variable=Movie<br>Year Added=%{x}<br>Number of Titles Added=%{y}<extra></extra>",
         "legendgroup": "Movie",
         "line": {
          "color": "red"
         },
         "marker": {
          "symbol": "circle"
         },
         "mode": "lines",
         "name": "Movie",
         "orientation": "v",
         "showlegend": true,
         "stackgroup": "1",
         "type": "scatter",
         "x": {
          "bdata": "2AcAANkHAADaBwAA2wcAANwHAADdBwAA3gcAAN8HAADgBwAA4QcAAOIHAADjBwAA5AcAAOUHAAA=",
          "dtype": "i4"
         },
         "xaxis": "x",
         "y": {
          "bdata": "AQACAAEADQADAAYAEwA4APsARAPSBI4FBAXhAw==",
          "dtype": "i2"
         },
         "yaxis": "y"
        },
        {
         "fillpattern": {
          "shape": ""
         },
         "hovertemplate": "variable=TV Show<br>Year Added=%{x}<br>Number of Titles Added=%{y}<extra></extra>",
         "legendgroup": "TV Show",
         "line": {
          "color": "black"
         },
         "marker": {
          "symbol": "circle"
         },
         "mode": "lines",
         "name": "TV Show",
         "orientation": "v",
         "showlegend": true,
         "stackgroup": "1",
         "type": "scatter",
         "x": {
          "bdata": "2AcAANkHAADaBwAA2wcAANwHAADdBwAA3gcAAN8HAADgBwAA4QcAAOIHAADjBwAA5AcAAOUHAAA=",
          "dtype": "i4"
         },
         "xaxis": "x",
         "y": {
          "bdata": "AQAAAAAAAAAAAAUABQAaAK4AXQGaAU4CUwL5AQ==",
          "dtype": "i2"
         },
         "yaxis": "y"
        }
       ],
       "layout": {
        "legend": {
         "title": {
          "text": "variable"
         },
         "tracegroupgap": 0
        },
        "template": {
         "data": {
          "bar": [
           {
            "error_x": {
             "color": "#2a3f5f"
            },
            "error_y": {
             "color": "#2a3f5f"
            },
            "marker": {
             "line": {
              "color": "#E5ECF6",
              "width": 0.5
             },
             "pattern": {
              "fillmode": "overlay",
              "size": 10,
              "solidity": 0.2
             }
            },
            "type": "bar"
           }
          ],
          "barpolar": [
           {
            "marker": {
             "line": {
              "color": "#E5ECF6",
              "width": 0.5
             },
             "pattern": {
              "fillmode": "overlay",
              "size": 10,
              "solidity": 0.2
             }
            },
            "type": "barpolar"
           }
          ],
          "carpet": [
           {
            "aaxis": {
             "endlinecolor": "#2a3f5f",
             "gridcolor": "white",
             "linecolor": "white",
             "minorgridcolor": "white",
             "startlinecolor": "#2a3f5f"
            },
            "baxis": {
             "endlinecolor": "#2a3f5f",
             "gridcolor": "white",
             "linecolor": "white",
             "minorgridcolor": "white",
             "startlinecolor": "#2a3f5f"
            },
            "type": "carpet"
           }
          ],
          "choropleth": [
           {
            "colorbar": {
             "outlinewidth": 0,
             "ticks": ""
            },
            "type": "choropleth"
           }
          ],
          "contour": [
           {
            "colorbar": {
             "outlinewidth": 0,
             "ticks": ""
            },
            "colorscale": [
             [
              0,
              "#0d0887"
             ],
             [
              0.1111111111111111,
              "#46039f"
             ],
             [
              0.2222222222222222,
              "#7201a8"
             ],
             [
              0.3333333333333333,
              "#9c179e"
             ],
             [
              0.4444444444444444,
              "#bd3786"
             ],
             [
              0.5555555555555556,
              "#d8576b"
             ],
             [
              0.6666666666666666,
              "#ed7953"
             ],
             [
              0.7777777777777778,
              "#fb9f3a"
             ],
             [
              0.8888888888888888,
              "#fdca26"
             ],
             [
              1,
              "#f0f921"
             ]
            ],
            "type": "contour"
           }
          ],
          "contourcarpet": [
           {
            "colorbar": {
             "outlinewidth": 0,
             "ticks": ""
            },
            "type": "contourcarpet"
           }
          ],
          "heatmap": [
           {
            "colorbar": {
             "outlinewidth": 0,
             "ticks": ""
            },
            "colorscale": [
             [
              0,
              "#0d0887"
             ],
             [
              0.1111111111111111,
              "#46039f"
             ],
             [
              0.2222222222222222,
              "#7201a8"
             ],
             [
              0.3333333333333333,
              "#9c179e"
             ],
             [
              0.4444444444444444,
              "#bd3786"
             ],
             [
              0.5555555555555556,
              "#d8576b"
             ],
             [
              0.6666666666666666,
              "#ed7953"
             ],
             [
              0.7777777777777778,
              "#fb9f3a"
             ],
             [
              0.8888888888888888,
              "#fdca26"
             ],
             [
              1,
              "#f0f921"
             ]
            ],
            "type": "heatmap"
           }
          ],
          "histogram": [
           {
            "marker": {
             "pattern": {
              "fillmode": "overlay",
              "size": 10,
              "solidity": 0.2
             }
            },
            "type": "histogram"
           }
          ],
          "histogram2d": [
           {
            "colorbar": {
             "outlinewidth": 0,
             "ticks": ""
            },
            "colorscale": [
             [
              0,
              "#0d0887"
             ],
             [
              0.1111111111111111,
              "#46039f"
             ],
             [
              0.2222222222222222,
              "#7201a8"
             ],
             [
              0.3333333333333333,
              "#9c179e"
             ],
             [
              0.4444444444444444,
              "#bd3786"
             ],
             [
              0.5555555555555556,
              "#d8576b"
             ],
             [
              0.6666666666666666,
              "#ed7953"
             ],
             [
              0.7777777777777778,
              "#fb9f3a"
             ],
             [
              0.8888888888888888,
              "#fdca26"
             ],
             [
              1,
              "#f0f921"
             ]
            ],
            "type": "histogram2d"
           }
          ],
          "histogram2dcontour": [
           {
            "colorbar": {
             "outlinewidth": 0,
             "ticks": ""
            },
            "colorscale": [
             [
              0,
              "#0d0887"
             ],
             [
              0.1111111111111111,
              "#46039f"
             ],
             [
              0.2222222222222222,
              "#7201a8"
             ],
             [
              0.3333333333333333,
              "#9c179e"
             ],
             [
              0.4444444444444444,
              "#bd3786"
             ],
             [
              0.5555555555555556,
              "#d8576b"
             ],
             [
              0.6666666666666666,
              "#ed7953"
             ],
             [
              0.7777777777777778,
              "#fb9f3a"
             ],
             [
              0.8888888888888888,
              "#fdca26"
             ],
             [
              1,
              "#f0f921"
             ]
            ],
            "type": "histogram2dcontour"
           }
          ],
          "mesh3d": [
           {
            "colorbar": {
             "outlinewidth": 0,
             "ticks": ""
            },
            "type": "mesh3d"
           }
          ],
          "parcoords": [
           {
            "line": {
             "colorbar": {
              "outlinewidth": 0,
              "ticks": ""
             }
            },
            "type": "parcoords"
           }
          ],
          "pie": [
           {
            "automargin": true,
            "type": "pie"
           }
          ],
          "scatter": [
           {
            "fillpattern": {
             "fillmode": "overlay",
             "size": 10,
             "solidity": 0.2
            },
            "type": "scatter"
           }
          ],
          "scatter3d": [
           {
            "line": {
             "colorbar": {
              "outlinewidth": 0,
              "ticks": ""
             }
            },
            "marker": {
             "colorbar": {
              "outlinewidth": 0,
              "ticks": ""
             }
            },
            "type": "scatter3d"
           }
          ],
          "scattercarpet": [
           {
            "marker": {
             "colorbar": {
              "outlinewidth": 0,
              "ticks": ""
             }
            },
            "type": "scattercarpet"
           }
          ],
          "scattergeo": [
           {
            "marker": {
             "colorbar": {
              "outlinewidth": 0,
              "ticks": ""
             }
            },
            "type": "scattergeo"
           }
          ],
          "scattergl": [
           {
            "marker": {
             "colorbar": {
              "outlinewidth": 0,
              "ticks": ""
             }
            },
            "type": "scattergl"
           }
          ],
          "scattermap": [
           {
            "marker": {
             "colorbar": {
              "outlinewidth": 0,
              "ticks": ""
             }
            },
            "type": "scattermap"
           }
          ],
          "scattermapbox": [
           {
            "marker": {
             "colorbar": {
              "outlinewidth": 0,
              "ticks": ""
             }
            },
            "type": "scattermapbox"
           }
          ],
          "scatterpolar": [
           {
            "marker": {
             "colorbar": {
              "outlinewidth": 0,
              "ticks": ""
             }
            },
            "type": "scatterpolar"
           }
          ],
          "scatterpolargl": [
           {
            "marker": {
             "colorbar": {
              "outlinewidth": 0,
              "ticks": ""
             }
            },
            "type": "scatterpolargl"
           }
          ],
          "scatterternary": [
           {
            "marker": {
             "colorbar": {
              "outlinewidth": 0,
              "ticks": ""
             }
            },
            "type": "scatterternary"
           }
          ],
          "surface": [
           {
            "colorbar": {
             "outlinewidth": 0,
             "ticks": ""
            },
            "colorscale": [
             [
              0,
              "#0d0887"
             ],
             [
              0.1111111111111111,
              "#46039f"
             ],
             [
              0.2222222222222222,
              "#7201a8"
             ],
             [
              0.3333333333333333,
              "#9c179e"
             ],
             [
              0.4444444444444444,
              "#bd3786"
             ],
             [
              0.5555555555555556,
              "#d8576b"
             ],
             [
              0.6666666666666666,
              "#ed7953"
             ],
             [
              0.7777777777777778,
              "#fb9f3a"
             ],
             [
              0.8888888888888888,
              "#fdca26"
             ],
             [
              1,
              "#f0f921"
             ]
            ],
            "type": "surface"
           }
          ],
          "table": [
           {
            "cells": {
             "fill": {
              "color": "#EBF0F8"
             },
             "line": {
              "color": "white"
             }
            },
            "header": {
             "fill": {
              "color": "#C8D4E3"
             },
             "line": {
              "color": "white"
             }
            },
            "type": "table"
           }
          ]
         },
         "layout": {
          "annotationdefaults": {
           "arrowcolor": "#2a3f5f",
           "arrowhead": 0,
           "arrowwidth": 1
          },
          "autotypenumbers": "strict",
          "coloraxis": {
           "colorbar": {
            "outlinewidth": 0,
            "ticks": ""
           }
          },
          "colorscale": {
           "diverging": [
            [
             0,
             "#8e0152"
            ],
            [
             0.1,
             "#c51b7d"
            ],
            [
             0.2,
             "#de77ae"
            ],
            [
             0.3,
             "#f1b6da"
            ],
            [
             0.4,
             "#fde0ef"
            ],
            [
             0.5,
             "#f7f7f7"
            ],
            [
             0.6,
             "#e6f5d0"
            ],
            [
             0.7,
             "#b8e186"
            ],
            [
             0.8,
             "#7fbc41"
            ],
            [
             0.9,
             "#4d9221"
            ],
            [
             1,
             "#276419"
            ]
           ],
           "sequential": [
            [
             0,
             "#0d0887"
            ],
            [
             0.1111111111111111,
             "#46039f"
            ],
            [
             0.2222222222222222,
             "#7201a8"
            ],
            [
             0.3333333333333333,
             "#9c179e"
            ],
            [
             0.4444444444444444,
             "#bd3786"
            ],
            [
             0.5555555555555556,
             "#d8576b"
            ],
            [
             0.6666666666666666,
             "#ed7953"
            ],
            [
             0.7777777777777778,
             "#fb9f3a"
            ],
            [
             0.8888888888888888,
             "#fdca26"
            ],
            [
             1,
             "#f0f921"
            ]
           ],
           "sequentialminus": [
            [
             0,
             "#0d0887"
            ],
            [
             0.1111111111111111,
             "#46039f"
            ],
            [
             0.2222222222222222,
             "#7201a8"
            ],
            [
             0.3333333333333333,
             "#9c179e"
            ],
            [
             0.4444444444444444,
             "#bd3786"
            ],
            [
             0.5555555555555556,
             "#d8576b"
            ],
            [
             0.6666666666666666,
             "#ed7953"
            ],
            [
             0.7777777777777778,
             "#fb9f3a"
            ],
            [
             0.8888888888888888,
             "#fdca26"
            ],
            [
             1,
             "#f0f921"
            ]
           ]
          },
          "colorway": [
           "#636efa",
           "#EF553B",
           "#00cc96",
           "#ab63fa",
           "#FFA15A",
           "#19d3f3",
           "#FF6692",
           "#B6E880",
           "#FF97FF",
           "#FECB52"
          ],
          "font": {
           "color": "#2a3f5f"
          },
          "geo": {
           "bgcolor": "white",
           "lakecolor": "white",
           "landcolor": "#E5ECF6",
           "showlakes": true,
           "showland": true,
           "subunitcolor": "white"
          },
          "hoverlabel": {
           "align": "left"
          },
          "hovermode": "closest",
          "mapbox": {
           "style": "light"
          },
          "paper_bgcolor": "white",
          "plot_bgcolor": "#E5ECF6",
          "polar": {
           "angularaxis": {
            "gridcolor": "white",
            "linecolor": "white",
            "ticks": ""
           },
           "bgcolor": "#E5ECF6",
           "radialaxis": {
            "gridcolor": "white",
            "linecolor": "white",
            "ticks": ""
           }
          },
          "scene": {
           "xaxis": {
            "backgroundcolor": "#E5ECF6",
            "gridcolor": "white",
            "gridwidth": 2,
            "linecolor": "white",
            "showbackground": true,
            "ticks": "",
            "zerolinecolor": "white"
           },
           "yaxis": {
            "backgroundcolor": "#E5ECF6",
            "gridcolor": "white",
            "gridwidth": 2,
            "linecolor": "white",
            "showbackground": true,
            "ticks": "",
            "zerolinecolor": "white"
           },
           "zaxis": {
            "backgroundcolor": "#E5ECF6",
            "gridcolor": "white",
            "gridwidth": 2,
            "linecolor": "white",
            "showbackground": true,
            "ticks": "",
            "zerolinecolor": "white"
           }
          },
          "shapedefaults": {
           "line": {
            "color": "#2a3f5f"
           }
          },
          "ternary": {
           "aaxis": {
            "gridcolor": "white",
            "linecolor": "white",
            "ticks": ""
           },
           "baxis": {
            "gridcolor": "white",
            "linecolor": "white",
            "ticks": ""
           },
           "bgcolor": "#E5ECF6",
           "caxis": {
            "gridcolor": "white",
            "linecolor": "white",
            "ticks": ""
           }
          },
          "title": {
           "x": 0.05
          },
          "xaxis": {
           "automargin": true,
           "gridcolor": "white",
           "linecolor": "white",
           "ticks": "",
           "title": {
            "standoff": 15
           },
           "zerolinecolor": "white",
           "zerolinewidth": 2
          },
          "yaxis": {
           "automargin": true,
           "gridcolor": "white",
           "linecolor": "white",
           "ticks": "",
           "title": {
            "standoff": 15
           },
           "zerolinecolor": "white",
           "zerolinewidth": 2
          }
         }
        },
        "title": {
         "text": "Trend of Content Types Added to Netflix Over Years",
         "x": 0.5
        },
        "xaxis": {
         "anchor": "y",
         "domain": [
          0,
          1
         ],
         "title": {
          "text": "Year Added"
         }
        },
        "yaxis": {
         "anchor": "x",
         "domain": [
          0,
          1
         ],
         "title": {
          "text": "Number of Titles Added"
         }
        }
       }
      },
      "text/html": [
       "<div>            <script src=\"https://cdnjs.cloudflare.com/ajax/libs/mathjax/2.7.5/MathJax.js?config=TeX-AMS-MML_SVG\"></script><script type=\"text/javascript\">if (window.MathJax && window.MathJax.Hub && window.MathJax.Hub.Config) {window.MathJax.Hub.Config({SVG: {font: \"STIX-Web\"}});}</script>                <script type=\"text/javascript\">window.PlotlyConfig = {MathJaxConfig: 'local'};</script>\n",
       "        <script charset=\"utf-8\" src=\"https://cdn.plot.ly/plotly-3.0.0.min.js\"></script>                <div id=\"4d397812-afec-4696-bb26-a0024d190299\" class=\"plotly-graph-div\" style=\"height:525px; width:100%;\"></div>            <script type=\"text/javascript\">                window.PLOTLYENV=window.PLOTLYENV || {};                                if (document.getElementById(\"4d397812-afec-4696-bb26-a0024d190299\")) {                    Plotly.newPlot(                        \"4d397812-afec-4696-bb26-a0024d190299\",                        [{\"fillpattern\":{\"shape\":\"\"},\"hovertemplate\":\"variable=Movie\\u003cbr\\u003eYear Added=%{x}\\u003cbr\\u003eNumber of Titles Added=%{y}\\u003cextra\\u003e\\u003c\\u002fextra\\u003e\",\"legendgroup\":\"Movie\",\"line\":{\"color\":\"red\"},\"marker\":{\"symbol\":\"circle\"},\"mode\":\"lines\",\"name\":\"Movie\",\"orientation\":\"v\",\"showlegend\":true,\"stackgroup\":\"1\",\"x\":{\"dtype\":\"i4\",\"bdata\":\"2AcAANkHAADaBwAA2wcAANwHAADdBwAA3gcAAN8HAADgBwAA4QcAAOIHAADjBwAA5AcAAOUHAAA=\"},\"xaxis\":\"x\",\"y\":{\"dtype\":\"i2\",\"bdata\":\"AQACAAEADQADAAYAEwA4APsARAPSBI4FBAXhAw==\"},\"yaxis\":\"y\",\"type\":\"scatter\"},{\"fillpattern\":{\"shape\":\"\"},\"hovertemplate\":\"variable=TV Show\\u003cbr\\u003eYear Added=%{x}\\u003cbr\\u003eNumber of Titles Added=%{y}\\u003cextra\\u003e\\u003c\\u002fextra\\u003e\",\"legendgroup\":\"TV Show\",\"line\":{\"color\":\"black\"},\"marker\":{\"symbol\":\"circle\"},\"mode\":\"lines\",\"name\":\"TV Show\",\"orientation\":\"v\",\"showlegend\":true,\"stackgroup\":\"1\",\"x\":{\"dtype\":\"i4\",\"bdata\":\"2AcAANkHAADaBwAA2wcAANwHAADdBwAA3gcAAN8HAADgBwAA4QcAAOIHAADjBwAA5AcAAOUHAAA=\"},\"xaxis\":\"x\",\"y\":{\"dtype\":\"i2\",\"bdata\":\"AQAAAAAAAAAAAAUABQAaAK4AXQGaAU4CUwL5AQ==\"},\"yaxis\":\"y\",\"type\":\"scatter\"}],                        {\"template\":{\"data\":{\"histogram2dcontour\":[{\"type\":\"histogram2dcontour\",\"colorbar\":{\"outlinewidth\":0,\"ticks\":\"\"},\"colorscale\":[[0.0,\"#0d0887\"],[0.1111111111111111,\"#46039f\"],[0.2222222222222222,\"#7201a8\"],[0.3333333333333333,\"#9c179e\"],[0.4444444444444444,\"#bd3786\"],[0.5555555555555556,\"#d8576b\"],[0.6666666666666666,\"#ed7953\"],[0.7777777777777778,\"#fb9f3a\"],[0.8888888888888888,\"#fdca26\"],[1.0,\"#f0f921\"]]}],\"choropleth\":[{\"type\":\"choropleth\",\"colorbar\":{\"outlinewidth\":0,\"ticks\":\"\"}}],\"histogram2d\":[{\"type\":\"histogram2d\",\"colorbar\":{\"outlinewidth\":0,\"ticks\":\"\"},\"colorscale\":[[0.0,\"#0d0887\"],[0.1111111111111111,\"#46039f\"],[0.2222222222222222,\"#7201a8\"],[0.3333333333333333,\"#9c179e\"],[0.4444444444444444,\"#bd3786\"],[0.5555555555555556,\"#d8576b\"],[0.6666666666666666,\"#ed7953\"],[0.7777777777777778,\"#fb9f3a\"],[0.8888888888888888,\"#fdca26\"],[1.0,\"#f0f921\"]]}],\"heatmap\":[{\"type\":\"heatmap\",\"colorbar\":{\"outlinewidth\":0,\"ticks\":\"\"},\"colorscale\":[[0.0,\"#0d0887\"],[0.1111111111111111,\"#46039f\"],[0.2222222222222222,\"#7201a8\"],[0.3333333333333333,\"#9c179e\"],[0.4444444444444444,\"#bd3786\"],[0.5555555555555556,\"#d8576b\"],[0.6666666666666666,\"#ed7953\"],[0.7777777777777778,\"#fb9f3a\"],[0.8888888888888888,\"#fdca26\"],[1.0,\"#f0f921\"]]}],\"contourcarpet\":[{\"type\":\"contourcarpet\",\"colorbar\":{\"outlinewidth\":0,\"ticks\":\"\"}}],\"contour\":[{\"type\":\"contour\",\"colorbar\":{\"outlinewidth\":0,\"ticks\":\"\"},\"colorscale\":[[0.0,\"#0d0887\"],[0.1111111111111111,\"#46039f\"],[0.2222222222222222,\"#7201a8\"],[0.3333333333333333,\"#9c179e\"],[0.4444444444444444,\"#bd3786\"],[0.5555555555555556,\"#d8576b\"],[0.6666666666666666,\"#ed7953\"],[0.7777777777777778,\"#fb9f3a\"],[0.8888888888888888,\"#fdca26\"],[1.0,\"#f0f921\"]]}],\"surface\":[{\"type\":\"surface\",\"colorbar\":{\"outlinewidth\":0,\"ticks\":\"\"},\"colorscale\":[[0.0,\"#0d0887\"],[0.1111111111111111,\"#46039f\"],[0.2222222222222222,\"#7201a8\"],[0.3333333333333333,\"#9c179e\"],[0.4444444444444444,\"#bd3786\"],[0.5555555555555556,\"#d8576b\"],[0.6666666666666666,\"#ed7953\"],[0.7777777777777778,\"#fb9f3a\"],[0.8888888888888888,\"#fdca26\"],[1.0,\"#f0f921\"]]}],\"mesh3d\":[{\"type\":\"mesh3d\",\"colorbar\":{\"outlinewidth\":0,\"ticks\":\"\"}}],\"scatter\":[{\"fillpattern\":{\"fillmode\":\"overlay\",\"size\":10,\"solidity\":0.2},\"type\":\"scatter\"}],\"parcoords\":[{\"type\":\"parcoords\",\"line\":{\"colorbar\":{\"outlinewidth\":0,\"ticks\":\"\"}}}],\"scatterpolargl\":[{\"type\":\"scatterpolargl\",\"marker\":{\"colorbar\":{\"outlinewidth\":0,\"ticks\":\"\"}}}],\"bar\":[{\"error_x\":{\"color\":\"#2a3f5f\"},\"error_y\":{\"color\":\"#2a3f5f\"},\"marker\":{\"line\":{\"color\":\"#E5ECF6\",\"width\":0.5},\"pattern\":{\"fillmode\":\"overlay\",\"size\":10,\"solidity\":0.2}},\"type\":\"bar\"}],\"scattergeo\":[{\"type\":\"scattergeo\",\"marker\":{\"colorbar\":{\"outlinewidth\":0,\"ticks\":\"\"}}}],\"scatterpolar\":[{\"type\":\"scatterpolar\",\"marker\":{\"colorbar\":{\"outlinewidth\":0,\"ticks\":\"\"}}}],\"histogram\":[{\"marker\":{\"pattern\":{\"fillmode\":\"overlay\",\"size\":10,\"solidity\":0.2}},\"type\":\"histogram\"}],\"scattergl\":[{\"type\":\"scattergl\",\"marker\":{\"colorbar\":{\"outlinewidth\":0,\"ticks\":\"\"}}}],\"scatter3d\":[{\"type\":\"scatter3d\",\"line\":{\"colorbar\":{\"outlinewidth\":0,\"ticks\":\"\"}},\"marker\":{\"colorbar\":{\"outlinewidth\":0,\"ticks\":\"\"}}}],\"scattermap\":[{\"type\":\"scattermap\",\"marker\":{\"colorbar\":{\"outlinewidth\":0,\"ticks\":\"\"}}}],\"scattermapbox\":[{\"type\":\"scattermapbox\",\"marker\":{\"colorbar\":{\"outlinewidth\":0,\"ticks\":\"\"}}}],\"scatterternary\":[{\"type\":\"scatterternary\",\"marker\":{\"colorbar\":{\"outlinewidth\":0,\"ticks\":\"\"}}}],\"scattercarpet\":[{\"type\":\"scattercarpet\",\"marker\":{\"colorbar\":{\"outlinewidth\":0,\"ticks\":\"\"}}}],\"carpet\":[{\"aaxis\":{\"endlinecolor\":\"#2a3f5f\",\"gridcolor\":\"white\",\"linecolor\":\"white\",\"minorgridcolor\":\"white\",\"startlinecolor\":\"#2a3f5f\"},\"baxis\":{\"endlinecolor\":\"#2a3f5f\",\"gridcolor\":\"white\",\"linecolor\":\"white\",\"minorgridcolor\":\"white\",\"startlinecolor\":\"#2a3f5f\"},\"type\":\"carpet\"}],\"table\":[{\"cells\":{\"fill\":{\"color\":\"#EBF0F8\"},\"line\":{\"color\":\"white\"}},\"header\":{\"fill\":{\"color\":\"#C8D4E3\"},\"line\":{\"color\":\"white\"}},\"type\":\"table\"}],\"barpolar\":[{\"marker\":{\"line\":{\"color\":\"#E5ECF6\",\"width\":0.5},\"pattern\":{\"fillmode\":\"overlay\",\"size\":10,\"solidity\":0.2}},\"type\":\"barpolar\"}],\"pie\":[{\"automargin\":true,\"type\":\"pie\"}]},\"layout\":{\"autotypenumbers\":\"strict\",\"colorway\":[\"#636efa\",\"#EF553B\",\"#00cc96\",\"#ab63fa\",\"#FFA15A\",\"#19d3f3\",\"#FF6692\",\"#B6E880\",\"#FF97FF\",\"#FECB52\"],\"font\":{\"color\":\"#2a3f5f\"},\"hovermode\":\"closest\",\"hoverlabel\":{\"align\":\"left\"},\"paper_bgcolor\":\"white\",\"plot_bgcolor\":\"#E5ECF6\",\"polar\":{\"bgcolor\":\"#E5ECF6\",\"angularaxis\":{\"gridcolor\":\"white\",\"linecolor\":\"white\",\"ticks\":\"\"},\"radialaxis\":{\"gridcolor\":\"white\",\"linecolor\":\"white\",\"ticks\":\"\"}},\"ternary\":{\"bgcolor\":\"#E5ECF6\",\"aaxis\":{\"gridcolor\":\"white\",\"linecolor\":\"white\",\"ticks\":\"\"},\"baxis\":{\"gridcolor\":\"white\",\"linecolor\":\"white\",\"ticks\":\"\"},\"caxis\":{\"gridcolor\":\"white\",\"linecolor\":\"white\",\"ticks\":\"\"}},\"coloraxis\":{\"colorbar\":{\"outlinewidth\":0,\"ticks\":\"\"}},\"colorscale\":{\"sequential\":[[0.0,\"#0d0887\"],[0.1111111111111111,\"#46039f\"],[0.2222222222222222,\"#7201a8\"],[0.3333333333333333,\"#9c179e\"],[0.4444444444444444,\"#bd3786\"],[0.5555555555555556,\"#d8576b\"],[0.6666666666666666,\"#ed7953\"],[0.7777777777777778,\"#fb9f3a\"],[0.8888888888888888,\"#fdca26\"],[1.0,\"#f0f921\"]],\"sequentialminus\":[[0.0,\"#0d0887\"],[0.1111111111111111,\"#46039f\"],[0.2222222222222222,\"#7201a8\"],[0.3333333333333333,\"#9c179e\"],[0.4444444444444444,\"#bd3786\"],[0.5555555555555556,\"#d8576b\"],[0.6666666666666666,\"#ed7953\"],[0.7777777777777778,\"#fb9f3a\"],[0.8888888888888888,\"#fdca26\"],[1.0,\"#f0f921\"]],\"diverging\":[[0,\"#8e0152\"],[0.1,\"#c51b7d\"],[0.2,\"#de77ae\"],[0.3,\"#f1b6da\"],[0.4,\"#fde0ef\"],[0.5,\"#f7f7f7\"],[0.6,\"#e6f5d0\"],[0.7,\"#b8e186\"],[0.8,\"#7fbc41\"],[0.9,\"#4d9221\"],[1,\"#276419\"]]},\"xaxis\":{\"gridcolor\":\"white\",\"linecolor\":\"white\",\"ticks\":\"\",\"title\":{\"standoff\":15},\"zerolinecolor\":\"white\",\"automargin\":true,\"zerolinewidth\":2},\"yaxis\":{\"gridcolor\":\"white\",\"linecolor\":\"white\",\"ticks\":\"\",\"title\":{\"standoff\":15},\"zerolinecolor\":\"white\",\"automargin\":true,\"zerolinewidth\":2},\"scene\":{\"xaxis\":{\"backgroundcolor\":\"#E5ECF6\",\"gridcolor\":\"white\",\"linecolor\":\"white\",\"showbackground\":true,\"ticks\":\"\",\"zerolinecolor\":\"white\",\"gridwidth\":2},\"yaxis\":{\"backgroundcolor\":\"#E5ECF6\",\"gridcolor\":\"white\",\"linecolor\":\"white\",\"showbackground\":true,\"ticks\":\"\",\"zerolinecolor\":\"white\",\"gridwidth\":2},\"zaxis\":{\"backgroundcolor\":\"#E5ECF6\",\"gridcolor\":\"white\",\"linecolor\":\"white\",\"showbackground\":true,\"ticks\":\"\",\"zerolinecolor\":\"white\",\"gridwidth\":2}},\"shapedefaults\":{\"line\":{\"color\":\"#2a3f5f\"}},\"annotationdefaults\":{\"arrowcolor\":\"#2a3f5f\",\"arrowhead\":0,\"arrowwidth\":1},\"geo\":{\"bgcolor\":\"white\",\"landcolor\":\"#E5ECF6\",\"subunitcolor\":\"white\",\"showland\":true,\"showlakes\":true,\"lakecolor\":\"white\"},\"title\":{\"x\":0.05},\"mapbox\":{\"style\":\"light\"}}},\"xaxis\":{\"anchor\":\"y\",\"domain\":[0.0,1.0],\"title\":{\"text\":\"Year Added\"}},\"yaxis\":{\"anchor\":\"x\",\"domain\":[0.0,1.0],\"title\":{\"text\":\"Number of Titles Added\"}},\"legend\":{\"title\":{\"text\":\"variable\"},\"tracegroupgap\":0},\"title\":{\"text\":\"Trend of Content Types Added to Netflix Over Years\",\"x\":0.5}},                        {\"responsive\": true}                    ).then(function(){\n",
       "                            \n",
       "var gd = document.getElementById('4d397812-afec-4696-bb26-a0024d190299');\n",
       "var x = new MutationObserver(function (mutations, observer) {{\n",
       "        var display = window.getComputedStyle(gd).display;\n",
       "        if (!display || display === 'none') {{\n",
       "            console.log([gd, 'removed!']);\n",
       "            Plotly.purge(gd);\n",
       "            observer.disconnect();\n",
       "        }}\n",
       "}});\n",
       "\n",
       "// Listen for the removal of the full notebook cells\n",
       "var notebookContainer = gd.closest('#notebook-container');\n",
       "if (notebookContainer) {{\n",
       "    x.observe(notebookContainer, {childList: true});\n",
       "}}\n",
       "\n",
       "// Listen for the clearing of the current output cell\n",
       "var outputEl = gd.closest('.output');\n",
       "if (outputEl) {{\n",
       "    x.observe(outputEl, {childList: true});\n",
       "}}\n",
       "\n",
       "                        })                };            </script>        </div>"
      ]
     },
     "metadata": {},
     "output_type": "display_data"
    },
    {
     "data": {
      "application/vnd.plotly.v1+json": {
       "config": {
        "plotlyServerURL": "https://plot.ly"
       },
       "data": [
        {
         "hovertemplate": "variable=Movie<br>Year Added=%{x}<br>Number of Titles Added=%{y}<extra></extra>",
         "legendgroup": "Movie",
         "line": {
          "color": "red",
          "dash": "solid"
         },
         "marker": {
          "symbol": "circle"
         },
         "mode": "lines+markers",
         "name": "Movie",
         "orientation": "v",
         "showlegend": true,
         "type": "scatter",
         "x": {
          "bdata": "2AcAANkHAADaBwAA2wcAANwHAADdBwAA3gcAAN8HAADgBwAA4QcAAOIHAADjBwAA5AcAAOUHAAA=",
          "dtype": "i4"
         },
         "xaxis": "x",
         "y": {
          "bdata": "AQACAAEADQADAAYAEwA4APsARAPSBI4FBAXhAw==",
          "dtype": "i2"
         },
         "yaxis": "y"
        },
        {
         "hovertemplate": "variable=TV Show<br>Year Added=%{x}<br>Number of Titles Added=%{y}<extra></extra>",
         "legendgroup": "TV Show",
         "line": {
          "color": "black",
          "dash": "solid"
         },
         "marker": {
          "symbol": "circle"
         },
         "mode": "lines+markers",
         "name": "TV Show",
         "orientation": "v",
         "showlegend": true,
         "type": "scatter",
         "x": {
          "bdata": "2AcAANkHAADaBwAA2wcAANwHAADdBwAA3gcAAN8HAADgBwAA4QcAAOIHAADjBwAA5AcAAOUHAAA=",
          "dtype": "i4"
         },
         "xaxis": "x",
         "y": {
          "bdata": "AQAAAAAAAAAAAAUABQAaAK4AXQGaAU4CUwL5AQ==",
          "dtype": "i2"
         },
         "yaxis": "y"
        }
       ],
       "layout": {
        "legend": {
         "title": {
          "text": "variable"
         },
         "tracegroupgap": 0
        },
        "template": {
         "data": {
          "bar": [
           {
            "error_x": {
             "color": "#2a3f5f"
            },
            "error_y": {
             "color": "#2a3f5f"
            },
            "marker": {
             "line": {
              "color": "#E5ECF6",
              "width": 0.5
             },
             "pattern": {
              "fillmode": "overlay",
              "size": 10,
              "solidity": 0.2
             }
            },
            "type": "bar"
           }
          ],
          "barpolar": [
           {
            "marker": {
             "line": {
              "color": "#E5ECF6",
              "width": 0.5
             },
             "pattern": {
              "fillmode": "overlay",
              "size": 10,
              "solidity": 0.2
             }
            },
            "type": "barpolar"
           }
          ],
          "carpet": [
           {
            "aaxis": {
             "endlinecolor": "#2a3f5f",
             "gridcolor": "white",
             "linecolor": "white",
             "minorgridcolor": "white",
             "startlinecolor": "#2a3f5f"
            },
            "baxis": {
             "endlinecolor": "#2a3f5f",
             "gridcolor": "white",
             "linecolor": "white",
             "minorgridcolor": "white",
             "startlinecolor": "#2a3f5f"
            },
            "type": "carpet"
           }
          ],
          "choropleth": [
           {
            "colorbar": {
             "outlinewidth": 0,
             "ticks": ""
            },
            "type": "choropleth"
           }
          ],
          "contour": [
           {
            "colorbar": {
             "outlinewidth": 0,
             "ticks": ""
            },
            "colorscale": [
             [
              0,
              "#0d0887"
             ],
             [
              0.1111111111111111,
              "#46039f"
             ],
             [
              0.2222222222222222,
              "#7201a8"
             ],
             [
              0.3333333333333333,
              "#9c179e"
             ],
             [
              0.4444444444444444,
              "#bd3786"
             ],
             [
              0.5555555555555556,
              "#d8576b"
             ],
             [
              0.6666666666666666,
              "#ed7953"
             ],
             [
              0.7777777777777778,
              "#fb9f3a"
             ],
             [
              0.8888888888888888,
              "#fdca26"
             ],
             [
              1,
              "#f0f921"
             ]
            ],
            "type": "contour"
           }
          ],
          "contourcarpet": [
           {
            "colorbar": {
             "outlinewidth": 0,
             "ticks": ""
            },
            "type": "contourcarpet"
           }
          ],
          "heatmap": [
           {
            "colorbar": {
             "outlinewidth": 0,
             "ticks": ""
            },
            "colorscale": [
             [
              0,
              "#0d0887"
             ],
             [
              0.1111111111111111,
              "#46039f"
             ],
             [
              0.2222222222222222,
              "#7201a8"
             ],
             [
              0.3333333333333333,
              "#9c179e"
             ],
             [
              0.4444444444444444,
              "#bd3786"
             ],
             [
              0.5555555555555556,
              "#d8576b"
             ],
             [
              0.6666666666666666,
              "#ed7953"
             ],
             [
              0.7777777777777778,
              "#fb9f3a"
             ],
             [
              0.8888888888888888,
              "#fdca26"
             ],
             [
              1,
              "#f0f921"
             ]
            ],
            "type": "heatmap"
           }
          ],
          "histogram": [
           {
            "marker": {
             "pattern": {
              "fillmode": "overlay",
              "size": 10,
              "solidity": 0.2
             }
            },
            "type": "histogram"
           }
          ],
          "histogram2d": [
           {
            "colorbar": {
             "outlinewidth": 0,
             "ticks": ""
            },
            "colorscale": [
             [
              0,
              "#0d0887"
             ],
             [
              0.1111111111111111,
              "#46039f"
             ],
             [
              0.2222222222222222,
              "#7201a8"
             ],
             [
              0.3333333333333333,
              "#9c179e"
             ],
             [
              0.4444444444444444,
              "#bd3786"
             ],
             [
              0.5555555555555556,
              "#d8576b"
             ],
             [
              0.6666666666666666,
              "#ed7953"
             ],
             [
              0.7777777777777778,
              "#fb9f3a"
             ],
             [
              0.8888888888888888,
              "#fdca26"
             ],
             [
              1,
              "#f0f921"
             ]
            ],
            "type": "histogram2d"
           }
          ],
          "histogram2dcontour": [
           {
            "colorbar": {
             "outlinewidth": 0,
             "ticks": ""
            },
            "colorscale": [
             [
              0,
              "#0d0887"
             ],
             [
              0.1111111111111111,
              "#46039f"
             ],
             [
              0.2222222222222222,
              "#7201a8"
             ],
             [
              0.3333333333333333,
              "#9c179e"
             ],
             [
              0.4444444444444444,
              "#bd3786"
             ],
             [
              0.5555555555555556,
              "#d8576b"
             ],
             [
              0.6666666666666666,
              "#ed7953"
             ],
             [
              0.7777777777777778,
              "#fb9f3a"
             ],
             [
              0.8888888888888888,
              "#fdca26"
             ],
             [
              1,
              "#f0f921"
             ]
            ],
            "type": "histogram2dcontour"
           }
          ],
          "mesh3d": [
           {
            "colorbar": {
             "outlinewidth": 0,
             "ticks": ""
            },
            "type": "mesh3d"
           }
          ],
          "parcoords": [
           {
            "line": {
             "colorbar": {
              "outlinewidth": 0,
              "ticks": ""
             }
            },
            "type": "parcoords"
           }
          ],
          "pie": [
           {
            "automargin": true,
            "type": "pie"
           }
          ],
          "scatter": [
           {
            "fillpattern": {
             "fillmode": "overlay",
             "size": 10,
             "solidity": 0.2
            },
            "type": "scatter"
           }
          ],
          "scatter3d": [
           {
            "line": {
             "colorbar": {
              "outlinewidth": 0,
              "ticks": ""
             }
            },
            "marker": {
             "colorbar": {
              "outlinewidth": 0,
              "ticks": ""
             }
            },
            "type": "scatter3d"
           }
          ],
          "scattercarpet": [
           {
            "marker": {
             "colorbar": {
              "outlinewidth": 0,
              "ticks": ""
             }
            },
            "type": "scattercarpet"
           }
          ],
          "scattergeo": [
           {
            "marker": {
             "colorbar": {
              "outlinewidth": 0,
              "ticks": ""
             }
            },
            "type": "scattergeo"
           }
          ],
          "scattergl": [
           {
            "marker": {
             "colorbar": {
              "outlinewidth": 0,
              "ticks": ""
             }
            },
            "type": "scattergl"
           }
          ],
          "scattermap": [
           {
            "marker": {
             "colorbar": {
              "outlinewidth": 0,
              "ticks": ""
             }
            },
            "type": "scattermap"
           }
          ],
          "scattermapbox": [
           {
            "marker": {
             "colorbar": {
              "outlinewidth": 0,
              "ticks": ""
             }
            },
            "type": "scattermapbox"
           }
          ],
          "scatterpolar": [
           {
            "marker": {
             "colorbar": {
              "outlinewidth": 0,
              "ticks": ""
             }
            },
            "type": "scatterpolar"
           }
          ],
          "scatterpolargl": [
           {
            "marker": {
             "colorbar": {
              "outlinewidth": 0,
              "ticks": ""
             }
            },
            "type": "scatterpolargl"
           }
          ],
          "scatterternary": [
           {
            "marker": {
             "colorbar": {
              "outlinewidth": 0,
              "ticks": ""
             }
            },
            "type": "scatterternary"
           }
          ],
          "surface": [
           {
            "colorbar": {
             "outlinewidth": 0,
             "ticks": ""
            },
            "colorscale": [
             [
              0,
              "#0d0887"
             ],
             [
              0.1111111111111111,
              "#46039f"
             ],
             [
              0.2222222222222222,
              "#7201a8"
             ],
             [
              0.3333333333333333,
              "#9c179e"
             ],
             [
              0.4444444444444444,
              "#bd3786"
             ],
             [
              0.5555555555555556,
              "#d8576b"
             ],
             [
              0.6666666666666666,
              "#ed7953"
             ],
             [
              0.7777777777777778,
              "#fb9f3a"
             ],
             [
              0.8888888888888888,
              "#fdca26"
             ],
             [
              1,
              "#f0f921"
             ]
            ],
            "type": "surface"
           }
          ],
          "table": [
           {
            "cells": {
             "fill": {
              "color": "#EBF0F8"
             },
             "line": {
              "color": "white"
             }
            },
            "header": {
             "fill": {
              "color": "#C8D4E3"
             },
             "line": {
              "color": "white"
             }
            },
            "type": "table"
           }
          ]
         },
         "layout": {
          "annotationdefaults": {
           "arrowcolor": "#2a3f5f",
           "arrowhead": 0,
           "arrowwidth": 1
          },
          "autotypenumbers": "strict",
          "coloraxis": {
           "colorbar": {
            "outlinewidth": 0,
            "ticks": ""
           }
          },
          "colorscale": {
           "diverging": [
            [
             0,
             "#8e0152"
            ],
            [
             0.1,
             "#c51b7d"
            ],
            [
             0.2,
             "#de77ae"
            ],
            [
             0.3,
             "#f1b6da"
            ],
            [
             0.4,
             "#fde0ef"
            ],
            [
             0.5,
             "#f7f7f7"
            ],
            [
             0.6,
             "#e6f5d0"
            ],
            [
             0.7,
             "#b8e186"
            ],
            [
             0.8,
             "#7fbc41"
            ],
            [
             0.9,
             "#4d9221"
            ],
            [
             1,
             "#276419"
            ]
           ],
           "sequential": [
            [
             0,
             "#0d0887"
            ],
            [
             0.1111111111111111,
             "#46039f"
            ],
            [
             0.2222222222222222,
             "#7201a8"
            ],
            [
             0.3333333333333333,
             "#9c179e"
            ],
            [
             0.4444444444444444,
             "#bd3786"
            ],
            [
             0.5555555555555556,
             "#d8576b"
            ],
            [
             0.6666666666666666,
             "#ed7953"
            ],
            [
             0.7777777777777778,
             "#fb9f3a"
            ],
            [
             0.8888888888888888,
             "#fdca26"
            ],
            [
             1,
             "#f0f921"
            ]
           ],
           "sequentialminus": [
            [
             0,
             "#0d0887"
            ],
            [
             0.1111111111111111,
             "#46039f"
            ],
            [
             0.2222222222222222,
             "#7201a8"
            ],
            [
             0.3333333333333333,
             "#9c179e"
            ],
            [
             0.4444444444444444,
             "#bd3786"
            ],
            [
             0.5555555555555556,
             "#d8576b"
            ],
            [
             0.6666666666666666,
             "#ed7953"
            ],
            [
             0.7777777777777778,
             "#fb9f3a"
            ],
            [
             0.8888888888888888,
             "#fdca26"
            ],
            [
             1,
             "#f0f921"
            ]
           ]
          },
          "colorway": [
           "#636efa",
           "#EF553B",
           "#00cc96",
           "#ab63fa",
           "#FFA15A",
           "#19d3f3",
           "#FF6692",
           "#B6E880",
           "#FF97FF",
           "#FECB52"
          ],
          "font": {
           "color": "#2a3f5f"
          },
          "geo": {
           "bgcolor": "white",
           "lakecolor": "white",
           "landcolor": "#E5ECF6",
           "showlakes": true,
           "showland": true,
           "subunitcolor": "white"
          },
          "hoverlabel": {
           "align": "left"
          },
          "hovermode": "closest",
          "mapbox": {
           "style": "light"
          },
          "paper_bgcolor": "white",
          "plot_bgcolor": "#E5ECF6",
          "polar": {
           "angularaxis": {
            "gridcolor": "white",
            "linecolor": "white",
            "ticks": ""
           },
           "bgcolor": "#E5ECF6",
           "radialaxis": {
            "gridcolor": "white",
            "linecolor": "white",
            "ticks": ""
           }
          },
          "scene": {
           "xaxis": {
            "backgroundcolor": "#E5ECF6",
            "gridcolor": "white",
            "gridwidth": 2,
            "linecolor": "white",
            "showbackground": true,
            "ticks": "",
            "zerolinecolor": "white"
           },
           "yaxis": {
            "backgroundcolor": "#E5ECF6",
            "gridcolor": "white",
            "gridwidth": 2,
            "linecolor": "white",
            "showbackground": true,
            "ticks": "",
            "zerolinecolor": "white"
           },
           "zaxis": {
            "backgroundcolor": "#E5ECF6",
            "gridcolor": "white",
            "gridwidth": 2,
            "linecolor": "white",
            "showbackground": true,
            "ticks": "",
            "zerolinecolor": "white"
           }
          },
          "shapedefaults": {
           "line": {
            "color": "#2a3f5f"
           }
          },
          "ternary": {
           "aaxis": {
            "gridcolor": "white",
            "linecolor": "white",
            "ticks": ""
           },
           "baxis": {
            "gridcolor": "white",
            "linecolor": "white",
            "ticks": ""
           },
           "bgcolor": "#E5ECF6",
           "caxis": {
            "gridcolor": "white",
            "linecolor": "white",
            "ticks": ""
           }
          },
          "title": {
           "x": 0.05
          },
          "xaxis": {
           "automargin": true,
           "gridcolor": "white",
           "linecolor": "white",
           "ticks": "",
           "title": {
            "standoff": 15
           },
           "zerolinecolor": "white",
           "zerolinewidth": 2
          },
          "yaxis": {
           "automargin": true,
           "gridcolor": "white",
           "linecolor": "white",
           "ticks": "",
           "title": {
            "standoff": 15
           },
           "zerolinecolor": "white",
           "zerolinewidth": 2
          }
         }
        },
        "title": {
         "text": "Trend of Content Types Added to Netflix Over Years (Absolute)",
         "x": 0.5
        },
        "xaxis": {
         "anchor": "y",
         "domain": [
          0,
          1
         ],
         "title": {
          "text": "Year Added"
         }
        },
        "yaxis": {
         "anchor": "x",
         "domain": [
          0,
          1
         ],
         "title": {
          "text": "Number of Titles Added"
         }
        }
       }
      },
      "text/html": [
       "<div>            <script src=\"https://cdnjs.cloudflare.com/ajax/libs/mathjax/2.7.5/MathJax.js?config=TeX-AMS-MML_SVG\"></script><script type=\"text/javascript\">if (window.MathJax && window.MathJax.Hub && window.MathJax.Hub.Config) {window.MathJax.Hub.Config({SVG: {font: \"STIX-Web\"}});}</script>                <script type=\"text/javascript\">window.PlotlyConfig = {MathJaxConfig: 'local'};</script>\n",
       "        <script charset=\"utf-8\" src=\"https://cdn.plot.ly/plotly-3.0.0.min.js\"></script>                <div id=\"08e76c76-fbe2-4150-95fe-ecddcd285d97\" class=\"plotly-graph-div\" style=\"height:525px; width:100%;\"></div>            <script type=\"text/javascript\">                window.PLOTLYENV=window.PLOTLYENV || {};                                if (document.getElementById(\"08e76c76-fbe2-4150-95fe-ecddcd285d97\")) {                    Plotly.newPlot(                        \"08e76c76-fbe2-4150-95fe-ecddcd285d97\",                        [{\"hovertemplate\":\"variable=Movie\\u003cbr\\u003eYear Added=%{x}\\u003cbr\\u003eNumber of Titles Added=%{y}\\u003cextra\\u003e\\u003c\\u002fextra\\u003e\",\"legendgroup\":\"Movie\",\"line\":{\"color\":\"red\",\"dash\":\"solid\"},\"marker\":{\"symbol\":\"circle\"},\"mode\":\"lines+markers\",\"name\":\"Movie\",\"orientation\":\"v\",\"showlegend\":true,\"x\":{\"dtype\":\"i4\",\"bdata\":\"2AcAANkHAADaBwAA2wcAANwHAADdBwAA3gcAAN8HAADgBwAA4QcAAOIHAADjBwAA5AcAAOUHAAA=\"},\"xaxis\":\"x\",\"y\":{\"dtype\":\"i2\",\"bdata\":\"AQACAAEADQADAAYAEwA4APsARAPSBI4FBAXhAw==\"},\"yaxis\":\"y\",\"type\":\"scatter\"},{\"hovertemplate\":\"variable=TV Show\\u003cbr\\u003eYear Added=%{x}\\u003cbr\\u003eNumber of Titles Added=%{y}\\u003cextra\\u003e\\u003c\\u002fextra\\u003e\",\"legendgroup\":\"TV Show\",\"line\":{\"color\":\"black\",\"dash\":\"solid\"},\"marker\":{\"symbol\":\"circle\"},\"mode\":\"lines+markers\",\"name\":\"TV Show\",\"orientation\":\"v\",\"showlegend\":true,\"x\":{\"dtype\":\"i4\",\"bdata\":\"2AcAANkHAADaBwAA2wcAANwHAADdBwAA3gcAAN8HAADgBwAA4QcAAOIHAADjBwAA5AcAAOUHAAA=\"},\"xaxis\":\"x\",\"y\":{\"dtype\":\"i2\",\"bdata\":\"AQAAAAAAAAAAAAUABQAaAK4AXQGaAU4CUwL5AQ==\"},\"yaxis\":\"y\",\"type\":\"scatter\"}],                        {\"template\":{\"data\":{\"histogram2dcontour\":[{\"type\":\"histogram2dcontour\",\"colorbar\":{\"outlinewidth\":0,\"ticks\":\"\"},\"colorscale\":[[0.0,\"#0d0887\"],[0.1111111111111111,\"#46039f\"],[0.2222222222222222,\"#7201a8\"],[0.3333333333333333,\"#9c179e\"],[0.4444444444444444,\"#bd3786\"],[0.5555555555555556,\"#d8576b\"],[0.6666666666666666,\"#ed7953\"],[0.7777777777777778,\"#fb9f3a\"],[0.8888888888888888,\"#fdca26\"],[1.0,\"#f0f921\"]]}],\"choropleth\":[{\"type\":\"choropleth\",\"colorbar\":{\"outlinewidth\":0,\"ticks\":\"\"}}],\"histogram2d\":[{\"type\":\"histogram2d\",\"colorbar\":{\"outlinewidth\":0,\"ticks\":\"\"},\"colorscale\":[[0.0,\"#0d0887\"],[0.1111111111111111,\"#46039f\"],[0.2222222222222222,\"#7201a8\"],[0.3333333333333333,\"#9c179e\"],[0.4444444444444444,\"#bd3786\"],[0.5555555555555556,\"#d8576b\"],[0.6666666666666666,\"#ed7953\"],[0.7777777777777778,\"#fb9f3a\"],[0.8888888888888888,\"#fdca26\"],[1.0,\"#f0f921\"]]}],\"heatmap\":[{\"type\":\"heatmap\",\"colorbar\":{\"outlinewidth\":0,\"ticks\":\"\"},\"colorscale\":[[0.0,\"#0d0887\"],[0.1111111111111111,\"#46039f\"],[0.2222222222222222,\"#7201a8\"],[0.3333333333333333,\"#9c179e\"],[0.4444444444444444,\"#bd3786\"],[0.5555555555555556,\"#d8576b\"],[0.6666666666666666,\"#ed7953\"],[0.7777777777777778,\"#fb9f3a\"],[0.8888888888888888,\"#fdca26\"],[1.0,\"#f0f921\"]]}],\"contourcarpet\":[{\"type\":\"contourcarpet\",\"colorbar\":{\"outlinewidth\":0,\"ticks\":\"\"}}],\"contour\":[{\"type\":\"contour\",\"colorbar\":{\"outlinewidth\":0,\"ticks\":\"\"},\"colorscale\":[[0.0,\"#0d0887\"],[0.1111111111111111,\"#46039f\"],[0.2222222222222222,\"#7201a8\"],[0.3333333333333333,\"#9c179e\"],[0.4444444444444444,\"#bd3786\"],[0.5555555555555556,\"#d8576b\"],[0.6666666666666666,\"#ed7953\"],[0.7777777777777778,\"#fb9f3a\"],[0.8888888888888888,\"#fdca26\"],[1.0,\"#f0f921\"]]}],\"surface\":[{\"type\":\"surface\",\"colorbar\":{\"outlinewidth\":0,\"ticks\":\"\"},\"colorscale\":[[0.0,\"#0d0887\"],[0.1111111111111111,\"#46039f\"],[0.2222222222222222,\"#7201a8\"],[0.3333333333333333,\"#9c179e\"],[0.4444444444444444,\"#bd3786\"],[0.5555555555555556,\"#d8576b\"],[0.6666666666666666,\"#ed7953\"],[0.7777777777777778,\"#fb9f3a\"],[0.8888888888888888,\"#fdca26\"],[1.0,\"#f0f921\"]]}],\"mesh3d\":[{\"type\":\"mesh3d\",\"colorbar\":{\"outlinewidth\":0,\"ticks\":\"\"}}],\"scatter\":[{\"fillpattern\":{\"fillmode\":\"overlay\",\"size\":10,\"solidity\":0.2},\"type\":\"scatter\"}],\"parcoords\":[{\"type\":\"parcoords\",\"line\":{\"colorbar\":{\"outlinewidth\":0,\"ticks\":\"\"}}}],\"scatterpolargl\":[{\"type\":\"scatterpolargl\",\"marker\":{\"colorbar\":{\"outlinewidth\":0,\"ticks\":\"\"}}}],\"bar\":[{\"error_x\":{\"color\":\"#2a3f5f\"},\"error_y\":{\"color\":\"#2a3f5f\"},\"marker\":{\"line\":{\"color\":\"#E5ECF6\",\"width\":0.5},\"pattern\":{\"fillmode\":\"overlay\",\"size\":10,\"solidity\":0.2}},\"type\":\"bar\"}],\"scattergeo\":[{\"type\":\"scattergeo\",\"marker\":{\"colorbar\":{\"outlinewidth\":0,\"ticks\":\"\"}}}],\"scatterpolar\":[{\"type\":\"scatterpolar\",\"marker\":{\"colorbar\":{\"outlinewidth\":0,\"ticks\":\"\"}}}],\"histogram\":[{\"marker\":{\"pattern\":{\"fillmode\":\"overlay\",\"size\":10,\"solidity\":0.2}},\"type\":\"histogram\"}],\"scattergl\":[{\"type\":\"scattergl\",\"marker\":{\"colorbar\":{\"outlinewidth\":0,\"ticks\":\"\"}}}],\"scatter3d\":[{\"type\":\"scatter3d\",\"line\":{\"colorbar\":{\"outlinewidth\":0,\"ticks\":\"\"}},\"marker\":{\"colorbar\":{\"outlinewidth\":0,\"ticks\":\"\"}}}],\"scattermap\":[{\"type\":\"scattermap\",\"marker\":{\"colorbar\":{\"outlinewidth\":0,\"ticks\":\"\"}}}],\"scattermapbox\":[{\"type\":\"scattermapbox\",\"marker\":{\"colorbar\":{\"outlinewidth\":0,\"ticks\":\"\"}}}],\"scatterternary\":[{\"type\":\"scatterternary\",\"marker\":{\"colorbar\":{\"outlinewidth\":0,\"ticks\":\"\"}}}],\"scattercarpet\":[{\"type\":\"scattercarpet\",\"marker\":{\"colorbar\":{\"outlinewidth\":0,\"ticks\":\"\"}}}],\"carpet\":[{\"aaxis\":{\"endlinecolor\":\"#2a3f5f\",\"gridcolor\":\"white\",\"linecolor\":\"white\",\"minorgridcolor\":\"white\",\"startlinecolor\":\"#2a3f5f\"},\"baxis\":{\"endlinecolor\":\"#2a3f5f\",\"gridcolor\":\"white\",\"linecolor\":\"white\",\"minorgridcolor\":\"white\",\"startlinecolor\":\"#2a3f5f\"},\"type\":\"carpet\"}],\"table\":[{\"cells\":{\"fill\":{\"color\":\"#EBF0F8\"},\"line\":{\"color\":\"white\"}},\"header\":{\"fill\":{\"color\":\"#C8D4E3\"},\"line\":{\"color\":\"white\"}},\"type\":\"table\"}],\"barpolar\":[{\"marker\":{\"line\":{\"color\":\"#E5ECF6\",\"width\":0.5},\"pattern\":{\"fillmode\":\"overlay\",\"size\":10,\"solidity\":0.2}},\"type\":\"barpolar\"}],\"pie\":[{\"automargin\":true,\"type\":\"pie\"}]},\"layout\":{\"autotypenumbers\":\"strict\",\"colorway\":[\"#636efa\",\"#EF553B\",\"#00cc96\",\"#ab63fa\",\"#FFA15A\",\"#19d3f3\",\"#FF6692\",\"#B6E880\",\"#FF97FF\",\"#FECB52\"],\"font\":{\"color\":\"#2a3f5f\"},\"hovermode\":\"closest\",\"hoverlabel\":{\"align\":\"left\"},\"paper_bgcolor\":\"white\",\"plot_bgcolor\":\"#E5ECF6\",\"polar\":{\"bgcolor\":\"#E5ECF6\",\"angularaxis\":{\"gridcolor\":\"white\",\"linecolor\":\"white\",\"ticks\":\"\"},\"radialaxis\":{\"gridcolor\":\"white\",\"linecolor\":\"white\",\"ticks\":\"\"}},\"ternary\":{\"bgcolor\":\"#E5ECF6\",\"aaxis\":{\"gridcolor\":\"white\",\"linecolor\":\"white\",\"ticks\":\"\"},\"baxis\":{\"gridcolor\":\"white\",\"linecolor\":\"white\",\"ticks\":\"\"},\"caxis\":{\"gridcolor\":\"white\",\"linecolor\":\"white\",\"ticks\":\"\"}},\"coloraxis\":{\"colorbar\":{\"outlinewidth\":0,\"ticks\":\"\"}},\"colorscale\":{\"sequential\":[[0.0,\"#0d0887\"],[0.1111111111111111,\"#46039f\"],[0.2222222222222222,\"#7201a8\"],[0.3333333333333333,\"#9c179e\"],[0.4444444444444444,\"#bd3786\"],[0.5555555555555556,\"#d8576b\"],[0.6666666666666666,\"#ed7953\"],[0.7777777777777778,\"#fb9f3a\"],[0.8888888888888888,\"#fdca26\"],[1.0,\"#f0f921\"]],\"sequentialminus\":[[0.0,\"#0d0887\"],[0.1111111111111111,\"#46039f\"],[0.2222222222222222,\"#7201a8\"],[0.3333333333333333,\"#9c179e\"],[0.4444444444444444,\"#bd3786\"],[0.5555555555555556,\"#d8576b\"],[0.6666666666666666,\"#ed7953\"],[0.7777777777777778,\"#fb9f3a\"],[0.8888888888888888,\"#fdca26\"],[1.0,\"#f0f921\"]],\"diverging\":[[0,\"#8e0152\"],[0.1,\"#c51b7d\"],[0.2,\"#de77ae\"],[0.3,\"#f1b6da\"],[0.4,\"#fde0ef\"],[0.5,\"#f7f7f7\"],[0.6,\"#e6f5d0\"],[0.7,\"#b8e186\"],[0.8,\"#7fbc41\"],[0.9,\"#4d9221\"],[1,\"#276419\"]]},\"xaxis\":{\"gridcolor\":\"white\",\"linecolor\":\"white\",\"ticks\":\"\",\"title\":{\"standoff\":15},\"zerolinecolor\":\"white\",\"automargin\":true,\"zerolinewidth\":2},\"yaxis\":{\"gridcolor\":\"white\",\"linecolor\":\"white\",\"ticks\":\"\",\"title\":{\"standoff\":15},\"zerolinecolor\":\"white\",\"automargin\":true,\"zerolinewidth\":2},\"scene\":{\"xaxis\":{\"backgroundcolor\":\"#E5ECF6\",\"gridcolor\":\"white\",\"linecolor\":\"white\",\"showbackground\":true,\"ticks\":\"\",\"zerolinecolor\":\"white\",\"gridwidth\":2},\"yaxis\":{\"backgroundcolor\":\"#E5ECF6\",\"gridcolor\":\"white\",\"linecolor\":\"white\",\"showbackground\":true,\"ticks\":\"\",\"zerolinecolor\":\"white\",\"gridwidth\":2},\"zaxis\":{\"backgroundcolor\":\"#E5ECF6\",\"gridcolor\":\"white\",\"linecolor\":\"white\",\"showbackground\":true,\"ticks\":\"\",\"zerolinecolor\":\"white\",\"gridwidth\":2}},\"shapedefaults\":{\"line\":{\"color\":\"#2a3f5f\"}},\"annotationdefaults\":{\"arrowcolor\":\"#2a3f5f\",\"arrowhead\":0,\"arrowwidth\":1},\"geo\":{\"bgcolor\":\"white\",\"landcolor\":\"#E5ECF6\",\"subunitcolor\":\"white\",\"showland\":true,\"showlakes\":true,\"lakecolor\":\"white\"},\"title\":{\"x\":0.05},\"mapbox\":{\"style\":\"light\"}}},\"xaxis\":{\"anchor\":\"y\",\"domain\":[0.0,1.0],\"title\":{\"text\":\"Year Added\"}},\"yaxis\":{\"anchor\":\"x\",\"domain\":[0.0,1.0],\"title\":{\"text\":\"Number of Titles Added\"}},\"legend\":{\"title\":{\"text\":\"variable\"},\"tracegroupgap\":0},\"title\":{\"text\":\"Trend of Content Types Added to Netflix Over Years (Absolute)\",\"x\":0.5}},                        {\"responsive\": true}                    ).then(function(){\n",
       "                            \n",
       "var gd = document.getElementById('08e76c76-fbe2-4150-95fe-ecddcd285d97');\n",
       "var x = new MutationObserver(function (mutations, observer) {{\n",
       "        var display = window.getComputedStyle(gd).display;\n",
       "        if (!display || display === 'none') {{\n",
       "            console.log([gd, 'removed!']);\n",
       "            Plotly.purge(gd);\n",
       "            observer.disconnect();\n",
       "        }}\n",
       "}});\n",
       "\n",
       "// Listen for the removal of the full notebook cells\n",
       "var notebookContainer = gd.closest('#notebook-container');\n",
       "if (notebookContainer) {{\n",
       "    x.observe(notebookContainer, {childList: true});\n",
       "}}\n",
       "\n",
       "// Listen for the clearing of the current output cell\n",
       "var outputEl = gd.closest('.output');\n",
       "if (outputEl) {{\n",
       "    x.observe(outputEl, {childList: true});\n",
       "}}\n",
       "\n",
       "                        })                };            </script>        </div>"
      ]
     },
     "metadata": {},
     "output_type": "display_data"
    }
   ],
   "source": [
    "type_trend = df.dropna(subset=['year_added']).groupby(['year_added', 'type']).size().unstack(fill_value=0)\n",
    "\n",
    "fig_type_trend_area = px.area(\n",
    "    type_trend,\n",
    "    x=type_trend.index,\n",
    "    y=['Movie', 'TV Show'],\n",
    "    title='Trend of Content Types Added to Netflix Over Years',\n",
    "    labels={'year_added': 'Year Added', 'value': 'Number of Titles Added', 'type': 'Content Type'},\n",
    "    color_discrete_map={'Movie': 'red', 'TV Show': 'black'}\n",
    ")\n",
    "\n",
    "fig_type_trend_area.update_layout(\n",
    "    xaxis_title=\"Year Added\",\n",
    "    yaxis_title=\"Number of Titles Added\",\n",
    "    title_x=0.5\n",
    ")\n",
    "fig_type_trend_area.show()\n",
    "\n",
    "\n",
    "fig_type_trend_line = px.line(\n",
    "    type_trend,\n",
    "    x=type_trend.index,\n",
    "    y=['Movie', 'TV Show'],\n",
    "    title='Trend of Content Types Added to Netflix Over Years (Absolute)',\n",
    "    labels={'year_added': 'Year Added', 'value': 'Number of Titles Added', 'type': 'Content Type'},\n",
    "    markers=True,\n",
    "    color_discrete_map={'Movie': 'red', 'TV Show': 'black'}\n",
    ")\n",
    "\n",
    "fig_type_trend_line.update_layout(\n",
    "    xaxis_title=\"Year Added\",\n",
    "    yaxis_title=\"Number of Titles Added\",\n",
    "    title_x=0.5\n",
    ")\n",
    "fig_type_trend_line.show()"
   ]
  },
  {
   "cell_type": "markdown",
   "metadata": {},
   "source": [
    "### Treemap for Genre Distribution"
   ]
  },
  {
   "cell_type": "code",
   "execution_count": 31,
   "metadata": {},
   "outputs": [
    {
     "data": {
      "application/vnd.plotly.v1+json": {
       "config": {
        "plotlyServerURL": "https://plot.ly"
       },
       "data": [
        {
         "branchvalues": "total",
         "customdata": {
          "bdata": "AAAAAAB6pUAAAAAAAOyiQAAAAAAAHJpAAAAAAAAElUAAAAAAACiLQAAAAAAA2IpAAAAAAADAh0AAAAAAAJiHQAAAAAAACIRAAAAAAABAg0AAAAAAAPiBQAAAAAAA6IFAAAAAAABAfUAAAAAAAAB8QAAAAAAAoHhAAAAAAABwd0AAAAAAACB3QAAAAAAAUHZAAAAAAABwdUAAAAAAAOBvQAAAAAAAgG9AAAAAAABgbkAAAAAAAGBrQAAAAAAAgGVAAAAAAACAZUAAAAAAAOBkQAAAAAAA4GJAAAAAAAAAXUAAAAAAAIBZQAAAAAAAgFhAqgV27oXik0A=",
          "dtype": "f8",
          "shape": "31, 1"
         },
         "domain": {
          "x": [
           0,
           1
          ],
          "y": [
           0,
           1
          ]
         },
         "hovertemplate": "labels=%{label}<br>count_sum=%{value}<br>parent=%{parent}<br>id=%{id}<br>count=%{color}<extra></extra>",
         "ids": [
          "All Genres/International Movies",
          "All Genres/Dramas",
          "All Genres/Comedies",
          "All Genres/International TV Shows",
          "All Genres/Documentaries",
          "All Genres/Action & Adventure",
          "All Genres/TV Dramas",
          "All Genres/Independent Movies",
          "All Genres/Children & Family Movies",
          "All Genres/Romantic Movies",
          "All Genres/Thrillers",
          "All Genres/TV Comedies",
          "All Genres/Crime TV Shows",
          "All Genres/Kids' TV",
          "All Genres/Docuseries",
          "All Genres/Music & Musicals",
          "All Genres/Romantic TV Shows",
          "All Genres/Horror Movies",
          "All Genres/Stand-Up Comedy",
          "All Genres/Reality TV",
          "All Genres/British TV Shows",
          "All Genres/Sci-Fi & Fantasy",
          "All Genres/Sports Movies",
          "All Genres/Spanish-Language TV Shows",
          "All Genres/Anime Series",
          "All Genres/TV Action & Adventure",
          "All Genres/Korean TV Shows",
          "All Genres/Classic Movies",
          "All Genres/LGBTQ Movies",
          "All Genres/TV Mysteries",
          "All Genres"
         ],
         "labels": [
          "International Movies",
          "Dramas",
          "Comedies",
          "International TV Shows",
          "Documentaries",
          "Action & Adventure",
          "TV Dramas",
          "Independent Movies",
          "Children & Family Movies",
          "Romantic Movies",
          "Thrillers",
          "TV Comedies",
          "Crime TV Shows",
          "Kids' TV",
          "Docuseries",
          "Music & Musicals",
          "Romantic TV Shows",
          "Horror Movies",
          "Stand-Up Comedy",
          "Reality TV",
          "British TV Shows",
          "Sci-Fi & Fantasy",
          "Sports Movies",
          "Spanish-Language TV Shows",
          "Anime Series",
          "TV Action & Adventure",
          "Korean TV Shows",
          "Classic Movies",
          "LGBTQ Movies",
          "TV Mysteries",
          "All Genres"
         ],
         "marker": {
          "coloraxis": "coloraxis",
          "colors": {
           "bdata": "AAAAAAB6pUAAAAAAAOyiQAAAAAAAHJpAAAAAAAAElUAAAAAAACiLQAAAAAAA2IpAAAAAAADAh0AAAAAAAJiHQAAAAAAACIRAAAAAAABAg0AAAAAAAPiBQAAAAAAA6IFAAAAAAABAfUAAAAAAAAB8QAAAAAAAoHhAAAAAAABwd0AAAAAAACB3QAAAAAAAUHZAAAAAAABwdUAAAAAAAOBvQAAAAAAAgG9AAAAAAABgbkAAAAAAAGBrQAAAAAAAgGVAAAAAAACAZUAAAAAAAOBkQAAAAAAA4GJAAAAAAAAAXUAAAAAAAIBZQAAAAAAAgFhAqgV27oXik0A=",
           "dtype": "f8"
          }
         },
         "name": "",
         "parents": [
          "All Genres",
          "All Genres",
          "All Genres",
          "All Genres",
          "All Genres",
          "All Genres",
          "All Genres",
          "All Genres",
          "All Genres",
          "All Genres",
          "All Genres",
          "All Genres",
          "All Genres",
          "All Genres",
          "All Genres",
          "All Genres",
          "All Genres",
          "All Genres",
          "All Genres",
          "All Genres",
          "All Genres",
          "All Genres",
          "All Genres",
          "All Genres",
          "All Genres",
          "All Genres",
          "All Genres",
          "All Genres",
          "All Genres",
          "All Genres",
          ""
         ],
         "textinfo": "label+value+percent root",
         "type": "treemap",
         "values": {
          "bdata": "AAAAAAB6pUAAAAAAAOyiQAAAAAAAHJpAAAAAAAAElUAAAAAAACiLQAAAAAAA2IpAAAAAAADAh0AAAAAAAJiHQAAAAAAACIRAAAAAAABAg0AAAAAAAPiBQAAAAAAA6IFAAAAAAABAfUAAAAAAAAB8QAAAAAAAoHhAAAAAAABwd0AAAAAAACB3QAAAAAAAUHZAAAAAAABwdUAAAAAAAOBvQAAAAAAAgG9AAAAAAABgbkAAAAAAAGBrQAAAAAAAgGVAAAAAAACAZUAAAAAAAOBkQAAAAAAA4GJAAAAAAAAAXUAAAAAAAIBZQAAAAAAAgFhAAAAAAEAa0kA=",
          "dtype": "f8"
         }
        }
       ],
       "layout": {
        "coloraxis": {
         "colorbar": {
          "title": {
           "text": "count"
          }
         },
         "colorscale": [
          [
           0,
           "#440154"
          ],
          [
           0.1111111111111111,
           "#482878"
          ],
          [
           0.2222222222222222,
           "#3e4989"
          ],
          [
           0.3333333333333333,
           "#31688e"
          ],
          [
           0.4444444444444444,
           "#26828e"
          ],
          [
           0.5555555555555556,
           "#1f9e89"
          ],
          [
           0.6666666666666666,
           "#35b779"
          ],
          [
           0.7777777777777778,
           "#6ece58"
          ],
          [
           0.8888888888888888,
           "#b5de2b"
          ],
          [
           1,
           "#fde725"
          ]
         ]
        },
        "legend": {
         "tracegroupgap": 0
        },
        "margin": {
         "b": 25,
         "l": 25,
         "r": 25,
         "t": 50
        },
        "template": {
         "data": {
          "bar": [
           {
            "error_x": {
             "color": "#2a3f5f"
            },
            "error_y": {
             "color": "#2a3f5f"
            },
            "marker": {
             "line": {
              "color": "#E5ECF6",
              "width": 0.5
             },
             "pattern": {
              "fillmode": "overlay",
              "size": 10,
              "solidity": 0.2
             }
            },
            "type": "bar"
           }
          ],
          "barpolar": [
           {
            "marker": {
             "line": {
              "color": "#E5ECF6",
              "width": 0.5
             },
             "pattern": {
              "fillmode": "overlay",
              "size": 10,
              "solidity": 0.2
             }
            },
            "type": "barpolar"
           }
          ],
          "carpet": [
           {
            "aaxis": {
             "endlinecolor": "#2a3f5f",
             "gridcolor": "white",
             "linecolor": "white",
             "minorgridcolor": "white",
             "startlinecolor": "#2a3f5f"
            },
            "baxis": {
             "endlinecolor": "#2a3f5f",
             "gridcolor": "white",
             "linecolor": "white",
             "minorgridcolor": "white",
             "startlinecolor": "#2a3f5f"
            },
            "type": "carpet"
           }
          ],
          "choropleth": [
           {
            "colorbar": {
             "outlinewidth": 0,
             "ticks": ""
            },
            "type": "choropleth"
           }
          ],
          "contour": [
           {
            "colorbar": {
             "outlinewidth": 0,
             "ticks": ""
            },
            "colorscale": [
             [
              0,
              "#0d0887"
             ],
             [
              0.1111111111111111,
              "#46039f"
             ],
             [
              0.2222222222222222,
              "#7201a8"
             ],
             [
              0.3333333333333333,
              "#9c179e"
             ],
             [
              0.4444444444444444,
              "#bd3786"
             ],
             [
              0.5555555555555556,
              "#d8576b"
             ],
             [
              0.6666666666666666,
              "#ed7953"
             ],
             [
              0.7777777777777778,
              "#fb9f3a"
             ],
             [
              0.8888888888888888,
              "#fdca26"
             ],
             [
              1,
              "#f0f921"
             ]
            ],
            "type": "contour"
           }
          ],
          "contourcarpet": [
           {
            "colorbar": {
             "outlinewidth": 0,
             "ticks": ""
            },
            "type": "contourcarpet"
           }
          ],
          "heatmap": [
           {
            "colorbar": {
             "outlinewidth": 0,
             "ticks": ""
            },
            "colorscale": [
             [
              0,
              "#0d0887"
             ],
             [
              0.1111111111111111,
              "#46039f"
             ],
             [
              0.2222222222222222,
              "#7201a8"
             ],
             [
              0.3333333333333333,
              "#9c179e"
             ],
             [
              0.4444444444444444,
              "#bd3786"
             ],
             [
              0.5555555555555556,
              "#d8576b"
             ],
             [
              0.6666666666666666,
              "#ed7953"
             ],
             [
              0.7777777777777778,
              "#fb9f3a"
             ],
             [
              0.8888888888888888,
              "#fdca26"
             ],
             [
              1,
              "#f0f921"
             ]
            ],
            "type": "heatmap"
           }
          ],
          "histogram": [
           {
            "marker": {
             "pattern": {
              "fillmode": "overlay",
              "size": 10,
              "solidity": 0.2
             }
            },
            "type": "histogram"
           }
          ],
          "histogram2d": [
           {
            "colorbar": {
             "outlinewidth": 0,
             "ticks": ""
            },
            "colorscale": [
             [
              0,
              "#0d0887"
             ],
             [
              0.1111111111111111,
              "#46039f"
             ],
             [
              0.2222222222222222,
              "#7201a8"
             ],
             [
              0.3333333333333333,
              "#9c179e"
             ],
             [
              0.4444444444444444,
              "#bd3786"
             ],
             [
              0.5555555555555556,
              "#d8576b"
             ],
             [
              0.6666666666666666,
              "#ed7953"
             ],
             [
              0.7777777777777778,
              "#fb9f3a"
             ],
             [
              0.8888888888888888,
              "#fdca26"
             ],
             [
              1,
              "#f0f921"
             ]
            ],
            "type": "histogram2d"
           }
          ],
          "histogram2dcontour": [
           {
            "colorbar": {
             "outlinewidth": 0,
             "ticks": ""
            },
            "colorscale": [
             [
              0,
              "#0d0887"
             ],
             [
              0.1111111111111111,
              "#46039f"
             ],
             [
              0.2222222222222222,
              "#7201a8"
             ],
             [
              0.3333333333333333,
              "#9c179e"
             ],
             [
              0.4444444444444444,
              "#bd3786"
             ],
             [
              0.5555555555555556,
              "#d8576b"
             ],
             [
              0.6666666666666666,
              "#ed7953"
             ],
             [
              0.7777777777777778,
              "#fb9f3a"
             ],
             [
              0.8888888888888888,
              "#fdca26"
             ],
             [
              1,
              "#f0f921"
             ]
            ],
            "type": "histogram2dcontour"
           }
          ],
          "mesh3d": [
           {
            "colorbar": {
             "outlinewidth": 0,
             "ticks": ""
            },
            "type": "mesh3d"
           }
          ],
          "parcoords": [
           {
            "line": {
             "colorbar": {
              "outlinewidth": 0,
              "ticks": ""
             }
            },
            "type": "parcoords"
           }
          ],
          "pie": [
           {
            "automargin": true,
            "type": "pie"
           }
          ],
          "scatter": [
           {
            "fillpattern": {
             "fillmode": "overlay",
             "size": 10,
             "solidity": 0.2
            },
            "type": "scatter"
           }
          ],
          "scatter3d": [
           {
            "line": {
             "colorbar": {
              "outlinewidth": 0,
              "ticks": ""
             }
            },
            "marker": {
             "colorbar": {
              "outlinewidth": 0,
              "ticks": ""
             }
            },
            "type": "scatter3d"
           }
          ],
          "scattercarpet": [
           {
            "marker": {
             "colorbar": {
              "outlinewidth": 0,
              "ticks": ""
             }
            },
            "type": "scattercarpet"
           }
          ],
          "scattergeo": [
           {
            "marker": {
             "colorbar": {
              "outlinewidth": 0,
              "ticks": ""
             }
            },
            "type": "scattergeo"
           }
          ],
          "scattergl": [
           {
            "marker": {
             "colorbar": {
              "outlinewidth": 0,
              "ticks": ""
             }
            },
            "type": "scattergl"
           }
          ],
          "scattermap": [
           {
            "marker": {
             "colorbar": {
              "outlinewidth": 0,
              "ticks": ""
             }
            },
            "type": "scattermap"
           }
          ],
          "scattermapbox": [
           {
            "marker": {
             "colorbar": {
              "outlinewidth": 0,
              "ticks": ""
             }
            },
            "type": "scattermapbox"
           }
          ],
          "scatterpolar": [
           {
            "marker": {
             "colorbar": {
              "outlinewidth": 0,
              "ticks": ""
             }
            },
            "type": "scatterpolar"
           }
          ],
          "scatterpolargl": [
           {
            "marker": {
             "colorbar": {
              "outlinewidth": 0,
              "ticks": ""
             }
            },
            "type": "scatterpolargl"
           }
          ],
          "scatterternary": [
           {
            "marker": {
             "colorbar": {
              "outlinewidth": 0,
              "ticks": ""
             }
            },
            "type": "scatterternary"
           }
          ],
          "surface": [
           {
            "colorbar": {
             "outlinewidth": 0,
             "ticks": ""
            },
            "colorscale": [
             [
              0,
              "#0d0887"
             ],
             [
              0.1111111111111111,
              "#46039f"
             ],
             [
              0.2222222222222222,
              "#7201a8"
             ],
             [
              0.3333333333333333,
              "#9c179e"
             ],
             [
              0.4444444444444444,
              "#bd3786"
             ],
             [
              0.5555555555555556,
              "#d8576b"
             ],
             [
              0.6666666666666666,
              "#ed7953"
             ],
             [
              0.7777777777777778,
              "#fb9f3a"
             ],
             [
              0.8888888888888888,
              "#fdca26"
             ],
             [
              1,
              "#f0f921"
             ]
            ],
            "type": "surface"
           }
          ],
          "table": [
           {
            "cells": {
             "fill": {
              "color": "#EBF0F8"
             },
             "line": {
              "color": "white"
             }
            },
            "header": {
             "fill": {
              "color": "#C8D4E3"
             },
             "line": {
              "color": "white"
             }
            },
            "type": "table"
           }
          ]
         },
         "layout": {
          "annotationdefaults": {
           "arrowcolor": "#2a3f5f",
           "arrowhead": 0,
           "arrowwidth": 1
          },
          "autotypenumbers": "strict",
          "coloraxis": {
           "colorbar": {
            "outlinewidth": 0,
            "ticks": ""
           }
          },
          "colorscale": {
           "diverging": [
            [
             0,
             "#8e0152"
            ],
            [
             0.1,
             "#c51b7d"
            ],
            [
             0.2,
             "#de77ae"
            ],
            [
             0.3,
             "#f1b6da"
            ],
            [
             0.4,
             "#fde0ef"
            ],
            [
             0.5,
             "#f7f7f7"
            ],
            [
             0.6,
             "#e6f5d0"
            ],
            [
             0.7,
             "#b8e186"
            ],
            [
             0.8,
             "#7fbc41"
            ],
            [
             0.9,
             "#4d9221"
            ],
            [
             1,
             "#276419"
            ]
           ],
           "sequential": [
            [
             0,
             "#0d0887"
            ],
            [
             0.1111111111111111,
             "#46039f"
            ],
            [
             0.2222222222222222,
             "#7201a8"
            ],
            [
             0.3333333333333333,
             "#9c179e"
            ],
            [
             0.4444444444444444,
             "#bd3786"
            ],
            [
             0.5555555555555556,
             "#d8576b"
            ],
            [
             0.6666666666666666,
             "#ed7953"
            ],
            [
             0.7777777777777778,
             "#fb9f3a"
            ],
            [
             0.8888888888888888,
             "#fdca26"
            ],
            [
             1,
             "#f0f921"
            ]
           ],
           "sequentialminus": [
            [
             0,
             "#0d0887"
            ],
            [
             0.1111111111111111,
             "#46039f"
            ],
            [
             0.2222222222222222,
             "#7201a8"
            ],
            [
             0.3333333333333333,
             "#9c179e"
            ],
            [
             0.4444444444444444,
             "#bd3786"
            ],
            [
             0.5555555555555556,
             "#d8576b"
            ],
            [
             0.6666666666666666,
             "#ed7953"
            ],
            [
             0.7777777777777778,
             "#fb9f3a"
            ],
            [
             0.8888888888888888,
             "#fdca26"
            ],
            [
             1,
             "#f0f921"
            ]
           ]
          },
          "colorway": [
           "#636efa",
           "#EF553B",
           "#00cc96",
           "#ab63fa",
           "#FFA15A",
           "#19d3f3",
           "#FF6692",
           "#B6E880",
           "#FF97FF",
           "#FECB52"
          ],
          "font": {
           "color": "#2a3f5f"
          },
          "geo": {
           "bgcolor": "white",
           "lakecolor": "white",
           "landcolor": "#E5ECF6",
           "showlakes": true,
           "showland": true,
           "subunitcolor": "white"
          },
          "hoverlabel": {
           "align": "left"
          },
          "hovermode": "closest",
          "mapbox": {
           "style": "light"
          },
          "paper_bgcolor": "white",
          "plot_bgcolor": "#E5ECF6",
          "polar": {
           "angularaxis": {
            "gridcolor": "white",
            "linecolor": "white",
            "ticks": ""
           },
           "bgcolor": "#E5ECF6",
           "radialaxis": {
            "gridcolor": "white",
            "linecolor": "white",
            "ticks": ""
           }
          },
          "scene": {
           "xaxis": {
            "backgroundcolor": "#E5ECF6",
            "gridcolor": "white",
            "gridwidth": 2,
            "linecolor": "white",
            "showbackground": true,
            "ticks": "",
            "zerolinecolor": "white"
           },
           "yaxis": {
            "backgroundcolor": "#E5ECF6",
            "gridcolor": "white",
            "gridwidth": 2,
            "linecolor": "white",
            "showbackground": true,
            "ticks": "",
            "zerolinecolor": "white"
           },
           "zaxis": {
            "backgroundcolor": "#E5ECF6",
            "gridcolor": "white",
            "gridwidth": 2,
            "linecolor": "white",
            "showbackground": true,
            "ticks": "",
            "zerolinecolor": "white"
           }
          },
          "shapedefaults": {
           "line": {
            "color": "#2a3f5f"
           }
          },
          "ternary": {
           "aaxis": {
            "gridcolor": "white",
            "linecolor": "white",
            "ticks": ""
           },
           "baxis": {
            "gridcolor": "white",
            "linecolor": "white",
            "ticks": ""
           },
           "bgcolor": "#E5ECF6",
           "caxis": {
            "gridcolor": "white",
            "linecolor": "white",
            "ticks": ""
           }
          },
          "title": {
           "x": 0.05
          },
          "xaxis": {
           "automargin": true,
           "gridcolor": "white",
           "linecolor": "white",
           "ticks": "",
           "title": {
            "standoff": 15
           },
           "zerolinecolor": "white",
           "zerolinewidth": 2
          },
          "yaxis": {
           "automargin": true,
           "gridcolor": "white",
           "linecolor": "white",
           "ticks": "",
           "title": {
            "standoff": 15
           },
           "zerolinecolor": "white",
           "zerolinewidth": 2
          }
         }
        },
        "title": {
         "text": "Hierarchical Distribution of Top 30 Genres by Title Count",
         "x": 0.5
        }
       }
      },
      "text/html": [
       "<div>            <script src=\"https://cdnjs.cloudflare.com/ajax/libs/mathjax/2.7.5/MathJax.js?config=TeX-AMS-MML_SVG\"></script><script type=\"text/javascript\">if (window.MathJax && window.MathJax.Hub && window.MathJax.Hub.Config) {window.MathJax.Hub.Config({SVG: {font: \"STIX-Web\"}});}</script>                <script type=\"text/javascript\">window.PlotlyConfig = {MathJaxConfig: 'local'};</script>\n",
       "        <script charset=\"utf-8\" src=\"https://cdn.plot.ly/plotly-3.0.0.min.js\"></script>                <div id=\"9bb1dc20-1638-47de-8ffa-f0337e1dc10d\" class=\"plotly-graph-div\" style=\"height:525px; width:100%;\"></div>            <script type=\"text/javascript\">                window.PLOTLYENV=window.PLOTLYENV || {};                                if (document.getElementById(\"9bb1dc20-1638-47de-8ffa-f0337e1dc10d\")) {                    Plotly.newPlot(                        \"9bb1dc20-1638-47de-8ffa-f0337e1dc10d\",                        [{\"branchvalues\":\"total\",\"customdata\":{\"dtype\":\"f8\",\"bdata\":\"AAAAAAB6pUAAAAAAAOyiQAAAAAAAHJpAAAAAAAAElUAAAAAAACiLQAAAAAAA2IpAAAAAAADAh0AAAAAAAJiHQAAAAAAACIRAAAAAAABAg0AAAAAAAPiBQAAAAAAA6IFAAAAAAABAfUAAAAAAAAB8QAAAAAAAoHhAAAAAAABwd0AAAAAAACB3QAAAAAAAUHZAAAAAAABwdUAAAAAAAOBvQAAAAAAAgG9AAAAAAABgbkAAAAAAAGBrQAAAAAAAgGVAAAAAAACAZUAAAAAAAOBkQAAAAAAA4GJAAAAAAAAAXUAAAAAAAIBZQAAAAAAAgFhAqgV27oXik0A=\",\"shape\":\"31, 1\"},\"domain\":{\"x\":[0.0,1.0],\"y\":[0.0,1.0]},\"hovertemplate\":\"labels=%{label}\\u003cbr\\u003ecount_sum=%{value}\\u003cbr\\u003eparent=%{parent}\\u003cbr\\u003eid=%{id}\\u003cbr\\u003ecount=%{color}\\u003cextra\\u003e\\u003c\\u002fextra\\u003e\",\"ids\":[\"All Genres\\u002fInternational Movies\",\"All Genres\\u002fDramas\",\"All Genres\\u002fComedies\",\"All Genres\\u002fInternational TV Shows\",\"All Genres\\u002fDocumentaries\",\"All Genres\\u002fAction & Adventure\",\"All Genres\\u002fTV Dramas\",\"All Genres\\u002fIndependent Movies\",\"All Genres\\u002fChildren & Family Movies\",\"All Genres\\u002fRomantic Movies\",\"All Genres\\u002fThrillers\",\"All Genres\\u002fTV Comedies\",\"All Genres\\u002fCrime TV Shows\",\"All Genres\\u002fKids' TV\",\"All Genres\\u002fDocuseries\",\"All Genres\\u002fMusic & Musicals\",\"All Genres\\u002fRomantic TV Shows\",\"All Genres\\u002fHorror Movies\",\"All Genres\\u002fStand-Up Comedy\",\"All Genres\\u002fReality TV\",\"All Genres\\u002fBritish TV Shows\",\"All Genres\\u002fSci-Fi & Fantasy\",\"All Genres\\u002fSports Movies\",\"All Genres\\u002fSpanish-Language TV Shows\",\"All Genres\\u002fAnime Series\",\"All Genres\\u002fTV Action & Adventure\",\"All Genres\\u002fKorean TV Shows\",\"All Genres\\u002fClassic Movies\",\"All Genres\\u002fLGBTQ Movies\",\"All Genres\\u002fTV Mysteries\",\"All Genres\"],\"labels\":[\"International Movies\",\"Dramas\",\"Comedies\",\"International TV Shows\",\"Documentaries\",\"Action & Adventure\",\"TV Dramas\",\"Independent Movies\",\"Children & Family Movies\",\"Romantic Movies\",\"Thrillers\",\"TV Comedies\",\"Crime TV Shows\",\"Kids' TV\",\"Docuseries\",\"Music & Musicals\",\"Romantic TV Shows\",\"Horror Movies\",\"Stand-Up Comedy\",\"Reality TV\",\"British TV Shows\",\"Sci-Fi & Fantasy\",\"Sports Movies\",\"Spanish-Language TV Shows\",\"Anime Series\",\"TV Action & Adventure\",\"Korean TV Shows\",\"Classic Movies\",\"LGBTQ Movies\",\"TV Mysteries\",\"All Genres\"],\"marker\":{\"coloraxis\":\"coloraxis\",\"colors\":{\"dtype\":\"f8\",\"bdata\":\"AAAAAAB6pUAAAAAAAOyiQAAAAAAAHJpAAAAAAAAElUAAAAAAACiLQAAAAAAA2IpAAAAAAADAh0AAAAAAAJiHQAAAAAAACIRAAAAAAABAg0AAAAAAAPiBQAAAAAAA6IFAAAAAAABAfUAAAAAAAAB8QAAAAAAAoHhAAAAAAABwd0AAAAAAACB3QAAAAAAAUHZAAAAAAABwdUAAAAAAAOBvQAAAAAAAgG9AAAAAAABgbkAAAAAAAGBrQAAAAAAAgGVAAAAAAACAZUAAAAAAAOBkQAAAAAAA4GJAAAAAAAAAXUAAAAAAAIBZQAAAAAAAgFhAqgV27oXik0A=\"}},\"name\":\"\",\"parents\":[\"All Genres\",\"All Genres\",\"All Genres\",\"All Genres\",\"All Genres\",\"All Genres\",\"All Genres\",\"All Genres\",\"All Genres\",\"All Genres\",\"All Genres\",\"All Genres\",\"All Genres\",\"All Genres\",\"All Genres\",\"All Genres\",\"All Genres\",\"All Genres\",\"All Genres\",\"All Genres\",\"All Genres\",\"All Genres\",\"All Genres\",\"All Genres\",\"All Genres\",\"All Genres\",\"All Genres\",\"All Genres\",\"All Genres\",\"All Genres\",\"\"],\"values\":{\"dtype\":\"f8\",\"bdata\":\"AAAAAAB6pUAAAAAAAOyiQAAAAAAAHJpAAAAAAAAElUAAAAAAACiLQAAAAAAA2IpAAAAAAADAh0AAAAAAAJiHQAAAAAAACIRAAAAAAABAg0AAAAAAAPiBQAAAAAAA6IFAAAAAAABAfUAAAAAAAAB8QAAAAAAAoHhAAAAAAABwd0AAAAAAACB3QAAAAAAAUHZAAAAAAABwdUAAAAAAAOBvQAAAAAAAgG9AAAAAAABgbkAAAAAAAGBrQAAAAAAAgGVAAAAAAACAZUAAAAAAAOBkQAAAAAAA4GJAAAAAAAAAXUAAAAAAAIBZQAAAAAAAgFhAAAAAAEAa0kA=\"},\"type\":\"treemap\",\"textinfo\":\"label+value+percent root\"}],                        {\"template\":{\"data\":{\"histogram2dcontour\":[{\"type\":\"histogram2dcontour\",\"colorbar\":{\"outlinewidth\":0,\"ticks\":\"\"},\"colorscale\":[[0.0,\"#0d0887\"],[0.1111111111111111,\"#46039f\"],[0.2222222222222222,\"#7201a8\"],[0.3333333333333333,\"#9c179e\"],[0.4444444444444444,\"#bd3786\"],[0.5555555555555556,\"#d8576b\"],[0.6666666666666666,\"#ed7953\"],[0.7777777777777778,\"#fb9f3a\"],[0.8888888888888888,\"#fdca26\"],[1.0,\"#f0f921\"]]}],\"choropleth\":[{\"type\":\"choropleth\",\"colorbar\":{\"outlinewidth\":0,\"ticks\":\"\"}}],\"histogram2d\":[{\"type\":\"histogram2d\",\"colorbar\":{\"outlinewidth\":0,\"ticks\":\"\"},\"colorscale\":[[0.0,\"#0d0887\"],[0.1111111111111111,\"#46039f\"],[0.2222222222222222,\"#7201a8\"],[0.3333333333333333,\"#9c179e\"],[0.4444444444444444,\"#bd3786\"],[0.5555555555555556,\"#d8576b\"],[0.6666666666666666,\"#ed7953\"],[0.7777777777777778,\"#fb9f3a\"],[0.8888888888888888,\"#fdca26\"],[1.0,\"#f0f921\"]]}],\"heatmap\":[{\"type\":\"heatmap\",\"colorbar\":{\"outlinewidth\":0,\"ticks\":\"\"},\"colorscale\":[[0.0,\"#0d0887\"],[0.1111111111111111,\"#46039f\"],[0.2222222222222222,\"#7201a8\"],[0.3333333333333333,\"#9c179e\"],[0.4444444444444444,\"#bd3786\"],[0.5555555555555556,\"#d8576b\"],[0.6666666666666666,\"#ed7953\"],[0.7777777777777778,\"#fb9f3a\"],[0.8888888888888888,\"#fdca26\"],[1.0,\"#f0f921\"]]}],\"contourcarpet\":[{\"type\":\"contourcarpet\",\"colorbar\":{\"outlinewidth\":0,\"ticks\":\"\"}}],\"contour\":[{\"type\":\"contour\",\"colorbar\":{\"outlinewidth\":0,\"ticks\":\"\"},\"colorscale\":[[0.0,\"#0d0887\"],[0.1111111111111111,\"#46039f\"],[0.2222222222222222,\"#7201a8\"],[0.3333333333333333,\"#9c179e\"],[0.4444444444444444,\"#bd3786\"],[0.5555555555555556,\"#d8576b\"],[0.6666666666666666,\"#ed7953\"],[0.7777777777777778,\"#fb9f3a\"],[0.8888888888888888,\"#fdca26\"],[1.0,\"#f0f921\"]]}],\"surface\":[{\"type\":\"surface\",\"colorbar\":{\"outlinewidth\":0,\"ticks\":\"\"},\"colorscale\":[[0.0,\"#0d0887\"],[0.1111111111111111,\"#46039f\"],[0.2222222222222222,\"#7201a8\"],[0.3333333333333333,\"#9c179e\"],[0.4444444444444444,\"#bd3786\"],[0.5555555555555556,\"#d8576b\"],[0.6666666666666666,\"#ed7953\"],[0.7777777777777778,\"#fb9f3a\"],[0.8888888888888888,\"#fdca26\"],[1.0,\"#f0f921\"]]}],\"mesh3d\":[{\"type\":\"mesh3d\",\"colorbar\":{\"outlinewidth\":0,\"ticks\":\"\"}}],\"scatter\":[{\"fillpattern\":{\"fillmode\":\"overlay\",\"size\":10,\"solidity\":0.2},\"type\":\"scatter\"}],\"parcoords\":[{\"type\":\"parcoords\",\"line\":{\"colorbar\":{\"outlinewidth\":0,\"ticks\":\"\"}}}],\"scatterpolargl\":[{\"type\":\"scatterpolargl\",\"marker\":{\"colorbar\":{\"outlinewidth\":0,\"ticks\":\"\"}}}],\"bar\":[{\"error_x\":{\"color\":\"#2a3f5f\"},\"error_y\":{\"color\":\"#2a3f5f\"},\"marker\":{\"line\":{\"color\":\"#E5ECF6\",\"width\":0.5},\"pattern\":{\"fillmode\":\"overlay\",\"size\":10,\"solidity\":0.2}},\"type\":\"bar\"}],\"scattergeo\":[{\"type\":\"scattergeo\",\"marker\":{\"colorbar\":{\"outlinewidth\":0,\"ticks\":\"\"}}}],\"scatterpolar\":[{\"type\":\"scatterpolar\",\"marker\":{\"colorbar\":{\"outlinewidth\":0,\"ticks\":\"\"}}}],\"histogram\":[{\"marker\":{\"pattern\":{\"fillmode\":\"overlay\",\"size\":10,\"solidity\":0.2}},\"type\":\"histogram\"}],\"scattergl\":[{\"type\":\"scattergl\",\"marker\":{\"colorbar\":{\"outlinewidth\":0,\"ticks\":\"\"}}}],\"scatter3d\":[{\"type\":\"scatter3d\",\"line\":{\"colorbar\":{\"outlinewidth\":0,\"ticks\":\"\"}},\"marker\":{\"colorbar\":{\"outlinewidth\":0,\"ticks\":\"\"}}}],\"scattermap\":[{\"type\":\"scattermap\",\"marker\":{\"colorbar\":{\"outlinewidth\":0,\"ticks\":\"\"}}}],\"scattermapbox\":[{\"type\":\"scattermapbox\",\"marker\":{\"colorbar\":{\"outlinewidth\":0,\"ticks\":\"\"}}}],\"scatterternary\":[{\"type\":\"scatterternary\",\"marker\":{\"colorbar\":{\"outlinewidth\":0,\"ticks\":\"\"}}}],\"scattercarpet\":[{\"type\":\"scattercarpet\",\"marker\":{\"colorbar\":{\"outlinewidth\":0,\"ticks\":\"\"}}}],\"carpet\":[{\"aaxis\":{\"endlinecolor\":\"#2a3f5f\",\"gridcolor\":\"white\",\"linecolor\":\"white\",\"minorgridcolor\":\"white\",\"startlinecolor\":\"#2a3f5f\"},\"baxis\":{\"endlinecolor\":\"#2a3f5f\",\"gridcolor\":\"white\",\"linecolor\":\"white\",\"minorgridcolor\":\"white\",\"startlinecolor\":\"#2a3f5f\"},\"type\":\"carpet\"}],\"table\":[{\"cells\":{\"fill\":{\"color\":\"#EBF0F8\"},\"line\":{\"color\":\"white\"}},\"header\":{\"fill\":{\"color\":\"#C8D4E3\"},\"line\":{\"color\":\"white\"}},\"type\":\"table\"}],\"barpolar\":[{\"marker\":{\"line\":{\"color\":\"#E5ECF6\",\"width\":0.5},\"pattern\":{\"fillmode\":\"overlay\",\"size\":10,\"solidity\":0.2}},\"type\":\"barpolar\"}],\"pie\":[{\"automargin\":true,\"type\":\"pie\"}]},\"layout\":{\"autotypenumbers\":\"strict\",\"colorway\":[\"#636efa\",\"#EF553B\",\"#00cc96\",\"#ab63fa\",\"#FFA15A\",\"#19d3f3\",\"#FF6692\",\"#B6E880\",\"#FF97FF\",\"#FECB52\"],\"font\":{\"color\":\"#2a3f5f\"},\"hovermode\":\"closest\",\"hoverlabel\":{\"align\":\"left\"},\"paper_bgcolor\":\"white\",\"plot_bgcolor\":\"#E5ECF6\",\"polar\":{\"bgcolor\":\"#E5ECF6\",\"angularaxis\":{\"gridcolor\":\"white\",\"linecolor\":\"white\",\"ticks\":\"\"},\"radialaxis\":{\"gridcolor\":\"white\",\"linecolor\":\"white\",\"ticks\":\"\"}},\"ternary\":{\"bgcolor\":\"#E5ECF6\",\"aaxis\":{\"gridcolor\":\"white\",\"linecolor\":\"white\",\"ticks\":\"\"},\"baxis\":{\"gridcolor\":\"white\",\"linecolor\":\"white\",\"ticks\":\"\"},\"caxis\":{\"gridcolor\":\"white\",\"linecolor\":\"white\",\"ticks\":\"\"}},\"coloraxis\":{\"colorbar\":{\"outlinewidth\":0,\"ticks\":\"\"}},\"colorscale\":{\"sequential\":[[0.0,\"#0d0887\"],[0.1111111111111111,\"#46039f\"],[0.2222222222222222,\"#7201a8\"],[0.3333333333333333,\"#9c179e\"],[0.4444444444444444,\"#bd3786\"],[0.5555555555555556,\"#d8576b\"],[0.6666666666666666,\"#ed7953\"],[0.7777777777777778,\"#fb9f3a\"],[0.8888888888888888,\"#fdca26\"],[1.0,\"#f0f921\"]],\"sequentialminus\":[[0.0,\"#0d0887\"],[0.1111111111111111,\"#46039f\"],[0.2222222222222222,\"#7201a8\"],[0.3333333333333333,\"#9c179e\"],[0.4444444444444444,\"#bd3786\"],[0.5555555555555556,\"#d8576b\"],[0.6666666666666666,\"#ed7953\"],[0.7777777777777778,\"#fb9f3a\"],[0.8888888888888888,\"#fdca26\"],[1.0,\"#f0f921\"]],\"diverging\":[[0,\"#8e0152\"],[0.1,\"#c51b7d\"],[0.2,\"#de77ae\"],[0.3,\"#f1b6da\"],[0.4,\"#fde0ef\"],[0.5,\"#f7f7f7\"],[0.6,\"#e6f5d0\"],[0.7,\"#b8e186\"],[0.8,\"#7fbc41\"],[0.9,\"#4d9221\"],[1,\"#276419\"]]},\"xaxis\":{\"gridcolor\":\"white\",\"linecolor\":\"white\",\"ticks\":\"\",\"title\":{\"standoff\":15},\"zerolinecolor\":\"white\",\"automargin\":true,\"zerolinewidth\":2},\"yaxis\":{\"gridcolor\":\"white\",\"linecolor\":\"white\",\"ticks\":\"\",\"title\":{\"standoff\":15},\"zerolinecolor\":\"white\",\"automargin\":true,\"zerolinewidth\":2},\"scene\":{\"xaxis\":{\"backgroundcolor\":\"#E5ECF6\",\"gridcolor\":\"white\",\"linecolor\":\"white\",\"showbackground\":true,\"ticks\":\"\",\"zerolinecolor\":\"white\",\"gridwidth\":2},\"yaxis\":{\"backgroundcolor\":\"#E5ECF6\",\"gridcolor\":\"white\",\"linecolor\":\"white\",\"showbackground\":true,\"ticks\":\"\",\"zerolinecolor\":\"white\",\"gridwidth\":2},\"zaxis\":{\"backgroundcolor\":\"#E5ECF6\",\"gridcolor\":\"white\",\"linecolor\":\"white\",\"showbackground\":true,\"ticks\":\"\",\"zerolinecolor\":\"white\",\"gridwidth\":2}},\"shapedefaults\":{\"line\":{\"color\":\"#2a3f5f\"}},\"annotationdefaults\":{\"arrowcolor\":\"#2a3f5f\",\"arrowhead\":0,\"arrowwidth\":1},\"geo\":{\"bgcolor\":\"white\",\"landcolor\":\"#E5ECF6\",\"subunitcolor\":\"white\",\"showland\":true,\"showlakes\":true,\"lakecolor\":\"white\"},\"title\":{\"x\":0.05},\"mapbox\":{\"style\":\"light\"}}},\"coloraxis\":{\"colorbar\":{\"title\":{\"text\":\"count\"}},\"colorscale\":[[0.0,\"#440154\"],[0.1111111111111111,\"#482878\"],[0.2222222222222222,\"#3e4989\"],[0.3333333333333333,\"#31688e\"],[0.4444444444444444,\"#26828e\"],[0.5555555555555556,\"#1f9e89\"],[0.6666666666666666,\"#35b779\"],[0.7777777777777778,\"#6ece58\"],[0.8888888888888888,\"#b5de2b\"],[1.0,\"#fde725\"]]},\"legend\":{\"tracegroupgap\":0},\"title\":{\"text\":\"Hierarchical Distribution of Top 30 Genres by Title Count\",\"x\":0.5},\"margin\":{\"t\":50,\"l\":25,\"r\":25,\"b\":25}},                        {\"responsive\": true}                    ).then(function(){\n",
       "                            \n",
       "var gd = document.getElementById('9bb1dc20-1638-47de-8ffa-f0337e1dc10d');\n",
       "var x = new MutationObserver(function (mutations, observer) {{\n",
       "        var display = window.getComputedStyle(gd).display;\n",
       "        if (!display || display === 'none') {{\n",
       "            console.log([gd, 'removed!']);\n",
       "            Plotly.purge(gd);\n",
       "            observer.disconnect();\n",
       "        }}\n",
       "}});\n",
       "\n",
       "// Listen for the removal of the full notebook cells\n",
       "var notebookContainer = gd.closest('#notebook-container');\n",
       "if (notebookContainer) {{\n",
       "    x.observe(notebookContainer, {childList: true});\n",
       "}}\n",
       "\n",
       "// Listen for the clearing of the current output cell\n",
       "var outputEl = gd.closest('.output');\n",
       "if (outputEl) {{\n",
       "    x.observe(outputEl, {childList: true});\n",
       "}}\n",
       "\n",
       "                        })                };            </script>        </div>"
      ]
     },
     "metadata": {},
     "output_type": "display_data"
    }
   ],
   "source": [
    "genre_counts_df = pd.DataFrame(genre_counts.items(), columns=['genre', 'count']).sort_values(by='count', ascending=False)\n",
    "\n",
    "\n",
    "fig_treemap = px.treemap(\n",
    "    genre_counts_df.head(30),\n",
    "    path=[px.Constant(\"All Genres\"), 'genre'],\n",
    "    values='count',\n",
    "    title='Hierarchical Distribution of Top 30 Genres by Title Count',\n",
    "    color='count',\n",
    "    color_continuous_scale='viridis'\n",
    ")\n",
    "\n",
    "fig_treemap.update_layout(margin = dict(t=50, l=25, r=25, b=25), title_x=0.5)\n",
    "fig_treemap.update_traces(textinfo = 'label+value+percent root')\n",
    "fig_treemap.show()"
   ]
  }
 ],
 "metadata": {
  "kernelspec": {
   "display_name": "torch",
   "language": "python",
   "name": "python3"
  },
  "language_info": {
   "codemirror_mode": {
    "name": "ipython",
    "version": 3
   },
   "file_extension": ".py",
   "mimetype": "text/x-python",
   "name": "python",
   "nbconvert_exporter": "python",
   "pygments_lexer": "ipython3",
   "version": "3.12.6"
  }
 },
 "nbformat": 4,
 "nbformat_minor": 2
}
